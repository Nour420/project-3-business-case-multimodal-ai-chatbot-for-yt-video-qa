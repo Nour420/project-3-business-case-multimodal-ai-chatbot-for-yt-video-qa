{
  "nbformat": 4,
  "nbformat_minor": 0,
  "metadata": {
    "colab": {
      "provenance": [],
      "gpuType": "L4"
    },
    "kernelspec": {
      "name": "python3",
      "display_name": "Python 3"
    },
    "language_info": {
      "name": "python"
    },
    "accelerator": "GPU",
    "widgets": {
      "application/vnd.jupyter.widget-state+json": {
        "cc5f33c2c9cc472f90067acba09febb6": {
          "model_module": "@jupyter-widgets/controls",
          "model_name": "HBoxModel",
          "model_module_version": "1.5.0",
          "state": {
            "_dom_classes": [],
            "_model_module": "@jupyter-widgets/controls",
            "_model_module_version": "1.5.0",
            "_model_name": "HBoxModel",
            "_view_count": null,
            "_view_module": "@jupyter-widgets/controls",
            "_view_module_version": "1.5.0",
            "_view_name": "HBoxView",
            "box_style": "",
            "children": [
              "IPY_MODEL_5bd91c7c4751408ba971f9fd3d62cb06",
              "IPY_MODEL_2a8577bbd3c14883baa3f508e5a17c0f",
              "IPY_MODEL_6e60239964474f0fbda9d7bf7f81122c"
            ],
            "layout": "IPY_MODEL_49d7c2b231d647cba5f907569944743c"
          }
        },
        "5bd91c7c4751408ba971f9fd3d62cb06": {
          "model_module": "@jupyter-widgets/controls",
          "model_name": "HTMLModel",
          "model_module_version": "1.5.0",
          "state": {
            "_dom_classes": [],
            "_model_module": "@jupyter-widgets/controls",
            "_model_module_version": "1.5.0",
            "_model_name": "HTMLModel",
            "_view_count": null,
            "_view_module": "@jupyter-widgets/controls",
            "_view_module_version": "1.5.0",
            "_view_name": "HTMLView",
            "description": "",
            "description_tooltip": null,
            "layout": "IPY_MODEL_92430efe6d14403c8d84da3fef9fdcbd",
            "placeholder": "​",
            "style": "IPY_MODEL_7d42950684674764bd3374b04efbdc06",
            "value": "preprocessor_config.json: 100%"
          }
        },
        "2a8577bbd3c14883baa3f508e5a17c0f": {
          "model_module": "@jupyter-widgets/controls",
          "model_name": "FloatProgressModel",
          "model_module_version": "1.5.0",
          "state": {
            "_dom_classes": [],
            "_model_module": "@jupyter-widgets/controls",
            "_model_module_version": "1.5.0",
            "_model_name": "FloatProgressModel",
            "_view_count": null,
            "_view_module": "@jupyter-widgets/controls",
            "_view_module_version": "1.5.0",
            "_view_name": "ProgressView",
            "bar_style": "success",
            "description": "",
            "description_tooltip": null,
            "layout": "IPY_MODEL_8e2793a712b947bca66d34cf8244b83c",
            "max": 340,
            "min": 0,
            "orientation": "horizontal",
            "style": "IPY_MODEL_6e3906e8401c49f99b7962ffdce6161c",
            "value": 340
          }
        },
        "6e60239964474f0fbda9d7bf7f81122c": {
          "model_module": "@jupyter-widgets/controls",
          "model_name": "HTMLModel",
          "model_module_version": "1.5.0",
          "state": {
            "_dom_classes": [],
            "_model_module": "@jupyter-widgets/controls",
            "_model_module_version": "1.5.0",
            "_model_name": "HTMLModel",
            "_view_count": null,
            "_view_module": "@jupyter-widgets/controls",
            "_view_module_version": "1.5.0",
            "_view_name": "HTMLView",
            "description": "",
            "description_tooltip": null,
            "layout": "IPY_MODEL_6090dea06c96493c868c51d41d448981",
            "placeholder": "​",
            "style": "IPY_MODEL_d602813dc7d240a28848d7eb70ff2906",
            "value": " 340/340 [00:00&lt;00:00, 29.5kB/s]"
          }
        },
        "49d7c2b231d647cba5f907569944743c": {
          "model_module": "@jupyter-widgets/base",
          "model_name": "LayoutModel",
          "model_module_version": "1.2.0",
          "state": {
            "_model_module": "@jupyter-widgets/base",
            "_model_module_version": "1.2.0",
            "_model_name": "LayoutModel",
            "_view_count": null,
            "_view_module": "@jupyter-widgets/base",
            "_view_module_version": "1.2.0",
            "_view_name": "LayoutView",
            "align_content": null,
            "align_items": null,
            "align_self": null,
            "border": null,
            "bottom": null,
            "display": null,
            "flex": null,
            "flex_flow": null,
            "grid_area": null,
            "grid_auto_columns": null,
            "grid_auto_flow": null,
            "grid_auto_rows": null,
            "grid_column": null,
            "grid_gap": null,
            "grid_row": null,
            "grid_template_areas": null,
            "grid_template_columns": null,
            "grid_template_rows": null,
            "height": null,
            "justify_content": null,
            "justify_items": null,
            "left": null,
            "margin": null,
            "max_height": null,
            "max_width": null,
            "min_height": null,
            "min_width": null,
            "object_fit": null,
            "object_position": null,
            "order": null,
            "overflow": null,
            "overflow_x": null,
            "overflow_y": null,
            "padding": null,
            "right": null,
            "top": null,
            "visibility": null,
            "width": null
          }
        },
        "92430efe6d14403c8d84da3fef9fdcbd": {
          "model_module": "@jupyter-widgets/base",
          "model_name": "LayoutModel",
          "model_module_version": "1.2.0",
          "state": {
            "_model_module": "@jupyter-widgets/base",
            "_model_module_version": "1.2.0",
            "_model_name": "LayoutModel",
            "_view_count": null,
            "_view_module": "@jupyter-widgets/base",
            "_view_module_version": "1.2.0",
            "_view_name": "LayoutView",
            "align_content": null,
            "align_items": null,
            "align_self": null,
            "border": null,
            "bottom": null,
            "display": null,
            "flex": null,
            "flex_flow": null,
            "grid_area": null,
            "grid_auto_columns": null,
            "grid_auto_flow": null,
            "grid_auto_rows": null,
            "grid_column": null,
            "grid_gap": null,
            "grid_row": null,
            "grid_template_areas": null,
            "grid_template_columns": null,
            "grid_template_rows": null,
            "height": null,
            "justify_content": null,
            "justify_items": null,
            "left": null,
            "margin": null,
            "max_height": null,
            "max_width": null,
            "min_height": null,
            "min_width": null,
            "object_fit": null,
            "object_position": null,
            "order": null,
            "overflow": null,
            "overflow_x": null,
            "overflow_y": null,
            "padding": null,
            "right": null,
            "top": null,
            "visibility": null,
            "width": null
          }
        },
        "7d42950684674764bd3374b04efbdc06": {
          "model_module": "@jupyter-widgets/controls",
          "model_name": "DescriptionStyleModel",
          "model_module_version": "1.5.0",
          "state": {
            "_model_module": "@jupyter-widgets/controls",
            "_model_module_version": "1.5.0",
            "_model_name": "DescriptionStyleModel",
            "_view_count": null,
            "_view_module": "@jupyter-widgets/base",
            "_view_module_version": "1.2.0",
            "_view_name": "StyleView",
            "description_width": ""
          }
        },
        "8e2793a712b947bca66d34cf8244b83c": {
          "model_module": "@jupyter-widgets/base",
          "model_name": "LayoutModel",
          "model_module_version": "1.2.0",
          "state": {
            "_model_module": "@jupyter-widgets/base",
            "_model_module_version": "1.2.0",
            "_model_name": "LayoutModel",
            "_view_count": null,
            "_view_module": "@jupyter-widgets/base",
            "_view_module_version": "1.2.0",
            "_view_name": "LayoutView",
            "align_content": null,
            "align_items": null,
            "align_self": null,
            "border": null,
            "bottom": null,
            "display": null,
            "flex": null,
            "flex_flow": null,
            "grid_area": null,
            "grid_auto_columns": null,
            "grid_auto_flow": null,
            "grid_auto_rows": null,
            "grid_column": null,
            "grid_gap": null,
            "grid_row": null,
            "grid_template_areas": null,
            "grid_template_columns": null,
            "grid_template_rows": null,
            "height": null,
            "justify_content": null,
            "justify_items": null,
            "left": null,
            "margin": null,
            "max_height": null,
            "max_width": null,
            "min_height": null,
            "min_width": null,
            "object_fit": null,
            "object_position": null,
            "order": null,
            "overflow": null,
            "overflow_x": null,
            "overflow_y": null,
            "padding": null,
            "right": null,
            "top": null,
            "visibility": null,
            "width": null
          }
        },
        "6e3906e8401c49f99b7962ffdce6161c": {
          "model_module": "@jupyter-widgets/controls",
          "model_name": "ProgressStyleModel",
          "model_module_version": "1.5.0",
          "state": {
            "_model_module": "@jupyter-widgets/controls",
            "_model_module_version": "1.5.0",
            "_model_name": "ProgressStyleModel",
            "_view_count": null,
            "_view_module": "@jupyter-widgets/base",
            "_view_module_version": "1.2.0",
            "_view_name": "StyleView",
            "bar_color": null,
            "description_width": ""
          }
        },
        "6090dea06c96493c868c51d41d448981": {
          "model_module": "@jupyter-widgets/base",
          "model_name": "LayoutModel",
          "model_module_version": "1.2.0",
          "state": {
            "_model_module": "@jupyter-widgets/base",
            "_model_module_version": "1.2.0",
            "_model_name": "LayoutModel",
            "_view_count": null,
            "_view_module": "@jupyter-widgets/base",
            "_view_module_version": "1.2.0",
            "_view_name": "LayoutView",
            "align_content": null,
            "align_items": null,
            "align_self": null,
            "border": null,
            "bottom": null,
            "display": null,
            "flex": null,
            "flex_flow": null,
            "grid_area": null,
            "grid_auto_columns": null,
            "grid_auto_flow": null,
            "grid_auto_rows": null,
            "grid_column": null,
            "grid_gap": null,
            "grid_row": null,
            "grid_template_areas": null,
            "grid_template_columns": null,
            "grid_template_rows": null,
            "height": null,
            "justify_content": null,
            "justify_items": null,
            "left": null,
            "margin": null,
            "max_height": null,
            "max_width": null,
            "min_height": null,
            "min_width": null,
            "object_fit": null,
            "object_position": null,
            "order": null,
            "overflow": null,
            "overflow_x": null,
            "overflow_y": null,
            "padding": null,
            "right": null,
            "top": null,
            "visibility": null,
            "width": null
          }
        },
        "d602813dc7d240a28848d7eb70ff2906": {
          "model_module": "@jupyter-widgets/controls",
          "model_name": "DescriptionStyleModel",
          "model_module_version": "1.5.0",
          "state": {
            "_model_module": "@jupyter-widgets/controls",
            "_model_module_version": "1.5.0",
            "_model_name": "DescriptionStyleModel",
            "_view_count": null,
            "_view_module": "@jupyter-widgets/base",
            "_view_module_version": "1.2.0",
            "_view_name": "StyleView",
            "description_width": ""
          }
        },
        "f70e4dd42ec240deae5a75aa20ad5d67": {
          "model_module": "@jupyter-widgets/controls",
          "model_name": "HBoxModel",
          "model_module_version": "1.5.0",
          "state": {
            "_dom_classes": [],
            "_model_module": "@jupyter-widgets/controls",
            "_model_module_version": "1.5.0",
            "_model_name": "HBoxModel",
            "_view_count": null,
            "_view_module": "@jupyter-widgets/controls",
            "_view_module_version": "1.5.0",
            "_view_name": "HBoxView",
            "box_style": "",
            "children": [
              "IPY_MODEL_544d7b85411543aca7dcb0d320202a66",
              "IPY_MODEL_8e4d9dadd640449aa0c1cbab42b83e64",
              "IPY_MODEL_f50abb3843c5461ab3dbd92630e6d55c"
            ],
            "layout": "IPY_MODEL_f8a879b1bb004355b270435249e00cd3"
          }
        },
        "544d7b85411543aca7dcb0d320202a66": {
          "model_module": "@jupyter-widgets/controls",
          "model_name": "HTMLModel",
          "model_module_version": "1.5.0",
          "state": {
            "_dom_classes": [],
            "_model_module": "@jupyter-widgets/controls",
            "_model_module_version": "1.5.0",
            "_model_name": "HTMLModel",
            "_view_count": null,
            "_view_module": "@jupyter-widgets/controls",
            "_view_module_version": "1.5.0",
            "_view_name": "HTMLView",
            "description": "",
            "description_tooltip": null,
            "layout": "IPY_MODEL_889fd71a89114408b05fa8bcfcd0bb85",
            "placeholder": "​",
            "style": "IPY_MODEL_fb40c65847184836a974f40bf25173f5",
            "value": "tokenizer_config.json: 100%"
          }
        },
        "8e4d9dadd640449aa0c1cbab42b83e64": {
          "model_module": "@jupyter-widgets/controls",
          "model_name": "FloatProgressModel",
          "model_module_version": "1.5.0",
          "state": {
            "_dom_classes": [],
            "_model_module": "@jupyter-widgets/controls",
            "_model_module_version": "1.5.0",
            "_model_name": "FloatProgressModel",
            "_view_count": null,
            "_view_module": "@jupyter-widgets/controls",
            "_view_module_version": "1.5.0",
            "_view_name": "ProgressView",
            "bar_style": "success",
            "description": "",
            "description_tooltip": null,
            "layout": "IPY_MODEL_9e620690142f4080b9328ecf78ec4343",
            "max": 282843,
            "min": 0,
            "orientation": "horizontal",
            "style": "IPY_MODEL_71372512ab774f0697b8852b2e58f59a",
            "value": 282843
          }
        },
        "f50abb3843c5461ab3dbd92630e6d55c": {
          "model_module": "@jupyter-widgets/controls",
          "model_name": "HTMLModel",
          "model_module_version": "1.5.0",
          "state": {
            "_dom_classes": [],
            "_model_module": "@jupyter-widgets/controls",
            "_model_module_version": "1.5.0",
            "_model_name": "HTMLModel",
            "_view_count": null,
            "_view_module": "@jupyter-widgets/controls",
            "_view_module_version": "1.5.0",
            "_view_name": "HTMLView",
            "description": "",
            "description_tooltip": null,
            "layout": "IPY_MODEL_78a15683fc704b7080d6c566bd02c787",
            "placeholder": "​",
            "style": "IPY_MODEL_b23f4f9c66b9485b9f55165ff70d46c9",
            "value": " 283k/283k [00:00&lt;00:00, 7.86MB/s]"
          }
        },
        "f8a879b1bb004355b270435249e00cd3": {
          "model_module": "@jupyter-widgets/base",
          "model_name": "LayoutModel",
          "model_module_version": "1.2.0",
          "state": {
            "_model_module": "@jupyter-widgets/base",
            "_model_module_version": "1.2.0",
            "_model_name": "LayoutModel",
            "_view_count": null,
            "_view_module": "@jupyter-widgets/base",
            "_view_module_version": "1.2.0",
            "_view_name": "LayoutView",
            "align_content": null,
            "align_items": null,
            "align_self": null,
            "border": null,
            "bottom": null,
            "display": null,
            "flex": null,
            "flex_flow": null,
            "grid_area": null,
            "grid_auto_columns": null,
            "grid_auto_flow": null,
            "grid_auto_rows": null,
            "grid_column": null,
            "grid_gap": null,
            "grid_row": null,
            "grid_template_areas": null,
            "grid_template_columns": null,
            "grid_template_rows": null,
            "height": null,
            "justify_content": null,
            "justify_items": null,
            "left": null,
            "margin": null,
            "max_height": null,
            "max_width": null,
            "min_height": null,
            "min_width": null,
            "object_fit": null,
            "object_position": null,
            "order": null,
            "overflow": null,
            "overflow_x": null,
            "overflow_y": null,
            "padding": null,
            "right": null,
            "top": null,
            "visibility": null,
            "width": null
          }
        },
        "889fd71a89114408b05fa8bcfcd0bb85": {
          "model_module": "@jupyter-widgets/base",
          "model_name": "LayoutModel",
          "model_module_version": "1.2.0",
          "state": {
            "_model_module": "@jupyter-widgets/base",
            "_model_module_version": "1.2.0",
            "_model_name": "LayoutModel",
            "_view_count": null,
            "_view_module": "@jupyter-widgets/base",
            "_view_module_version": "1.2.0",
            "_view_name": "LayoutView",
            "align_content": null,
            "align_items": null,
            "align_self": null,
            "border": null,
            "bottom": null,
            "display": null,
            "flex": null,
            "flex_flow": null,
            "grid_area": null,
            "grid_auto_columns": null,
            "grid_auto_flow": null,
            "grid_auto_rows": null,
            "grid_column": null,
            "grid_gap": null,
            "grid_row": null,
            "grid_template_areas": null,
            "grid_template_columns": null,
            "grid_template_rows": null,
            "height": null,
            "justify_content": null,
            "justify_items": null,
            "left": null,
            "margin": null,
            "max_height": null,
            "max_width": null,
            "min_height": null,
            "min_width": null,
            "object_fit": null,
            "object_position": null,
            "order": null,
            "overflow": null,
            "overflow_x": null,
            "overflow_y": null,
            "padding": null,
            "right": null,
            "top": null,
            "visibility": null,
            "width": null
          }
        },
        "fb40c65847184836a974f40bf25173f5": {
          "model_module": "@jupyter-widgets/controls",
          "model_name": "DescriptionStyleModel",
          "model_module_version": "1.5.0",
          "state": {
            "_model_module": "@jupyter-widgets/controls",
            "_model_module_version": "1.5.0",
            "_model_name": "DescriptionStyleModel",
            "_view_count": null,
            "_view_module": "@jupyter-widgets/base",
            "_view_module_version": "1.2.0",
            "_view_name": "StyleView",
            "description_width": ""
          }
        },
        "9e620690142f4080b9328ecf78ec4343": {
          "model_module": "@jupyter-widgets/base",
          "model_name": "LayoutModel",
          "model_module_version": "1.2.0",
          "state": {
            "_model_module": "@jupyter-widgets/base",
            "_model_module_version": "1.2.0",
            "_model_name": "LayoutModel",
            "_view_count": null,
            "_view_module": "@jupyter-widgets/base",
            "_view_module_version": "1.2.0",
            "_view_name": "LayoutView",
            "align_content": null,
            "align_items": null,
            "align_self": null,
            "border": null,
            "bottom": null,
            "display": null,
            "flex": null,
            "flex_flow": null,
            "grid_area": null,
            "grid_auto_columns": null,
            "grid_auto_flow": null,
            "grid_auto_rows": null,
            "grid_column": null,
            "grid_gap": null,
            "grid_row": null,
            "grid_template_areas": null,
            "grid_template_columns": null,
            "grid_template_rows": null,
            "height": null,
            "justify_content": null,
            "justify_items": null,
            "left": null,
            "margin": null,
            "max_height": null,
            "max_width": null,
            "min_height": null,
            "min_width": null,
            "object_fit": null,
            "object_position": null,
            "order": null,
            "overflow": null,
            "overflow_x": null,
            "overflow_y": null,
            "padding": null,
            "right": null,
            "top": null,
            "visibility": null,
            "width": null
          }
        },
        "71372512ab774f0697b8852b2e58f59a": {
          "model_module": "@jupyter-widgets/controls",
          "model_name": "ProgressStyleModel",
          "model_module_version": "1.5.0",
          "state": {
            "_model_module": "@jupyter-widgets/controls",
            "_model_module_version": "1.5.0",
            "_model_name": "ProgressStyleModel",
            "_view_count": null,
            "_view_module": "@jupyter-widgets/base",
            "_view_module_version": "1.2.0",
            "_view_name": "StyleView",
            "bar_color": null,
            "description_width": ""
          }
        },
        "78a15683fc704b7080d6c566bd02c787": {
          "model_module": "@jupyter-widgets/base",
          "model_name": "LayoutModel",
          "model_module_version": "1.2.0",
          "state": {
            "_model_module": "@jupyter-widgets/base",
            "_model_module_version": "1.2.0",
            "_model_name": "LayoutModel",
            "_view_count": null,
            "_view_module": "@jupyter-widgets/base",
            "_view_module_version": "1.2.0",
            "_view_name": "LayoutView",
            "align_content": null,
            "align_items": null,
            "align_self": null,
            "border": null,
            "bottom": null,
            "display": null,
            "flex": null,
            "flex_flow": null,
            "grid_area": null,
            "grid_auto_columns": null,
            "grid_auto_flow": null,
            "grid_auto_rows": null,
            "grid_column": null,
            "grid_gap": null,
            "grid_row": null,
            "grid_template_areas": null,
            "grid_template_columns": null,
            "grid_template_rows": null,
            "height": null,
            "justify_content": null,
            "justify_items": null,
            "left": null,
            "margin": null,
            "max_height": null,
            "max_width": null,
            "min_height": null,
            "min_width": null,
            "object_fit": null,
            "object_position": null,
            "order": null,
            "overflow": null,
            "overflow_x": null,
            "overflow_y": null,
            "padding": null,
            "right": null,
            "top": null,
            "visibility": null,
            "width": null
          }
        },
        "b23f4f9c66b9485b9f55165ff70d46c9": {
          "model_module": "@jupyter-widgets/controls",
          "model_name": "DescriptionStyleModel",
          "model_module_version": "1.5.0",
          "state": {
            "_model_module": "@jupyter-widgets/controls",
            "_model_module_version": "1.5.0",
            "_model_name": "DescriptionStyleModel",
            "_view_count": null,
            "_view_module": "@jupyter-widgets/base",
            "_view_module_version": "1.2.0",
            "_view_name": "StyleView",
            "description_width": ""
          }
        },
        "8dc3dcadb02b44329d0558f42f7fff3a": {
          "model_module": "@jupyter-widgets/controls",
          "model_name": "HBoxModel",
          "model_module_version": "1.5.0",
          "state": {
            "_dom_classes": [],
            "_model_module": "@jupyter-widgets/controls",
            "_model_module_version": "1.5.0",
            "_model_name": "HBoxModel",
            "_view_count": null,
            "_view_module": "@jupyter-widgets/controls",
            "_view_module_version": "1.5.0",
            "_view_name": "HBoxView",
            "box_style": "",
            "children": [
              "IPY_MODEL_b30beb674d0d43359139bd7a292caad2",
              "IPY_MODEL_f6cf6460c728415cbccdcb7091d8f732",
              "IPY_MODEL_b4a566ded8e4419db0f7b500fca6fa11"
            ],
            "layout": "IPY_MODEL_0891f1a2bae744fd91e80c47f16df413"
          }
        },
        "b30beb674d0d43359139bd7a292caad2": {
          "model_module": "@jupyter-widgets/controls",
          "model_name": "HTMLModel",
          "model_module_version": "1.5.0",
          "state": {
            "_dom_classes": [],
            "_model_module": "@jupyter-widgets/controls",
            "_model_module_version": "1.5.0",
            "_model_name": "HTMLModel",
            "_view_count": null,
            "_view_module": "@jupyter-widgets/controls",
            "_view_module_version": "1.5.0",
            "_view_name": "HTMLView",
            "description": "",
            "description_tooltip": null,
            "layout": "IPY_MODEL_b7c8fb2fc98b4db7a36e837be05424ba",
            "placeholder": "​",
            "style": "IPY_MODEL_c1841846e7254995ba264775419d0991",
            "value": "vocab.json: 100%"
          }
        },
        "f6cf6460c728415cbccdcb7091d8f732": {
          "model_module": "@jupyter-widgets/controls",
          "model_name": "FloatProgressModel",
          "model_module_version": "1.5.0",
          "state": {
            "_dom_classes": [],
            "_model_module": "@jupyter-widgets/controls",
            "_model_module_version": "1.5.0",
            "_model_name": "FloatProgressModel",
            "_view_count": null,
            "_view_module": "@jupyter-widgets/controls",
            "_view_module_version": "1.5.0",
            "_view_name": "ProgressView",
            "bar_style": "success",
            "description": "",
            "description_tooltip": null,
            "layout": "IPY_MODEL_8581329c236f400dbc6b2d3ea6cf7a75",
            "max": 1036558,
            "min": 0,
            "orientation": "horizontal",
            "style": "IPY_MODEL_62a96c0ed68d4ec79e64f07bb75d7d7c",
            "value": 1036558
          }
        },
        "b4a566ded8e4419db0f7b500fca6fa11": {
          "model_module": "@jupyter-widgets/controls",
          "model_name": "HTMLModel",
          "model_module_version": "1.5.0",
          "state": {
            "_dom_classes": [],
            "_model_module": "@jupyter-widgets/controls",
            "_model_module_version": "1.5.0",
            "_model_name": "HTMLModel",
            "_view_count": null,
            "_view_module": "@jupyter-widgets/controls",
            "_view_module_version": "1.5.0",
            "_view_name": "HTMLView",
            "description": "",
            "description_tooltip": null,
            "layout": "IPY_MODEL_8ef7af16ff3c4855971bed7baa5e452a",
            "placeholder": "​",
            "style": "IPY_MODEL_31656420ac1542bf8956142e7f364046",
            "value": " 1.04M/1.04M [00:00&lt;00:00, 2.23MB/s]"
          }
        },
        "0891f1a2bae744fd91e80c47f16df413": {
          "model_module": "@jupyter-widgets/base",
          "model_name": "LayoutModel",
          "model_module_version": "1.2.0",
          "state": {
            "_model_module": "@jupyter-widgets/base",
            "_model_module_version": "1.2.0",
            "_model_name": "LayoutModel",
            "_view_count": null,
            "_view_module": "@jupyter-widgets/base",
            "_view_module_version": "1.2.0",
            "_view_name": "LayoutView",
            "align_content": null,
            "align_items": null,
            "align_self": null,
            "border": null,
            "bottom": null,
            "display": null,
            "flex": null,
            "flex_flow": null,
            "grid_area": null,
            "grid_auto_columns": null,
            "grid_auto_flow": null,
            "grid_auto_rows": null,
            "grid_column": null,
            "grid_gap": null,
            "grid_row": null,
            "grid_template_areas": null,
            "grid_template_columns": null,
            "grid_template_rows": null,
            "height": null,
            "justify_content": null,
            "justify_items": null,
            "left": null,
            "margin": null,
            "max_height": null,
            "max_width": null,
            "min_height": null,
            "min_width": null,
            "object_fit": null,
            "object_position": null,
            "order": null,
            "overflow": null,
            "overflow_x": null,
            "overflow_y": null,
            "padding": null,
            "right": null,
            "top": null,
            "visibility": null,
            "width": null
          }
        },
        "b7c8fb2fc98b4db7a36e837be05424ba": {
          "model_module": "@jupyter-widgets/base",
          "model_name": "LayoutModel",
          "model_module_version": "1.2.0",
          "state": {
            "_model_module": "@jupyter-widgets/base",
            "_model_module_version": "1.2.0",
            "_model_name": "LayoutModel",
            "_view_count": null,
            "_view_module": "@jupyter-widgets/base",
            "_view_module_version": "1.2.0",
            "_view_name": "LayoutView",
            "align_content": null,
            "align_items": null,
            "align_self": null,
            "border": null,
            "bottom": null,
            "display": null,
            "flex": null,
            "flex_flow": null,
            "grid_area": null,
            "grid_auto_columns": null,
            "grid_auto_flow": null,
            "grid_auto_rows": null,
            "grid_column": null,
            "grid_gap": null,
            "grid_row": null,
            "grid_template_areas": null,
            "grid_template_columns": null,
            "grid_template_rows": null,
            "height": null,
            "justify_content": null,
            "justify_items": null,
            "left": null,
            "margin": null,
            "max_height": null,
            "max_width": null,
            "min_height": null,
            "min_width": null,
            "object_fit": null,
            "object_position": null,
            "order": null,
            "overflow": null,
            "overflow_x": null,
            "overflow_y": null,
            "padding": null,
            "right": null,
            "top": null,
            "visibility": null,
            "width": null
          }
        },
        "c1841846e7254995ba264775419d0991": {
          "model_module": "@jupyter-widgets/controls",
          "model_name": "DescriptionStyleModel",
          "model_module_version": "1.5.0",
          "state": {
            "_model_module": "@jupyter-widgets/controls",
            "_model_module_version": "1.5.0",
            "_model_name": "DescriptionStyleModel",
            "_view_count": null,
            "_view_module": "@jupyter-widgets/base",
            "_view_module_version": "1.2.0",
            "_view_name": "StyleView",
            "description_width": ""
          }
        },
        "8581329c236f400dbc6b2d3ea6cf7a75": {
          "model_module": "@jupyter-widgets/base",
          "model_name": "LayoutModel",
          "model_module_version": "1.2.0",
          "state": {
            "_model_module": "@jupyter-widgets/base",
            "_model_module_version": "1.2.0",
            "_model_name": "LayoutModel",
            "_view_count": null,
            "_view_module": "@jupyter-widgets/base",
            "_view_module_version": "1.2.0",
            "_view_name": "LayoutView",
            "align_content": null,
            "align_items": null,
            "align_self": null,
            "border": null,
            "bottom": null,
            "display": null,
            "flex": null,
            "flex_flow": null,
            "grid_area": null,
            "grid_auto_columns": null,
            "grid_auto_flow": null,
            "grid_auto_rows": null,
            "grid_column": null,
            "grid_gap": null,
            "grid_row": null,
            "grid_template_areas": null,
            "grid_template_columns": null,
            "grid_template_rows": null,
            "height": null,
            "justify_content": null,
            "justify_items": null,
            "left": null,
            "margin": null,
            "max_height": null,
            "max_width": null,
            "min_height": null,
            "min_width": null,
            "object_fit": null,
            "object_position": null,
            "order": null,
            "overflow": null,
            "overflow_x": null,
            "overflow_y": null,
            "padding": null,
            "right": null,
            "top": null,
            "visibility": null,
            "width": null
          }
        },
        "62a96c0ed68d4ec79e64f07bb75d7d7c": {
          "model_module": "@jupyter-widgets/controls",
          "model_name": "ProgressStyleModel",
          "model_module_version": "1.5.0",
          "state": {
            "_model_module": "@jupyter-widgets/controls",
            "_model_module_version": "1.5.0",
            "_model_name": "ProgressStyleModel",
            "_view_count": null,
            "_view_module": "@jupyter-widgets/base",
            "_view_module_version": "1.2.0",
            "_view_name": "StyleView",
            "bar_color": null,
            "description_width": ""
          }
        },
        "8ef7af16ff3c4855971bed7baa5e452a": {
          "model_module": "@jupyter-widgets/base",
          "model_name": "LayoutModel",
          "model_module_version": "1.2.0",
          "state": {
            "_model_module": "@jupyter-widgets/base",
            "_model_module_version": "1.2.0",
            "_model_name": "LayoutModel",
            "_view_count": null,
            "_view_module": "@jupyter-widgets/base",
            "_view_module_version": "1.2.0",
            "_view_name": "LayoutView",
            "align_content": null,
            "align_items": null,
            "align_self": null,
            "border": null,
            "bottom": null,
            "display": null,
            "flex": null,
            "flex_flow": null,
            "grid_area": null,
            "grid_auto_columns": null,
            "grid_auto_flow": null,
            "grid_auto_rows": null,
            "grid_column": null,
            "grid_gap": null,
            "grid_row": null,
            "grid_template_areas": null,
            "grid_template_columns": null,
            "grid_template_rows": null,
            "height": null,
            "justify_content": null,
            "justify_items": null,
            "left": null,
            "margin": null,
            "max_height": null,
            "max_width": null,
            "min_height": null,
            "min_width": null,
            "object_fit": null,
            "object_position": null,
            "order": null,
            "overflow": null,
            "overflow_x": null,
            "overflow_y": null,
            "padding": null,
            "right": null,
            "top": null,
            "visibility": null,
            "width": null
          }
        },
        "31656420ac1542bf8956142e7f364046": {
          "model_module": "@jupyter-widgets/controls",
          "model_name": "DescriptionStyleModel",
          "model_module_version": "1.5.0",
          "state": {
            "_model_module": "@jupyter-widgets/controls",
            "_model_module_version": "1.5.0",
            "_model_name": "DescriptionStyleModel",
            "_view_count": null,
            "_view_module": "@jupyter-widgets/base",
            "_view_module_version": "1.2.0",
            "_view_name": "StyleView",
            "description_width": ""
          }
        },
        "88dae7e790aa482f9055dc3f06d856d8": {
          "model_module": "@jupyter-widgets/controls",
          "model_name": "HBoxModel",
          "model_module_version": "1.5.0",
          "state": {
            "_dom_classes": [],
            "_model_module": "@jupyter-widgets/controls",
            "_model_module_version": "1.5.0",
            "_model_name": "HBoxModel",
            "_view_count": null,
            "_view_module": "@jupyter-widgets/controls",
            "_view_module_version": "1.5.0",
            "_view_name": "HBoxView",
            "box_style": "",
            "children": [
              "IPY_MODEL_522b453bbecb4324a0379d5e081f7b3b",
              "IPY_MODEL_92d493f75f444efe91bb82a9ef2f9f8b",
              "IPY_MODEL_ea36f4e6428a49348163d19ee3b6454b"
            ],
            "layout": "IPY_MODEL_85cea8a9a2074a9c9cac4fe4cde32e64"
          }
        },
        "522b453bbecb4324a0379d5e081f7b3b": {
          "model_module": "@jupyter-widgets/controls",
          "model_name": "HTMLModel",
          "model_module_version": "1.5.0",
          "state": {
            "_dom_classes": [],
            "_model_module": "@jupyter-widgets/controls",
            "_model_module_version": "1.5.0",
            "_model_name": "HTMLModel",
            "_view_count": null,
            "_view_module": "@jupyter-widgets/controls",
            "_view_module_version": "1.5.0",
            "_view_name": "HTMLView",
            "description": "",
            "description_tooltip": null,
            "layout": "IPY_MODEL_ef1dfe0e2593461485a8a0a4958f29ce",
            "placeholder": "​",
            "style": "IPY_MODEL_786a45b4b7474cdd84d3fcd18cd3084d",
            "value": "tokenizer.json: 100%"
          }
        },
        "92d493f75f444efe91bb82a9ef2f9f8b": {
          "model_module": "@jupyter-widgets/controls",
          "model_name": "FloatProgressModel",
          "model_module_version": "1.5.0",
          "state": {
            "_dom_classes": [],
            "_model_module": "@jupyter-widgets/controls",
            "_model_module_version": "1.5.0",
            "_model_name": "FloatProgressModel",
            "_view_count": null,
            "_view_module": "@jupyter-widgets/controls",
            "_view_module_version": "1.5.0",
            "_view_name": "ProgressView",
            "bar_style": "success",
            "description": "",
            "description_tooltip": null,
            "layout": "IPY_MODEL_c5fe14a4e55540eb8caeb74f44cea813",
            "max": 2480617,
            "min": 0,
            "orientation": "horizontal",
            "style": "IPY_MODEL_b0051cd8e11d4fff9e5044099ca3625a",
            "value": 2480617
          }
        },
        "ea36f4e6428a49348163d19ee3b6454b": {
          "model_module": "@jupyter-widgets/controls",
          "model_name": "HTMLModel",
          "model_module_version": "1.5.0",
          "state": {
            "_dom_classes": [],
            "_model_module": "@jupyter-widgets/controls",
            "_model_module_version": "1.5.0",
            "_model_name": "HTMLModel",
            "_view_count": null,
            "_view_module": "@jupyter-widgets/controls",
            "_view_module_version": "1.5.0",
            "_view_name": "HTMLView",
            "description": "",
            "description_tooltip": null,
            "layout": "IPY_MODEL_5b3405594b544f81bf08d7f378221609",
            "placeholder": "​",
            "style": "IPY_MODEL_f85b4764bfa448bbb23c3a78143d777a",
            "value": " 2.48M/2.48M [00:00&lt;00:00, 12.0MB/s]"
          }
        },
        "85cea8a9a2074a9c9cac4fe4cde32e64": {
          "model_module": "@jupyter-widgets/base",
          "model_name": "LayoutModel",
          "model_module_version": "1.2.0",
          "state": {
            "_model_module": "@jupyter-widgets/base",
            "_model_module_version": "1.2.0",
            "_model_name": "LayoutModel",
            "_view_count": null,
            "_view_module": "@jupyter-widgets/base",
            "_view_module_version": "1.2.0",
            "_view_name": "LayoutView",
            "align_content": null,
            "align_items": null,
            "align_self": null,
            "border": null,
            "bottom": null,
            "display": null,
            "flex": null,
            "flex_flow": null,
            "grid_area": null,
            "grid_auto_columns": null,
            "grid_auto_flow": null,
            "grid_auto_rows": null,
            "grid_column": null,
            "grid_gap": null,
            "grid_row": null,
            "grid_template_areas": null,
            "grid_template_columns": null,
            "grid_template_rows": null,
            "height": null,
            "justify_content": null,
            "justify_items": null,
            "left": null,
            "margin": null,
            "max_height": null,
            "max_width": null,
            "min_height": null,
            "min_width": null,
            "object_fit": null,
            "object_position": null,
            "order": null,
            "overflow": null,
            "overflow_x": null,
            "overflow_y": null,
            "padding": null,
            "right": null,
            "top": null,
            "visibility": null,
            "width": null
          }
        },
        "ef1dfe0e2593461485a8a0a4958f29ce": {
          "model_module": "@jupyter-widgets/base",
          "model_name": "LayoutModel",
          "model_module_version": "1.2.0",
          "state": {
            "_model_module": "@jupyter-widgets/base",
            "_model_module_version": "1.2.0",
            "_model_name": "LayoutModel",
            "_view_count": null,
            "_view_module": "@jupyter-widgets/base",
            "_view_module_version": "1.2.0",
            "_view_name": "LayoutView",
            "align_content": null,
            "align_items": null,
            "align_self": null,
            "border": null,
            "bottom": null,
            "display": null,
            "flex": null,
            "flex_flow": null,
            "grid_area": null,
            "grid_auto_columns": null,
            "grid_auto_flow": null,
            "grid_auto_rows": null,
            "grid_column": null,
            "grid_gap": null,
            "grid_row": null,
            "grid_template_areas": null,
            "grid_template_columns": null,
            "grid_template_rows": null,
            "height": null,
            "justify_content": null,
            "justify_items": null,
            "left": null,
            "margin": null,
            "max_height": null,
            "max_width": null,
            "min_height": null,
            "min_width": null,
            "object_fit": null,
            "object_position": null,
            "order": null,
            "overflow": null,
            "overflow_x": null,
            "overflow_y": null,
            "padding": null,
            "right": null,
            "top": null,
            "visibility": null,
            "width": null
          }
        },
        "786a45b4b7474cdd84d3fcd18cd3084d": {
          "model_module": "@jupyter-widgets/controls",
          "model_name": "DescriptionStyleModel",
          "model_module_version": "1.5.0",
          "state": {
            "_model_module": "@jupyter-widgets/controls",
            "_model_module_version": "1.5.0",
            "_model_name": "DescriptionStyleModel",
            "_view_count": null,
            "_view_module": "@jupyter-widgets/base",
            "_view_module_version": "1.2.0",
            "_view_name": "StyleView",
            "description_width": ""
          }
        },
        "c5fe14a4e55540eb8caeb74f44cea813": {
          "model_module": "@jupyter-widgets/base",
          "model_name": "LayoutModel",
          "model_module_version": "1.2.0",
          "state": {
            "_model_module": "@jupyter-widgets/base",
            "_model_module_version": "1.2.0",
            "_model_name": "LayoutModel",
            "_view_count": null,
            "_view_module": "@jupyter-widgets/base",
            "_view_module_version": "1.2.0",
            "_view_name": "LayoutView",
            "align_content": null,
            "align_items": null,
            "align_self": null,
            "border": null,
            "bottom": null,
            "display": null,
            "flex": null,
            "flex_flow": null,
            "grid_area": null,
            "grid_auto_columns": null,
            "grid_auto_flow": null,
            "grid_auto_rows": null,
            "grid_column": null,
            "grid_gap": null,
            "grid_row": null,
            "grid_template_areas": null,
            "grid_template_columns": null,
            "grid_template_rows": null,
            "height": null,
            "justify_content": null,
            "justify_items": null,
            "left": null,
            "margin": null,
            "max_height": null,
            "max_width": null,
            "min_height": null,
            "min_width": null,
            "object_fit": null,
            "object_position": null,
            "order": null,
            "overflow": null,
            "overflow_x": null,
            "overflow_y": null,
            "padding": null,
            "right": null,
            "top": null,
            "visibility": null,
            "width": null
          }
        },
        "b0051cd8e11d4fff9e5044099ca3625a": {
          "model_module": "@jupyter-widgets/controls",
          "model_name": "ProgressStyleModel",
          "model_module_version": "1.5.0",
          "state": {
            "_model_module": "@jupyter-widgets/controls",
            "_model_module_version": "1.5.0",
            "_model_name": "ProgressStyleModel",
            "_view_count": null,
            "_view_module": "@jupyter-widgets/base",
            "_view_module_version": "1.2.0",
            "_view_name": "StyleView",
            "bar_color": null,
            "description_width": ""
          }
        },
        "5b3405594b544f81bf08d7f378221609": {
          "model_module": "@jupyter-widgets/base",
          "model_name": "LayoutModel",
          "model_module_version": "1.2.0",
          "state": {
            "_model_module": "@jupyter-widgets/base",
            "_model_module_version": "1.2.0",
            "_model_name": "LayoutModel",
            "_view_count": null,
            "_view_module": "@jupyter-widgets/base",
            "_view_module_version": "1.2.0",
            "_view_name": "LayoutView",
            "align_content": null,
            "align_items": null,
            "align_self": null,
            "border": null,
            "bottom": null,
            "display": null,
            "flex": null,
            "flex_flow": null,
            "grid_area": null,
            "grid_auto_columns": null,
            "grid_auto_flow": null,
            "grid_auto_rows": null,
            "grid_column": null,
            "grid_gap": null,
            "grid_row": null,
            "grid_template_areas": null,
            "grid_template_columns": null,
            "grid_template_rows": null,
            "height": null,
            "justify_content": null,
            "justify_items": null,
            "left": null,
            "margin": null,
            "max_height": null,
            "max_width": null,
            "min_height": null,
            "min_width": null,
            "object_fit": null,
            "object_position": null,
            "order": null,
            "overflow": null,
            "overflow_x": null,
            "overflow_y": null,
            "padding": null,
            "right": null,
            "top": null,
            "visibility": null,
            "width": null
          }
        },
        "f85b4764bfa448bbb23c3a78143d777a": {
          "model_module": "@jupyter-widgets/controls",
          "model_name": "DescriptionStyleModel",
          "model_module_version": "1.5.0",
          "state": {
            "_model_module": "@jupyter-widgets/controls",
            "_model_module_version": "1.5.0",
            "_model_name": "DescriptionStyleModel",
            "_view_count": null,
            "_view_module": "@jupyter-widgets/base",
            "_view_module_version": "1.2.0",
            "_view_name": "StyleView",
            "description_width": ""
          }
        },
        "fba0ecbfc3544b36a3922c8e49ee082d": {
          "model_module": "@jupyter-widgets/controls",
          "model_name": "HBoxModel",
          "model_module_version": "1.5.0",
          "state": {
            "_dom_classes": [],
            "_model_module": "@jupyter-widgets/controls",
            "_model_module_version": "1.5.0",
            "_model_name": "HBoxModel",
            "_view_count": null,
            "_view_module": "@jupyter-widgets/controls",
            "_view_module_version": "1.5.0",
            "_view_name": "HBoxView",
            "box_style": "",
            "children": [
              "IPY_MODEL_c7d92801285f4d5f825fabe1f05276b6",
              "IPY_MODEL_931643e41d194a9cbb900d2ddb87ea40",
              "IPY_MODEL_03b054f9a21e4780b8ce2cc93f366abf"
            ],
            "layout": "IPY_MODEL_bbcd725f55d04d3a9195d5431bbb4065"
          }
        },
        "c7d92801285f4d5f825fabe1f05276b6": {
          "model_module": "@jupyter-widgets/controls",
          "model_name": "HTMLModel",
          "model_module_version": "1.5.0",
          "state": {
            "_dom_classes": [],
            "_model_module": "@jupyter-widgets/controls",
            "_model_module_version": "1.5.0",
            "_model_name": "HTMLModel",
            "_view_count": null,
            "_view_module": "@jupyter-widgets/controls",
            "_view_module_version": "1.5.0",
            "_view_name": "HTMLView",
            "description": "",
            "description_tooltip": null,
            "layout": "IPY_MODEL_30de96fcf57a4bb6ba11ca097679794e",
            "placeholder": "​",
            "style": "IPY_MODEL_37ca54cf2ef74d92a0bd67c743e8beb0",
            "value": "merges.txt: 100%"
          }
        },
        "931643e41d194a9cbb900d2ddb87ea40": {
          "model_module": "@jupyter-widgets/controls",
          "model_name": "FloatProgressModel",
          "model_module_version": "1.5.0",
          "state": {
            "_dom_classes": [],
            "_model_module": "@jupyter-widgets/controls",
            "_model_module_version": "1.5.0",
            "_model_name": "FloatProgressModel",
            "_view_count": null,
            "_view_module": "@jupyter-widgets/controls",
            "_view_module_version": "1.5.0",
            "_view_name": "ProgressView",
            "bar_style": "success",
            "description": "",
            "description_tooltip": null,
            "layout": "IPY_MODEL_bad320044d514f76bcb4cde20883252b",
            "max": 493869,
            "min": 0,
            "orientation": "horizontal",
            "style": "IPY_MODEL_9a6c0000f07e4ec592a798565f94fdf3",
            "value": 493869
          }
        },
        "03b054f9a21e4780b8ce2cc93f366abf": {
          "model_module": "@jupyter-widgets/controls",
          "model_name": "HTMLModel",
          "model_module_version": "1.5.0",
          "state": {
            "_dom_classes": [],
            "_model_module": "@jupyter-widgets/controls",
            "_model_module_version": "1.5.0",
            "_model_name": "HTMLModel",
            "_view_count": null,
            "_view_module": "@jupyter-widgets/controls",
            "_view_module_version": "1.5.0",
            "_view_name": "HTMLView",
            "description": "",
            "description_tooltip": null,
            "layout": "IPY_MODEL_82b0adaeda42470692199aea4dcc6066",
            "placeholder": "​",
            "style": "IPY_MODEL_95a6b26604ca47408c288e38fa176525",
            "value": " 494k/494k [00:00&lt;00:00, 33.3MB/s]"
          }
        },
        "bbcd725f55d04d3a9195d5431bbb4065": {
          "model_module": "@jupyter-widgets/base",
          "model_name": "LayoutModel",
          "model_module_version": "1.2.0",
          "state": {
            "_model_module": "@jupyter-widgets/base",
            "_model_module_version": "1.2.0",
            "_model_name": "LayoutModel",
            "_view_count": null,
            "_view_module": "@jupyter-widgets/base",
            "_view_module_version": "1.2.0",
            "_view_name": "LayoutView",
            "align_content": null,
            "align_items": null,
            "align_self": null,
            "border": null,
            "bottom": null,
            "display": null,
            "flex": null,
            "flex_flow": null,
            "grid_area": null,
            "grid_auto_columns": null,
            "grid_auto_flow": null,
            "grid_auto_rows": null,
            "grid_column": null,
            "grid_gap": null,
            "grid_row": null,
            "grid_template_areas": null,
            "grid_template_columns": null,
            "grid_template_rows": null,
            "height": null,
            "justify_content": null,
            "justify_items": null,
            "left": null,
            "margin": null,
            "max_height": null,
            "max_width": null,
            "min_height": null,
            "min_width": null,
            "object_fit": null,
            "object_position": null,
            "order": null,
            "overflow": null,
            "overflow_x": null,
            "overflow_y": null,
            "padding": null,
            "right": null,
            "top": null,
            "visibility": null,
            "width": null
          }
        },
        "30de96fcf57a4bb6ba11ca097679794e": {
          "model_module": "@jupyter-widgets/base",
          "model_name": "LayoutModel",
          "model_module_version": "1.2.0",
          "state": {
            "_model_module": "@jupyter-widgets/base",
            "_model_module_version": "1.2.0",
            "_model_name": "LayoutModel",
            "_view_count": null,
            "_view_module": "@jupyter-widgets/base",
            "_view_module_version": "1.2.0",
            "_view_name": "LayoutView",
            "align_content": null,
            "align_items": null,
            "align_self": null,
            "border": null,
            "bottom": null,
            "display": null,
            "flex": null,
            "flex_flow": null,
            "grid_area": null,
            "grid_auto_columns": null,
            "grid_auto_flow": null,
            "grid_auto_rows": null,
            "grid_column": null,
            "grid_gap": null,
            "grid_row": null,
            "grid_template_areas": null,
            "grid_template_columns": null,
            "grid_template_rows": null,
            "height": null,
            "justify_content": null,
            "justify_items": null,
            "left": null,
            "margin": null,
            "max_height": null,
            "max_width": null,
            "min_height": null,
            "min_width": null,
            "object_fit": null,
            "object_position": null,
            "order": null,
            "overflow": null,
            "overflow_x": null,
            "overflow_y": null,
            "padding": null,
            "right": null,
            "top": null,
            "visibility": null,
            "width": null
          }
        },
        "37ca54cf2ef74d92a0bd67c743e8beb0": {
          "model_module": "@jupyter-widgets/controls",
          "model_name": "DescriptionStyleModel",
          "model_module_version": "1.5.0",
          "state": {
            "_model_module": "@jupyter-widgets/controls",
            "_model_module_version": "1.5.0",
            "_model_name": "DescriptionStyleModel",
            "_view_count": null,
            "_view_module": "@jupyter-widgets/base",
            "_view_module_version": "1.2.0",
            "_view_name": "StyleView",
            "description_width": ""
          }
        },
        "bad320044d514f76bcb4cde20883252b": {
          "model_module": "@jupyter-widgets/base",
          "model_name": "LayoutModel",
          "model_module_version": "1.2.0",
          "state": {
            "_model_module": "@jupyter-widgets/base",
            "_model_module_version": "1.2.0",
            "_model_name": "LayoutModel",
            "_view_count": null,
            "_view_module": "@jupyter-widgets/base",
            "_view_module_version": "1.2.0",
            "_view_name": "LayoutView",
            "align_content": null,
            "align_items": null,
            "align_self": null,
            "border": null,
            "bottom": null,
            "display": null,
            "flex": null,
            "flex_flow": null,
            "grid_area": null,
            "grid_auto_columns": null,
            "grid_auto_flow": null,
            "grid_auto_rows": null,
            "grid_column": null,
            "grid_gap": null,
            "grid_row": null,
            "grid_template_areas": null,
            "grid_template_columns": null,
            "grid_template_rows": null,
            "height": null,
            "justify_content": null,
            "justify_items": null,
            "left": null,
            "margin": null,
            "max_height": null,
            "max_width": null,
            "min_height": null,
            "min_width": null,
            "object_fit": null,
            "object_position": null,
            "order": null,
            "overflow": null,
            "overflow_x": null,
            "overflow_y": null,
            "padding": null,
            "right": null,
            "top": null,
            "visibility": null,
            "width": null
          }
        },
        "9a6c0000f07e4ec592a798565f94fdf3": {
          "model_module": "@jupyter-widgets/controls",
          "model_name": "ProgressStyleModel",
          "model_module_version": "1.5.0",
          "state": {
            "_model_module": "@jupyter-widgets/controls",
            "_model_module_version": "1.5.0",
            "_model_name": "ProgressStyleModel",
            "_view_count": null,
            "_view_module": "@jupyter-widgets/base",
            "_view_module_version": "1.2.0",
            "_view_name": "StyleView",
            "bar_color": null,
            "description_width": ""
          }
        },
        "82b0adaeda42470692199aea4dcc6066": {
          "model_module": "@jupyter-widgets/base",
          "model_name": "LayoutModel",
          "model_module_version": "1.2.0",
          "state": {
            "_model_module": "@jupyter-widgets/base",
            "_model_module_version": "1.2.0",
            "_model_name": "LayoutModel",
            "_view_count": null,
            "_view_module": "@jupyter-widgets/base",
            "_view_module_version": "1.2.0",
            "_view_name": "LayoutView",
            "align_content": null,
            "align_items": null,
            "align_self": null,
            "border": null,
            "bottom": null,
            "display": null,
            "flex": null,
            "flex_flow": null,
            "grid_area": null,
            "grid_auto_columns": null,
            "grid_auto_flow": null,
            "grid_auto_rows": null,
            "grid_column": null,
            "grid_gap": null,
            "grid_row": null,
            "grid_template_areas": null,
            "grid_template_columns": null,
            "grid_template_rows": null,
            "height": null,
            "justify_content": null,
            "justify_items": null,
            "left": null,
            "margin": null,
            "max_height": null,
            "max_width": null,
            "min_height": null,
            "min_width": null,
            "object_fit": null,
            "object_position": null,
            "order": null,
            "overflow": null,
            "overflow_x": null,
            "overflow_y": null,
            "padding": null,
            "right": null,
            "top": null,
            "visibility": null,
            "width": null
          }
        },
        "95a6b26604ca47408c288e38fa176525": {
          "model_module": "@jupyter-widgets/controls",
          "model_name": "DescriptionStyleModel",
          "model_module_version": "1.5.0",
          "state": {
            "_model_module": "@jupyter-widgets/controls",
            "_model_module_version": "1.5.0",
            "_model_name": "DescriptionStyleModel",
            "_view_count": null,
            "_view_module": "@jupyter-widgets/base",
            "_view_module_version": "1.2.0",
            "_view_name": "StyleView",
            "description_width": ""
          }
        },
        "9622161cf01347be9d990d6324299935": {
          "model_module": "@jupyter-widgets/controls",
          "model_name": "HBoxModel",
          "model_module_version": "1.5.0",
          "state": {
            "_dom_classes": [],
            "_model_module": "@jupyter-widgets/controls",
            "_model_module_version": "1.5.0",
            "_model_name": "HBoxModel",
            "_view_count": null,
            "_view_module": "@jupyter-widgets/controls",
            "_view_module_version": "1.5.0",
            "_view_name": "HBoxView",
            "box_style": "",
            "children": [
              "IPY_MODEL_2738d5b8fce346bc98b33c748799bad1",
              "IPY_MODEL_2a6f99a896d944bbb1d7ccfd4a2c72b5",
              "IPY_MODEL_0092dafad41b499eb6858a9cad1dc5c6"
            ],
            "layout": "IPY_MODEL_be73240aaad141fab8e825dbc66aa56d"
          }
        },
        "2738d5b8fce346bc98b33c748799bad1": {
          "model_module": "@jupyter-widgets/controls",
          "model_name": "HTMLModel",
          "model_module_version": "1.5.0",
          "state": {
            "_dom_classes": [],
            "_model_module": "@jupyter-widgets/controls",
            "_model_module_version": "1.5.0",
            "_model_name": "HTMLModel",
            "_view_count": null,
            "_view_module": "@jupyter-widgets/controls",
            "_view_module_version": "1.5.0",
            "_view_name": "HTMLView",
            "description": "",
            "description_tooltip": null,
            "layout": "IPY_MODEL_e2e08d2c518e4a0d98d8e52af45adee9",
            "placeholder": "​",
            "style": "IPY_MODEL_016dfffb736242248f0daabcf0ad0427",
            "value": "normalizer.json: 100%"
          }
        },
        "2a6f99a896d944bbb1d7ccfd4a2c72b5": {
          "model_module": "@jupyter-widgets/controls",
          "model_name": "FloatProgressModel",
          "model_module_version": "1.5.0",
          "state": {
            "_dom_classes": [],
            "_model_module": "@jupyter-widgets/controls",
            "_model_module_version": "1.5.0",
            "_model_name": "FloatProgressModel",
            "_view_count": null,
            "_view_module": "@jupyter-widgets/controls",
            "_view_module_version": "1.5.0",
            "_view_name": "ProgressView",
            "bar_style": "success",
            "description": "",
            "description_tooltip": null,
            "layout": "IPY_MODEL_b3afb1f499774aab81fb94f59db7757e",
            "max": 52666,
            "min": 0,
            "orientation": "horizontal",
            "style": "IPY_MODEL_ebdae35cb1d94d5aa6524ab8504f63ed",
            "value": 52666
          }
        },
        "0092dafad41b499eb6858a9cad1dc5c6": {
          "model_module": "@jupyter-widgets/controls",
          "model_name": "HTMLModel",
          "model_module_version": "1.5.0",
          "state": {
            "_dom_classes": [],
            "_model_module": "@jupyter-widgets/controls",
            "_model_module_version": "1.5.0",
            "_model_name": "HTMLModel",
            "_view_count": null,
            "_view_module": "@jupyter-widgets/controls",
            "_view_module_version": "1.5.0",
            "_view_name": "HTMLView",
            "description": "",
            "description_tooltip": null,
            "layout": "IPY_MODEL_c030839cda3b4b789bb86cc540ea684c",
            "placeholder": "​",
            "style": "IPY_MODEL_8a16336498e1477da8d9ff5f49ac7081",
            "value": " 52.7k/52.7k [00:00&lt;00:00, 4.11MB/s]"
          }
        },
        "be73240aaad141fab8e825dbc66aa56d": {
          "model_module": "@jupyter-widgets/base",
          "model_name": "LayoutModel",
          "model_module_version": "1.2.0",
          "state": {
            "_model_module": "@jupyter-widgets/base",
            "_model_module_version": "1.2.0",
            "_model_name": "LayoutModel",
            "_view_count": null,
            "_view_module": "@jupyter-widgets/base",
            "_view_module_version": "1.2.0",
            "_view_name": "LayoutView",
            "align_content": null,
            "align_items": null,
            "align_self": null,
            "border": null,
            "bottom": null,
            "display": null,
            "flex": null,
            "flex_flow": null,
            "grid_area": null,
            "grid_auto_columns": null,
            "grid_auto_flow": null,
            "grid_auto_rows": null,
            "grid_column": null,
            "grid_gap": null,
            "grid_row": null,
            "grid_template_areas": null,
            "grid_template_columns": null,
            "grid_template_rows": null,
            "height": null,
            "justify_content": null,
            "justify_items": null,
            "left": null,
            "margin": null,
            "max_height": null,
            "max_width": null,
            "min_height": null,
            "min_width": null,
            "object_fit": null,
            "object_position": null,
            "order": null,
            "overflow": null,
            "overflow_x": null,
            "overflow_y": null,
            "padding": null,
            "right": null,
            "top": null,
            "visibility": null,
            "width": null
          }
        },
        "e2e08d2c518e4a0d98d8e52af45adee9": {
          "model_module": "@jupyter-widgets/base",
          "model_name": "LayoutModel",
          "model_module_version": "1.2.0",
          "state": {
            "_model_module": "@jupyter-widgets/base",
            "_model_module_version": "1.2.0",
            "_model_name": "LayoutModel",
            "_view_count": null,
            "_view_module": "@jupyter-widgets/base",
            "_view_module_version": "1.2.0",
            "_view_name": "LayoutView",
            "align_content": null,
            "align_items": null,
            "align_self": null,
            "border": null,
            "bottom": null,
            "display": null,
            "flex": null,
            "flex_flow": null,
            "grid_area": null,
            "grid_auto_columns": null,
            "grid_auto_flow": null,
            "grid_auto_rows": null,
            "grid_column": null,
            "grid_gap": null,
            "grid_row": null,
            "grid_template_areas": null,
            "grid_template_columns": null,
            "grid_template_rows": null,
            "height": null,
            "justify_content": null,
            "justify_items": null,
            "left": null,
            "margin": null,
            "max_height": null,
            "max_width": null,
            "min_height": null,
            "min_width": null,
            "object_fit": null,
            "object_position": null,
            "order": null,
            "overflow": null,
            "overflow_x": null,
            "overflow_y": null,
            "padding": null,
            "right": null,
            "top": null,
            "visibility": null,
            "width": null
          }
        },
        "016dfffb736242248f0daabcf0ad0427": {
          "model_module": "@jupyter-widgets/controls",
          "model_name": "DescriptionStyleModel",
          "model_module_version": "1.5.0",
          "state": {
            "_model_module": "@jupyter-widgets/controls",
            "_model_module_version": "1.5.0",
            "_model_name": "DescriptionStyleModel",
            "_view_count": null,
            "_view_module": "@jupyter-widgets/base",
            "_view_module_version": "1.2.0",
            "_view_name": "StyleView",
            "description_width": ""
          }
        },
        "b3afb1f499774aab81fb94f59db7757e": {
          "model_module": "@jupyter-widgets/base",
          "model_name": "LayoutModel",
          "model_module_version": "1.2.0",
          "state": {
            "_model_module": "@jupyter-widgets/base",
            "_model_module_version": "1.2.0",
            "_model_name": "LayoutModel",
            "_view_count": null,
            "_view_module": "@jupyter-widgets/base",
            "_view_module_version": "1.2.0",
            "_view_name": "LayoutView",
            "align_content": null,
            "align_items": null,
            "align_self": null,
            "border": null,
            "bottom": null,
            "display": null,
            "flex": null,
            "flex_flow": null,
            "grid_area": null,
            "grid_auto_columns": null,
            "grid_auto_flow": null,
            "grid_auto_rows": null,
            "grid_column": null,
            "grid_gap": null,
            "grid_row": null,
            "grid_template_areas": null,
            "grid_template_columns": null,
            "grid_template_rows": null,
            "height": null,
            "justify_content": null,
            "justify_items": null,
            "left": null,
            "margin": null,
            "max_height": null,
            "max_width": null,
            "min_height": null,
            "min_width": null,
            "object_fit": null,
            "object_position": null,
            "order": null,
            "overflow": null,
            "overflow_x": null,
            "overflow_y": null,
            "padding": null,
            "right": null,
            "top": null,
            "visibility": null,
            "width": null
          }
        },
        "ebdae35cb1d94d5aa6524ab8504f63ed": {
          "model_module": "@jupyter-widgets/controls",
          "model_name": "ProgressStyleModel",
          "model_module_version": "1.5.0",
          "state": {
            "_model_module": "@jupyter-widgets/controls",
            "_model_module_version": "1.5.0",
            "_model_name": "ProgressStyleModel",
            "_view_count": null,
            "_view_module": "@jupyter-widgets/base",
            "_view_module_version": "1.2.0",
            "_view_name": "StyleView",
            "bar_color": null,
            "description_width": ""
          }
        },
        "c030839cda3b4b789bb86cc540ea684c": {
          "model_module": "@jupyter-widgets/base",
          "model_name": "LayoutModel",
          "model_module_version": "1.2.0",
          "state": {
            "_model_module": "@jupyter-widgets/base",
            "_model_module_version": "1.2.0",
            "_model_name": "LayoutModel",
            "_view_count": null,
            "_view_module": "@jupyter-widgets/base",
            "_view_module_version": "1.2.0",
            "_view_name": "LayoutView",
            "align_content": null,
            "align_items": null,
            "align_self": null,
            "border": null,
            "bottom": null,
            "display": null,
            "flex": null,
            "flex_flow": null,
            "grid_area": null,
            "grid_auto_columns": null,
            "grid_auto_flow": null,
            "grid_auto_rows": null,
            "grid_column": null,
            "grid_gap": null,
            "grid_row": null,
            "grid_template_areas": null,
            "grid_template_columns": null,
            "grid_template_rows": null,
            "height": null,
            "justify_content": null,
            "justify_items": null,
            "left": null,
            "margin": null,
            "max_height": null,
            "max_width": null,
            "min_height": null,
            "min_width": null,
            "object_fit": null,
            "object_position": null,
            "order": null,
            "overflow": null,
            "overflow_x": null,
            "overflow_y": null,
            "padding": null,
            "right": null,
            "top": null,
            "visibility": null,
            "width": null
          }
        },
        "8a16336498e1477da8d9ff5f49ac7081": {
          "model_module": "@jupyter-widgets/controls",
          "model_name": "DescriptionStyleModel",
          "model_module_version": "1.5.0",
          "state": {
            "_model_module": "@jupyter-widgets/controls",
            "_model_module_version": "1.5.0",
            "_model_name": "DescriptionStyleModel",
            "_view_count": null,
            "_view_module": "@jupyter-widgets/base",
            "_view_module_version": "1.2.0",
            "_view_name": "StyleView",
            "description_width": ""
          }
        },
        "f559d2197fb641bc81288c1d977cc30d": {
          "model_module": "@jupyter-widgets/controls",
          "model_name": "HBoxModel",
          "model_module_version": "1.5.0",
          "state": {
            "_dom_classes": [],
            "_model_module": "@jupyter-widgets/controls",
            "_model_module_version": "1.5.0",
            "_model_name": "HBoxModel",
            "_view_count": null,
            "_view_module": "@jupyter-widgets/controls",
            "_view_module_version": "1.5.0",
            "_view_name": "HBoxView",
            "box_style": "",
            "children": [
              "IPY_MODEL_e07fa200714a466baebf149b3f666e42",
              "IPY_MODEL_7903c66eac5646cb99ebcddce76a531d",
              "IPY_MODEL_f4177495003240e083bb2cfd76e0cb79"
            ],
            "layout": "IPY_MODEL_f00a8d9f0e3b4fc9ae7ef6d772132173"
          }
        },
        "e07fa200714a466baebf149b3f666e42": {
          "model_module": "@jupyter-widgets/controls",
          "model_name": "HTMLModel",
          "model_module_version": "1.5.0",
          "state": {
            "_dom_classes": [],
            "_model_module": "@jupyter-widgets/controls",
            "_model_module_version": "1.5.0",
            "_model_name": "HTMLModel",
            "_view_count": null,
            "_view_module": "@jupyter-widgets/controls",
            "_view_module_version": "1.5.0",
            "_view_name": "HTMLView",
            "description": "",
            "description_tooltip": null,
            "layout": "IPY_MODEL_23a66e9a831a453480ee3a70032dd0a2",
            "placeholder": "​",
            "style": "IPY_MODEL_2a2f1837bc3744c887326228d362f9c8",
            "value": "added_tokens.json: 100%"
          }
        },
        "7903c66eac5646cb99ebcddce76a531d": {
          "model_module": "@jupyter-widgets/controls",
          "model_name": "FloatProgressModel",
          "model_module_version": "1.5.0",
          "state": {
            "_dom_classes": [],
            "_model_module": "@jupyter-widgets/controls",
            "_model_module_version": "1.5.0",
            "_model_name": "FloatProgressModel",
            "_view_count": null,
            "_view_module": "@jupyter-widgets/controls",
            "_view_module_version": "1.5.0",
            "_view_name": "ProgressView",
            "bar_style": "success",
            "description": "",
            "description_tooltip": null,
            "layout": "IPY_MODEL_2befe64e17d94ff98ba8488f73b809a3",
            "max": 34648,
            "min": 0,
            "orientation": "horizontal",
            "style": "IPY_MODEL_d79a97af05b64abcb8f7835fcf9f3dcb",
            "value": 34648
          }
        },
        "f4177495003240e083bb2cfd76e0cb79": {
          "model_module": "@jupyter-widgets/controls",
          "model_name": "HTMLModel",
          "model_module_version": "1.5.0",
          "state": {
            "_dom_classes": [],
            "_model_module": "@jupyter-widgets/controls",
            "_model_module_version": "1.5.0",
            "_model_name": "HTMLModel",
            "_view_count": null,
            "_view_module": "@jupyter-widgets/controls",
            "_view_module_version": "1.5.0",
            "_view_name": "HTMLView",
            "description": "",
            "description_tooltip": null,
            "layout": "IPY_MODEL_a1f03d2155e64dee8392bfbabb0391aa",
            "placeholder": "​",
            "style": "IPY_MODEL_ef61b0c4902a4efbbbbc64b5e43c3120",
            "value": " 34.6k/34.6k [00:00&lt;00:00, 2.62MB/s]"
          }
        },
        "f00a8d9f0e3b4fc9ae7ef6d772132173": {
          "model_module": "@jupyter-widgets/base",
          "model_name": "LayoutModel",
          "model_module_version": "1.2.0",
          "state": {
            "_model_module": "@jupyter-widgets/base",
            "_model_module_version": "1.2.0",
            "_model_name": "LayoutModel",
            "_view_count": null,
            "_view_module": "@jupyter-widgets/base",
            "_view_module_version": "1.2.0",
            "_view_name": "LayoutView",
            "align_content": null,
            "align_items": null,
            "align_self": null,
            "border": null,
            "bottom": null,
            "display": null,
            "flex": null,
            "flex_flow": null,
            "grid_area": null,
            "grid_auto_columns": null,
            "grid_auto_flow": null,
            "grid_auto_rows": null,
            "grid_column": null,
            "grid_gap": null,
            "grid_row": null,
            "grid_template_areas": null,
            "grid_template_columns": null,
            "grid_template_rows": null,
            "height": null,
            "justify_content": null,
            "justify_items": null,
            "left": null,
            "margin": null,
            "max_height": null,
            "max_width": null,
            "min_height": null,
            "min_width": null,
            "object_fit": null,
            "object_position": null,
            "order": null,
            "overflow": null,
            "overflow_x": null,
            "overflow_y": null,
            "padding": null,
            "right": null,
            "top": null,
            "visibility": null,
            "width": null
          }
        },
        "23a66e9a831a453480ee3a70032dd0a2": {
          "model_module": "@jupyter-widgets/base",
          "model_name": "LayoutModel",
          "model_module_version": "1.2.0",
          "state": {
            "_model_module": "@jupyter-widgets/base",
            "_model_module_version": "1.2.0",
            "_model_name": "LayoutModel",
            "_view_count": null,
            "_view_module": "@jupyter-widgets/base",
            "_view_module_version": "1.2.0",
            "_view_name": "LayoutView",
            "align_content": null,
            "align_items": null,
            "align_self": null,
            "border": null,
            "bottom": null,
            "display": null,
            "flex": null,
            "flex_flow": null,
            "grid_area": null,
            "grid_auto_columns": null,
            "grid_auto_flow": null,
            "grid_auto_rows": null,
            "grid_column": null,
            "grid_gap": null,
            "grid_row": null,
            "grid_template_areas": null,
            "grid_template_columns": null,
            "grid_template_rows": null,
            "height": null,
            "justify_content": null,
            "justify_items": null,
            "left": null,
            "margin": null,
            "max_height": null,
            "max_width": null,
            "min_height": null,
            "min_width": null,
            "object_fit": null,
            "object_position": null,
            "order": null,
            "overflow": null,
            "overflow_x": null,
            "overflow_y": null,
            "padding": null,
            "right": null,
            "top": null,
            "visibility": null,
            "width": null
          }
        },
        "2a2f1837bc3744c887326228d362f9c8": {
          "model_module": "@jupyter-widgets/controls",
          "model_name": "DescriptionStyleModel",
          "model_module_version": "1.5.0",
          "state": {
            "_model_module": "@jupyter-widgets/controls",
            "_model_module_version": "1.5.0",
            "_model_name": "DescriptionStyleModel",
            "_view_count": null,
            "_view_module": "@jupyter-widgets/base",
            "_view_module_version": "1.2.0",
            "_view_name": "StyleView",
            "description_width": ""
          }
        },
        "2befe64e17d94ff98ba8488f73b809a3": {
          "model_module": "@jupyter-widgets/base",
          "model_name": "LayoutModel",
          "model_module_version": "1.2.0",
          "state": {
            "_model_module": "@jupyter-widgets/base",
            "_model_module_version": "1.2.0",
            "_model_name": "LayoutModel",
            "_view_count": null,
            "_view_module": "@jupyter-widgets/base",
            "_view_module_version": "1.2.0",
            "_view_name": "LayoutView",
            "align_content": null,
            "align_items": null,
            "align_self": null,
            "border": null,
            "bottom": null,
            "display": null,
            "flex": null,
            "flex_flow": null,
            "grid_area": null,
            "grid_auto_columns": null,
            "grid_auto_flow": null,
            "grid_auto_rows": null,
            "grid_column": null,
            "grid_gap": null,
            "grid_row": null,
            "grid_template_areas": null,
            "grid_template_columns": null,
            "grid_template_rows": null,
            "height": null,
            "justify_content": null,
            "justify_items": null,
            "left": null,
            "margin": null,
            "max_height": null,
            "max_width": null,
            "min_height": null,
            "min_width": null,
            "object_fit": null,
            "object_position": null,
            "order": null,
            "overflow": null,
            "overflow_x": null,
            "overflow_y": null,
            "padding": null,
            "right": null,
            "top": null,
            "visibility": null,
            "width": null
          }
        },
        "d79a97af05b64abcb8f7835fcf9f3dcb": {
          "model_module": "@jupyter-widgets/controls",
          "model_name": "ProgressStyleModel",
          "model_module_version": "1.5.0",
          "state": {
            "_model_module": "@jupyter-widgets/controls",
            "_model_module_version": "1.5.0",
            "_model_name": "ProgressStyleModel",
            "_view_count": null,
            "_view_module": "@jupyter-widgets/base",
            "_view_module_version": "1.2.0",
            "_view_name": "StyleView",
            "bar_color": null,
            "description_width": ""
          }
        },
        "a1f03d2155e64dee8392bfbabb0391aa": {
          "model_module": "@jupyter-widgets/base",
          "model_name": "LayoutModel",
          "model_module_version": "1.2.0",
          "state": {
            "_model_module": "@jupyter-widgets/base",
            "_model_module_version": "1.2.0",
            "_model_name": "LayoutModel",
            "_view_count": null,
            "_view_module": "@jupyter-widgets/base",
            "_view_module_version": "1.2.0",
            "_view_name": "LayoutView",
            "align_content": null,
            "align_items": null,
            "align_self": null,
            "border": null,
            "bottom": null,
            "display": null,
            "flex": null,
            "flex_flow": null,
            "grid_area": null,
            "grid_auto_columns": null,
            "grid_auto_flow": null,
            "grid_auto_rows": null,
            "grid_column": null,
            "grid_gap": null,
            "grid_row": null,
            "grid_template_areas": null,
            "grid_template_columns": null,
            "grid_template_rows": null,
            "height": null,
            "justify_content": null,
            "justify_items": null,
            "left": null,
            "margin": null,
            "max_height": null,
            "max_width": null,
            "min_height": null,
            "min_width": null,
            "object_fit": null,
            "object_position": null,
            "order": null,
            "overflow": null,
            "overflow_x": null,
            "overflow_y": null,
            "padding": null,
            "right": null,
            "top": null,
            "visibility": null,
            "width": null
          }
        },
        "ef61b0c4902a4efbbbbc64b5e43c3120": {
          "model_module": "@jupyter-widgets/controls",
          "model_name": "DescriptionStyleModel",
          "model_module_version": "1.5.0",
          "state": {
            "_model_module": "@jupyter-widgets/controls",
            "_model_module_version": "1.5.0",
            "_model_name": "DescriptionStyleModel",
            "_view_count": null,
            "_view_module": "@jupyter-widgets/base",
            "_view_module_version": "1.2.0",
            "_view_name": "StyleView",
            "description_width": ""
          }
        },
        "a81e614b57824283907a6c977e072b3b": {
          "model_module": "@jupyter-widgets/controls",
          "model_name": "HBoxModel",
          "model_module_version": "1.5.0",
          "state": {
            "_dom_classes": [],
            "_model_module": "@jupyter-widgets/controls",
            "_model_module_version": "1.5.0",
            "_model_name": "HBoxModel",
            "_view_count": null,
            "_view_module": "@jupyter-widgets/controls",
            "_view_module_version": "1.5.0",
            "_view_name": "HBoxView",
            "box_style": "",
            "children": [
              "IPY_MODEL_f3e67f4805a248c9a5d8b65dac19e149",
              "IPY_MODEL_824ff4c14b804d1aa76d3edea124f5ab",
              "IPY_MODEL_3864c718efa646a9819b7df49d4d2a22"
            ],
            "layout": "IPY_MODEL_327035ea92d848a5875048e503cbc4fe"
          }
        },
        "f3e67f4805a248c9a5d8b65dac19e149": {
          "model_module": "@jupyter-widgets/controls",
          "model_name": "HTMLModel",
          "model_module_version": "1.5.0",
          "state": {
            "_dom_classes": [],
            "_model_module": "@jupyter-widgets/controls",
            "_model_module_version": "1.5.0",
            "_model_name": "HTMLModel",
            "_view_count": null,
            "_view_module": "@jupyter-widgets/controls",
            "_view_module_version": "1.5.0",
            "_view_name": "HTMLView",
            "description": "",
            "description_tooltip": null,
            "layout": "IPY_MODEL_5ff076bc2a094349a7809d2e7df4eb8a",
            "placeholder": "​",
            "style": "IPY_MODEL_8d2ed4eefa574ea38d2dc3896d027df6",
            "value": "special_tokens_map.json: 100%"
          }
        },
        "824ff4c14b804d1aa76d3edea124f5ab": {
          "model_module": "@jupyter-widgets/controls",
          "model_name": "FloatProgressModel",
          "model_module_version": "1.5.0",
          "state": {
            "_dom_classes": [],
            "_model_module": "@jupyter-widgets/controls",
            "_model_module_version": "1.5.0",
            "_model_name": "FloatProgressModel",
            "_view_count": null,
            "_view_module": "@jupyter-widgets/controls",
            "_view_module_version": "1.5.0",
            "_view_name": "ProgressView",
            "bar_style": "success",
            "description": "",
            "description_tooltip": null,
            "layout": "IPY_MODEL_9949b9a83c8a41f8b716e2c8ae091b1c",
            "max": 2072,
            "min": 0,
            "orientation": "horizontal",
            "style": "IPY_MODEL_85a2116382ee4f56be828cb5d9946ac7",
            "value": 2072
          }
        },
        "3864c718efa646a9819b7df49d4d2a22": {
          "model_module": "@jupyter-widgets/controls",
          "model_name": "HTMLModel",
          "model_module_version": "1.5.0",
          "state": {
            "_dom_classes": [],
            "_model_module": "@jupyter-widgets/controls",
            "_model_module_version": "1.5.0",
            "_model_name": "HTMLModel",
            "_view_count": null,
            "_view_module": "@jupyter-widgets/controls",
            "_view_module_version": "1.5.0",
            "_view_name": "HTMLView",
            "description": "",
            "description_tooltip": null,
            "layout": "IPY_MODEL_623255251a6c451f9f6b0c3d6c581ec6",
            "placeholder": "​",
            "style": "IPY_MODEL_7c01a3c54ec0407d9254cae20a365ecd",
            "value": " 2.07k/2.07k [00:00&lt;00:00, 161kB/s]"
          }
        },
        "327035ea92d848a5875048e503cbc4fe": {
          "model_module": "@jupyter-widgets/base",
          "model_name": "LayoutModel",
          "model_module_version": "1.2.0",
          "state": {
            "_model_module": "@jupyter-widgets/base",
            "_model_module_version": "1.2.0",
            "_model_name": "LayoutModel",
            "_view_count": null,
            "_view_module": "@jupyter-widgets/base",
            "_view_module_version": "1.2.0",
            "_view_name": "LayoutView",
            "align_content": null,
            "align_items": null,
            "align_self": null,
            "border": null,
            "bottom": null,
            "display": null,
            "flex": null,
            "flex_flow": null,
            "grid_area": null,
            "grid_auto_columns": null,
            "grid_auto_flow": null,
            "grid_auto_rows": null,
            "grid_column": null,
            "grid_gap": null,
            "grid_row": null,
            "grid_template_areas": null,
            "grid_template_columns": null,
            "grid_template_rows": null,
            "height": null,
            "justify_content": null,
            "justify_items": null,
            "left": null,
            "margin": null,
            "max_height": null,
            "max_width": null,
            "min_height": null,
            "min_width": null,
            "object_fit": null,
            "object_position": null,
            "order": null,
            "overflow": null,
            "overflow_x": null,
            "overflow_y": null,
            "padding": null,
            "right": null,
            "top": null,
            "visibility": null,
            "width": null
          }
        },
        "5ff076bc2a094349a7809d2e7df4eb8a": {
          "model_module": "@jupyter-widgets/base",
          "model_name": "LayoutModel",
          "model_module_version": "1.2.0",
          "state": {
            "_model_module": "@jupyter-widgets/base",
            "_model_module_version": "1.2.0",
            "_model_name": "LayoutModel",
            "_view_count": null,
            "_view_module": "@jupyter-widgets/base",
            "_view_module_version": "1.2.0",
            "_view_name": "LayoutView",
            "align_content": null,
            "align_items": null,
            "align_self": null,
            "border": null,
            "bottom": null,
            "display": null,
            "flex": null,
            "flex_flow": null,
            "grid_area": null,
            "grid_auto_columns": null,
            "grid_auto_flow": null,
            "grid_auto_rows": null,
            "grid_column": null,
            "grid_gap": null,
            "grid_row": null,
            "grid_template_areas": null,
            "grid_template_columns": null,
            "grid_template_rows": null,
            "height": null,
            "justify_content": null,
            "justify_items": null,
            "left": null,
            "margin": null,
            "max_height": null,
            "max_width": null,
            "min_height": null,
            "min_width": null,
            "object_fit": null,
            "object_position": null,
            "order": null,
            "overflow": null,
            "overflow_x": null,
            "overflow_y": null,
            "padding": null,
            "right": null,
            "top": null,
            "visibility": null,
            "width": null
          }
        },
        "8d2ed4eefa574ea38d2dc3896d027df6": {
          "model_module": "@jupyter-widgets/controls",
          "model_name": "DescriptionStyleModel",
          "model_module_version": "1.5.0",
          "state": {
            "_model_module": "@jupyter-widgets/controls",
            "_model_module_version": "1.5.0",
            "_model_name": "DescriptionStyleModel",
            "_view_count": null,
            "_view_module": "@jupyter-widgets/base",
            "_view_module_version": "1.2.0",
            "_view_name": "StyleView",
            "description_width": ""
          }
        },
        "9949b9a83c8a41f8b716e2c8ae091b1c": {
          "model_module": "@jupyter-widgets/base",
          "model_name": "LayoutModel",
          "model_module_version": "1.2.0",
          "state": {
            "_model_module": "@jupyter-widgets/base",
            "_model_module_version": "1.2.0",
            "_model_name": "LayoutModel",
            "_view_count": null,
            "_view_module": "@jupyter-widgets/base",
            "_view_module_version": "1.2.0",
            "_view_name": "LayoutView",
            "align_content": null,
            "align_items": null,
            "align_self": null,
            "border": null,
            "bottom": null,
            "display": null,
            "flex": null,
            "flex_flow": null,
            "grid_area": null,
            "grid_auto_columns": null,
            "grid_auto_flow": null,
            "grid_auto_rows": null,
            "grid_column": null,
            "grid_gap": null,
            "grid_row": null,
            "grid_template_areas": null,
            "grid_template_columns": null,
            "grid_template_rows": null,
            "height": null,
            "justify_content": null,
            "justify_items": null,
            "left": null,
            "margin": null,
            "max_height": null,
            "max_width": null,
            "min_height": null,
            "min_width": null,
            "object_fit": null,
            "object_position": null,
            "order": null,
            "overflow": null,
            "overflow_x": null,
            "overflow_y": null,
            "padding": null,
            "right": null,
            "top": null,
            "visibility": null,
            "width": null
          }
        },
        "85a2116382ee4f56be828cb5d9946ac7": {
          "model_module": "@jupyter-widgets/controls",
          "model_name": "ProgressStyleModel",
          "model_module_version": "1.5.0",
          "state": {
            "_model_module": "@jupyter-widgets/controls",
            "_model_module_version": "1.5.0",
            "_model_name": "ProgressStyleModel",
            "_view_count": null,
            "_view_module": "@jupyter-widgets/base",
            "_view_module_version": "1.2.0",
            "_view_name": "StyleView",
            "bar_color": null,
            "description_width": ""
          }
        },
        "623255251a6c451f9f6b0c3d6c581ec6": {
          "model_module": "@jupyter-widgets/base",
          "model_name": "LayoutModel",
          "model_module_version": "1.2.0",
          "state": {
            "_model_module": "@jupyter-widgets/base",
            "_model_module_version": "1.2.0",
            "_model_name": "LayoutModel",
            "_view_count": null,
            "_view_module": "@jupyter-widgets/base",
            "_view_module_version": "1.2.0",
            "_view_name": "LayoutView",
            "align_content": null,
            "align_items": null,
            "align_self": null,
            "border": null,
            "bottom": null,
            "display": null,
            "flex": null,
            "flex_flow": null,
            "grid_area": null,
            "grid_auto_columns": null,
            "grid_auto_flow": null,
            "grid_auto_rows": null,
            "grid_column": null,
            "grid_gap": null,
            "grid_row": null,
            "grid_template_areas": null,
            "grid_template_columns": null,
            "grid_template_rows": null,
            "height": null,
            "justify_content": null,
            "justify_items": null,
            "left": null,
            "margin": null,
            "max_height": null,
            "max_width": null,
            "min_height": null,
            "min_width": null,
            "object_fit": null,
            "object_position": null,
            "order": null,
            "overflow": null,
            "overflow_x": null,
            "overflow_y": null,
            "padding": null,
            "right": null,
            "top": null,
            "visibility": null,
            "width": null
          }
        },
        "7c01a3c54ec0407d9254cae20a365ecd": {
          "model_module": "@jupyter-widgets/controls",
          "model_name": "DescriptionStyleModel",
          "model_module_version": "1.5.0",
          "state": {
            "_model_module": "@jupyter-widgets/controls",
            "_model_module_version": "1.5.0",
            "_model_name": "DescriptionStyleModel",
            "_view_count": null,
            "_view_module": "@jupyter-widgets/base",
            "_view_module_version": "1.2.0",
            "_view_name": "StyleView",
            "description_width": ""
          }
        },
        "821c3e1431ec46a993ea9e1910927833": {
          "model_module": "@jupyter-widgets/controls",
          "model_name": "HBoxModel",
          "model_module_version": "1.5.0",
          "state": {
            "_dom_classes": [],
            "_model_module": "@jupyter-widgets/controls",
            "_model_module_version": "1.5.0",
            "_model_name": "HBoxModel",
            "_view_count": null,
            "_view_module": "@jupyter-widgets/controls",
            "_view_module_version": "1.5.0",
            "_view_name": "HBoxView",
            "box_style": "",
            "children": [
              "IPY_MODEL_2c98063df64a4199aa5677db4b787f80",
              "IPY_MODEL_d50f48b9ea654fbbb392d1f4dd4c16fa",
              "IPY_MODEL_a00f810ab24c4904a1e58230f930efd4"
            ],
            "layout": "IPY_MODEL_58000c1a85624db59845476e5408aef6"
          }
        },
        "2c98063df64a4199aa5677db4b787f80": {
          "model_module": "@jupyter-widgets/controls",
          "model_name": "HTMLModel",
          "model_module_version": "1.5.0",
          "state": {
            "_dom_classes": [],
            "_model_module": "@jupyter-widgets/controls",
            "_model_module_version": "1.5.0",
            "_model_name": "HTMLModel",
            "_view_count": null,
            "_view_module": "@jupyter-widgets/controls",
            "_view_module_version": "1.5.0",
            "_view_name": "HTMLView",
            "description": "",
            "description_tooltip": null,
            "layout": "IPY_MODEL_c9df11941c364f68b0d321409ee781d1",
            "placeholder": "​",
            "style": "IPY_MODEL_2ed2cc8e0ce94bbb9bd1eeda1ecf519a",
            "value": "config.json: 100%"
          }
        },
        "d50f48b9ea654fbbb392d1f4dd4c16fa": {
          "model_module": "@jupyter-widgets/controls",
          "model_name": "FloatProgressModel",
          "model_module_version": "1.5.0",
          "state": {
            "_dom_classes": [],
            "_model_module": "@jupyter-widgets/controls",
            "_model_module_version": "1.5.0",
            "_model_name": "FloatProgressModel",
            "_view_count": null,
            "_view_module": "@jupyter-widgets/controls",
            "_view_module_version": "1.5.0",
            "_view_name": "ProgressView",
            "bar_style": "success",
            "description": "",
            "description_tooltip": null,
            "layout": "IPY_MODEL_32e0e36363604099a16a784f0ebdcfe5",
            "max": 1272,
            "min": 0,
            "orientation": "horizontal",
            "style": "IPY_MODEL_948877655d3c4e9b91ff30f28282f7a5",
            "value": 1272
          }
        },
        "a00f810ab24c4904a1e58230f930efd4": {
          "model_module": "@jupyter-widgets/controls",
          "model_name": "HTMLModel",
          "model_module_version": "1.5.0",
          "state": {
            "_dom_classes": [],
            "_model_module": "@jupyter-widgets/controls",
            "_model_module_version": "1.5.0",
            "_model_name": "HTMLModel",
            "_view_count": null,
            "_view_module": "@jupyter-widgets/controls",
            "_view_module_version": "1.5.0",
            "_view_name": "HTMLView",
            "description": "",
            "description_tooltip": null,
            "layout": "IPY_MODEL_0ed449d3ec7848ca8c069f2cc9673acb",
            "placeholder": "​",
            "style": "IPY_MODEL_eb7e320aac934dda8ed0cf7d71ed6d7e",
            "value": " 1.27k/1.27k [00:00&lt;00:00, 101kB/s]"
          }
        },
        "58000c1a85624db59845476e5408aef6": {
          "model_module": "@jupyter-widgets/base",
          "model_name": "LayoutModel",
          "model_module_version": "1.2.0",
          "state": {
            "_model_module": "@jupyter-widgets/base",
            "_model_module_version": "1.2.0",
            "_model_name": "LayoutModel",
            "_view_count": null,
            "_view_module": "@jupyter-widgets/base",
            "_view_module_version": "1.2.0",
            "_view_name": "LayoutView",
            "align_content": null,
            "align_items": null,
            "align_self": null,
            "border": null,
            "bottom": null,
            "display": null,
            "flex": null,
            "flex_flow": null,
            "grid_area": null,
            "grid_auto_columns": null,
            "grid_auto_flow": null,
            "grid_auto_rows": null,
            "grid_column": null,
            "grid_gap": null,
            "grid_row": null,
            "grid_template_areas": null,
            "grid_template_columns": null,
            "grid_template_rows": null,
            "height": null,
            "justify_content": null,
            "justify_items": null,
            "left": null,
            "margin": null,
            "max_height": null,
            "max_width": null,
            "min_height": null,
            "min_width": null,
            "object_fit": null,
            "object_position": null,
            "order": null,
            "overflow": null,
            "overflow_x": null,
            "overflow_y": null,
            "padding": null,
            "right": null,
            "top": null,
            "visibility": null,
            "width": null
          }
        },
        "c9df11941c364f68b0d321409ee781d1": {
          "model_module": "@jupyter-widgets/base",
          "model_name": "LayoutModel",
          "model_module_version": "1.2.0",
          "state": {
            "_model_module": "@jupyter-widgets/base",
            "_model_module_version": "1.2.0",
            "_model_name": "LayoutModel",
            "_view_count": null,
            "_view_module": "@jupyter-widgets/base",
            "_view_module_version": "1.2.0",
            "_view_name": "LayoutView",
            "align_content": null,
            "align_items": null,
            "align_self": null,
            "border": null,
            "bottom": null,
            "display": null,
            "flex": null,
            "flex_flow": null,
            "grid_area": null,
            "grid_auto_columns": null,
            "grid_auto_flow": null,
            "grid_auto_rows": null,
            "grid_column": null,
            "grid_gap": null,
            "grid_row": null,
            "grid_template_areas": null,
            "grid_template_columns": null,
            "grid_template_rows": null,
            "height": null,
            "justify_content": null,
            "justify_items": null,
            "left": null,
            "margin": null,
            "max_height": null,
            "max_width": null,
            "min_height": null,
            "min_width": null,
            "object_fit": null,
            "object_position": null,
            "order": null,
            "overflow": null,
            "overflow_x": null,
            "overflow_y": null,
            "padding": null,
            "right": null,
            "top": null,
            "visibility": null,
            "width": null
          }
        },
        "2ed2cc8e0ce94bbb9bd1eeda1ecf519a": {
          "model_module": "@jupyter-widgets/controls",
          "model_name": "DescriptionStyleModel",
          "model_module_version": "1.5.0",
          "state": {
            "_model_module": "@jupyter-widgets/controls",
            "_model_module_version": "1.5.0",
            "_model_name": "DescriptionStyleModel",
            "_view_count": null,
            "_view_module": "@jupyter-widgets/base",
            "_view_module_version": "1.2.0",
            "_view_name": "StyleView",
            "description_width": ""
          }
        },
        "32e0e36363604099a16a784f0ebdcfe5": {
          "model_module": "@jupyter-widgets/base",
          "model_name": "LayoutModel",
          "model_module_version": "1.2.0",
          "state": {
            "_model_module": "@jupyter-widgets/base",
            "_model_module_version": "1.2.0",
            "_model_name": "LayoutModel",
            "_view_count": null,
            "_view_module": "@jupyter-widgets/base",
            "_view_module_version": "1.2.0",
            "_view_name": "LayoutView",
            "align_content": null,
            "align_items": null,
            "align_self": null,
            "border": null,
            "bottom": null,
            "display": null,
            "flex": null,
            "flex_flow": null,
            "grid_area": null,
            "grid_auto_columns": null,
            "grid_auto_flow": null,
            "grid_auto_rows": null,
            "grid_column": null,
            "grid_gap": null,
            "grid_row": null,
            "grid_template_areas": null,
            "grid_template_columns": null,
            "grid_template_rows": null,
            "height": null,
            "justify_content": null,
            "justify_items": null,
            "left": null,
            "margin": null,
            "max_height": null,
            "max_width": null,
            "min_height": null,
            "min_width": null,
            "object_fit": null,
            "object_position": null,
            "order": null,
            "overflow": null,
            "overflow_x": null,
            "overflow_y": null,
            "padding": null,
            "right": null,
            "top": null,
            "visibility": null,
            "width": null
          }
        },
        "948877655d3c4e9b91ff30f28282f7a5": {
          "model_module": "@jupyter-widgets/controls",
          "model_name": "ProgressStyleModel",
          "model_module_version": "1.5.0",
          "state": {
            "_model_module": "@jupyter-widgets/controls",
            "_model_module_version": "1.5.0",
            "_model_name": "ProgressStyleModel",
            "_view_count": null,
            "_view_module": "@jupyter-widgets/base",
            "_view_module_version": "1.2.0",
            "_view_name": "StyleView",
            "bar_color": null,
            "description_width": ""
          }
        },
        "0ed449d3ec7848ca8c069f2cc9673acb": {
          "model_module": "@jupyter-widgets/base",
          "model_name": "LayoutModel",
          "model_module_version": "1.2.0",
          "state": {
            "_model_module": "@jupyter-widgets/base",
            "_model_module_version": "1.2.0",
            "_model_name": "LayoutModel",
            "_view_count": null,
            "_view_module": "@jupyter-widgets/base",
            "_view_module_version": "1.2.0",
            "_view_name": "LayoutView",
            "align_content": null,
            "align_items": null,
            "align_self": null,
            "border": null,
            "bottom": null,
            "display": null,
            "flex": null,
            "flex_flow": null,
            "grid_area": null,
            "grid_auto_columns": null,
            "grid_auto_flow": null,
            "grid_auto_rows": null,
            "grid_column": null,
            "grid_gap": null,
            "grid_row": null,
            "grid_template_areas": null,
            "grid_template_columns": null,
            "grid_template_rows": null,
            "height": null,
            "justify_content": null,
            "justify_items": null,
            "left": null,
            "margin": null,
            "max_height": null,
            "max_width": null,
            "min_height": null,
            "min_width": null,
            "object_fit": null,
            "object_position": null,
            "order": null,
            "overflow": null,
            "overflow_x": null,
            "overflow_y": null,
            "padding": null,
            "right": null,
            "top": null,
            "visibility": null,
            "width": null
          }
        },
        "eb7e320aac934dda8ed0cf7d71ed6d7e": {
          "model_module": "@jupyter-widgets/controls",
          "model_name": "DescriptionStyleModel",
          "model_module_version": "1.5.0",
          "state": {
            "_model_module": "@jupyter-widgets/controls",
            "_model_module_version": "1.5.0",
            "_model_name": "DescriptionStyleModel",
            "_view_count": null,
            "_view_module": "@jupyter-widgets/base",
            "_view_module_version": "1.2.0",
            "_view_name": "StyleView",
            "description_width": ""
          }
        },
        "9b73fe8e240948a3b2e19cd1514116ae": {
          "model_module": "@jupyter-widgets/controls",
          "model_name": "HBoxModel",
          "model_module_version": "1.5.0",
          "state": {
            "_dom_classes": [],
            "_model_module": "@jupyter-widgets/controls",
            "_model_module_version": "1.5.0",
            "_model_name": "HBoxModel",
            "_view_count": null,
            "_view_module": "@jupyter-widgets/controls",
            "_view_module_version": "1.5.0",
            "_view_name": "HBoxView",
            "box_style": "",
            "children": [
              "IPY_MODEL_be8af2ec9a1448a9bbf78f368a28d9e5",
              "IPY_MODEL_f073216293b04fc890797a2503661a6d",
              "IPY_MODEL_2eb88abafe2d4fa181e9cb7154d0fb89"
            ],
            "layout": "IPY_MODEL_5676af33c13b495eb5565d07e5d36c0c"
          }
        },
        "be8af2ec9a1448a9bbf78f368a28d9e5": {
          "model_module": "@jupyter-widgets/controls",
          "model_name": "HTMLModel",
          "model_module_version": "1.5.0",
          "state": {
            "_dom_classes": [],
            "_model_module": "@jupyter-widgets/controls",
            "_model_module_version": "1.5.0",
            "_model_name": "HTMLModel",
            "_view_count": null,
            "_view_module": "@jupyter-widgets/controls",
            "_view_module_version": "1.5.0",
            "_view_name": "HTMLView",
            "description": "",
            "description_tooltip": null,
            "layout": "IPY_MODEL_dd7315f751594e79865fad3eb3417585",
            "placeholder": "​",
            "style": "IPY_MODEL_3e423adec40f40a0bd5f5b044e0f3945",
            "value": "model.safetensors: 100%"
          }
        },
        "f073216293b04fc890797a2503661a6d": {
          "model_module": "@jupyter-widgets/controls",
          "model_name": "FloatProgressModel",
          "model_module_version": "1.5.0",
          "state": {
            "_dom_classes": [],
            "_model_module": "@jupyter-widgets/controls",
            "_model_module_version": "1.5.0",
            "_model_name": "FloatProgressModel",
            "_view_count": null,
            "_view_module": "@jupyter-widgets/controls",
            "_view_module_version": "1.5.0",
            "_view_name": "ProgressView",
            "bar_style": "success",
            "description": "",
            "description_tooltip": null,
            "layout": "IPY_MODEL_35ff53a7243347edaf6f96e481be0236",
            "max": 3087130976,
            "min": 0,
            "orientation": "horizontal",
            "style": "IPY_MODEL_821da5a94caa4e52a4f34bf0399dc910",
            "value": 3087130976
          }
        },
        "2eb88abafe2d4fa181e9cb7154d0fb89": {
          "model_module": "@jupyter-widgets/controls",
          "model_name": "HTMLModel",
          "model_module_version": "1.5.0",
          "state": {
            "_dom_classes": [],
            "_model_module": "@jupyter-widgets/controls",
            "_model_module_version": "1.5.0",
            "_model_name": "HTMLModel",
            "_view_count": null,
            "_view_module": "@jupyter-widgets/controls",
            "_view_module_version": "1.5.0",
            "_view_name": "HTMLView",
            "description": "",
            "description_tooltip": null,
            "layout": "IPY_MODEL_511fb0a9fab142fbaa75b75d1711b848",
            "placeholder": "​",
            "style": "IPY_MODEL_a3612f8f558e4d09919afad3e356a742",
            "value": " 3.09G/3.09G [00:12&lt;00:00, 260MB/s]"
          }
        },
        "5676af33c13b495eb5565d07e5d36c0c": {
          "model_module": "@jupyter-widgets/base",
          "model_name": "LayoutModel",
          "model_module_version": "1.2.0",
          "state": {
            "_model_module": "@jupyter-widgets/base",
            "_model_module_version": "1.2.0",
            "_model_name": "LayoutModel",
            "_view_count": null,
            "_view_module": "@jupyter-widgets/base",
            "_view_module_version": "1.2.0",
            "_view_name": "LayoutView",
            "align_content": null,
            "align_items": null,
            "align_self": null,
            "border": null,
            "bottom": null,
            "display": null,
            "flex": null,
            "flex_flow": null,
            "grid_area": null,
            "grid_auto_columns": null,
            "grid_auto_flow": null,
            "grid_auto_rows": null,
            "grid_column": null,
            "grid_gap": null,
            "grid_row": null,
            "grid_template_areas": null,
            "grid_template_columns": null,
            "grid_template_rows": null,
            "height": null,
            "justify_content": null,
            "justify_items": null,
            "left": null,
            "margin": null,
            "max_height": null,
            "max_width": null,
            "min_height": null,
            "min_width": null,
            "object_fit": null,
            "object_position": null,
            "order": null,
            "overflow": null,
            "overflow_x": null,
            "overflow_y": null,
            "padding": null,
            "right": null,
            "top": null,
            "visibility": null,
            "width": null
          }
        },
        "dd7315f751594e79865fad3eb3417585": {
          "model_module": "@jupyter-widgets/base",
          "model_name": "LayoutModel",
          "model_module_version": "1.2.0",
          "state": {
            "_model_module": "@jupyter-widgets/base",
            "_model_module_version": "1.2.0",
            "_model_name": "LayoutModel",
            "_view_count": null,
            "_view_module": "@jupyter-widgets/base",
            "_view_module_version": "1.2.0",
            "_view_name": "LayoutView",
            "align_content": null,
            "align_items": null,
            "align_self": null,
            "border": null,
            "bottom": null,
            "display": null,
            "flex": null,
            "flex_flow": null,
            "grid_area": null,
            "grid_auto_columns": null,
            "grid_auto_flow": null,
            "grid_auto_rows": null,
            "grid_column": null,
            "grid_gap": null,
            "grid_row": null,
            "grid_template_areas": null,
            "grid_template_columns": null,
            "grid_template_rows": null,
            "height": null,
            "justify_content": null,
            "justify_items": null,
            "left": null,
            "margin": null,
            "max_height": null,
            "max_width": null,
            "min_height": null,
            "min_width": null,
            "object_fit": null,
            "object_position": null,
            "order": null,
            "overflow": null,
            "overflow_x": null,
            "overflow_y": null,
            "padding": null,
            "right": null,
            "top": null,
            "visibility": null,
            "width": null
          }
        },
        "3e423adec40f40a0bd5f5b044e0f3945": {
          "model_module": "@jupyter-widgets/controls",
          "model_name": "DescriptionStyleModel",
          "model_module_version": "1.5.0",
          "state": {
            "_model_module": "@jupyter-widgets/controls",
            "_model_module_version": "1.5.0",
            "_model_name": "DescriptionStyleModel",
            "_view_count": null,
            "_view_module": "@jupyter-widgets/base",
            "_view_module_version": "1.2.0",
            "_view_name": "StyleView",
            "description_width": ""
          }
        },
        "35ff53a7243347edaf6f96e481be0236": {
          "model_module": "@jupyter-widgets/base",
          "model_name": "LayoutModel",
          "model_module_version": "1.2.0",
          "state": {
            "_model_module": "@jupyter-widgets/base",
            "_model_module_version": "1.2.0",
            "_model_name": "LayoutModel",
            "_view_count": null,
            "_view_module": "@jupyter-widgets/base",
            "_view_module_version": "1.2.0",
            "_view_name": "LayoutView",
            "align_content": null,
            "align_items": null,
            "align_self": null,
            "border": null,
            "bottom": null,
            "display": null,
            "flex": null,
            "flex_flow": null,
            "grid_area": null,
            "grid_auto_columns": null,
            "grid_auto_flow": null,
            "grid_auto_rows": null,
            "grid_column": null,
            "grid_gap": null,
            "grid_row": null,
            "grid_template_areas": null,
            "grid_template_columns": null,
            "grid_template_rows": null,
            "height": null,
            "justify_content": null,
            "justify_items": null,
            "left": null,
            "margin": null,
            "max_height": null,
            "max_width": null,
            "min_height": null,
            "min_width": null,
            "object_fit": null,
            "object_position": null,
            "order": null,
            "overflow": null,
            "overflow_x": null,
            "overflow_y": null,
            "padding": null,
            "right": null,
            "top": null,
            "visibility": null,
            "width": null
          }
        },
        "821da5a94caa4e52a4f34bf0399dc910": {
          "model_module": "@jupyter-widgets/controls",
          "model_name": "ProgressStyleModel",
          "model_module_version": "1.5.0",
          "state": {
            "_model_module": "@jupyter-widgets/controls",
            "_model_module_version": "1.5.0",
            "_model_name": "ProgressStyleModel",
            "_view_count": null,
            "_view_module": "@jupyter-widgets/base",
            "_view_module_version": "1.2.0",
            "_view_name": "StyleView",
            "bar_color": null,
            "description_width": ""
          }
        },
        "511fb0a9fab142fbaa75b75d1711b848": {
          "model_module": "@jupyter-widgets/base",
          "model_name": "LayoutModel",
          "model_module_version": "1.2.0",
          "state": {
            "_model_module": "@jupyter-widgets/base",
            "_model_module_version": "1.2.0",
            "_model_name": "LayoutModel",
            "_view_count": null,
            "_view_module": "@jupyter-widgets/base",
            "_view_module_version": "1.2.0",
            "_view_name": "LayoutView",
            "align_content": null,
            "align_items": null,
            "align_self": null,
            "border": null,
            "bottom": null,
            "display": null,
            "flex": null,
            "flex_flow": null,
            "grid_area": null,
            "grid_auto_columns": null,
            "grid_auto_flow": null,
            "grid_auto_rows": null,
            "grid_column": null,
            "grid_gap": null,
            "grid_row": null,
            "grid_template_areas": null,
            "grid_template_columns": null,
            "grid_template_rows": null,
            "height": null,
            "justify_content": null,
            "justify_items": null,
            "left": null,
            "margin": null,
            "max_height": null,
            "max_width": null,
            "min_height": null,
            "min_width": null,
            "object_fit": null,
            "object_position": null,
            "order": null,
            "overflow": null,
            "overflow_x": null,
            "overflow_y": null,
            "padding": null,
            "right": null,
            "top": null,
            "visibility": null,
            "width": null
          }
        },
        "a3612f8f558e4d09919afad3e356a742": {
          "model_module": "@jupyter-widgets/controls",
          "model_name": "DescriptionStyleModel",
          "model_module_version": "1.5.0",
          "state": {
            "_model_module": "@jupyter-widgets/controls",
            "_model_module_version": "1.5.0",
            "_model_name": "DescriptionStyleModel",
            "_view_count": null,
            "_view_module": "@jupyter-widgets/base",
            "_view_module_version": "1.2.0",
            "_view_name": "StyleView",
            "description_width": ""
          }
        },
        "edf2de466bed49a5bab81cdee8977dda": {
          "model_module": "@jupyter-widgets/controls",
          "model_name": "HBoxModel",
          "model_module_version": "1.5.0",
          "state": {
            "_dom_classes": [],
            "_model_module": "@jupyter-widgets/controls",
            "_model_module_version": "1.5.0",
            "_model_name": "HBoxModel",
            "_view_count": null,
            "_view_module": "@jupyter-widgets/controls",
            "_view_module_version": "1.5.0",
            "_view_name": "HBoxView",
            "box_style": "",
            "children": [
              "IPY_MODEL_4cdc3b4d2fa1495388173df44ad1214a",
              "IPY_MODEL_114a3fad71e5401cb9232959b1c08c76",
              "IPY_MODEL_4987c11be3a74fd4a4a075250d7a8a86"
            ],
            "layout": "IPY_MODEL_cd69a2257da64e6782624f097d794225"
          }
        },
        "4cdc3b4d2fa1495388173df44ad1214a": {
          "model_module": "@jupyter-widgets/controls",
          "model_name": "HTMLModel",
          "model_module_version": "1.5.0",
          "state": {
            "_dom_classes": [],
            "_model_module": "@jupyter-widgets/controls",
            "_model_module_version": "1.5.0",
            "_model_name": "HTMLModel",
            "_view_count": null,
            "_view_module": "@jupyter-widgets/controls",
            "_view_module_version": "1.5.0",
            "_view_name": "HTMLView",
            "description": "",
            "description_tooltip": null,
            "layout": "IPY_MODEL_09600e2a36aa495fb38b2aef880ac111",
            "placeholder": "​",
            "style": "IPY_MODEL_803bd56805a5400f8d30706fde1914eb",
            "value": "generation_config.json: 100%"
          }
        },
        "114a3fad71e5401cb9232959b1c08c76": {
          "model_module": "@jupyter-widgets/controls",
          "model_name": "FloatProgressModel",
          "model_module_version": "1.5.0",
          "state": {
            "_dom_classes": [],
            "_model_module": "@jupyter-widgets/controls",
            "_model_module_version": "1.5.0",
            "_model_name": "FloatProgressModel",
            "_view_count": null,
            "_view_module": "@jupyter-widgets/controls",
            "_view_module_version": "1.5.0",
            "_view_name": "ProgressView",
            "bar_style": "success",
            "description": "",
            "description_tooltip": null,
            "layout": "IPY_MODEL_c0bf138cdca44a39b3da3eba758cc0a7",
            "max": 3903,
            "min": 0,
            "orientation": "horizontal",
            "style": "IPY_MODEL_b2a5ef4535f843eda09555d0b6edfef4",
            "value": 3903
          }
        },
        "4987c11be3a74fd4a4a075250d7a8a86": {
          "model_module": "@jupyter-widgets/controls",
          "model_name": "HTMLModel",
          "model_module_version": "1.5.0",
          "state": {
            "_dom_classes": [],
            "_model_module": "@jupyter-widgets/controls",
            "_model_module_version": "1.5.0",
            "_model_name": "HTMLModel",
            "_view_count": null,
            "_view_module": "@jupyter-widgets/controls",
            "_view_module_version": "1.5.0",
            "_view_name": "HTMLView",
            "description": "",
            "description_tooltip": null,
            "layout": "IPY_MODEL_2e9b0f3bb5bc446d88c4e502eb92e9aa",
            "placeholder": "​",
            "style": "IPY_MODEL_f6be645972c34c56b3d90c0e0896cd2d",
            "value": " 3.90k/3.90k [00:00&lt;00:00, 322kB/s]"
          }
        },
        "cd69a2257da64e6782624f097d794225": {
          "model_module": "@jupyter-widgets/base",
          "model_name": "LayoutModel",
          "model_module_version": "1.2.0",
          "state": {
            "_model_module": "@jupyter-widgets/base",
            "_model_module_version": "1.2.0",
            "_model_name": "LayoutModel",
            "_view_count": null,
            "_view_module": "@jupyter-widgets/base",
            "_view_module_version": "1.2.0",
            "_view_name": "LayoutView",
            "align_content": null,
            "align_items": null,
            "align_self": null,
            "border": null,
            "bottom": null,
            "display": null,
            "flex": null,
            "flex_flow": null,
            "grid_area": null,
            "grid_auto_columns": null,
            "grid_auto_flow": null,
            "grid_auto_rows": null,
            "grid_column": null,
            "grid_gap": null,
            "grid_row": null,
            "grid_template_areas": null,
            "grid_template_columns": null,
            "grid_template_rows": null,
            "height": null,
            "justify_content": null,
            "justify_items": null,
            "left": null,
            "margin": null,
            "max_height": null,
            "max_width": null,
            "min_height": null,
            "min_width": null,
            "object_fit": null,
            "object_position": null,
            "order": null,
            "overflow": null,
            "overflow_x": null,
            "overflow_y": null,
            "padding": null,
            "right": null,
            "top": null,
            "visibility": null,
            "width": null
          }
        },
        "09600e2a36aa495fb38b2aef880ac111": {
          "model_module": "@jupyter-widgets/base",
          "model_name": "LayoutModel",
          "model_module_version": "1.2.0",
          "state": {
            "_model_module": "@jupyter-widgets/base",
            "_model_module_version": "1.2.0",
            "_model_name": "LayoutModel",
            "_view_count": null,
            "_view_module": "@jupyter-widgets/base",
            "_view_module_version": "1.2.0",
            "_view_name": "LayoutView",
            "align_content": null,
            "align_items": null,
            "align_self": null,
            "border": null,
            "bottom": null,
            "display": null,
            "flex": null,
            "flex_flow": null,
            "grid_area": null,
            "grid_auto_columns": null,
            "grid_auto_flow": null,
            "grid_auto_rows": null,
            "grid_column": null,
            "grid_gap": null,
            "grid_row": null,
            "grid_template_areas": null,
            "grid_template_columns": null,
            "grid_template_rows": null,
            "height": null,
            "justify_content": null,
            "justify_items": null,
            "left": null,
            "margin": null,
            "max_height": null,
            "max_width": null,
            "min_height": null,
            "min_width": null,
            "object_fit": null,
            "object_position": null,
            "order": null,
            "overflow": null,
            "overflow_x": null,
            "overflow_y": null,
            "padding": null,
            "right": null,
            "top": null,
            "visibility": null,
            "width": null
          }
        },
        "803bd56805a5400f8d30706fde1914eb": {
          "model_module": "@jupyter-widgets/controls",
          "model_name": "DescriptionStyleModel",
          "model_module_version": "1.5.0",
          "state": {
            "_model_module": "@jupyter-widgets/controls",
            "_model_module_version": "1.5.0",
            "_model_name": "DescriptionStyleModel",
            "_view_count": null,
            "_view_module": "@jupyter-widgets/base",
            "_view_module_version": "1.2.0",
            "_view_name": "StyleView",
            "description_width": ""
          }
        },
        "c0bf138cdca44a39b3da3eba758cc0a7": {
          "model_module": "@jupyter-widgets/base",
          "model_name": "LayoutModel",
          "model_module_version": "1.2.0",
          "state": {
            "_model_module": "@jupyter-widgets/base",
            "_model_module_version": "1.2.0",
            "_model_name": "LayoutModel",
            "_view_count": null,
            "_view_module": "@jupyter-widgets/base",
            "_view_module_version": "1.2.0",
            "_view_name": "LayoutView",
            "align_content": null,
            "align_items": null,
            "align_self": null,
            "border": null,
            "bottom": null,
            "display": null,
            "flex": null,
            "flex_flow": null,
            "grid_area": null,
            "grid_auto_columns": null,
            "grid_auto_flow": null,
            "grid_auto_rows": null,
            "grid_column": null,
            "grid_gap": null,
            "grid_row": null,
            "grid_template_areas": null,
            "grid_template_columns": null,
            "grid_template_rows": null,
            "height": null,
            "justify_content": null,
            "justify_items": null,
            "left": null,
            "margin": null,
            "max_height": null,
            "max_width": null,
            "min_height": null,
            "min_width": null,
            "object_fit": null,
            "object_position": null,
            "order": null,
            "overflow": null,
            "overflow_x": null,
            "overflow_y": null,
            "padding": null,
            "right": null,
            "top": null,
            "visibility": null,
            "width": null
          }
        },
        "b2a5ef4535f843eda09555d0b6edfef4": {
          "model_module": "@jupyter-widgets/controls",
          "model_name": "ProgressStyleModel",
          "model_module_version": "1.5.0",
          "state": {
            "_model_module": "@jupyter-widgets/controls",
            "_model_module_version": "1.5.0",
            "_model_name": "ProgressStyleModel",
            "_view_count": null,
            "_view_module": "@jupyter-widgets/base",
            "_view_module_version": "1.2.0",
            "_view_name": "StyleView",
            "bar_color": null,
            "description_width": ""
          }
        },
        "2e9b0f3bb5bc446d88c4e502eb92e9aa": {
          "model_module": "@jupyter-widgets/base",
          "model_name": "LayoutModel",
          "model_module_version": "1.2.0",
          "state": {
            "_model_module": "@jupyter-widgets/base",
            "_model_module_version": "1.2.0",
            "_model_name": "LayoutModel",
            "_view_count": null,
            "_view_module": "@jupyter-widgets/base",
            "_view_module_version": "1.2.0",
            "_view_name": "LayoutView",
            "align_content": null,
            "align_items": null,
            "align_self": null,
            "border": null,
            "bottom": null,
            "display": null,
            "flex": null,
            "flex_flow": null,
            "grid_area": null,
            "grid_auto_columns": null,
            "grid_auto_flow": null,
            "grid_auto_rows": null,
            "grid_column": null,
            "grid_gap": null,
            "grid_row": null,
            "grid_template_areas": null,
            "grid_template_columns": null,
            "grid_template_rows": null,
            "height": null,
            "justify_content": null,
            "justify_items": null,
            "left": null,
            "margin": null,
            "max_height": null,
            "max_width": null,
            "min_height": null,
            "min_width": null,
            "object_fit": null,
            "object_position": null,
            "order": null,
            "overflow": null,
            "overflow_x": null,
            "overflow_y": null,
            "padding": null,
            "right": null,
            "top": null,
            "visibility": null,
            "width": null
          }
        },
        "f6be645972c34c56b3d90c0e0896cd2d": {
          "model_module": "@jupyter-widgets/controls",
          "model_name": "DescriptionStyleModel",
          "model_module_version": "1.5.0",
          "state": {
            "_model_module": "@jupyter-widgets/controls",
            "_model_module_version": "1.5.0",
            "_model_name": "DescriptionStyleModel",
            "_view_count": null,
            "_view_module": "@jupyter-widgets/base",
            "_view_module_version": "1.2.0",
            "_view_name": "StyleView",
            "description_width": ""
          }
        }
      }
    }
  },
  "cells": [
    {
      "cell_type": "code",
      "source": [
        "# Essential installation.\n",
        "!pip install yt-dlp\n",
        "!pip install pinecone-client\n",
        "!pip install langchain\n",
        "!pip install langchain_openai\n",
        "!pip install openai\n",
        "!pip install wikipedia-api\n",
        "!pip install langchain_community\n",
        "!pip install transformers\n",
        "!pip install pinecone-client"
      ],
      "metadata": {
        "colab": {
          "base_uri": "https://localhost:8080/"
        },
        "id": "Ydri3E5VSMd3",
        "outputId": "0a718dc7-b7d3-4fe7-97a0-11aae6237597"
      },
      "execution_count": 1,
      "outputs": [
        {
          "output_type": "stream",
          "name": "stdout",
          "text": [
            "Collecting yt-dlp\n",
            "  Downloading yt_dlp-2024.7.16-py3-none-any.whl (3.1 MB)\n",
            "\u001b[2K     \u001b[90m━━━━━━━━━━━━━━━━━━━━━━━━━━━━━━━━━━━━━━━━\u001b[0m \u001b[32m3.1/3.1 MB\u001b[0m \u001b[31m13.5 MB/s\u001b[0m eta \u001b[36m0:00:00\u001b[0m\n",
            "\u001b[?25hCollecting brotli (from yt-dlp)\n",
            "  Downloading Brotli-1.1.0-cp310-cp310-manylinux_2_5_x86_64.manylinux1_x86_64.manylinux_2_12_x86_64.manylinux2010_x86_64.whl (3.0 MB)\n",
            "\u001b[2K     \u001b[90m━━━━━━━━━━━━━━━━━━━━━━━━━━━━━━━━━━━━━━━━\u001b[0m \u001b[32m3.0/3.0 MB\u001b[0m \u001b[31m29.8 MB/s\u001b[0m eta \u001b[36m0:00:00\u001b[0m\n",
            "\u001b[?25hRequirement already satisfied: certifi in /usr/local/lib/python3.10/dist-packages (from yt-dlp) (2024.7.4)\n",
            "Collecting mutagen (from yt-dlp)\n",
            "  Downloading mutagen-1.47.0-py3-none-any.whl (194 kB)\n",
            "\u001b[2K     \u001b[90m━━━━━━━━━━━━━━━━━━━━━━━━━━━━━━━━━━━━━━━━\u001b[0m \u001b[32m194.4/194.4 kB\u001b[0m \u001b[31m28.5 MB/s\u001b[0m eta \u001b[36m0:00:00\u001b[0m\n",
            "\u001b[?25hCollecting pycryptodomex (from yt-dlp)\n",
            "  Downloading pycryptodomex-3.20.0-cp35-abi3-manylinux_2_17_x86_64.manylinux2014_x86_64.whl (2.1 MB)\n",
            "\u001b[2K     \u001b[90m━━━━━━━━━━━━━━━━━━━━━━━━━━━━━━━━━━━━━━━━\u001b[0m \u001b[32m2.1/2.1 MB\u001b[0m \u001b[31m36.9 MB/s\u001b[0m eta \u001b[36m0:00:00\u001b[0m\n",
            "\u001b[?25hCollecting requests<3,>=2.32.2 (from yt-dlp)\n",
            "  Downloading requests-2.32.3-py3-none-any.whl (64 kB)\n",
            "\u001b[2K     \u001b[90m━━━━━━━━━━━━━━━━━━━━━━━━━━━━━━━━━━━━━━━━\u001b[0m \u001b[32m64.9/64.9 kB\u001b[0m \u001b[31m13.2 MB/s\u001b[0m eta \u001b[36m0:00:00\u001b[0m\n",
            "\u001b[?25hRequirement already satisfied: urllib3<3,>=1.26.17 in /usr/local/lib/python3.10/dist-packages (from yt-dlp) (2.0.7)\n",
            "Collecting websockets>=12.0 (from yt-dlp)\n",
            "  Downloading websockets-12.0-cp310-cp310-manylinux_2_5_x86_64.manylinux1_x86_64.manylinux_2_17_x86_64.manylinux2014_x86_64.whl (130 kB)\n",
            "\u001b[2K     \u001b[90m━━━━━━━━━━━━━━━━━━━━━━━━━━━━━━━━━━━━━━━━\u001b[0m \u001b[32m130.2/130.2 kB\u001b[0m \u001b[31m26.3 MB/s\u001b[0m eta \u001b[36m0:00:00\u001b[0m\n",
            "\u001b[?25hRequirement already satisfied: charset-normalizer<4,>=2 in /usr/local/lib/python3.10/dist-packages (from requests<3,>=2.32.2->yt-dlp) (3.3.2)\n",
            "Requirement already satisfied: idna<4,>=2.5 in /usr/local/lib/python3.10/dist-packages (from requests<3,>=2.32.2->yt-dlp) (3.7)\n",
            "Installing collected packages: brotli, websockets, requests, pycryptodomex, mutagen, yt-dlp\n",
            "  Attempting uninstall: requests\n",
            "    Found existing installation: requests 2.31.0\n",
            "    Uninstalling requests-2.31.0:\n",
            "      Successfully uninstalled requests-2.31.0\n",
            "\u001b[31mERROR: pip's dependency resolver does not currently take into account all the packages that are installed. This behaviour is the source of the following dependency conflicts.\n",
            "google-colab 1.0.0 requires requests==2.31.0, but you have requests 2.32.3 which is incompatible.\u001b[0m\u001b[31m\n",
            "\u001b[0mSuccessfully installed brotli-1.1.0 mutagen-1.47.0 pycryptodomex-3.20.0 requests-2.32.3 websockets-12.0 yt-dlp-2024.7.16\n",
            "Collecting pinecone-client\n",
            "  Downloading pinecone_client-5.0.0-py3-none-any.whl (244 kB)\n",
            "\u001b[2K     \u001b[90m━━━━━━━━━━━━━━━━━━━━━━━━━━━━━━━━━━━━━━━━\u001b[0m \u001b[32m244.8/244.8 kB\u001b[0m \u001b[31m5.2 MB/s\u001b[0m eta \u001b[36m0:00:00\u001b[0m\n",
            "\u001b[?25hRequirement already satisfied: certifi>=2019.11.17 in /usr/local/lib/python3.10/dist-packages (from pinecone-client) (2024.7.4)\n",
            "Collecting pinecone-plugin-inference==1.0.2 (from pinecone-client)\n",
            "  Downloading pinecone_plugin_inference-1.0.2-py3-none-any.whl (117 kB)\n",
            "\u001b[2K     \u001b[90m━━━━━━━━━━━━━━━━━━━━━━━━━━━━━━━━━━━━━━━━\u001b[0m \u001b[32m117.6/117.6 kB\u001b[0m \u001b[31m7.3 MB/s\u001b[0m eta \u001b[36m0:00:00\u001b[0m\n",
            "\u001b[?25hCollecting pinecone-plugin-interface<0.0.8,>=0.0.7 (from pinecone-client)\n",
            "  Downloading pinecone_plugin_interface-0.0.7-py3-none-any.whl (6.2 kB)\n",
            "Requirement already satisfied: tqdm>=4.64.1 in /usr/local/lib/python3.10/dist-packages (from pinecone-client) (4.66.4)\n",
            "Requirement already satisfied: typing-extensions>=3.7.4 in /usr/local/lib/python3.10/dist-packages (from pinecone-client) (4.12.2)\n",
            "Requirement already satisfied: urllib3>=1.26.0 in /usr/local/lib/python3.10/dist-packages (from pinecone-client) (2.0.7)\n",
            "Installing collected packages: pinecone-plugin-interface, pinecone-plugin-inference, pinecone-client\n",
            "Successfully installed pinecone-client-5.0.0 pinecone-plugin-inference-1.0.2 pinecone-plugin-interface-0.0.7\n",
            "Collecting langchain\n",
            "  Downloading langchain-0.2.10-py3-none-any.whl (990 kB)\n",
            "\u001b[2K     \u001b[90m━━━━━━━━━━━━━━━━━━━━━━━━━━━━━━━━━━━━━━━━\u001b[0m \u001b[32m990.0/990.0 kB\u001b[0m \u001b[31m9.0 MB/s\u001b[0m eta \u001b[36m0:00:00\u001b[0m\n",
            "\u001b[?25hRequirement already satisfied: PyYAML>=5.3 in /usr/local/lib/python3.10/dist-packages (from langchain) (6.0.1)\n",
            "Requirement already satisfied: SQLAlchemy<3,>=1.4 in /usr/local/lib/python3.10/dist-packages (from langchain) (2.0.31)\n",
            "Requirement already satisfied: aiohttp<4.0.0,>=3.8.3 in /usr/local/lib/python3.10/dist-packages (from langchain) (3.9.5)\n",
            "Requirement already satisfied: async-timeout<5.0.0,>=4.0.0 in /usr/local/lib/python3.10/dist-packages (from langchain) (4.0.3)\n",
            "Collecting langchain-core<0.3.0,>=0.2.22 (from langchain)\n",
            "  Downloading langchain_core-0.2.22-py3-none-any.whl (373 kB)\n",
            "\u001b[2K     \u001b[90m━━━━━━━━━━━━━━━━━━━━━━━━━━━━━━━━━━━━━━━━\u001b[0m \u001b[32m373.5/373.5 kB\u001b[0m \u001b[31m13.4 MB/s\u001b[0m eta \u001b[36m0:00:00\u001b[0m\n",
            "\u001b[?25hCollecting langchain-text-splitters<0.3.0,>=0.2.0 (from langchain)\n",
            "  Downloading langchain_text_splitters-0.2.2-py3-none-any.whl (25 kB)\n",
            "Collecting langsmith<0.2.0,>=0.1.17 (from langchain)\n",
            "  Downloading langsmith-0.1.93-py3-none-any.whl (139 kB)\n",
            "\u001b[2K     \u001b[90m━━━━━━━━━━━━━━━━━━━━━━━━━━━━━━━━━━━━━━━━\u001b[0m \u001b[32m139.8/139.8 kB\u001b[0m \u001b[31m11.4 MB/s\u001b[0m eta \u001b[36m0:00:00\u001b[0m\n",
            "\u001b[?25hRequirement already satisfied: numpy<2,>=1 in /usr/local/lib/python3.10/dist-packages (from langchain) (1.25.2)\n",
            "Requirement already satisfied: pydantic<3,>=1 in /usr/local/lib/python3.10/dist-packages (from langchain) (2.8.2)\n",
            "Requirement already satisfied: requests<3,>=2 in /usr/local/lib/python3.10/dist-packages (from langchain) (2.32.3)\n",
            "Requirement already satisfied: tenacity!=8.4.0,<9.0.0,>=8.1.0 in /usr/local/lib/python3.10/dist-packages (from langchain) (8.5.0)\n",
            "Requirement already satisfied: aiosignal>=1.1.2 in /usr/local/lib/python3.10/dist-packages (from aiohttp<4.0.0,>=3.8.3->langchain) (1.3.1)\n",
            "Requirement already satisfied: attrs>=17.3.0 in /usr/local/lib/python3.10/dist-packages (from aiohttp<4.0.0,>=3.8.3->langchain) (23.2.0)\n",
            "Requirement already satisfied: frozenlist>=1.1.1 in /usr/local/lib/python3.10/dist-packages (from aiohttp<4.0.0,>=3.8.3->langchain) (1.4.1)\n",
            "Requirement already satisfied: multidict<7.0,>=4.5 in /usr/local/lib/python3.10/dist-packages (from aiohttp<4.0.0,>=3.8.3->langchain) (6.0.5)\n",
            "Requirement already satisfied: yarl<2.0,>=1.0 in /usr/local/lib/python3.10/dist-packages (from aiohttp<4.0.0,>=3.8.3->langchain) (1.9.4)\n",
            "Collecting jsonpatch<2.0,>=1.33 (from langchain-core<0.3.0,>=0.2.22->langchain)\n",
            "  Downloading jsonpatch-1.33-py2.py3-none-any.whl (12 kB)\n",
            "Requirement already satisfied: packaging<25,>=23.2 in /usr/local/lib/python3.10/dist-packages (from langchain-core<0.3.0,>=0.2.22->langchain) (24.1)\n",
            "Collecting orjson<4.0.0,>=3.9.14 (from langsmith<0.2.0,>=0.1.17->langchain)\n",
            "  Downloading orjson-3.10.6-cp310-cp310-manylinux_2_17_x86_64.manylinux2014_x86_64.whl (141 kB)\n",
            "\u001b[2K     \u001b[90m━━━━━━━━━━━━━━━━━━━━━━━━━━━━━━━━━━━━━━━━\u001b[0m \u001b[32m141.1/141.1 kB\u001b[0m \u001b[31m11.5 MB/s\u001b[0m eta \u001b[36m0:00:00\u001b[0m\n",
            "\u001b[?25hRequirement already satisfied: annotated-types>=0.4.0 in /usr/local/lib/python3.10/dist-packages (from pydantic<3,>=1->langchain) (0.7.0)\n",
            "Requirement already satisfied: pydantic-core==2.20.1 in /usr/local/lib/python3.10/dist-packages (from pydantic<3,>=1->langchain) (2.20.1)\n",
            "Requirement already satisfied: typing-extensions>=4.6.1 in /usr/local/lib/python3.10/dist-packages (from pydantic<3,>=1->langchain) (4.12.2)\n",
            "Requirement already satisfied: charset-normalizer<4,>=2 in /usr/local/lib/python3.10/dist-packages (from requests<3,>=2->langchain) (3.3.2)\n",
            "Requirement already satisfied: idna<4,>=2.5 in /usr/local/lib/python3.10/dist-packages (from requests<3,>=2->langchain) (3.7)\n",
            "Requirement already satisfied: urllib3<3,>=1.21.1 in /usr/local/lib/python3.10/dist-packages (from requests<3,>=2->langchain) (2.0.7)\n",
            "Requirement already satisfied: certifi>=2017.4.17 in /usr/local/lib/python3.10/dist-packages (from requests<3,>=2->langchain) (2024.7.4)\n",
            "Requirement already satisfied: greenlet!=0.4.17 in /usr/local/lib/python3.10/dist-packages (from SQLAlchemy<3,>=1.4->langchain) (3.0.3)\n",
            "Collecting jsonpointer>=1.9 (from jsonpatch<2.0,>=1.33->langchain-core<0.3.0,>=0.2.22->langchain)\n",
            "  Downloading jsonpointer-3.0.0-py2.py3-none-any.whl (7.6 kB)\n",
            "Installing collected packages: orjson, jsonpointer, jsonpatch, langsmith, langchain-core, langchain-text-splitters, langchain\n",
            "Successfully installed jsonpatch-1.33 jsonpointer-3.0.0 langchain-0.2.10 langchain-core-0.2.22 langchain-text-splitters-0.2.2 langsmith-0.1.93 orjson-3.10.6\n",
            "Collecting langchain_openai\n",
            "  Downloading langchain_openai-0.1.17-py3-none-any.whl (46 kB)\n",
            "\u001b[2K     \u001b[90m━━━━━━━━━━━━━━━━━━━━━━━━━━━━━━━━━━━━━━━━\u001b[0m \u001b[32m46.7/46.7 kB\u001b[0m \u001b[31m2.4 MB/s\u001b[0m eta \u001b[36m0:00:00\u001b[0m\n",
            "\u001b[?25hRequirement already satisfied: langchain-core<0.3.0,>=0.2.20 in /usr/local/lib/python3.10/dist-packages (from langchain_openai) (0.2.22)\n",
            "Collecting openai<2.0.0,>=1.32.0 (from langchain_openai)\n",
            "  Downloading openai-1.36.1-py3-none-any.whl (328 kB)\n",
            "\u001b[2K     \u001b[90m━━━━━━━━━━━━━━━━━━━━━━━━━━━━━━━━━━━━━━━━\u001b[0m \u001b[32m328.8/328.8 kB\u001b[0m \u001b[31m7.8 MB/s\u001b[0m eta \u001b[36m0:00:00\u001b[0m\n",
            "\u001b[?25hCollecting tiktoken<1,>=0.7 (from langchain_openai)\n",
            "  Downloading tiktoken-0.7.0-cp310-cp310-manylinux_2_17_x86_64.manylinux2014_x86_64.whl (1.1 MB)\n",
            "\u001b[2K     \u001b[90m━━━━━━━━━━━━━━━━━━━━━━━━━━━━━━━━━━━━━━━━\u001b[0m \u001b[32m1.1/1.1 MB\u001b[0m \u001b[31m12.4 MB/s\u001b[0m eta \u001b[36m0:00:00\u001b[0m\n",
            "\u001b[?25hRequirement already satisfied: PyYAML>=5.3 in /usr/local/lib/python3.10/dist-packages (from langchain-core<0.3.0,>=0.2.20->langchain_openai) (6.0.1)\n",
            "Requirement already satisfied: jsonpatch<2.0,>=1.33 in /usr/local/lib/python3.10/dist-packages (from langchain-core<0.3.0,>=0.2.20->langchain_openai) (1.33)\n",
            "Requirement already satisfied: langsmith<0.2.0,>=0.1.75 in /usr/local/lib/python3.10/dist-packages (from langchain-core<0.3.0,>=0.2.20->langchain_openai) (0.1.93)\n",
            "Requirement already satisfied: packaging<25,>=23.2 in /usr/local/lib/python3.10/dist-packages (from langchain-core<0.3.0,>=0.2.20->langchain_openai) (24.1)\n",
            "Requirement already satisfied: pydantic<3,>=1 in /usr/local/lib/python3.10/dist-packages (from langchain-core<0.3.0,>=0.2.20->langchain_openai) (2.8.2)\n",
            "Requirement already satisfied: tenacity!=8.4.0,<9.0.0,>=8.1.0 in /usr/local/lib/python3.10/dist-packages (from langchain-core<0.3.0,>=0.2.20->langchain_openai) (8.5.0)\n",
            "Requirement already satisfied: anyio<5,>=3.5.0 in /usr/local/lib/python3.10/dist-packages (from openai<2.0.0,>=1.32.0->langchain_openai) (3.7.1)\n",
            "Requirement already satisfied: distro<2,>=1.7.0 in /usr/lib/python3/dist-packages (from openai<2.0.0,>=1.32.0->langchain_openai) (1.7.0)\n",
            "Collecting httpx<1,>=0.23.0 (from openai<2.0.0,>=1.32.0->langchain_openai)\n",
            "  Downloading httpx-0.27.0-py3-none-any.whl (75 kB)\n",
            "\u001b[2K     \u001b[90m━━━━━━━━━━━━━━━━━━━━━━━━━━━━━━━━━━━━━━━━\u001b[0m \u001b[32m75.6/75.6 kB\u001b[0m \u001b[31m14.4 MB/s\u001b[0m eta \u001b[36m0:00:00\u001b[0m\n",
            "\u001b[?25hRequirement already satisfied: sniffio in /usr/local/lib/python3.10/dist-packages (from openai<2.0.0,>=1.32.0->langchain_openai) (1.3.1)\n",
            "Requirement already satisfied: tqdm>4 in /usr/local/lib/python3.10/dist-packages (from openai<2.0.0,>=1.32.0->langchain_openai) (4.66.4)\n",
            "Requirement already satisfied: typing-extensions<5,>=4.7 in /usr/local/lib/python3.10/dist-packages (from openai<2.0.0,>=1.32.0->langchain_openai) (4.12.2)\n",
            "Requirement already satisfied: regex>=2022.1.18 in /usr/local/lib/python3.10/dist-packages (from tiktoken<1,>=0.7->langchain_openai) (2024.5.15)\n",
            "Requirement already satisfied: requests>=2.26.0 in /usr/local/lib/python3.10/dist-packages (from tiktoken<1,>=0.7->langchain_openai) (2.32.3)\n",
            "Requirement already satisfied: idna>=2.8 in /usr/local/lib/python3.10/dist-packages (from anyio<5,>=3.5.0->openai<2.0.0,>=1.32.0->langchain_openai) (3.7)\n",
            "Requirement already satisfied: exceptiongroup in /usr/local/lib/python3.10/dist-packages (from anyio<5,>=3.5.0->openai<2.0.0,>=1.32.0->langchain_openai) (1.2.2)\n",
            "Requirement already satisfied: certifi in /usr/local/lib/python3.10/dist-packages (from httpx<1,>=0.23.0->openai<2.0.0,>=1.32.0->langchain_openai) (2024.7.4)\n",
            "Collecting httpcore==1.* (from httpx<1,>=0.23.0->openai<2.0.0,>=1.32.0->langchain_openai)\n",
            "  Downloading httpcore-1.0.5-py3-none-any.whl (77 kB)\n",
            "\u001b[2K     \u001b[90m━━━━━━━━━━━━━━━━━━━━━━━━━━━━━━━━━━━━━━━━\u001b[0m \u001b[32m77.9/77.9 kB\u001b[0m \u001b[31m14.1 MB/s\u001b[0m eta \u001b[36m0:00:00\u001b[0m\n",
            "\u001b[?25hCollecting h11<0.15,>=0.13 (from httpcore==1.*->httpx<1,>=0.23.0->openai<2.0.0,>=1.32.0->langchain_openai)\n",
            "  Downloading h11-0.14.0-py3-none-any.whl (58 kB)\n",
            "\u001b[2K     \u001b[90m━━━━━━━━━━━━━━━━━━━━━━━━━━━━━━━━━━━━━━━━\u001b[0m \u001b[32m58.3/58.3 kB\u001b[0m \u001b[31m11.2 MB/s\u001b[0m eta \u001b[36m0:00:00\u001b[0m\n",
            "\u001b[?25hRequirement already satisfied: jsonpointer>=1.9 in /usr/local/lib/python3.10/dist-packages (from jsonpatch<2.0,>=1.33->langchain-core<0.3.0,>=0.2.20->langchain_openai) (3.0.0)\n",
            "Requirement already satisfied: orjson<4.0.0,>=3.9.14 in /usr/local/lib/python3.10/dist-packages (from langsmith<0.2.0,>=0.1.75->langchain-core<0.3.0,>=0.2.20->langchain_openai) (3.10.6)\n",
            "Requirement already satisfied: annotated-types>=0.4.0 in /usr/local/lib/python3.10/dist-packages (from pydantic<3,>=1->langchain-core<0.3.0,>=0.2.20->langchain_openai) (0.7.0)\n",
            "Requirement already satisfied: pydantic-core==2.20.1 in /usr/local/lib/python3.10/dist-packages (from pydantic<3,>=1->langchain-core<0.3.0,>=0.2.20->langchain_openai) (2.20.1)\n",
            "Requirement already satisfied: charset-normalizer<4,>=2 in /usr/local/lib/python3.10/dist-packages (from requests>=2.26.0->tiktoken<1,>=0.7->langchain_openai) (3.3.2)\n",
            "Requirement already satisfied: urllib3<3,>=1.21.1 in /usr/local/lib/python3.10/dist-packages (from requests>=2.26.0->tiktoken<1,>=0.7->langchain_openai) (2.0.7)\n",
            "Installing collected packages: h11, tiktoken, httpcore, httpx, openai, langchain_openai\n",
            "Successfully installed h11-0.14.0 httpcore-1.0.5 httpx-0.27.0 langchain_openai-0.1.17 openai-1.36.1 tiktoken-0.7.0\n",
            "Requirement already satisfied: openai in /usr/local/lib/python3.10/dist-packages (1.36.1)\n",
            "Requirement already satisfied: anyio<5,>=3.5.0 in /usr/local/lib/python3.10/dist-packages (from openai) (3.7.1)\n",
            "Requirement already satisfied: distro<2,>=1.7.0 in /usr/lib/python3/dist-packages (from openai) (1.7.0)\n",
            "Requirement already satisfied: httpx<1,>=0.23.0 in /usr/local/lib/python3.10/dist-packages (from openai) (0.27.0)\n",
            "Requirement already satisfied: pydantic<3,>=1.9.0 in /usr/local/lib/python3.10/dist-packages (from openai) (2.8.2)\n",
            "Requirement already satisfied: sniffio in /usr/local/lib/python3.10/dist-packages (from openai) (1.3.1)\n",
            "Requirement already satisfied: tqdm>4 in /usr/local/lib/python3.10/dist-packages (from openai) (4.66.4)\n",
            "Requirement already satisfied: typing-extensions<5,>=4.7 in /usr/local/lib/python3.10/dist-packages (from openai) (4.12.2)\n",
            "Requirement already satisfied: idna>=2.8 in /usr/local/lib/python3.10/dist-packages (from anyio<5,>=3.5.0->openai) (3.7)\n",
            "Requirement already satisfied: exceptiongroup in /usr/local/lib/python3.10/dist-packages (from anyio<5,>=3.5.0->openai) (1.2.2)\n",
            "Requirement already satisfied: certifi in /usr/local/lib/python3.10/dist-packages (from httpx<1,>=0.23.0->openai) (2024.7.4)\n",
            "Requirement already satisfied: httpcore==1.* in /usr/local/lib/python3.10/dist-packages (from httpx<1,>=0.23.0->openai) (1.0.5)\n",
            "Requirement already satisfied: h11<0.15,>=0.13 in /usr/local/lib/python3.10/dist-packages (from httpcore==1.*->httpx<1,>=0.23.0->openai) (0.14.0)\n",
            "Requirement already satisfied: annotated-types>=0.4.0 in /usr/local/lib/python3.10/dist-packages (from pydantic<3,>=1.9.0->openai) (0.7.0)\n",
            "Requirement already satisfied: pydantic-core==2.20.1 in /usr/local/lib/python3.10/dist-packages (from pydantic<3,>=1.9.0->openai) (2.20.1)\n",
            "Collecting wikipedia-api\n",
            "  Downloading Wikipedia_API-0.6.0-py3-none-any.whl (14 kB)\n",
            "Requirement already satisfied: requests in /usr/local/lib/python3.10/dist-packages (from wikipedia-api) (2.32.3)\n",
            "Requirement already satisfied: charset-normalizer<4,>=2 in /usr/local/lib/python3.10/dist-packages (from requests->wikipedia-api) (3.3.2)\n",
            "Requirement already satisfied: idna<4,>=2.5 in /usr/local/lib/python3.10/dist-packages (from requests->wikipedia-api) (3.7)\n",
            "Requirement already satisfied: urllib3<3,>=1.21.1 in /usr/local/lib/python3.10/dist-packages (from requests->wikipedia-api) (2.0.7)\n",
            "Requirement already satisfied: certifi>=2017.4.17 in /usr/local/lib/python3.10/dist-packages (from requests->wikipedia-api) (2024.7.4)\n",
            "Installing collected packages: wikipedia-api\n",
            "Successfully installed wikipedia-api-0.6.0\n",
            "Collecting langchain_community\n",
            "  Downloading langchain_community-0.2.9-py3-none-any.whl (2.3 MB)\n",
            "\u001b[2K     \u001b[90m━━━━━━━━━━━━━━━━━━━━━━━━━━━━━━━━━━━━━━━━\u001b[0m \u001b[32m2.3/2.3 MB\u001b[0m \u001b[31m11.9 MB/s\u001b[0m eta \u001b[36m0:00:00\u001b[0m\n",
            "\u001b[?25hRequirement already satisfied: PyYAML>=5.3 in /usr/local/lib/python3.10/dist-packages (from langchain_community) (6.0.1)\n",
            "Requirement already satisfied: SQLAlchemy<3,>=1.4 in /usr/local/lib/python3.10/dist-packages (from langchain_community) (2.0.31)\n",
            "Requirement already satisfied: aiohttp<4.0.0,>=3.8.3 in /usr/local/lib/python3.10/dist-packages (from langchain_community) (3.9.5)\n",
            "Collecting dataclasses-json<0.7,>=0.5.7 (from langchain_community)\n",
            "  Downloading dataclasses_json-0.6.7-py3-none-any.whl (28 kB)\n",
            "Requirement already satisfied: langchain<0.3.0,>=0.2.9 in /usr/local/lib/python3.10/dist-packages (from langchain_community) (0.2.10)\n",
            "Requirement already satisfied: langchain-core<0.3.0,>=0.2.22 in /usr/local/lib/python3.10/dist-packages (from langchain_community) (0.2.22)\n",
            "Requirement already satisfied: langsmith<0.2.0,>=0.1.0 in /usr/local/lib/python3.10/dist-packages (from langchain_community) (0.1.93)\n",
            "Requirement already satisfied: numpy<2,>=1 in /usr/local/lib/python3.10/dist-packages (from langchain_community) (1.25.2)\n",
            "Requirement already satisfied: requests<3,>=2 in /usr/local/lib/python3.10/dist-packages (from langchain_community) (2.32.3)\n",
            "Requirement already satisfied: tenacity!=8.4.0,<9.0.0,>=8.1.0 in /usr/local/lib/python3.10/dist-packages (from langchain_community) (8.5.0)\n",
            "Requirement already satisfied: aiosignal>=1.1.2 in /usr/local/lib/python3.10/dist-packages (from aiohttp<4.0.0,>=3.8.3->langchain_community) (1.3.1)\n",
            "Requirement already satisfied: attrs>=17.3.0 in /usr/local/lib/python3.10/dist-packages (from aiohttp<4.0.0,>=3.8.3->langchain_community) (23.2.0)\n",
            "Requirement already satisfied: frozenlist>=1.1.1 in /usr/local/lib/python3.10/dist-packages (from aiohttp<4.0.0,>=3.8.3->langchain_community) (1.4.1)\n",
            "Requirement already satisfied: multidict<7.0,>=4.5 in /usr/local/lib/python3.10/dist-packages (from aiohttp<4.0.0,>=3.8.3->langchain_community) (6.0.5)\n",
            "Requirement already satisfied: yarl<2.0,>=1.0 in /usr/local/lib/python3.10/dist-packages (from aiohttp<4.0.0,>=3.8.3->langchain_community) (1.9.4)\n",
            "Requirement already satisfied: async-timeout<5.0,>=4.0 in /usr/local/lib/python3.10/dist-packages (from aiohttp<4.0.0,>=3.8.3->langchain_community) (4.0.3)\n",
            "Collecting marshmallow<4.0.0,>=3.18.0 (from dataclasses-json<0.7,>=0.5.7->langchain_community)\n",
            "  Downloading marshmallow-3.21.3-py3-none-any.whl (49 kB)\n",
            "\u001b[2K     \u001b[90m━━━━━━━━━━━━━━━━━━━━━━━━━━━━━━━━━━━━━━━━\u001b[0m \u001b[32m49.2/49.2 kB\u001b[0m \u001b[31m9.6 MB/s\u001b[0m eta \u001b[36m0:00:00\u001b[0m\n",
            "\u001b[?25hCollecting typing-inspect<1,>=0.4.0 (from dataclasses-json<0.7,>=0.5.7->langchain_community)\n",
            "  Downloading typing_inspect-0.9.0-py3-none-any.whl (8.8 kB)\n",
            "Requirement already satisfied: langchain-text-splitters<0.3.0,>=0.2.0 in /usr/local/lib/python3.10/dist-packages (from langchain<0.3.0,>=0.2.9->langchain_community) (0.2.2)\n",
            "Requirement already satisfied: pydantic<3,>=1 in /usr/local/lib/python3.10/dist-packages (from langchain<0.3.0,>=0.2.9->langchain_community) (2.8.2)\n",
            "Requirement already satisfied: jsonpatch<2.0,>=1.33 in /usr/local/lib/python3.10/dist-packages (from langchain-core<0.3.0,>=0.2.22->langchain_community) (1.33)\n",
            "Requirement already satisfied: packaging<25,>=23.2 in /usr/local/lib/python3.10/dist-packages (from langchain-core<0.3.0,>=0.2.22->langchain_community) (24.1)\n",
            "Requirement already satisfied: orjson<4.0.0,>=3.9.14 in /usr/local/lib/python3.10/dist-packages (from langsmith<0.2.0,>=0.1.0->langchain_community) (3.10.6)\n",
            "Requirement already satisfied: charset-normalizer<4,>=2 in /usr/local/lib/python3.10/dist-packages (from requests<3,>=2->langchain_community) (3.3.2)\n",
            "Requirement already satisfied: idna<4,>=2.5 in /usr/local/lib/python3.10/dist-packages (from requests<3,>=2->langchain_community) (3.7)\n",
            "Requirement already satisfied: urllib3<3,>=1.21.1 in /usr/local/lib/python3.10/dist-packages (from requests<3,>=2->langchain_community) (2.0.7)\n",
            "Requirement already satisfied: certifi>=2017.4.17 in /usr/local/lib/python3.10/dist-packages (from requests<3,>=2->langchain_community) (2024.7.4)\n",
            "Requirement already satisfied: typing-extensions>=4.6.0 in /usr/local/lib/python3.10/dist-packages (from SQLAlchemy<3,>=1.4->langchain_community) (4.12.2)\n",
            "Requirement already satisfied: greenlet!=0.4.17 in /usr/local/lib/python3.10/dist-packages (from SQLAlchemy<3,>=1.4->langchain_community) (3.0.3)\n",
            "Requirement already satisfied: jsonpointer>=1.9 in /usr/local/lib/python3.10/dist-packages (from jsonpatch<2.0,>=1.33->langchain-core<0.3.0,>=0.2.22->langchain_community) (3.0.0)\n",
            "Requirement already satisfied: annotated-types>=0.4.0 in /usr/local/lib/python3.10/dist-packages (from pydantic<3,>=1->langchain<0.3.0,>=0.2.9->langchain_community) (0.7.0)\n",
            "Requirement already satisfied: pydantic-core==2.20.1 in /usr/local/lib/python3.10/dist-packages (from pydantic<3,>=1->langchain<0.3.0,>=0.2.9->langchain_community) (2.20.1)\n",
            "Collecting mypy-extensions>=0.3.0 (from typing-inspect<1,>=0.4.0->dataclasses-json<0.7,>=0.5.7->langchain_community)\n",
            "  Downloading mypy_extensions-1.0.0-py3-none-any.whl (4.7 kB)\n",
            "Installing collected packages: mypy-extensions, marshmallow, typing-inspect, dataclasses-json, langchain_community\n",
            "Successfully installed dataclasses-json-0.6.7 langchain_community-0.2.9 marshmallow-3.21.3 mypy-extensions-1.0.0 typing-inspect-0.9.0\n",
            "Requirement already satisfied: transformers in /usr/local/lib/python3.10/dist-packages (4.42.4)\n",
            "Requirement already satisfied: filelock in /usr/local/lib/python3.10/dist-packages (from transformers) (3.15.4)\n",
            "Requirement already satisfied: huggingface-hub<1.0,>=0.23.2 in /usr/local/lib/python3.10/dist-packages (from transformers) (0.23.5)\n",
            "Requirement already satisfied: numpy<2.0,>=1.17 in /usr/local/lib/python3.10/dist-packages (from transformers) (1.25.2)\n",
            "Requirement already satisfied: packaging>=20.0 in /usr/local/lib/python3.10/dist-packages (from transformers) (24.1)\n",
            "Requirement already satisfied: pyyaml>=5.1 in /usr/local/lib/python3.10/dist-packages (from transformers) (6.0.1)\n",
            "Requirement already satisfied: regex!=2019.12.17 in /usr/local/lib/python3.10/dist-packages (from transformers) (2024.5.15)\n",
            "Requirement already satisfied: requests in /usr/local/lib/python3.10/dist-packages (from transformers) (2.32.3)\n",
            "Requirement already satisfied: safetensors>=0.4.1 in /usr/local/lib/python3.10/dist-packages (from transformers) (0.4.3)\n",
            "Requirement already satisfied: tokenizers<0.20,>=0.19 in /usr/local/lib/python3.10/dist-packages (from transformers) (0.19.1)\n",
            "Requirement already satisfied: tqdm>=4.27 in /usr/local/lib/python3.10/dist-packages (from transformers) (4.66.4)\n",
            "Requirement already satisfied: fsspec>=2023.5.0 in /usr/local/lib/python3.10/dist-packages (from huggingface-hub<1.0,>=0.23.2->transformers) (2023.6.0)\n",
            "Requirement already satisfied: typing-extensions>=3.7.4.3 in /usr/local/lib/python3.10/dist-packages (from huggingface-hub<1.0,>=0.23.2->transformers) (4.12.2)\n",
            "Requirement already satisfied: charset-normalizer<4,>=2 in /usr/local/lib/python3.10/dist-packages (from requests->transformers) (3.3.2)\n",
            "Requirement already satisfied: idna<4,>=2.5 in /usr/local/lib/python3.10/dist-packages (from requests->transformers) (3.7)\n",
            "Requirement already satisfied: urllib3<3,>=1.21.1 in /usr/local/lib/python3.10/dist-packages (from requests->transformers) (2.0.7)\n",
            "Requirement already satisfied: certifi>=2017.4.17 in /usr/local/lib/python3.10/dist-packages (from requests->transformers) (2024.7.4)\n",
            "Requirement already satisfied: pinecone-client in /usr/local/lib/python3.10/dist-packages (5.0.0)\n",
            "Requirement already satisfied: certifi>=2019.11.17 in /usr/local/lib/python3.10/dist-packages (from pinecone-client) (2024.7.4)\n",
            "Requirement already satisfied: pinecone-plugin-inference==1.0.2 in /usr/local/lib/python3.10/dist-packages (from pinecone-client) (1.0.2)\n",
            "Requirement already satisfied: pinecone-plugin-interface<0.0.8,>=0.0.7 in /usr/local/lib/python3.10/dist-packages (from pinecone-client) (0.0.7)\n",
            "Requirement already satisfied: tqdm>=4.64.1 in /usr/local/lib/python3.10/dist-packages (from pinecone-client) (4.66.4)\n",
            "Requirement already satisfied: typing-extensions>=3.7.4 in /usr/local/lib/python3.10/dist-packages (from pinecone-client) (4.12.2)\n",
            "Requirement already satisfied: urllib3>=1.26.0 in /usr/local/lib/python3.10/dist-packages (from pinecone-client) (2.0.7)\n"
          ]
        }
      ]
    },
    {
      "cell_type": "code",
      "source": [
        "# Define API keys.\n",
        "from google.colab import userdata\n",
        "OPENAI_API_KEY = userdata.get('OPENAI_API_KEY')\n",
        "HF_TOKEN = userdata.get('HF_TOKEN')\n",
        "LANGCHAIN_API_KEY = userdata.get('LANGCHAIN_API_KEY')\n",
        "PINECONE_API_KEY = userdata.get('PINECONE_API_KEY')\n",
        "YOUTUBE_API_KEY = userdata.get('YOUTUBE_API_KEY')"
      ],
      "metadata": {
        "id": "FeuDxTGkSSBo"
      },
      "execution_count": 2,
      "outputs": []
    },
    {
      "cell_type": "code",
      "source": [
        "# Import necessary libraries.\n",
        "import os\n",
        "import re\n",
        "import json\n",
        "from tqdm import tqdm\n",
        "from urllib.parse import urlparse, parse_qs\n",
        "from googleapiclient.discovery import build\n",
        "import yt_dlp\n",
        "from transformers import WhisperProcessor, WhisperForConditionalGeneration, pipeline\n",
        "from langchain.text_splitter import RecursiveCharacterTextSplitter\n",
        "from langchain_openai import OpenAIEmbeddings\n",
        "import pinecone\n",
        "import wikipediaapi\n",
        "from langchain.agents import initialize_agent, AgentType, Tool\n",
        "from langchain.memory import ConversationBufferMemory\n",
        "from langchain.llms import OpenAI\n",
        "import torch"
      ],
      "metadata": {
        "id": "qF9sGrBHSVhk"
      },
      "execution_count": 3,
      "outputs": []
    },
    {
      "cell_type": "code",
      "execution_count": 4,
      "metadata": {
        "id": "cR9DQZD6VowS"
      },
      "outputs": [],
      "source": [
        "def clean_text(text, for_filename=False):\n",
        "    # Replace newlines and carriage returns with spaces.\n",
        "    text = text.replace('\\n', ' ').replace('\\r', ' ')\n",
        "\n",
        "    if for_filename:\n",
        "        # Remove special characters for file names.\n",
        "        text = ''.join(e for e in text if e.isalnum() or e.isspace())\n",
        "    else:\n",
        "        # Replace non-alphanumeric characters (except spaces) with spaces.\n",
        "        text = re.sub(r'[^a-zA-Z0-9\\s]', ' ', text)\n",
        "\n",
        "    # Normalize multiple spaces into a single space.\n",
        "    text = re.sub(r'\\s+', ' ', text).strip()\n",
        "\n",
        "    return text\n",
        "\n",
        "def extract_video_id(url):\n",
        "    query = urlparse(url).query\n",
        "    params = parse_qs(query)\n",
        "    return params.get('v', [None])[0]\n",
        "\n",
        "def extract_playlist_id(url):\n",
        "    query = urlparse(url).query\n",
        "    params = parse_qs(query)\n",
        "    return params.get('list', [None])[0]"
      ]
    },
    {
      "cell_type": "code",
      "source": [
        "# Metadata search and save.\n",
        "def save_metadata(metadata_list, metadata_path):\n",
        "    if not os.path.exists(metadata_path):\n",
        "        os.makedirs(metadata_path)\n",
        "\n",
        "    all_metadata_filename = os.path.join(metadata_path, 'all_metadata.json')\n",
        "    with open(all_metadata_filename, 'w') as all_metadata_file:\n",
        "        json.dump(metadata_list, all_metadata_file, indent=4)\n",
        "\n",
        "def fetch_video_metadata(video_id, api_key, metadata_list):\n",
        "    youtube = build('youtube', 'v3', developerKey=api_key)\n",
        "    request = youtube.videos().list(\n",
        "        part=\"snippet\",\n",
        "        id=video_id\n",
        "    )\n",
        "    response = request.execute()\n",
        "\n",
        "    if not response['items']:\n",
        "        print(f\"No metadata found for video ID: {video_id}\")\n",
        "        return None\n",
        "\n",
        "    item = response['items'][0]\n",
        "    video_metadata = {\n",
        "        'video_id': video_id,\n",
        "        'title': clean_text(item['snippet']['title']),\n",
        "        'description': clean_text(item['snippet']['description']),\n",
        "        'published_at': item['snippet']['publishedAt']\n",
        "    }\n",
        "\n",
        "    metadata_list.append(video_metadata)\n",
        "    return video_metadata\n",
        "\n",
        "def fetch_playlist_metadata(playlist_id, api_key, metadata_list):\n",
        "    youtube = build('youtube', 'v3', developerKey=api_key)\n",
        "    request = youtube.playlistItems().list(\n",
        "        part=\"snippet\",\n",
        "        playlistId=playlist_id,\n",
        "        maxResults=50\n",
        "    )\n",
        "\n",
        "    while request:\n",
        "        response = request.execute()\n",
        "        for item in response['items']:\n",
        "            video_id = item['snippet']['resourceId']['videoId']\n",
        "            fetch_video_metadata(video_id, api_key, metadata_list)\n",
        "\n",
        "        request = youtube.playlistItems().list_next(request, response)\n",
        "    return metadata_list"
      ],
      "metadata": {
        "id": "JaUc1RlkVuM1"
      },
      "execution_count": 5,
      "outputs": []
    },
    {
      "cell_type": "markdown",
      "source": [
        "Cell 3: YouTube Download Function"
      ],
      "metadata": {
        "id": "y_rjOsXsV_Va"
      }
    },
    {
      "cell_type": "code",
      "source": [
        "def download_from_youtube(download_path, metadata_path, api_key):\n",
        "    video_url = \"https://www.youtube.com/watch?v=GFLb5h2O2Ww&list=PLFs4vir_WsTyS2cy4vj4obl5igqCOV749\"\n",
        "    playlist_id = extract_playlist_id(video_url)\n",
        "    metadata_list = []\n",
        "\n",
        "    print(\"Fetching metadata...\")\n",
        "    fetch_playlist_metadata(playlist_id, api_key, metadata_list)\n",
        "    save_metadata(metadata_list, metadata_path)\n",
        "    print(\"Metadata saved successfully.\")\n",
        "\n",
        "    if not os.path.exists(download_path):\n",
        "        os.makedirs(download_path)\n",
        "\n",
        "    print(\"Downloading playlist from YouTube...\")\n",
        "\n",
        "    pbar = None\n",
        "\n",
        "    def tqdm_hook(d):\n",
        "        nonlocal pbar\n",
        "        if d['status'] == 'downloading':\n",
        "            if pbar is None:\n",
        "                pbar = tqdm(total=d['total_bytes'], unit='B', unit_scale=True, unit_divisor=1024)\n",
        "            pbar.update(d['downloaded_bytes'] - pbar.n)\n",
        "        elif d['status'] == 'finished':\n",
        "            if pbar:\n",
        "                pbar.close()\n",
        "\n",
        "    ydl_opts = {\n",
        "        'format': 'bestaudio/best',\n",
        "        'outtmpl': f'{download_path}/%(title)s.%(ext)s',\n",
        "        'postprocessors': [{\n",
        "            'key': 'FFmpegExtractAudio',\n",
        "            'preferredcodec': 'mp3',\n",
        "            'preferredquality': '192',\n",
        "        }],\n",
        "        'user_agent': 'Mozilla/5.0 (Windows NT 10.0; Win64; x64; rv:89.0) Gecko/20100101 Firefox/89.0',\n",
        "        'verbose': True,\n",
        "        'progress_hooks': [tqdm_hook]\n",
        "    }\n",
        "\n",
        "    with yt_dlp.YoutubeDL(ydl_opts) as ydl:\n",
        "        ydl.download([video_url])\n",
        "\n",
        "    print(\"Playlist downloaded successfully.\")\n",
        "\n",
        "    return metadata_list\n",
        "\n",
        "metadata_path = './metadata'\n",
        "download_path = './downloads'\n",
        "pre_fetched_metadata = download_from_youtube(download_path, metadata_path, YOUTUBE_API_KEY)"
      ],
      "metadata": {
        "colab": {
          "base_uri": "https://localhost:8080/"
        },
        "id": "gMErGAObVwv1",
        "outputId": "076889bd-b6cd-4268-e3cb-c01492f7d6fe"
      },
      "execution_count": 6,
      "outputs": [
        {
          "output_type": "stream",
          "name": "stdout",
          "text": [
            "Fetching metadata...\n"
          ]
        },
        {
          "output_type": "stream",
          "name": "stderr",
          "text": [
            "[debug] Encodings: locale UTF-8, fs utf-8, pref UTF-8, out UTF-8 (No ANSI), error UTF-8 (No ANSI), screen UTF-8 (No ANSI)\n",
            "[debug] yt-dlp version stable@2024.07.16 from yt-dlp/yt-dlp [89a161e8c] (pip) API\n",
            "[debug] params: {'format': 'bestaudio/best', 'outtmpl': './downloads/%(title)s.%(ext)s', 'postprocessors': [{'key': 'FFmpegExtractAudio', 'preferredcodec': 'mp3', 'preferredquality': '192'}], 'user_agent': 'Mozilla/5.0 (Windows NT 10.0; Win64; x64; rv:89.0) Gecko/20100101 Firefox/89.0', 'verbose': True, 'progress_hooks': [<function download_from_youtube.<locals>.tqdm_hook at 0x7eed658f6b00>], 'compat_opts': set(), 'http_headers': {'User-Agent': 'Mozilla/5.0 (Windows NT 10.0; Win64; x64) AppleWebKit/537.36 (KHTML, like Gecko) Chrome/90.0.4430.85 Safari/537.36', 'Accept': 'text/html,application/xhtml+xml,application/xml;q=0.9,*/*;q=0.8', 'Accept-Language': 'en-us,en;q=0.5', 'Sec-Fetch-Mode': 'navigate'}}\n",
            "[debug] Python 3.10.12 (CPython x86_64 64bit) - Linux-6.1.85+-x86_64-with-glibc2.35 (OpenSSL 3.0.2 15 Mar 2022, glibc 2.35)\n"
          ]
        },
        {
          "output_type": "stream",
          "name": "stdout",
          "text": [
            "Metadata saved successfully.\n",
            "Downloading playlist from YouTube...\n"
          ]
        },
        {
          "output_type": "stream",
          "name": "stderr",
          "text": [
            "[debug] exe versions: ffmpeg 4.4.2 (setts), ffprobe 4.4.2\n",
            "[debug] Optional libraries: Cryptodome-3.20.0, brotli-1.1.0, certifi-2024.07.04, mutagen-1.47.0, requests-2.32.3, secretstorage-3.3.1, sqlite3-3.37.2, urllib3-2.0.7, websockets-12.0\n",
            "[debug] Proxy map: {'colab_language_server': '/usr/colab/bin/language_service'}\n",
            "[debug] Request Handlers: urllib, requests, websockets\n",
            "[debug] Loaded 1829 extractors\n"
          ]
        },
        {
          "output_type": "stream",
          "name": "stdout",
          "text": [
            "[youtube:tab] Extracting URL: https://www.youtube.com/watch?v=GFLb5h2O2Ww&list=PLFs4vir_WsTyS2cy4vj4obl5igqCOV749\n",
            "[youtube:tab] Downloading playlist PLFs4vir_WsTyS2cy4vj4obl5igqCOV749 - add --no-playlist to download just the video GFLb5h2O2Ww\n",
            "[youtube:tab] PLFs4vir_WsTyS2cy4vj4obl5igqCOV749: Downloading webpage\n",
            "[youtube:tab] Extracting URL: https://www.youtube.com/playlist?list=PLFs4vir_WsTyS2cy4vj4obl5igqCOV749\n",
            "[youtube:tab] PLFs4vir_WsTyS2cy4vj4obl5igqCOV749: Downloading webpage\n",
            "[youtube:tab] PLFs4vir_WsTyS2cy4vj4obl5igqCOV749: Redownloading playlist API JSON with unavailable videos\n",
            "[download] Downloading playlist: Immune System\n",
            "[youtube:tab] PLFs4vir_WsTyS2cy4vj4obl5igqCOV749 page 1: Downloading API JSON\n"
          ]
        },
        {
          "output_type": "stream",
          "name": "stderr",
          "text": [
            "WARNING: [youtube:tab] Incomplete data received. Retrying (1/3)...\n"
          ]
        },
        {
          "output_type": "stream",
          "name": "stdout",
          "text": [
            "[youtube:tab] PLFs4vir_WsTyS2cy4vj4obl5igqCOV749 page 1: Downloading API JSON\n"
          ]
        },
        {
          "output_type": "stream",
          "name": "stderr",
          "text": [
            "WARNING: [youtube:tab] Incomplete data received. Retrying (2/3)...\n"
          ]
        },
        {
          "output_type": "stream",
          "name": "stdout",
          "text": [
            "[youtube:tab] PLFs4vir_WsTyS2cy4vj4obl5igqCOV749 page 1: Downloading API JSON\n"
          ]
        },
        {
          "output_type": "stream",
          "name": "stderr",
          "text": [
            "WARNING: [youtube:tab] Incomplete data received. Retrying (3/3)...\n"
          ]
        },
        {
          "output_type": "stream",
          "name": "stdout",
          "text": [
            "[youtube:tab] PLFs4vir_WsTyS2cy4vj4obl5igqCOV749 page 1: Downloading API JSON\n"
          ]
        },
        {
          "output_type": "stream",
          "name": "stderr",
          "text": [
            "WARNING: [youtube:tab] Incomplete data received. Giving up after 3 retries\n"
          ]
        },
        {
          "output_type": "stream",
          "name": "stdout",
          "text": [
            "[youtube:tab] Playlist Immune System: Downloading 20 items of 20\n"
          ]
        },
        {
          "output_type": "stream",
          "name": "stderr",
          "text": [
            "[debug] The information of all playlist entries will be held in memory\n"
          ]
        },
        {
          "output_type": "stream",
          "name": "stdout",
          "text": [
            "[download] Downloading item 1 of 20\n",
            "[youtube] Extracting URL: https://www.youtube.com/watch?v=GFLb5h2O2Ww\n",
            "[youtube] GFLb5h2O2Ww: Downloading webpage\n",
            "[youtube] GFLb5h2O2Ww: Downloading ios player API JSON\n",
            "[youtube] GFLb5h2O2Ww: Downloading player d60b0ef9\n"
          ]
        },
        {
          "output_type": "stream",
          "name": "stderr",
          "text": [
            "[debug] Saving youtube-nsig.d60b0ef9 to cache\n",
            "[debug] [youtube] Decrypted nsig cdlE-oFmtOx6cJb0 => GaxC0F5jNq1yzw\n",
            "[debug] Loading youtube-nsig.d60b0ef9 from cache\n",
            "[debug] [youtube] Decrypted nsig jBw_64x6NwTe7Muw => JSD6ExMIIJQa1Q\n"
          ]
        },
        {
          "output_type": "stream",
          "name": "stdout",
          "text": [
            "[youtube] GFLb5h2O2Ww: Downloading m3u8 information\n"
          ]
        },
        {
          "output_type": "stream",
          "name": "stderr",
          "text": [
            "[debug] Sort order given by extractor: quality, res, fps, hdr:12, source, vcodec:vp9.2, channels, acodec, lang, proto\n",
            "[debug] Formats sorted by: hasvid, ie_pref, quality, res, fps, hdr:12(7), source, vcodec:vp9.2(10), channels, acodec, lang, proto, size, br, asr, vext, aext, hasaud, id\n"
          ]
        },
        {
          "output_type": "stream",
          "name": "stdout",
          "text": [
            "[info] GFLb5h2O2Ww: Downloading 1 format(s): 251\n"
          ]
        },
        {
          "output_type": "stream",
          "name": "stderr",
          "text": [
            "[debug] Invoking http downloader on \"https://rr4---sn-q4flrnel.googlevideo.com/videoplayback?expire=1721622862&ei=7oydZuWlI8-5sfIPpcGdgAg&ip=34.125.100.56&id=o-ACqOPYANaYDe2Am7Il7B70yIzhZoMO-f5ScY-dyc-jWT&itag=251&source=youtube&requiressl=yes&xpc=EgVo2aDSNQ%3D%3D&mh=CY&mm=31%2C26&mn=sn-q4flrnel%2Csn-a5mekn6r&ms=au%2Conr&mv=m&mvi=4&pl=20&bui=AXc671JiA7VakkXR5i5o_yxCWrL7lqj3CAcX-O-XL0N61Dzna30HR3RPtAAcJfS8AwDl-TAj_su0mQBC&spc=NO7bAbBYB6jweL8uCoXmwB1xrknZ3vESGVoOOv8Ib30oIdANj5ood4PwLViD&vprv=1&svpuc=1&mime=audio%2Fwebm&ns=JW3oeMwzo8wNLv7bHfsz1XoQ&rqh=1&gir=yes&clen=11377837&dur=652.201&lmt=1720094974077096&mt=1721600926&fvip=1&keepalive=yes&c=WEB&sefc=1&txp=4532434&n=JSD6ExMIIJQa1Q&sparams=expire%2Cei%2Cip%2Cid%2Citag%2Csource%2Crequiressl%2Cxpc%2Cbui%2Cspc%2Cvprv%2Csvpuc%2Cmime%2Cns%2Crqh%2Cgir%2Cclen%2Cdur%2Clmt&sig=AJfQdSswRQIgLeVjjirbGwUI9MwAu086p1hyICgJOfyOJaI-tXx395wCIQDmhkLnc_GCgJ2NrfLDEUxaCX7wf6x3fPouxOrvj857qA%3D%3D&lsparams=mh%2Cmm%2Cmn%2Cms%2Cmv%2Cmvi%2Cpl&lsig=AHlkHjAwRQIgFqM3sR9J-xtEhMofV2BMvhJi17EIo_pLjbt1q6ib9-4CIQCZ23SRIT9OeCm_pI99T9K2QN0smWNZEzbGyuAT4KOSpQ%3D%3D\"\n"
          ]
        },
        {
          "output_type": "stream",
          "name": "stdout",
          "text": [
            "[download] Destination: ./downloads/This Disease is Deadlier Than The Plague.webm\n",
            "[download]   0.0% of   10.85MiB at  167.54KiB/s ETA 01:06"
          ]
        },
        {
          "output_type": "stream",
          "name": "stderr",
          "text": [
            "\r  0%|          | 0.00/10.9M [00:00<?, ?B/s]"
          ]
        },
        {
          "output_type": "stream",
          "name": "stdout",
          "text": [
            "[download]   2.3% of   10.85MiB at    1.63MiB/s ETA 00:06"
          ]
        },
        {
          "output_type": "stream",
          "name": "stderr",
          "text": [
            "\r  2%|▏         | 255k/10.9M [00:00<00:06, 1.82MB/s]"
          ]
        },
        {
          "output_type": "stream",
          "name": "stdout",
          "text": [
            "[download]  18.4% of   10.85MiB at    7.28MiB/s ETA 00:01"
          ]
        },
        {
          "output_type": "stream",
          "name": "stderr",
          "text": [
            "\r 18%|█▊        | 2.00M/10.9M [00:00<00:01, 9.08MB/s]"
          ]
        },
        {
          "output_type": "stream",
          "name": "stdout",
          "text": [
            "\r[download]  36.9% of   10.85MiB at    5.34MiB/s ETA 00:01"
          ]
        },
        {
          "output_type": "stream",
          "name": "stderr",
          "text": [
            "\r 37%|███▋      | 4.00M/10.9M [00:00<00:01, 5.56MB/s]"
          ]
        },
        {
          "output_type": "stream",
          "name": "stdout",
          "text": [
            "\r[download]  73.7% of   10.85MiB at    4.21MiB/s ETA 00:00"
          ]
        },
        {
          "output_type": "stream",
          "name": "stderr",
          "text": [
            "\r 74%|███████▎  | 8.00M/10.9M [00:01<00:00, 4.17MB/s]"
          ]
        },
        {
          "output_type": "stream",
          "name": "stdout",
          "text": [
            "\r[download]  89.0% of   10.85MiB at    4.05MiB/s ETA 00:00"
          ]
        },
        {
          "output_type": "stream",
          "name": "stderr",
          "text": [
            "\r 89%|████████▉ | 9.66M/10.9M [00:02<00:00, 3.99MB/s]"
          ]
        },
        {
          "output_type": "stream",
          "name": "stdout",
          "text": [
            "[download]  93.6% of   10.85MiB at    1.54MiB/s ETA 00:00"
          ]
        },
        {
          "output_type": "stream",
          "name": "stderr",
          "text": [
            "\r 94%|█████████▎| 10.2M/10.9M [00:02<00:00, 3.32MB/s]"
          ]
        },
        {
          "output_type": "stream",
          "name": "stdout",
          "text": [
            "[download] 100% of   10.85MiB in 00:00:02 at 3.67MiB/s   "
          ]
        },
        {
          "output_type": "stream",
          "name": "stderr",
          "text": [
            "\r100%|██████████| 10.9M/10.9M [00:02<00:00, 4.09MB/s]"
          ]
        },
        {
          "output_type": "stream",
          "name": "stdout",
          "text": [
            "\n"
          ]
        },
        {
          "output_type": "stream",
          "name": "stderr",
          "text": [
            "\n",
            "[debug] ffmpeg command line: ffprobe -show_streams 'file:./downloads/This Disease is Deadlier Than The Plague.webm'\n"
          ]
        },
        {
          "output_type": "stream",
          "name": "stdout",
          "text": [
            "[ExtractAudio] Destination: ./downloads/This Disease is Deadlier Than The Plague.mp3\n"
          ]
        },
        {
          "output_type": "stream",
          "name": "stderr",
          "text": [
            "[debug] ffmpeg command line: ffmpeg -y -loglevel repeat+info -i 'file:./downloads/This Disease is Deadlier Than The Plague.webm' -vn -acodec libmp3lame -b:a 192.0k -movflags +faststart 'file:./downloads/This Disease is Deadlier Than The Plague.mp3'\n"
          ]
        },
        {
          "output_type": "stream",
          "name": "stdout",
          "text": [
            "Deleting original file ./downloads/This Disease is Deadlier Than The Plague.webm (pass -k to keep)\n",
            "[download] Downloading item 2 of 20\n",
            "[youtube] Extracting URL: https://www.youtube.com/watch?v=nGggU-Cxhv0\n",
            "[youtube] nGggU-Cxhv0: Downloading webpage\n",
            "[youtube] nGggU-Cxhv0: Downloading ios player API JSON\n"
          ]
        },
        {
          "output_type": "stream",
          "name": "stderr",
          "text": [
            "[debug] Loading youtube-nsig.d60b0ef9 from cache\n",
            "[debug] [youtube] Decrypted nsig OlN42raqdV2JX3Vc => cycnTLZ1p1Ng5A\n",
            "[debug] Loading youtube-nsig.d60b0ef9 from cache\n",
            "[debug] [youtube] Decrypted nsig 0_Ij_SRq7u1FWeMW => _AAOePC4Zpms1A\n"
          ]
        },
        {
          "output_type": "stream",
          "name": "stdout",
          "text": [
            "[youtube] nGggU-Cxhv0: Downloading m3u8 information\n"
          ]
        },
        {
          "output_type": "stream",
          "name": "stderr",
          "text": [
            "[debug] Sort order given by extractor: quality, res, fps, hdr:12, source, vcodec:vp9.2, channels, acodec, lang, proto\n",
            "[debug] Formats sorted by: hasvid, ie_pref, quality, res, fps, hdr:12(7), source, vcodec:vp9.2(10), channels, acodec, lang, proto, size, br, asr, vext, aext, hasaud, id\n"
          ]
        },
        {
          "output_type": "stream",
          "name": "stdout",
          "text": [
            "[info] nGggU-Cxhv0: Downloading 1 format(s): 251\n"
          ]
        },
        {
          "output_type": "stream",
          "name": "stderr",
          "text": [
            "[debug] Invoking http downloader on \"https://rr4---sn-q4fl6n6r.googlevideo.com/videoplayback?expire=1721622887&ei=B42dZtHCGMHysfIPyPfGwAQ&ip=34.125.100.56&id=o-AMbFIt7qvW_d91obFK_ux1dO-xYrQiPCNIV8qfPDIFN6&itag=251&source=youtube&requiressl=yes&xpc=EgVo2aDSNQ%3D%3D&mh=-p&mm=31%2C29&mn=sn-q4fl6n6r%2Csn-q4fzen7y&ms=au%2Crdu&mv=m&mvi=4&pl=20&bui=AXc671Kw7OkY-Cf5LRKK2LRgYI6z7znkZgp3h0ErJv_KoOk1WfOyzWSber1SfhPCRxjs9WlN_KyGUfsa&spc=NO7bAeoWtqfuxocqmR8sGVY8n8r7fMrkAIGuG_OJlqk3pLbBoMpAS6Scg8Wl&vprv=1&svpuc=1&mime=audio%2Fwebm&ns=Yc1GgIe7fYrBZIhEYvFFwGAQ&rqh=1&gir=yes&clen=9304723&dur=548.801&lmt=1719776015821971&mt=1721600926&fvip=1&keepalive=yes&c=WEB&sefc=1&txp=5532434&n=_AAOePC4Zpms1A&sparams=expire%2Cei%2Cip%2Cid%2Citag%2Csource%2Crequiressl%2Cxpc%2Cbui%2Cspc%2Cvprv%2Csvpuc%2Cmime%2Cns%2Crqh%2Cgir%2Cclen%2Cdur%2Clmt&sig=AJfQdSswRgIhAJLKWu7oceYI7vDPQmq9Iaiq-M7tcbU3GB11su_29MjZAiEAnkwfQHtqxh49W6VU-td8nXOJzZa_fLP_ckn6w-gxB2o%3D&lsparams=mh%2Cmm%2Cmn%2Cms%2Cmv%2Cmvi%2Cpl&lsig=AHlkHjAwRAIgETwI2TKFmRBCQN-HzjFn-azERx_NR0Z37akYv91OBPMCIDyHgM-MXwOdxjOv-do7HRRAacxjCDcJV3-AkZmBHRRK\"\n"
          ]
        },
        {
          "output_type": "stream",
          "name": "stdout",
          "text": [
            "[download] Destination: ./downloads/Your Tattoo is INSIDE Your Immune System. Literally.webm\n",
            "[download] 100% of    8.87MiB in 00:00:00 at 16.12MiB/s  \n"
          ]
        },
        {
          "output_type": "stream",
          "name": "stderr",
          "text": [
            "[debug] ffmpeg command line: ffprobe -show_streams 'file:./downloads/Your Tattoo is INSIDE Your Immune System. Literally.webm'\n"
          ]
        },
        {
          "output_type": "stream",
          "name": "stdout",
          "text": [
            "[ExtractAudio] Destination: ./downloads/Your Tattoo is INSIDE Your Immune System. Literally.mp3\n"
          ]
        },
        {
          "output_type": "stream",
          "name": "stderr",
          "text": [
            "[debug] ffmpeg command line: ffmpeg -y -loglevel repeat+info -i 'file:./downloads/Your Tattoo is INSIDE Your Immune System. Literally.webm' -vn -acodec libmp3lame -b:a 192.0k -movflags +faststart 'file:./downloads/Your Tattoo is INSIDE Your Immune System. Literally.mp3'\n"
          ]
        },
        {
          "output_type": "stream",
          "name": "stdout",
          "text": [
            "Deleting original file ./downloads/Your Tattoo is INSIDE Your Immune System. Literally.webm (pass -k to keep)\n",
            "[download] Downloading item 3 of 20\n",
            "[youtube] Extracting URL: https://www.youtube.com/watch?v=Kr57ax0OWMk\n",
            "[youtube] Kr57ax0OWMk: Downloading webpage\n",
            "[youtube] Kr57ax0OWMk: Downloading ios player API JSON\n"
          ]
        },
        {
          "output_type": "stream",
          "name": "stderr",
          "text": [
            "[debug] Loading youtube-nsig.d60b0ef9 from cache\n",
            "[debug] [youtube] Decrypted nsig buvv3LhmKJmHWMZV => JPNS75OJAUwmIw\n",
            "[debug] Loading youtube-nsig.d60b0ef9 from cache\n",
            "[debug] [youtube] Decrypted nsig rrI9qprKh5bNk1-3 => a-601iQt8KwKGg\n"
          ]
        },
        {
          "output_type": "stream",
          "name": "stdout",
          "text": [
            "[youtube] Kr57ax0OWMk: Downloading m3u8 information\n"
          ]
        },
        {
          "output_type": "stream",
          "name": "stderr",
          "text": [
            "[debug] Sort order given by extractor: quality, res, fps, hdr:12, source, vcodec:vp9.2, channels, acodec, lang, proto\n",
            "[debug] Formats sorted by: hasvid, ie_pref, quality, res, fps, hdr:12(7), source, vcodec:vp9.2(10), channels, acodec, lang, proto, size, br, asr, vext, aext, hasaud, id\n"
          ]
        },
        {
          "output_type": "stream",
          "name": "stdout",
          "text": [
            "[info] Kr57ax0OWMk: Downloading 1 format(s): 251\n"
          ]
        },
        {
          "output_type": "stream",
          "name": "stderr",
          "text": [
            "[debug] Invoking http downloader on \"https://rr2---sn-q4fzenee.googlevideo.com/videoplayback?expire=1721622906&ei=Go2dZoPqEpi_sfIPi_6zkAk&ip=34.125.100.56&id=o-ADjsPo17HtgSB2RhYaHEsXww7cM-xMXoIpgRKQ9UA-Me&itag=251&source=youtube&requiressl=yes&xpc=EgVo2aDSNQ%3D%3D&mh=yx&mm=31%2C29&mn=sn-q4fzenee%2Csn-q4fl6ndl&ms=au%2Crdu&mv=m&mvi=2&pl=20&bui=AXc671LTfoUCY3kQR3pqaJrJDTbfKmcigfLC-bWBf_QhTqk2kNkPWycbCZCDZv0EuF0OBGESaU_2nGGH&spc=NO7bAZ9TDDjZdBQi-XaPG4tPd26qq1NTo6DTD2A9cvxgjKwryjfnJtOlx2dk&vprv=1&svpuc=1&mime=audio%2Fwebm&ns=2cVwLF3fCuoWuX-DbytyaZsQ&rqh=1&gir=yes&clen=11210378&dur=668.621&lmt=1696074173280668&mt=1721600926&fvip=4&keepalive=yes&c=WEB&sefc=1&txp=5532434&n=a-601iQt8KwKGg&sparams=expire%2Cei%2Cip%2Cid%2Citag%2Csource%2Crequiressl%2Cxpc%2Cbui%2Cspc%2Cvprv%2Csvpuc%2Cmime%2Cns%2Crqh%2Cgir%2Cclen%2Cdur%2Clmt&sig=AJfQdSswRQIgNlR7Jmx3jyRuNR0ps9I2DkN6gNHSxWMHzdtnWGdmFDYCIQDbbLMdMf29risoS76zh_kN1xLI5Rr-TUyfynwljBTU5A%3D%3D&lsparams=mh%2Cmm%2Cmn%2Cms%2Cmv%2Cmvi%2Cpl&lsig=AHlkHjAwRAIgM_eSMZkvirfrUQV8qOlIhow9giSG8CY66eEGuhAo_2kCIDoqP-7TS1Xu4JXT_WeY0vfYfZJKequkVHaijgsbbT7e\"\n"
          ]
        },
        {
          "output_type": "stream",
          "name": "stdout",
          "text": [
            "[download] Destination: ./downloads/The (Second) Deadliest Virus.webm\n",
            "[download] 100% of   10.69MiB in 00:00:00 at 16.92MiB/s  \n"
          ]
        },
        {
          "output_type": "stream",
          "name": "stderr",
          "text": [
            "[debug] ffmpeg command line: ffprobe -show_streams 'file:./downloads/The (Second) Deadliest Virus.webm'\n"
          ]
        },
        {
          "output_type": "stream",
          "name": "stdout",
          "text": [
            "[ExtractAudio] Destination: ./downloads/The (Second) Deadliest Virus.mp3\n"
          ]
        },
        {
          "output_type": "stream",
          "name": "stderr",
          "text": [
            "[debug] ffmpeg command line: ffmpeg -y -loglevel repeat+info -i 'file:./downloads/The (Second) Deadliest Virus.webm' -vn -acodec libmp3lame -b:a 192.0k -movflags +faststart 'file:./downloads/The (Second) Deadliest Virus.mp3'\n"
          ]
        },
        {
          "output_type": "stream",
          "name": "stdout",
          "text": [
            "Deleting original file ./downloads/The (Second) Deadliest Virus.webm (pass -k to keep)\n",
            "[download] Downloading item 4 of 20\n",
            "[youtube] Extracting URL: https://www.youtube.com/watch?v=9FppammO1zk\n",
            "[youtube] 9FppammO1zk: Downloading webpage\n",
            "[youtube] 9FppammO1zk: Downloading ios player API JSON\n"
          ]
        },
        {
          "output_type": "stream",
          "name": "stderr",
          "text": [
            "[debug] Loading youtube-nsig.d60b0ef9 from cache\n",
            "[debug] [youtube] Decrypted nsig P6wFDJTmAFuH7Eme => pFag5LZFLRXFvw\n",
            "[debug] Loading youtube-nsig.d60b0ef9 from cache\n",
            "[debug] [youtube] Decrypted nsig Otgbu0L6YKlIe-6k => jtcIA_xC7RJQRQ\n"
          ]
        },
        {
          "output_type": "stream",
          "name": "stdout",
          "text": [
            "[youtube] 9FppammO1zk: Downloading m3u8 information\n"
          ]
        },
        {
          "output_type": "stream",
          "name": "stderr",
          "text": [
            "[debug] Sort order given by extractor: quality, res, fps, hdr:12, source, vcodec:vp9.2, channels, acodec, lang, proto\n",
            "[debug] Formats sorted by: hasvid, ie_pref, quality, res, fps, hdr:12(7), source, vcodec:vp9.2(10), channels, acodec, lang, proto, size, br, asr, vext, aext, hasaud, id\n"
          ]
        },
        {
          "output_type": "stream",
          "name": "stdout",
          "text": [
            "[info] 9FppammO1zk: Downloading 1 format(s): 251\n"
          ]
        },
        {
          "output_type": "stream",
          "name": "stderr",
          "text": [
            "[debug] Invoking http downloader on \"https://rr4---sn-q4fl6nss.googlevideo.com/videoplayback?expire=1721622928&ei=MI2dZv3jLe-KsfIPq8OAuAs&ip=34.125.100.56&id=o-AFRiSTmOtn8pRMJN2jx_Gwdpv2F2IWERtGFylE9ekyyk&itag=251&source=youtube&requiressl=yes&xpc=EgVo2aDSNQ%3D%3D&mh=lU&mm=31%2C29&mn=sn-q4fl6nss%2Csn-q4fzen7e&ms=au%2Crdu&mv=m&mvi=4&pl=20&bui=AXc671JAvbgrJbHENTzEvChZ9Ii5Yl9HbHm3mWkxhwnHjvUVaCj9zg9K-S1Fb5ZG227HA2u8gLlr_Xc4&spc=NO7bATZ2g4IY4gOiH-Q71uiq6KEynVANV8dhYlzuYYWeRw5tc5sWJDRXIwit&vprv=1&svpuc=1&mime=audio%2Fwebm&ns=Oi0908a6KUNk01u3uEhKRZYQ&rqh=1&gir=yes&clen=10941025&dur=664.861&lmt=1691391444595457&mt=1721600926&fvip=1&keepalive=yes&c=WEB&sefc=1&txp=5532434&n=jtcIA_xC7RJQRQ&sparams=expire%2Cei%2Cip%2Cid%2Citag%2Csource%2Crequiressl%2Cxpc%2Cbui%2Cspc%2Cvprv%2Csvpuc%2Cmime%2Cns%2Crqh%2Cgir%2Cclen%2Cdur%2Clmt&sig=AJfQdSswRAIgW0-EvT75n4cB2G8tOVt5IfPHsHGoyVZQ4d8TnA7xRjgCIEMdv1KXNZGZF2F3k6eKa_r4p7pnbqpHhbKZCh0tijyq&lsparams=mh%2Cmm%2Cmn%2Cms%2Cmv%2Cmvi%2Cpl&lsig=AHlkHjAwRQIhAJpMn3Ms8EdYdaNMN3ieFugMtZlJcUN_WKrS09tFmwP8AiBeg-y8kJQv6-Zm0aVqIeHvbHLl-S3tkpqxsrD1a0umQg%3D%3D\"\n"
          ]
        },
        {
          "output_type": "stream",
          "name": "stdout",
          "text": [
            "[download] Destination: ./downloads/The Most Dangerous Weapon Is Not Nuclear.webm\n",
            "[download] 100% of   10.43MiB in 00:00:00 at 14.38MiB/s  \n"
          ]
        },
        {
          "output_type": "stream",
          "name": "stderr",
          "text": [
            "[debug] ffmpeg command line: ffprobe -show_streams 'file:./downloads/The Most Dangerous Weapon Is Not Nuclear.webm'\n"
          ]
        },
        {
          "output_type": "stream",
          "name": "stdout",
          "text": [
            "[ExtractAudio] Destination: ./downloads/The Most Dangerous Weapon Is Not Nuclear.mp3\n"
          ]
        },
        {
          "output_type": "stream",
          "name": "stderr",
          "text": [
            "[debug] ffmpeg command line: ffmpeg -y -loglevel repeat+info -i 'file:./downloads/The Most Dangerous Weapon Is Not Nuclear.webm' -vn -acodec libmp3lame -b:a 192.0k -movflags +faststart 'file:./downloads/The Most Dangerous Weapon Is Not Nuclear.mp3'\n"
          ]
        },
        {
          "output_type": "stream",
          "name": "stdout",
          "text": [
            "Deleting original file ./downloads/The Most Dangerous Weapon Is Not Nuclear.webm (pass -k to keep)\n",
            "[download] Downloading item 5 of 20\n",
            "[youtube] Extracting URL: https://www.youtube.com/watch?v=uoJwt9l-XhQ\n",
            "[youtube] uoJwt9l-XhQ: Downloading webpage\n",
            "[youtube] uoJwt9l-XhQ: Downloading ios player API JSON\n"
          ]
        },
        {
          "output_type": "stream",
          "name": "stderr",
          "text": [
            "[debug] Loading youtube-nsig.d60b0ef9 from cache\n",
            "[debug] [youtube] Decrypted nsig 6z5KwbRqQk-EK97E => iV9OnnS9EQPCiA\n",
            "[debug] Loading youtube-nsig.d60b0ef9 from cache\n",
            "[debug] [youtube] Decrypted nsig 3fWGLnfqfad1vJic => Go7Q_H4hthD-WA\n"
          ]
        },
        {
          "output_type": "stream",
          "name": "stdout",
          "text": [
            "[youtube] uoJwt9l-XhQ: Downloading m3u8 information\n"
          ]
        },
        {
          "output_type": "stream",
          "name": "stderr",
          "text": [
            "[debug] Sort order given by extractor: quality, res, fps, hdr:12, source, vcodec:vp9.2, channels, acodec, lang, proto\n",
            "[debug] Formats sorted by: hasvid, ie_pref, quality, res, fps, hdr:12(7), source, vcodec:vp9.2(10), channels, acodec, lang, proto, size, br, asr, vext, aext, hasaud, id\n"
          ]
        },
        {
          "output_type": "stream",
          "name": "stdout",
          "text": [
            "[info] uoJwt9l-XhQ: Downloading 1 format(s): 251\n"
          ]
        },
        {
          "output_type": "stream",
          "name": "stderr",
          "text": [
            "[debug] Invoking http downloader on \"https://rr1---sn-q4fl6nds.googlevideo.com/videoplayback?expire=1721622951&ei=R42dZpvgDdjHsfIPt7jsKA&ip=34.125.100.56&id=o-AK11lBKd76RRwTMt5octHjnqgIZ0G5n_5oaxFbx5aNEt&itag=251&source=youtube&requiressl=yes&xpc=EgVo2aDSNQ%3D%3D&mh=8e&mm=31%2C26&mn=sn-q4fl6nds%2Csn-a5msen7l&ms=au%2Conr&mv=m&mvi=1&pl=20&bui=AXc671L6rCvCsd911y9LU1t2PVisN1t0YlwxHpOlnXOBl2j4Dbfp8LkQFo0CrcXfltnV5q7eQZl49Tnv&spc=NO7bAeFvOQnxDkSAe38rmF-J0y-R04WzdeGpDK-61cckJyMOFRytbTPx2KsB&vprv=1&svpuc=1&mime=audio%2Fwebm&ns=1IthZfHSNZEXIpCNHYEHCbUQ&rqh=1&gir=yes&clen=10481983&dur=624.881&lmt=1708784524928092&mt=1721601166&fvip=5&keepalive=yes&c=WEB&sefc=1&txp=5532434&n=Go7Q_H4hthD-WA&sparams=expire%2Cei%2Cip%2Cid%2Citag%2Csource%2Crequiressl%2Cxpc%2Cbui%2Cspc%2Cvprv%2Csvpuc%2Cmime%2Cns%2Crqh%2Cgir%2Cclen%2Cdur%2Clmt&sig=AJfQdSswRgIhAKevXfQWvOGLCE0zuCTl4-QyOUBLCP4C2OsWqpk-TimRAiEAuuriQPiQU-MJZmZu6ATI8zSz7iHADGOsiSULTb6gBqI%3D&lsparams=mh%2Cmm%2Cmn%2Cms%2Cmv%2Cmvi%2Cpl&lsig=AHlkHjAwRgIhAJBz_SeJ2jldfCUvhxyucvIafG-Ql4q_5I-gM1cyWjYWAiEAq5nRYAqp6uGHFiPUF2TEs8zoDvUyDSXC7nqqiqos5N8%3D\"\n"
          ]
        },
        {
          "output_type": "stream",
          "name": "stdout",
          "text": [
            "[download] Destination: ./downloads/The Reason Why Cancer is so Hard to Beat.webm\n",
            "[download] 100% of   10.00MiB in 00:00:00 at 16.43MiB/s  \n"
          ]
        },
        {
          "output_type": "stream",
          "name": "stderr",
          "text": [
            "[debug] ffmpeg command line: ffprobe -show_streams 'file:./downloads/The Reason Why Cancer is so Hard to Beat.webm'\n"
          ]
        },
        {
          "output_type": "stream",
          "name": "stdout",
          "text": [
            "[ExtractAudio] Destination: ./downloads/The Reason Why Cancer is so Hard to Beat.mp3\n"
          ]
        },
        {
          "output_type": "stream",
          "name": "stderr",
          "text": [
            "[debug] ffmpeg command line: ffmpeg -y -loglevel repeat+info -i 'file:./downloads/The Reason Why Cancer is so Hard to Beat.webm' -vn -acodec libmp3lame -b:a 192.0k -movflags +faststart 'file:./downloads/The Reason Why Cancer is so Hard to Beat.mp3'\n"
          ]
        },
        {
          "output_type": "stream",
          "name": "stdout",
          "text": [
            "Deleting original file ./downloads/The Reason Why Cancer is so Hard to Beat.webm (pass -k to keep)\n",
            "[download] Downloading item 6 of 20\n",
            "[youtube] Extracting URL: https://www.youtube.com/watch?v=zFhYJRqz_xk\n",
            "[youtube] zFhYJRqz_xk: Downloading webpage\n",
            "[youtube] zFhYJRqz_xk: Downloading ios player API JSON\n"
          ]
        },
        {
          "output_type": "stream",
          "name": "stderr",
          "text": [
            "[debug] Loading youtube-nsig.d60b0ef9 from cache\n",
            "[debug] [youtube] Decrypted nsig FP_msw56QPmFYKhm => HVtqw-Yo5zvxeQ\n",
            "[debug] Loading youtube-nsig.d60b0ef9 from cache\n",
            "[debug] [youtube] Decrypted nsig NUTIRXMqvCf6QD4U => ocJJjPNoO-SVpA\n"
          ]
        },
        {
          "output_type": "stream",
          "name": "stdout",
          "text": [
            "[youtube] zFhYJRqz_xk: Downloading m3u8 information\n"
          ]
        },
        {
          "output_type": "stream",
          "name": "stderr",
          "text": [
            "[debug] Sort order given by extractor: quality, res, fps, hdr:12, source, vcodec:vp9.2, channels, acodec, lang, proto\n",
            "[debug] Formats sorted by: hasvid, ie_pref, quality, res, fps, hdr:12(7), source, vcodec:vp9.2(10), channels, acodec, lang, proto, size, br, asr, vext, aext, hasaud, id\n"
          ]
        },
        {
          "output_type": "stream",
          "name": "stdout",
          "text": [
            "[info] zFhYJRqz_xk: Downloading 1 format(s): 251\n"
          ]
        },
        {
          "output_type": "stream",
          "name": "stderr",
          "text": [
            "[debug] Invoking http downloader on \"https://rr3---sn-q4fl6nsd.googlevideo.com/videoplayback?expire=1721622972&ei=XI2dZvv5BKP5sfIPuduvuAw&ip=34.125.100.56&id=o-ANWq-tkXunzCHYx22G_seUmG-56OuOuqzUk4UzbKa6jE&itag=251&source=youtube&requiressl=yes&xpc=EgVo2aDSNQ%3D%3D&mh=q_&mm=31%2C26&mn=sn-q4fl6nsd%2Csn-a5mlrnls&ms=au%2Conr&mv=m&mvi=3&pl=20&bui=AXc671KwYQ6BLIcxBMyMTSC0xcIoACLuavX7noKSOPfY1fX9but036aJGezVaerUyhxVKSVDzNpfYu0J&spc=NO7bAY_woyM3xNe-NzU5L_es4VTOZJk45AqSEwkNN6i1KkXgz2CtHWP_i9Ao&vprv=1&svpuc=1&mime=audio%2Fwebm&ns=g6Z400B1XnaE_iz_9tlZ0gQQ&rqh=1&gir=yes&clen=9423378&dur=553.721&lmt=1683788314939557&mt=1721600926&fvip=5&keepalive=yes&c=WEB&sefc=1&txp=4532434&n=ocJJjPNoO-SVpA&sparams=expire%2Cei%2Cip%2Cid%2Citag%2Csource%2Crequiressl%2Cxpc%2Cbui%2Cspc%2Cvprv%2Csvpuc%2Cmime%2Cns%2Crqh%2Cgir%2Cclen%2Cdur%2Clmt&sig=AJfQdSswRQIgcZbpUxWt-MoYHDL_BkQ5rTAJXugsxO9obVdkgi58LssCIQCNhVgtoW3swRIXBjGeq4WzBKVWRC5XqhXilA_PO9cYEg%3D%3D&lsparams=mh%2Cmm%2Cmn%2Cms%2Cmv%2Cmvi%2Cpl&lsig=AHlkHjAwRAIgRcA3Jzcm8dJ_m8rxzYj80v51d_ZwbH4I-JmXlJzO1hACIAo-DgVj0qZ19FuwWJ5LKdF3yXPBlG4Tzjj9HjkCyu9t\"\n"
          ]
        },
        {
          "output_type": "stream",
          "name": "stdout",
          "text": [
            "[download] Destination: ./downloads/Your Body Killed Cancer 5 Minutes Ago.webm\n",
            "[download] 100% of    8.99MiB in 00:00:00 at 15.30MiB/s  \n"
          ]
        },
        {
          "output_type": "stream",
          "name": "stderr",
          "text": [
            "[debug] ffmpeg command line: ffprobe -show_streams 'file:./downloads/Your Body Killed Cancer 5 Minutes Ago.webm'\n"
          ]
        },
        {
          "output_type": "stream",
          "name": "stdout",
          "text": [
            "[ExtractAudio] Destination: ./downloads/Your Body Killed Cancer 5 Minutes Ago.mp3\n"
          ]
        },
        {
          "output_type": "stream",
          "name": "stderr",
          "text": [
            "[debug] ffmpeg command line: ffmpeg -y -loglevel repeat+info -i 'file:./downloads/Your Body Killed Cancer 5 Minutes Ago.webm' -vn -acodec libmp3lame -b:a 192.0k -movflags +faststart 'file:./downloads/Your Body Killed Cancer 5 Minutes Ago.mp3'\n"
          ]
        },
        {
          "output_type": "stream",
          "name": "stdout",
          "text": [
            "Deleting original file ./downloads/Your Body Killed Cancer 5 Minutes Ago.webm (pass -k to keep)\n",
            "[download] Downloading item 7 of 20\n",
            "[youtube] Extracting URL: https://www.youtube.com/watch?v=M-K7mxdN62M\n",
            "[youtube] M-K7mxdN62M: Downloading webpage\n",
            "[youtube] M-K7mxdN62M: Downloading ios player API JSON\n"
          ]
        },
        {
          "output_type": "stream",
          "name": "stderr",
          "text": [
            "[debug] Loading youtube-nsig.d60b0ef9 from cache\n",
            "[debug] [youtube] Decrypted nsig JBruUPE6zcr9xYRa => VgIBbU5w_esFUQ\n",
            "[debug] Loading youtube-nsig.d60b0ef9 from cache\n",
            "[debug] [youtube] Decrypted nsig Ph6H0bx6zVI_ftt8 => 2gg6nYwHJh6D6Q\n"
          ]
        },
        {
          "output_type": "stream",
          "name": "stdout",
          "text": [
            "[youtube] M-K7mxdN62M: Downloading m3u8 information\n"
          ]
        },
        {
          "output_type": "stream",
          "name": "stderr",
          "text": [
            "[debug] Sort order given by extractor: quality, res, fps, hdr:12, source, vcodec:vp9.2, channels, acodec, lang, proto\n",
            "[debug] Formats sorted by: hasvid, ie_pref, quality, res, fps, hdr:12(7), source, vcodec:vp9.2(10), channels, acodec, lang, proto, size, br, asr, vext, aext, hasaud, id\n"
          ]
        },
        {
          "output_type": "stream",
          "name": "stdout",
          "text": [
            "[info] M-K7mxdN62M: Downloading 1 format(s): 251\n"
          ]
        },
        {
          "output_type": "stream",
          "name": "stderr",
          "text": [
            "[debug] Invoking http downloader on \"https://rr4---sn-q4fl6n6z.googlevideo.com/videoplayback?expire=1721622991&ei=b42dZseLHMeWsfIP0a2HwAM&ip=34.125.100.56&id=o-AGO1PCiYxO4GFlR054D9q2jMrPj9mpJdPUkeX5wJfa1c&itag=251&source=youtube&requiressl=yes&xpc=EgVo2aDSNQ%3D%3D&mh=0-&mm=31%2C29&mn=sn-q4fl6n6z%2Csn-q4flrn7k&ms=au%2Crdu&mv=m&mvi=4&pl=20&bui=AXc671K4KQZFM4yTIJfpeTvLjqiBtgUsr6dTB8gcfSPucNn5sOMXKqF40JhkuI8D4pJx_hY5AgTDGTNz&spc=NO7bAWGnTbTP2QgbTD1BoETqYbqtq6ud10k0rv_uTYRW7FuZBrhhx_xTASmN&vprv=1&svpuc=1&mime=audio%2Fwebm&ns=Xz0hVWfV5Y6NQ-n2W7dVb9EQ&rqh=1&gir=yes&clen=11365262&dur=671.861&lmt=1677803141553318&mt=1721600926&fvip=5&keepalive=yes&c=WEB&sefc=1&txp=5532434&n=2gg6nYwHJh6D6Q&sparams=expire%2Cei%2Cip%2Cid%2Citag%2Csource%2Crequiressl%2Cxpc%2Cbui%2Cspc%2Cvprv%2Csvpuc%2Cmime%2Cns%2Crqh%2Cgir%2Cclen%2Cdur%2Clmt&sig=AJfQdSswRQIgO6ry-fy4KmQVX0LuLbqA7VEhNQ0hJxqYFIy-RorC_mwCIQCrdqaR_4yRBYkq_afXdAw0TClCP96tE5JDVhy_yX98dw%3D%3D&lsparams=mh%2Cmm%2Cmn%2Cms%2Cmv%2Cmvi%2Cpl&lsig=AHlkHjAwRQIhAKdo2XlhqgxEB9o4McnMnSqIIA-BpMsjRLYVfIKyCMHRAiAmu6j8S_1lU5VVgExnvLP3pxFb9QI2fJTbDg6trDRFrg%3D%3D\"\n"
          ]
        },
        {
          "output_type": "stream",
          "name": "stdout",
          "text": [
            "[download] Destination: ./downloads/What Actually Happens When You Are Sick？.webm\n",
            "[download] 100% of   10.84MiB in 00:00:00 at 17.44MiB/s  \n"
          ]
        },
        {
          "output_type": "stream",
          "name": "stderr",
          "text": [
            "[debug] ffmpeg command line: ffprobe -show_streams 'file:./downloads/What Actually Happens When You Are Sick？.webm'\n"
          ]
        },
        {
          "output_type": "stream",
          "name": "stdout",
          "text": [
            "[ExtractAudio] Destination: ./downloads/What Actually Happens When You Are Sick？.mp3\n"
          ]
        },
        {
          "output_type": "stream",
          "name": "stderr",
          "text": [
            "[debug] ffmpeg command line: ffmpeg -y -loglevel repeat+info -i 'file:./downloads/What Actually Happens When You Are Sick？.webm' -vn -acodec libmp3lame -b:a 192.0k -movflags +faststart 'file:./downloads/What Actually Happens When You Are Sick？.mp3'\n"
          ]
        },
        {
          "output_type": "stream",
          "name": "stdout",
          "text": [
            "Deleting original file ./downloads/What Actually Happens When You Are Sick？.webm (pass -k to keep)\n",
            "[download] Downloading item 8 of 20\n",
            "[youtube] Extracting URL: https://www.youtube.com/watch?v=4u5I8GYB79Y\n",
            "[youtube] 4u5I8GYB79Y: Downloading webpage\n",
            "[youtube] 4u5I8GYB79Y: Downloading ios player API JSON\n"
          ]
        },
        {
          "output_type": "stream",
          "name": "stderr",
          "text": [
            "[debug] Loading youtube-nsig.d60b0ef9 from cache\n",
            "[debug] [youtube] Decrypted nsig S8D-ggYms_6zS9W4 => i9plsLcOL4fR-w\n",
            "[debug] Loading youtube-nsig.d60b0ef9 from cache\n",
            "[debug] [youtube] Decrypted nsig D0AhPoIKI7BdAMPg => JN5F0T53p9i1yg\n"
          ]
        },
        {
          "output_type": "stream",
          "name": "stdout",
          "text": [
            "[youtube] 4u5I8GYB79Y: Downloading m3u8 information\n"
          ]
        },
        {
          "output_type": "stream",
          "name": "stderr",
          "text": [
            "[debug] Sort order given by extractor: quality, res, fps, hdr:12, source, vcodec:vp9.2, channels, acodec, lang, proto\n",
            "[debug] Formats sorted by: hasvid, ie_pref, quality, res, fps, hdr:12(7), source, vcodec:vp9.2(10), channels, acodec, lang, proto, size, br, asr, vext, aext, hasaud, id\n"
          ]
        },
        {
          "output_type": "stream",
          "name": "stdout",
          "text": [
            "[info] 4u5I8GYB79Y: Downloading 1 format(s): 251\n"
          ]
        },
        {
          "output_type": "stream",
          "name": "stderr",
          "text": [
            "[debug] Invoking http downloader on \"https://rr3---sn-q4fl6nsk.googlevideo.com/videoplayback?expire=1721623014&ei=ho2dZpugE_aZsfIP-IaygAI&ip=34.125.100.56&id=o-AFVMv19EpLRyl4e0Gdp1VgZEEDzW_OPmgWljeYHuaMCD&itag=251&source=youtube&requiressl=yes&xpc=EgVo2aDSNQ%3D%3D&mh=po&mm=31%2C29&mn=sn-q4fl6nsk%2Csn-q4flrnss&ms=au%2Crdu&mv=m&mvi=3&pl=20&bui=AXc671L4b8oYC7EOK1wkSGBVAVoaCasLkpmZHbQcpmFpuBLko79lcZTKcve1MPKCxTiPNRx-ASHChhbE&spc=NO7bAeF0g5RGtgqd_tP88ti_f3N7Df0FCEdOrMf_AoKuV8MR-vpe3I2kq1sx&vprv=1&svpuc=1&mime=audio%2Fwebm&ns=HJv2XTdoBK7oXOPbaMEbhZQQ&rqh=1&gir=yes&clen=9057600&dur=539.501&lmt=1715705707863811&mt=1721601166&fvip=2&keepalive=yes&c=WEB&sefc=1&txp=4532434&n=JN5F0T53p9i1yg&sparams=expire%2Cei%2Cip%2Cid%2Citag%2Csource%2Crequiressl%2Cxpc%2Cbui%2Cspc%2Cvprv%2Csvpuc%2Cmime%2Cns%2Crqh%2Cgir%2Cclen%2Cdur%2Clmt&sig=AJfQdSswRQIhAN-4hXZLJT3yDK3DY6tSui_xpi98XXEyJ0L0nR5RYAxBAiBK_HHfrVZG3Y8gIzWpkVKAo7w61nZrnGIDPhth3mgXXg%3D%3D&lsparams=mh%2Cmm%2Cmn%2Cms%2Cmv%2Cmvi%2Cpl&lsig=AHlkHjAwRQIhAIJUfopvLXTO6d5WYfyfWk1G7MkUWR4y4ZG07idJliT-AiAmBwj13_v4-lKIVcsd_X12cNGZYVv5jSw9GdmG8d9Ldw%3D%3D\"\n"
          ]
        },
        {
          "output_type": "stream",
          "name": "stdout",
          "text": [
            "[download] Destination: ./downloads/The Deadliest Virus on Earth.webm\n",
            "[download] 100% of    8.64MiB in 00:00:00 at 15.05MiB/s  \n"
          ]
        },
        {
          "output_type": "stream",
          "name": "stderr",
          "text": [
            "[debug] ffmpeg command line: ffprobe -show_streams 'file:./downloads/The Deadliest Virus on Earth.webm'\n"
          ]
        },
        {
          "output_type": "stream",
          "name": "stdout",
          "text": [
            "[ExtractAudio] Destination: ./downloads/The Deadliest Virus on Earth.mp3\n"
          ]
        },
        {
          "output_type": "stream",
          "name": "stderr",
          "text": [
            "[debug] ffmpeg command line: ffmpeg -y -loglevel repeat+info -i 'file:./downloads/The Deadliest Virus on Earth.webm' -vn -acodec libmp3lame -b:a 192.0k -movflags +faststart 'file:./downloads/The Deadliest Virus on Earth.mp3'\n"
          ]
        },
        {
          "output_type": "stream",
          "name": "stdout",
          "text": [
            "Deleting original file ./downloads/The Deadliest Virus on Earth.webm (pass -k to keep)\n",
            "[download] Downloading item 9 of 20\n",
            "[youtube] Extracting URL: https://www.youtube.com/watch?v=LmpuerlbJu0\n",
            "[youtube] LmpuerlbJu0: Downloading webpage\n",
            "[youtube] LmpuerlbJu0: Downloading ios player API JSON\n"
          ]
        },
        {
          "output_type": "stream",
          "name": "stderr",
          "text": [
            "[debug] Loading youtube-nsig.d60b0ef9 from cache\n",
            "[debug] [youtube] Decrypted nsig O5z0N0F67mBMVMPx => JA_CAa5A-xdGfQ\n",
            "[debug] Loading youtube-nsig.d60b0ef9 from cache\n",
            "[debug] [youtube] Decrypted nsig qpCOsddqQGTKcZz7 => WV0epz_nUEaDfA\n"
          ]
        },
        {
          "output_type": "stream",
          "name": "stdout",
          "text": [
            "[youtube] LmpuerlbJu0: Downloading m3u8 information\n"
          ]
        },
        {
          "output_type": "stream",
          "name": "stderr",
          "text": [
            "[debug] Sort order given by extractor: quality, res, fps, hdr:12, source, vcodec:vp9.2, channels, acodec, lang, proto\n",
            "[debug] Formats sorted by: hasvid, ie_pref, quality, res, fps, hdr:12(7), source, vcodec:vp9.2(10), channels, acodec, lang, proto, size, br, asr, vext, aext, hasaud, id\n"
          ]
        },
        {
          "output_type": "stream",
          "name": "stdout",
          "text": [
            "[info] LmpuerlbJu0: Downloading 1 format(s): 251\n"
          ]
        },
        {
          "output_type": "stream",
          "name": "stderr",
          "text": [
            "[debug] Invoking http downloader on \"https://rr1---sn-q4fzenee.googlevideo.com/videoplayback?expire=1721623033&ei=mI2dZpf9O6T5sfIPwIKc0AU&ip=34.125.100.56&id=o-AJaclZbFEMBaWF2m8-KuxbGsDWc14HdY1vACqtQJFVQp&itag=251&source=youtube&requiressl=yes&xpc=EgVo2aDSNQ%3D%3D&mh=l4&mm=31%2C26&mn=sn-q4fzenee%2Csn-a5mlrnls&ms=au%2Conr&mv=m&mvi=1&pl=20&bui=AXc671Le0MOMwWL3K5w6QCfDv22A9F6O2-sxxLsMUuh9BCN0bqdYGQURXIpTrrBdmIZ_eeiZhTCJWTJW&spc=NO7bAftQKrcfrtie3tkuGTk5aUhpfakPhHDrPL3DFTIz0UlnaBrJfmNs7pz9&vprv=1&svpuc=1&mime=audio%2Fwebm&ns=VvzascGLD5bEAj5haRHDnt0Q&rqh=1&gir=yes&clen=12386029&dur=705.681&lmt=1713070752791546&mt=1721601166&fvip=2&keepalive=yes&c=WEB&sefc=1&txp=4532434&n=WV0epz_nUEaDfA&sparams=expire%2Cei%2Cip%2Cid%2Citag%2Csource%2Crequiressl%2Cxpc%2Cbui%2Cspc%2Cvprv%2Csvpuc%2Cmime%2Cns%2Crqh%2Cgir%2Cclen%2Cdur%2Clmt&sig=AJfQdSswRgIhALxWAZ5pT-Lzwch3-ujr7KAaZoV2x6h8j508pNRFeVUBAiEA97PVtdWWYG8Wov8WFuHuQj_c4egiPiMuSQxC9snMF-g%3D&lsparams=mh%2Cmm%2Cmn%2Cms%2Cmv%2Cmvi%2Cpl&lsig=AHlkHjAwRQIgQMfItMsPob5u6H9_D9-AIYoP-YNybdaRYOgHJ1tAxPoCIQC1dtrm-U_sH1LaTOUZutOAREDTpXCm8Cwg5h0WFcqDjA%3D%3D\"\n"
          ]
        },
        {
          "output_type": "stream",
          "name": "stdout",
          "text": [
            "[download] Destination: ./downloads/You Are Immune Against Every Disease.webm\n",
            "[download] 100% of   11.81MiB in 00:00:00 at 18.64MiB/s  \n"
          ]
        },
        {
          "output_type": "stream",
          "name": "stderr",
          "text": [
            "[debug] ffmpeg command line: ffprobe -show_streams 'file:./downloads/You Are Immune Against Every Disease.webm'\n"
          ]
        },
        {
          "output_type": "stream",
          "name": "stdout",
          "text": [
            "[ExtractAudio] Destination: ./downloads/You Are Immune Against Every Disease.mp3\n"
          ]
        },
        {
          "output_type": "stream",
          "name": "stderr",
          "text": [
            "[debug] ffmpeg command line: ffmpeg -y -loglevel repeat+info -i 'file:./downloads/You Are Immune Against Every Disease.webm' -vn -acodec libmp3lame -b:a 192.0k -movflags +faststart 'file:./downloads/You Are Immune Against Every Disease.mp3'\n"
          ]
        },
        {
          "output_type": "stream",
          "name": "stdout",
          "text": [
            "Deleting original file ./downloads/You Are Immune Against Every Disease.webm (pass -k to keep)\n",
            "[download] Downloading item 10 of 20\n",
            "[youtube] Extracting URL: https://www.youtube.com/watch?v=0FRVx_c9T0c\n",
            "[youtube] 0FRVx_c9T0c: Downloading webpage\n",
            "[youtube] 0FRVx_c9T0c: Downloading ios player API JSON\n"
          ]
        },
        {
          "output_type": "stream",
          "name": "stderr",
          "text": [
            "[debug] Loading youtube-nsig.d60b0ef9 from cache\n",
            "[debug] [youtube] Decrypted nsig eLGzm5oKenjbfl2A => yz3ZFoRNDbBRRg\n",
            "[debug] Loading youtube-nsig.d60b0ef9 from cache\n",
            "[debug] [youtube] Decrypted nsig 82uSWdHq8YK0lwhz => 5BwEp4_ptfgBhA\n"
          ]
        },
        {
          "output_type": "stream",
          "name": "stdout",
          "text": [
            "[youtube] 0FRVx_c9T0c: Downloading m3u8 information\n"
          ]
        },
        {
          "output_type": "stream",
          "name": "stderr",
          "text": [
            "[debug] Sort order given by extractor: quality, res, fps, hdr:12, source, vcodec:vp9.2, channels, acodec, lang, proto\n",
            "[debug] Formats sorted by: hasvid, ie_pref, quality, res, fps, hdr:12(7), source, vcodec:vp9.2(10), channels, acodec, lang, proto, size, br, asr, vext, aext, hasaud, id\n"
          ]
        },
        {
          "output_type": "stream",
          "name": "stdout",
          "text": [
            "[info] 0FRVx_c9T0c: Downloading 1 format(s): 251\n"
          ]
        },
        {
          "output_type": "stream",
          "name": "stderr",
          "text": [
            "[debug] Invoking http downloader on \"https://rr4---sn-q4fl6ns7.googlevideo.com/videoplayback?expire=1721623056&ei=sI2dZvfULoTBsfIP0a-s6A4&ip=34.125.100.56&id=o-AICn4tIhI7bQsmp4d3-R2NvEmQkwQa5CoTiJvllnnl1s&itag=251&source=youtube&requiressl=yes&xpc=EgVo2aDSNQ%3D%3D&mh=Bz&mm=31%2C29&mn=sn-q4fl6ns7%2Csn-q4flrnsk&ms=au%2Crdu&mv=m&mvi=4&pl=20&bui=AXc671JoyPMjJD9Q_BIXEvD6ov92hUbbSybz7gRXiL7R38QD47AJ2Ud75bs-umMlsYoqgPnS1DN-lOVn&spc=NO7bAe0nQYESWk-XIssYUGyMS3D1CJogNLNnHUvrXITO_4AQYx42BN2PwTIH&vprv=1&svpuc=1&mime=audio%2Fwebm&ns=9WbtXSdn21PPKEVisDMgYN8Q&rqh=1&gir=yes&clen=27378501&dur=1555.461&lmt=1717129055097301&mt=1721600926&fvip=4&keepalive=yes&c=WEB&sefc=1&txp=4532434&n=5BwEp4_ptfgBhA&sparams=expire%2Cei%2Cip%2Cid%2Citag%2Csource%2Crequiressl%2Cxpc%2Cbui%2Cspc%2Cvprv%2Csvpuc%2Cmime%2Cns%2Crqh%2Cgir%2Cclen%2Cdur%2Clmt&sig=AJfQdSswRQIgD7piJVWdluKxQiPKH9UmYE-Hv9GzWsGMAbldbFSk3CoCIQC3jlDaLerurFhhqHxNMfuXnCLJ5hN9gLKGqsOutIsJYw%3D%3D&lsparams=mh%2Cmm%2Cmn%2Cms%2Cmv%2Cmvi%2Cpl&lsig=AHlkHjAwRgIhALUdci1xuiUk3f5RNF4PSvJmdBK4KAVdZHannm6H-E3MAiEA2TPh6-HBaAOUhnUJrRVf8rz-15zOPSAjcRRw4ao8Wbg%3D\"\n"
          ]
        },
        {
          "output_type": "stream",
          "name": "stdout",
          "text": [
            "[download] Destination: ./downloads/Two Chapters From Our New Book – Exclusive Preview!.webm\n",
            "[download] 100% of   26.11MiB in 00:00:01 at 20.44MiB/s  \n"
          ]
        },
        {
          "output_type": "stream",
          "name": "stderr",
          "text": [
            "[debug] ffmpeg command line: ffprobe -show_streams 'file:./downloads/Two Chapters From Our New Book – Exclusive Preview!.webm'\n"
          ]
        },
        {
          "output_type": "stream",
          "name": "stdout",
          "text": [
            "[ExtractAudio] Destination: ./downloads/Two Chapters From Our New Book – Exclusive Preview!.mp3\n"
          ]
        },
        {
          "output_type": "stream",
          "name": "stderr",
          "text": [
            "[debug] ffmpeg command line: ffmpeg -y -loglevel repeat+info -i 'file:./downloads/Two Chapters From Our New Book – Exclusive Preview!.webm' -vn -acodec libmp3lame -b:a 192.0k -movflags +faststart 'file:./downloads/Two Chapters From Our New Book – Exclusive Preview!.mp3'\n"
          ]
        },
        {
          "output_type": "stream",
          "name": "stdout",
          "text": [
            "Deleting original file ./downloads/Two Chapters From Our New Book – Exclusive Preview!.webm (pass -k to keep)\n",
            "[download] Downloading item 11 of 20\n",
            "[youtube] Extracting URL: https://www.youtube.com/watch?v=1-NxodiGPCU\n",
            "[youtube] 1-NxodiGPCU: Downloading webpage\n",
            "[youtube] 1-NxodiGPCU: Downloading ios player API JSON\n"
          ]
        },
        {
          "output_type": "stream",
          "name": "stderr",
          "text": [
            "[debug] Loading youtube-nsig.d60b0ef9 from cache\n",
            "[debug] [youtube] Decrypted nsig c_ZMp_eq1oXT5H4o => Ei5fLPNrPsAKhA\n",
            "[debug] Loading youtube-nsig.d60b0ef9 from cache\n",
            "[debug] [youtube] Decrypted nsig kNOHxA866GZieVvl => SnDtMw9bXo502Q\n"
          ]
        },
        {
          "output_type": "stream",
          "name": "stdout",
          "text": [
            "[youtube] 1-NxodiGPCU: Downloading m3u8 information\n"
          ]
        },
        {
          "output_type": "stream",
          "name": "stderr",
          "text": [
            "[debug] Sort order given by extractor: quality, res, fps, hdr:12, source, vcodec:vp9.2, channels, acodec, lang, proto\n",
            "[debug] Formats sorted by: hasvid, ie_pref, quality, res, fps, hdr:12(7), source, vcodec:vp9.2(10), channels, acodec, lang, proto, size, br, asr, vext, aext, hasaud, id\n"
          ]
        },
        {
          "output_type": "stream",
          "name": "stdout",
          "text": [
            "[info] 1-NxodiGPCU: Downloading 1 format(s): 251\n"
          ]
        },
        {
          "output_type": "stream",
          "name": "stderr",
          "text": [
            "[debug] Invoking http downloader on \"https://rr4---sn-q4fl6nsl.googlevideo.com/videoplayback?expire=1721623103&ei=342dZvHFM7K-sfIP4I-WuQg&ip=34.125.100.56&id=o-AD6-7dVW0JkS1xTLZ7HMfBqupe4sa82wyykqvnWDgPO2&itag=251&source=youtube&requiressl=yes&xpc=EgVo2aDSNQ%3D%3D&mh=8L&mm=31%2C29&mn=sn-q4fl6nsl%2Csn-q4flrn7r&ms=au%2Crdu&mv=m&mvi=4&pl=20&bui=AXc671IwCp0Ex2_KKLsbU39Z-cT1dQOFpcoMr-tJHXSo4EFHYr7Tw0PMiIkqqcoKX69AzyvhjX24IOGh&spc=NO7bAYg2xrf0oGD35abHj-OGKCdRCr7mFsDudJBpxI2wkPbIZFa-uKdkadFv&vprv=1&svpuc=1&xtags=acont%3Doriginal%3Alang%3Den&mime=audio%2Fwebm&ns=uUEF-vbpUUuwNpPyG6zwTRAQ&rqh=1&gir=yes&clen=9919265&dur=573.221&lmt=1715722155530289&mt=1721601166&fvip=5&keepalive=yes&c=WEB&sefc=1&txp=4532434&n=SnDtMw9bXo502Q&sparams=expire%2Cei%2Cip%2Cid%2Citag%2Csource%2Crequiressl%2Cxpc%2Cbui%2Cspc%2Cvprv%2Csvpuc%2Cxtags%2Cmime%2Cns%2Crqh%2Cgir%2Cclen%2Cdur%2Clmt&sig=AJfQdSswRQIhALF_tqqrbgbEYjz7-148n6IRVAEh9Isjt25ckck19fIqAiA4md7CVu_o2n3U5QDU2KGrvFm5oP5fjJFY0FSjToH3_A%3D%3D&lsparams=mh%2Cmm%2Cmn%2Cms%2Cmv%2Cmvi%2Cpl&lsig=AHlkHjAwRQIgDR6QsApJzrSwn158oV3hnHNldKJlat69twVFpgyLSXYCIQCWMkzZIk4ZjFmi6O-VkkGIhS7xZBAFsSd6cInCCH6bUQ%3D%3D\"\n"
          ]
        },
        {
          "output_type": "stream",
          "name": "stdout",
          "text": [
            "[download] Destination: ./downloads/This Virus Shouldn't Exist (But it Does).webm\n",
            "[download] 100% of    9.46MiB in 00:00:00 at 13.36MiB/s  \n"
          ]
        },
        {
          "output_type": "stream",
          "name": "stderr",
          "text": [
            "[debug] ffmpeg command line: ffprobe -show_streams 'file:./downloads/This Virus Shouldn'\"'\"'t Exist (But it Does).webm'\n"
          ]
        },
        {
          "output_type": "stream",
          "name": "stdout",
          "text": [
            "[ExtractAudio] Destination: ./downloads/This Virus Shouldn't Exist (But it Does).mp3\n"
          ]
        },
        {
          "output_type": "stream",
          "name": "stderr",
          "text": [
            "[debug] ffmpeg command line: ffmpeg -y -loglevel repeat+info -i 'file:./downloads/This Virus Shouldn'\"'\"'t Exist (But it Does).webm' -vn -acodec libmp3lame -b:a 192.0k -movflags +faststart 'file:./downloads/This Virus Shouldn'\"'\"'t Exist (But it Does).mp3'\n"
          ]
        },
        {
          "output_type": "stream",
          "name": "stdout",
          "text": [
            "Deleting original file ./downloads/This Virus Shouldn't Exist (But it Does).webm (pass -k to keep)\n",
            "[download] Downloading item 12 of 20\n",
            "[youtube] Extracting URL: https://www.youtube.com/watch?v=lXfEK8G8CUI\n",
            "[youtube] lXfEK8G8CUI: Downloading webpage\n",
            "[youtube] lXfEK8G8CUI: Downloading ios player API JSON\n"
          ]
        },
        {
          "output_type": "stream",
          "name": "stderr",
          "text": [
            "[debug] Loading youtube-nsig.d60b0ef9 from cache\n",
            "[debug] [youtube] Decrypted nsig pL57MixK4f-F17ys => glX6WKq3kAf_4g\n",
            "[debug] Loading youtube-nsig.d60b0ef9 from cache\n",
            "[debug] [youtube] Decrypted nsig M3V5AH66en1q4fkN => 0zIr3Y4fqPMy1Q\n"
          ]
        },
        {
          "output_type": "stream",
          "name": "stdout",
          "text": [
            "[youtube] lXfEK8G8CUI: Downloading m3u8 information\n"
          ]
        },
        {
          "output_type": "stream",
          "name": "stderr",
          "text": [
            "[debug] Sort order given by extractor: quality, res, fps, hdr:12, source, vcodec:vp9.2, channels, acodec, lang, proto\n",
            "[debug] Formats sorted by: hasvid, ie_pref, quality, res, fps, hdr:12(7), source, vcodec:vp9.2(10), channels, acodec, lang, proto, size, br, asr, vext, aext, hasaud, id\n"
          ]
        },
        {
          "output_type": "stream",
          "name": "stdout",
          "text": [
            "[info] lXfEK8G8CUI: Downloading 1 format(s): 251\n"
          ]
        },
        {
          "output_type": "stream",
          "name": "stderr",
          "text": [
            "[debug] Invoking http downloader on \"https://rr2---sn-q4fzen7y.googlevideo.com/videoplayback?expire=1721623123&ei=842dZurZLuSLsfIP8MCeqAI&ip=34.125.100.56&id=o-AKKuWFt_S-OUsM-lnEiaAsLLdUM-_bXcDGK1A6gQeNBC&itag=251&source=youtube&requiressl=yes&xpc=EgVo2aDSNQ%3D%3D&mh=1E&mm=31%2C26&mn=sn-q4fzen7y%2Csn-a5msenll&ms=au%2Conr&mv=m&mvi=2&pl=20&bui=AXc671IbMTcHhqsDsILX2OwRX_iWWxlGO9k9gqcpuLpxdR476zi5y4E2i_PSPT20hxzUTQ_Wr2AVLKhU&spc=NO7bAZkjNI80wpJz8MfiT6UslP9uTqM8nd3Va1p5CiF6RgTWcd4F7plzVyMl&vprv=1&svpuc=1&mime=audio%2Fwebm&ns=-ZZkHZbIe6FC3nrwnCWnmCQQ&rqh=1&gir=yes&clen=11297005&dur=647.541&lmt=1713020164754919&mt=1721601166&fvip=1&keepalive=yes&c=WEB&sefc=1&txp=4532434&n=0zIr3Y4fqPMy1Q&sparams=expire%2Cei%2Cip%2Cid%2Citag%2Csource%2Crequiressl%2Cxpc%2Cbui%2Cspc%2Cvprv%2Csvpuc%2Cmime%2Cns%2Crqh%2Cgir%2Cclen%2Cdur%2Clmt&sig=AJfQdSswRAIgNc8yRHrZLQg3N6qtLXEbXPrVGmKA_dKkcGboYm9pockCIEAo4s1U1zVuMFo2_KTETa2OQQeYB7A1Y9K5oa2781jl&lsparams=mh%2Cmm%2Cmn%2Cms%2Cmv%2Cmvi%2Cpl&lsig=AHlkHjAwRQIgJ76D9qesl-REOCRH30WDhQNp2AUw3UCRbtwGsbuwC-4CIQChrb68e1bmj8QL_ClyGQjnLiPUfJWffp8rZCQcKieKgg%3D%3D\"\n"
          ]
        },
        {
          "output_type": "stream",
          "name": "stdout",
          "text": [
            "[download] Destination: ./downloads/How The Immune System ACTUALLY Works – IMMUNE.webm\n",
            "[download] 100% of   10.77MiB in 00:00:00 at 16.25MiB/s  \n"
          ]
        },
        {
          "output_type": "stream",
          "name": "stderr",
          "text": [
            "[debug] ffmpeg command line: ffprobe -show_streams 'file:./downloads/How The Immune System ACTUALLY Works – IMMUNE.webm'\n"
          ]
        },
        {
          "output_type": "stream",
          "name": "stdout",
          "text": [
            "[ExtractAudio] Destination: ./downloads/How The Immune System ACTUALLY Works – IMMUNE.mp3\n"
          ]
        },
        {
          "output_type": "stream",
          "name": "stderr",
          "text": [
            "[debug] ffmpeg command line: ffmpeg -y -loglevel repeat+info -i 'file:./downloads/How The Immune System ACTUALLY Works – IMMUNE.webm' -vn -acodec libmp3lame -b:a 192.0k -movflags +faststart 'file:./downloads/How The Immune System ACTUALLY Works – IMMUNE.mp3'\n"
          ]
        },
        {
          "output_type": "stream",
          "name": "stdout",
          "text": [
            "Deleting original file ./downloads/How The Immune System ACTUALLY Works – IMMUNE.webm (pass -k to keep)\n",
            "[download] Downloading item 13 of 20\n",
            "[youtube] Extracting URL: https://www.youtube.com/watch?v=BtN-goy9VOY\n",
            "[youtube] BtN-goy9VOY: Downloading webpage\n",
            "[youtube] BtN-goy9VOY: Downloading ios player API JSON\n"
          ]
        },
        {
          "output_type": "stream",
          "name": "stderr",
          "text": [
            "[debug] Loading youtube-nsig.d60b0ef9 from cache\n",
            "[debug] [youtube] Decrypted nsig k8Jpubnm6o4ou7IE => gngYnsEQ4yJk8w\n",
            "[debug] Loading youtube-nsig.d60b0ef9 from cache\n",
            "[debug] [youtube] Decrypted nsig UwDwUjMmx5ZKCMdz => Je2JX6HLg4LBEw\n"
          ]
        },
        {
          "output_type": "stream",
          "name": "stdout",
          "text": [
            "[youtube] BtN-goy9VOY: Downloading m3u8 information\n"
          ]
        },
        {
          "output_type": "stream",
          "name": "stderr",
          "text": [
            "[debug] Sort order given by extractor: quality, res, fps, hdr:12, source, vcodec:vp9.2, channels, acodec, lang, proto\n",
            "[debug] Formats sorted by: hasvid, ie_pref, quality, res, fps, hdr:12(7), source, vcodec:vp9.2(10), channels, acodec, lang, proto, size, br, asr, vext, aext, hasaud, id\n"
          ]
        },
        {
          "output_type": "stream",
          "name": "stdout",
          "text": [
            "[info] BtN-goy9VOY: Downloading 1 format(s): 251\n"
          ]
        },
        {
          "output_type": "stream",
          "name": "stderr",
          "text": [
            "[debug] Invoking http downloader on \"https://rr3---sn-q4fl6n6z.googlevideo.com/videoplayback?expire=1721623145&ei=CY6dZoyqJN6LsfIPy9ai2Ag&ip=34.125.100.56&id=o-AK8EtKheOdApdnKw84sGrw1BXcclwI0dyU_1W6JovG9u&itag=251&source=youtube&requiressl=yes&xpc=EgVo2aDSNQ%3D%3D&mh=IU&mm=31%2C29&mn=sn-q4fl6n6z%2Csn-q4flrnes&ms=au%2Crdu&mv=m&mvi=3&pl=20&bui=AXc671JFu9E9bptQbmHTr7XnvmWBQYY7L0f3O_WPl85pUDl0_BwqvA26egMCCSwEVqaaluAP9X2xeCjF&spc=NO7bAV3U8Mqhr6Y275L5x4tjqSNztCdE_SLa2d46bGXFRes984O7b9not1nR&vprv=1&svpuc=1&mime=audio%2Fwebm&ns=LqAh7CbA-_n3y_FiXcjGr_0Q&rqh=1&gir=yes&clen=8974259&dur=514.461&lmt=1709203816586110&mt=1721601166&fvip=4&keepalive=yes&c=WEB&sefc=1&txp=4532434&n=Je2JX6HLg4LBEw&sparams=expire%2Cei%2Cip%2Cid%2Citag%2Csource%2Crequiressl%2Cxpc%2Cbui%2Cspc%2Cvprv%2Csvpuc%2Cmime%2Cns%2Crqh%2Cgir%2Cclen%2Cdur%2Clmt&sig=AJfQdSswRQIgD8FpWh1GGNhLE5TkTjZl4jiOE2J7ANkvSQhaZs1ppJICIQDNGjPF_2lruY9oFwl32quWRFSwaw9adlWuZ1PEM22c9g%3D%3D&lsparams=mh%2Cmm%2Cmn%2Cms%2Cmv%2Cmvi%2Cpl&lsig=AHlkHjAwRQIhAIE5d4defQfauFccrwSg9K75pH7LyWdRehuJIVHYOQJDAiAGo-2RXzmzBDaCGWA_K1bI46UDkXHrOUxKLwXGbLNlvw%3D%3D\"\n"
          ]
        },
        {
          "output_type": "stream",
          "name": "stdout",
          "text": [
            "[download] Destination: ./downloads/The Coronavirus Explained & What You Should Do.webm\n",
            "[download] 100% of    8.56MiB in 00:00:00 at 14.86MiB/s  \n"
          ]
        },
        {
          "output_type": "stream",
          "name": "stderr",
          "text": [
            "[debug] ffmpeg command line: ffprobe -show_streams 'file:./downloads/The Coronavirus Explained & What You Should Do.webm'\n"
          ]
        },
        {
          "output_type": "stream",
          "name": "stdout",
          "text": [
            "[ExtractAudio] Destination: ./downloads/The Coronavirus Explained & What You Should Do.mp3\n"
          ]
        },
        {
          "output_type": "stream",
          "name": "stderr",
          "text": [
            "[debug] ffmpeg command line: ffmpeg -y -loglevel repeat+info -i 'file:./downloads/The Coronavirus Explained & What You Should Do.webm' -vn -acodec libmp3lame -b:a 192.0k -movflags +faststart 'file:./downloads/The Coronavirus Explained & What You Should Do.mp3'\n"
          ]
        },
        {
          "output_type": "stream",
          "name": "stdout",
          "text": [
            "Deleting original file ./downloads/The Coronavirus Explained & What You Should Do.webm (pass -k to keep)\n",
            "[download] Downloading item 14 of 20\n",
            "[youtube] Extracting URL: https://www.youtube.com/watch?v=1AElONvi9WQ\n",
            "[youtube] 1AElONvi9WQ: Downloading webpage\n",
            "[youtube] 1AElONvi9WQ: Downloading ios player API JSON\n"
          ]
        },
        {
          "output_type": "stream",
          "name": "stderr",
          "text": [
            "[debug] Loading youtube-nsig.d60b0ef9 from cache\n",
            "[debug] [youtube] Decrypted nsig ZhIniYUmpu2KyMWm => J6_hkZIwbyaMGw\n",
            "[debug] Loading youtube-nsig.d60b0ef9 from cache\n",
            "[debug] [youtube] Decrypted nsig uGj0ISj6Z3I1VZjD => WuoUeZzAIkyYcQ\n"
          ]
        },
        {
          "output_type": "stream",
          "name": "stdout",
          "text": [
            "[youtube] 1AElONvi9WQ: Downloading m3u8 information\n"
          ]
        },
        {
          "output_type": "stream",
          "name": "stderr",
          "text": [
            "[debug] Sort order given by extractor: quality, res, fps, hdr:12, source, vcodec:vp9.2, channels, acodec, lang, proto\n",
            "[debug] Formats sorted by: hasvid, ie_pref, quality, res, fps, hdr:12(7), source, vcodec:vp9.2(10), channels, acodec, lang, proto, size, br, asr, vext, aext, hasaud, id\n"
          ]
        },
        {
          "output_type": "stream",
          "name": "stdout",
          "text": [
            "[info] 1AElONvi9WQ: Downloading 1 format(s): 251\n"
          ]
        },
        {
          "output_type": "stream",
          "name": "stderr",
          "text": [
            "[debug] Invoking http downloader on \"https://rr5---sn-q4fl6n6y.googlevideo.com/videoplayback?expire=1721623163&ei=G46dZpDjMvyWsfIP17-i0AU&ip=34.125.100.56&id=o-ALn5bm8tlmDUgX-YZPfPzIlzffif8OcOwQ6izkJziOzm&itag=251&source=youtube&requiressl=yes&xpc=EgVo2aDSNQ%3D%3D&mh=Zi&mm=31%2C26&mn=sn-q4fl6n6y%2Csn-a5mekn6d&ms=au%2Conr&mv=m&mvi=5&pl=20&bui=AXc671KatShCXYUWtec6kBU8XU0-fCzuYKBJCWGgnXlEglPKMDlcKegzNpo6FswVeFWLzrnp4EOoM1Fo&spc=NO7bAY_uiD_mPKRk4UnVC9kKBpm3-OEbYO8oSd8yHM1LYAh7bMQpnKcuQrEU&vprv=1&svpuc=1&mime=audio%2Fwebm&ns=qWpbvxxa-aL_BYt1ZdC5FT8Q&rqh=1&gir=yes&clen=7832260&dur=426.461&lmt=1716574599992769&mt=1721601166&fvip=1&keepalive=yes&c=WEB&sefc=1&txp=4532434&n=WuoUeZzAIkyYcQ&sparams=expire%2Cei%2Cip%2Cid%2Citag%2Csource%2Crequiressl%2Cxpc%2Cbui%2Cspc%2Cvprv%2Csvpuc%2Cmime%2Cns%2Crqh%2Cgir%2Cclen%2Cdur%2Clmt&sig=AJfQdSswRAIgXB1gnCpPoVUo04DrNX0wVRz6ZfkCbE58z7IPbxaCinICICU3PmXcqu3m0To398A18gzG_d1kBXwceYKq1spoCfLW&lsparams=mh%2Cmm%2Cmn%2Cms%2Cmv%2Cmvi%2Cpl&lsig=AHlkHjAwRgIhALrTN4iR4lKOLO82SKXuodgE84OJTx1IjVg-RfwQYXTlAiEA75TeS12GjOE7lS9m0IqXeG9AxOqwJnHToLcnn2vjk44%3D\"\n"
          ]
        },
        {
          "output_type": "stream",
          "name": "stdout",
          "text": [
            "[download] Destination: ./downloads/Why Blue Whales Don't Get Cancer - Peto's Paradox.webm\n",
            "[download] 100% of    7.47MiB in 00:00:00 at 14.78MiB/s  \n"
          ]
        },
        {
          "output_type": "stream",
          "name": "stderr",
          "text": [
            "[debug] ffmpeg command line: ffprobe -show_streams 'file:./downloads/Why Blue Whales Don'\"'\"'t Get Cancer - Peto'\"'\"'s Paradox.webm'\n"
          ]
        },
        {
          "output_type": "stream",
          "name": "stdout",
          "text": [
            "[ExtractAudio] Destination: ./downloads/Why Blue Whales Don't Get Cancer - Peto's Paradox.mp3\n"
          ]
        },
        {
          "output_type": "stream",
          "name": "stderr",
          "text": [
            "[debug] ffmpeg command line: ffmpeg -y -loglevel repeat+info -i 'file:./downloads/Why Blue Whales Don'\"'\"'t Get Cancer - Peto'\"'\"'s Paradox.webm' -vn -acodec libmp3lame -b:a 192.0k -movflags +faststart 'file:./downloads/Why Blue Whales Don'\"'\"'t Get Cancer - Peto'\"'\"'s Paradox.mp3'\n"
          ]
        },
        {
          "output_type": "stream",
          "name": "stdout",
          "text": [
            "Deleting original file ./downloads/Why Blue Whales Don't Get Cancer - Peto's Paradox.webm (pass -k to keep)\n",
            "[download] Downloading item 15 of 20\n",
            "[youtube] Extracting URL: https://www.youtube.com/watch?v=zBkVCpbNnkU\n",
            "[youtube] zBkVCpbNnkU: Downloading webpage\n",
            "[youtube] zBkVCpbNnkU: Downloading ios player API JSON\n"
          ]
        },
        {
          "output_type": "stream",
          "name": "stderr",
          "text": [
            "[debug] Loading youtube-nsig.d60b0ef9 from cache\n",
            "[debug] [youtube] Decrypted nsig RdJysO8mFkKOn5k1 => eKVtaDtLayRBJw\n",
            "[debug] Loading youtube-nsig.d60b0ef9 from cache\n",
            "[debug] [youtube] Decrypted nsig VSoin1tmu7KG6PA5 => MbW2Bhj22zHaIw\n"
          ]
        },
        {
          "output_type": "stream",
          "name": "stdout",
          "text": [
            "[youtube] zBkVCpbNnkU: Downloading m3u8 information\n"
          ]
        },
        {
          "output_type": "stream",
          "name": "stderr",
          "text": [
            "[debug] Sort order given by extractor: quality, res, fps, hdr:12, source, vcodec:vp9.2, channels, acodec, lang, proto\n",
            "[debug] Formats sorted by: hasvid, ie_pref, quality, res, fps, hdr:12(7), source, vcodec:vp9.2(10), channels, acodec, lang, proto, size, br, asr, vext, aext, hasaud, id\n"
          ]
        },
        {
          "output_type": "stream",
          "name": "stdout",
          "text": [
            "[info] zBkVCpbNnkU: Downloading 1 format(s): 251\n"
          ]
        },
        {
          "output_type": "stream",
          "name": "stderr",
          "text": [
            "[debug] Invoking http downloader on \"https://rr4---sn-q4fzen7r.googlevideo.com/videoplayback?expire=1721623179&ei=K46dZuWZKJHasfIP6pf86Ag&ip=34.125.100.56&id=o-AC6cpsG8hjFjEivYZob_NVKUjZhUW4njN3Gkg67FO7a0&itag=251&source=youtube&requiressl=yes&xpc=EgVo2aDSNQ%3D%3D&mh=az&mm=31%2C26&mn=sn-q4fzen7r%2Csn-a5meknds&ms=au%2Conr&mv=m&mvi=4&pl=20&bui=AXc671JYR4LabDtKeWJvbdy_7vUGW5UkgtvRD09Vucm1hdMaXATaLQDW3grnRy3me4mWrpAg6i6EgX6C&spc=NO7bAX5MZijMmPMaR6pf2kv8VEAZvhnlD12SY7Oftn6RcHr49-IZTdI-AKFJ&vprv=1&svpuc=1&mime=audio%2Fwebm&ns=czhA0Mb2W9a6e7bY2hTjj9kQ&rqh=1&gir=yes&clen=11743858&dur=655.961&lmt=1709501151680534&mt=1721601166&fvip=4&keepalive=yes&c=WEB&sefc=1&txp=4532434&n=MbW2Bhj22zHaIw&sparams=expire%2Cei%2Cip%2Cid%2Citag%2Csource%2Crequiressl%2Cxpc%2Cbui%2Cspc%2Cvprv%2Csvpuc%2Cmime%2Cns%2Crqh%2Cgir%2Cclen%2Cdur%2Clmt&sig=AJfQdSswRAIgG0Prk5Fi8NSKdrQPfH23OxFWMsvnDGq7z1kH0reThawCID2hWtXPUDxEKMQoR2WdbjY945Sy-P0jf2AJ86bEN0eH&lsparams=mh%2Cmm%2Cmn%2Cms%2Cmv%2Cmvi%2Cpl&lsig=AHlkHjAwRAIgW-6qxwujXNYMgxrYjM0PCU7wMPpFIpbRyPQH7cZsixwCIA4cPbQLzwaiKhQZuewKiPwGolb3-YWH6-2FRUqy7Gcs\"\n"
          ]
        },
        {
          "output_type": "stream",
          "name": "stdout",
          "text": [
            "[download] Destination: ./downloads/The Side Effects of Vaccines - How High is the Risk？.webm\n",
            "[download] 100% of   11.20MiB in 00:00:00 at 15.85MiB/s  \n"
          ]
        },
        {
          "output_type": "stream",
          "name": "stderr",
          "text": [
            "[debug] ffmpeg command line: ffprobe -show_streams 'file:./downloads/The Side Effects of Vaccines - How High is the Risk？.webm'\n"
          ]
        },
        {
          "output_type": "stream",
          "name": "stdout",
          "text": [
            "[ExtractAudio] Destination: ./downloads/The Side Effects of Vaccines - How High is the Risk？.mp3\n"
          ]
        },
        {
          "output_type": "stream",
          "name": "stderr",
          "text": [
            "[debug] ffmpeg command line: ffmpeg -y -loglevel repeat+info -i 'file:./downloads/The Side Effects of Vaccines - How High is the Risk？.webm' -vn -acodec libmp3lame -b:a 192.0k -movflags +faststart 'file:./downloads/The Side Effects of Vaccines - How High is the Risk？.mp3'\n"
          ]
        },
        {
          "output_type": "stream",
          "name": "stdout",
          "text": [
            "Deleting original file ./downloads/The Side Effects of Vaccines - How High is the Risk？.webm (pass -k to keep)\n",
            "[download] Downloading item 16 of 20\n",
            "[youtube] Extracting URL: https://www.youtube.com/watch?v=YI3tsmFsrOg\n",
            "[youtube] YI3tsmFsrOg: Downloading webpage\n",
            "[youtube] YI3tsmFsrOg: Downloading ios player API JSON\n"
          ]
        },
        {
          "output_type": "stream",
          "name": "stderr",
          "text": [
            "[debug] Loading youtube-nsig.d60b0ef9 from cache\n",
            "[debug] [youtube] Decrypted nsig eyWSo6yKZn2j0H3S => EuJ7Glm67t3nCg\n",
            "[debug] Loading youtube-nsig.d60b0ef9 from cache\n",
            "[debug] [youtube] Decrypted nsig nVVneb5qIuOzbPjn => MNgqnWC1VRdgMA\n"
          ]
        },
        {
          "output_type": "stream",
          "name": "stdout",
          "text": [
            "[youtube] YI3tsmFsrOg: Downloading m3u8 information\n"
          ]
        },
        {
          "output_type": "stream",
          "name": "stderr",
          "text": [
            "[debug] Sort order given by extractor: quality, res, fps, hdr:12, source, vcodec:vp9.2, channels, acodec, lang, proto\n",
            "[debug] Formats sorted by: hasvid, ie_pref, quality, res, fps, hdr:12(7), source, vcodec:vp9.2(10), channels, acodec, lang, proto, size, br, asr, vext, aext, hasaud, id\n"
          ]
        },
        {
          "output_type": "stream",
          "name": "stdout",
          "text": [
            "[info] YI3tsmFsrOg: Downloading 1 format(s): 251\n"
          ]
        },
        {
          "output_type": "stream",
          "name": "stderr",
          "text": [
            "[debug] Invoking http downloader on \"https://rr3---sn-q4fl6nds.googlevideo.com/videoplayback?expire=1721623201&ei=QY6dZtmBLOSYsfIP79KZ2AI&ip=34.125.100.56&id=o-AB2ntqfkaE46JmYg_AYgN9P78A-kOvuGZjfHA692WVfo&itag=251&source=youtube&requiressl=yes&xpc=EgVo2aDSNQ%3D%3D&mh=kK&mm=31%2C29&mn=sn-q4fl6nds%2Csn-q4flrnek&ms=au%2Crdu&mv=m&mvi=3&pl=20&bui=AXc671KX1t9yxBZoYMyZUS-Z1KrlP-uKkBWdRZuy3ZmiJ1jOSGcMhAxfRpV63w8ouWmKteDgNEJ9qTVO&spc=NO7bAcXAFqbZFC9JC-mPpSSX-r6aevv-IXFn8TdmEsGCHmE_nagIDFksSzzn&vprv=1&svpuc=1&xtags=acont%3Doriginal%3Alang%3Den&mime=audio%2Fwebm&ns=jPs2Ker35rxv425Q75Itxu8Q&rqh=1&gir=yes&clen=7203680&dur=428.221&lmt=1709138919630084&mt=1721601166&fvip=1&keepalive=yes&c=WEB&sefc=1&txp=4532434&n=MNgqnWC1VRdgMA&sparams=expire%2Cei%2Cip%2Cid%2Citag%2Csource%2Crequiressl%2Cxpc%2Cbui%2Cspc%2Cvprv%2Csvpuc%2Cxtags%2Cmime%2Cns%2Crqh%2Cgir%2Cclen%2Cdur%2Clmt&sig=AJfQdSswRgIhAMnSgf0SFcxTQjjslDtysAJSI4WNrOdHK9X4k36gASluAiEA_bpCm1bs39LMKbFGz4G4mm_AR0h0BTBkSfsTInkQq9c%3D&lsparams=mh%2Cmm%2Cmn%2Cms%2Cmv%2Cmvi%2Cpl&lsig=AHlkHjAwRgIhANGoU7ltzGHLh9ZsKDgtyJfmlcsbKV3zaiBWZQAOKSy8AiEAq4Sa71yOZyD30VDrKOUwcTYTJ0HDPiE_oSieCpnM1Mg%3D\"\n"
          ]
        },
        {
          "output_type": "stream",
          "name": "stdout",
          "text": [
            "[download] Destination: ./downloads/The Deadliest Being on Planet Earth – The Bacteriophage.webm\n",
            "[download] 100% of    6.87MiB in 00:00:00 at 13.04MiB/s  \n"
          ]
        },
        {
          "output_type": "stream",
          "name": "stderr",
          "text": [
            "[debug] ffmpeg command line: ffprobe -show_streams 'file:./downloads/The Deadliest Being on Planet Earth – The Bacteriophage.webm'\n"
          ]
        },
        {
          "output_type": "stream",
          "name": "stdout",
          "text": [
            "[ExtractAudio] Destination: ./downloads/The Deadliest Being on Planet Earth – The Bacteriophage.mp3\n"
          ]
        },
        {
          "output_type": "stream",
          "name": "stderr",
          "text": [
            "[debug] ffmpeg command line: ffmpeg -y -loglevel repeat+info -i 'file:./downloads/The Deadliest Being on Planet Earth – The Bacteriophage.webm' -vn -acodec libmp3lame -b:a 192.0k -movflags +faststart 'file:./downloads/The Deadliest Being on Planet Earth – The Bacteriophage.mp3'\n"
          ]
        },
        {
          "output_type": "stream",
          "name": "stdout",
          "text": [
            "Deleting original file ./downloads/The Deadliest Being on Planet Earth – The Bacteriophage.webm (pass -k to keep)\n",
            "[download] Downloading item 17 of 20\n",
            "[youtube] Extracting URL: https://www.youtube.com/watch?v=qNWWrDBRBqk\n",
            "[youtube] qNWWrDBRBqk: Downloading webpage\n",
            "[youtube] qNWWrDBRBqk: Downloading ios player API JSON\n"
          ]
        },
        {
          "output_type": "stream",
          "name": "stderr",
          "text": [
            "[debug] Loading youtube-nsig.d60b0ef9 from cache\n",
            "[debug] [youtube] Decrypted nsig oSDUFTyKfFIgSU2g => RoD7fKNBcDlk-g\n",
            "[debug] Loading youtube-nsig.d60b0ef9 from cache\n",
            "[debug] [youtube] Decrypted nsig Puk8SPjqNSKqn_CQ => kSDUbHc255_L3A\n"
          ]
        },
        {
          "output_type": "stream",
          "name": "stdout",
          "text": [
            "[youtube] qNWWrDBRBqk: Downloading m3u8 information\n"
          ]
        },
        {
          "output_type": "stream",
          "name": "stderr",
          "text": [
            "[debug] Sort order given by extractor: quality, res, fps, hdr:12, source, vcodec:vp9.2, channels, acodec, lang, proto\n",
            "[debug] Formats sorted by: hasvid, ie_pref, quality, res, fps, hdr:12(7), source, vcodec:vp9.2(10), channels, acodec, lang, proto, size, br, asr, vext, aext, hasaud, id\n"
          ]
        },
        {
          "output_type": "stream",
          "name": "stdout",
          "text": [
            "[info] qNWWrDBRBqk: Downloading 1 format(s): 251\n"
          ]
        },
        {
          "output_type": "stream",
          "name": "stderr",
          "text": [
            "[debug] Invoking http downloader on \"https://rr4---sn-q4flrn7y.googlevideo.com/videoplayback?expire=1721623217&ei=UY6dZuqACOeosfIP07qPyAw&ip=34.125.100.56&id=o-AFAWgXvnMjfwtz1ygmzbiFGHKC7lF5nZ8bknJJRhxrM6&itag=251&source=youtube&requiressl=yes&xpc=EgVo2aDSNQ%3D%3D&mh=3P&mm=31%2C26&mn=sn-q4flrn7y%2Csn-a5msen76&ms=au%2Conr&mv=m&mvi=4&pl=20&bui=AXc671LcWqKGeB3mEREBwexf5lYZC-VYyfO9KysW1yEA_ICMMf1l9H3DeF-yviLtzOEledNRNzeBonHH&spc=NO7bAVKTx97Wt94UNSrYsFfufcIBtG8apIABnZjV7dgxNUooN1kSkrF5114N&vprv=1&svpuc=1&mime=audio%2Fwebm&ns=pDKaSs_7v-7c8Khh-TCZPXkQ&rqh=1&gir=yes&clen=6076479&dur=342.301&lmt=1709148041769864&mt=1721601166&fvip=5&keepalive=yes&c=WEB&sefc=1&txp=4532434&n=kSDUbHc255_L3A&sparams=expire%2Cei%2Cip%2Cid%2Citag%2Csource%2Crequiressl%2Cxpc%2Cbui%2Cspc%2Cvprv%2Csvpuc%2Cmime%2Cns%2Crqh%2Cgir%2Cclen%2Cdur%2Clmt&sig=AJfQdSswRAIgJwbFUB6LMvCuI_EC9jt-v-26UcSYRViYyRPnIk5K2KgCIGFki1S4Dwmq4GMTwgY4_a9JfnvxqvpXy5c6MxObAnV1&lsparams=mh%2Cmm%2Cmn%2Cms%2Cmv%2Cmvi%2Cpl&lsig=AHlkHjAwRQIhAIFeWWnzv9h5i6OfMdyV7x5NY8z1aInPj5kwAkuBY8t4AiA4AcVLCWRGB6mOrir-6BePtlU4GyvAGdOMlgBmrMKrww%3D%3D\"\n"
          ]
        },
        {
          "output_type": "stream",
          "name": "stdout",
          "text": [
            "[download] Destination: ./downloads/The Most Gruesome Parasites – Neglected Tropical Diseases – NTDs.webm\n",
            "[download] 100% of    5.79MiB in 00:00:00 at 10.39MiB/s  \n"
          ]
        },
        {
          "output_type": "stream",
          "name": "stderr",
          "text": [
            "[debug] ffmpeg command line: ffprobe -show_streams 'file:./downloads/The Most Gruesome Parasites – Neglected Tropical Diseases – NTDs.webm'\n"
          ]
        },
        {
          "output_type": "stream",
          "name": "stdout",
          "text": [
            "[ExtractAudio] Destination: ./downloads/The Most Gruesome Parasites – Neglected Tropical Diseases – NTDs.mp3\n"
          ]
        },
        {
          "output_type": "stream",
          "name": "stderr",
          "text": [
            "[debug] ffmpeg command line: ffmpeg -y -loglevel repeat+info -i 'file:./downloads/The Most Gruesome Parasites – Neglected Tropical Diseases – NTDs.webm' -vn -acodec libmp3lame -b:a 192.0k -movflags +faststart 'file:./downloads/The Most Gruesome Parasites – Neglected Tropical Diseases – NTDs.mp3'\n"
          ]
        },
        {
          "output_type": "stream",
          "name": "stdout",
          "text": [
            "Deleting original file ./downloads/The Most Gruesome Parasites – Neglected Tropical Diseases – NTDs.webm (pass -k to keep)\n",
            "[download] Downloading item 18 of 20\n",
            "[youtube] Extracting URL: https://www.youtube.com/watch?v=TnzcwTyr6cE\n",
            "[youtube] TnzcwTyr6cE: Downloading webpage\n",
            "[youtube] TnzcwTyr6cE: Downloading ios player API JSON\n"
          ]
        },
        {
          "output_type": "stream",
          "name": "stderr",
          "text": [
            "[debug] Loading youtube-nsig.d60b0ef9 from cache\n",
            "[debug] [youtube] Decrypted nsig GQn7lHJqIfuvXmKf => zNoG3TI9B3c4bA\n",
            "[debug] Loading youtube-nsig.d60b0ef9 from cache\n",
            "[debug] [youtube] Decrypted nsig TXsmA-06Dojd7kLr => xID9KMSuC4wIpQ\n"
          ]
        },
        {
          "output_type": "stream",
          "name": "stdout",
          "text": [
            "[youtube] TnzcwTyr6cE: Downloading m3u8 information\n"
          ]
        },
        {
          "output_type": "stream",
          "name": "stderr",
          "text": [
            "[debug] Sort order given by extractor: quality, res, fps, hdr:12, source, vcodec:vp9.2, channels, acodec, lang, proto\n",
            "[debug] Formats sorted by: hasvid, ie_pref, quality, res, fps, hdr:12(7), source, vcodec:vp9.2(10), channels, acodec, lang, proto, size, br, asr, vext, aext, hasaud, id\n"
          ]
        },
        {
          "output_type": "stream",
          "name": "stdout",
          "text": [
            "[info] TnzcwTyr6cE: Downloading 1 format(s): 251\n"
          ]
        },
        {
          "output_type": "stream",
          "name": "stderr",
          "text": [
            "[debug] Invoking http downloader on \"https://rr5---sn-q4fzene7.googlevideo.com/videoplayback?expire=1721623230&ei=Xo6dZpGuENrFsfIPzcaCmQc&ip=34.125.100.56&id=o-ABvrmxoL6KGHOlN6oqvQ_teRlH-lC4LyqNyVbT4V6Q5J&itag=251&source=youtube&requiressl=yes&xpc=EgVo2aDSNQ%3D%3D&mh=g_&mm=31%2C26&mn=sn-q4fzene7%2Csn-a5mlrnls&ms=au%2Conr&mv=u&mvi=5&pl=20&bui=AXc671LUOUAY__NniXuksUksEuVlKr-bxjTobhL2zlHNjs-MdSQJtF0R435SlGueJVJ4e2p2KdgKGRss&spc=NO7bAXlKz1oDJUzBu4A8mdw8sAmjv6zmnPprSqHXRvoQswv2kiaKiu42Z1eV&vprv=1&svpuc=1&mime=audio%2Fwebm&ns=qen5wGNZX2vrkxFAna2Qn5IQ&rqh=1&gir=yes&clen=7266134&dur=423.441&lmt=1712354078121752&mt=1721601228&fvip=1&keepalive=yes&c=WEB&sefc=1&txp=4532434&n=xID9KMSuC4wIpQ&sparams=expire%2Cei%2Cip%2Cid%2Citag%2Csource%2Crequiressl%2Cxpc%2Cbui%2Cspc%2Cvprv%2Csvpuc%2Cmime%2Cns%2Crqh%2Cgir%2Cclen%2Cdur%2Clmt&sig=AJfQdSswRQIgK8O-pao4UqKvfGVn3r2Tp6ghIHya80zEIooxL_xSOOUCIQCBsWQuANYCRZKbzFPDbOTO-T5UavMWxxy1q-cYD2VQZA%3D%3D&lsparams=mh%2Cmm%2Cmn%2Cms%2Cmv%2Cmvi%2Cpl&lsig=AHlkHjAwRQIhAOcpbmnE2fbfpTQayiLBVWKf9WOEgFKExTeLrDShnHGQAiA2Wj6KC-MhGl9bjT4owba7qBjts8sdITsCgSBPTOKbcA%3D%3D\"\n"
          ]
        },
        {
          "output_type": "stream",
          "name": "stdout",
          "text": [
            "[download] Destination: ./downloads/Genetic Engineering and Diseases – Gene Drive & Malaria.webm\n",
            "[download] 100% of    6.93MiB in 00:00:00 at 13.03MiB/s  \n"
          ]
        },
        {
          "output_type": "stream",
          "name": "stderr",
          "text": [
            "[debug] ffmpeg command line: ffprobe -show_streams 'file:./downloads/Genetic Engineering and Diseases – Gene Drive & Malaria.webm'\n"
          ]
        },
        {
          "output_type": "stream",
          "name": "stdout",
          "text": [
            "[ExtractAudio] Destination: ./downloads/Genetic Engineering and Diseases – Gene Drive & Malaria.mp3\n"
          ]
        },
        {
          "output_type": "stream",
          "name": "stderr",
          "text": [
            "[debug] ffmpeg command line: ffmpeg -y -loglevel repeat+info -i 'file:./downloads/Genetic Engineering and Diseases – Gene Drive & Malaria.webm' -vn -acodec libmp3lame -b:a 192.0k -movflags +faststart 'file:./downloads/Genetic Engineering and Diseases – Gene Drive & Malaria.mp3'\n"
          ]
        },
        {
          "output_type": "stream",
          "name": "stdout",
          "text": [
            "Deleting original file ./downloads/Genetic Engineering and Diseases – Gene Drive & Malaria.webm (pass -k to keep)\n",
            "[download] Downloading item 19 of 20\n",
            "[youtube] Extracting URL: https://www.youtube.com/watch?v=sRv19gkZ4E0\n",
            "[youtube] sRv19gkZ4E0: Downloading webpage\n",
            "[youtube] sRv19gkZ4E0: Downloading ios player API JSON\n"
          ]
        },
        {
          "output_type": "stream",
          "name": "stderr",
          "text": [
            "[debug] Loading youtube-nsig.d60b0ef9 from cache\n",
            "[debug] [youtube] Decrypted nsig umw9c3bK44AkKzzG => 8lKoDk5SkNEotg\n",
            "[debug] Loading youtube-nsig.d60b0ef9 from cache\n",
            "[debug] [youtube] Decrypted nsig _UpQH2hKbux2Wj3n => wwoSCfDYxopUug\n"
          ]
        },
        {
          "output_type": "stream",
          "name": "stdout",
          "text": [
            "[youtube] sRv19gkZ4E0: Downloading m3u8 information\n"
          ]
        },
        {
          "output_type": "stream",
          "name": "stderr",
          "text": [
            "[debug] Sort order given by extractor: quality, res, fps, hdr:12, source, vcodec:vp9.2, channels, acodec, lang, proto\n",
            "[debug] Formats sorted by: hasvid, ie_pref, quality, res, fps, hdr:12(7), source, vcodec:vp9.2(10), channels, acodec, lang, proto, size, br, asr, vext, aext, hasaud, id\n"
          ]
        },
        {
          "output_type": "stream",
          "name": "stdout",
          "text": [
            "[info] sRv19gkZ4E0: Downloading 1 format(s): 251\n"
          ]
        },
        {
          "output_type": "stream",
          "name": "stderr",
          "text": [
            "[debug] Invoking http downloader on \"https://rr5---sn-q4flrn7y.googlevideo.com/videoplayback?expire=1721623245&ei=bY6dZpWnKfaYsfIP8fPx2Ac&ip=34.125.100.56&id=o-AGfKy0yYKfkasRQyOCKNHuxKycTF-PYD3n56GVufEPwP&itag=251&source=youtube&requiressl=yes&xpc=EgVo2aDSNQ%3D%3D&mh=iB&mm=31%2C26&mn=sn-q4flrn7y%2Csn-a5meknsd&ms=au%2Conr&mv=u&mvi=5&pl=20&bui=AXc671LAFh50J6EIPbHAC-5tq8NI23pCFdit6y4SPqZpPqZO8Ef8Q-_w6-h9zMiy2WO9amjkt6RW3R_w&spc=NO7bAezzHgVe_Uc1_tP5QUIUNQFDMF-I5S0dnrv71WI3R5Ucu2d5A93JX-1y&vprv=1&svpuc=1&mime=audio%2Fwebm&ns=vfPaKTNpvIlRSwiq4uIjtzgQ&rqh=1&gir=yes&clen=5987997&dur=330.641&lmt=1712395340925035&mt=1721601228&fvip=3&keepalive=yes&c=WEB&sefc=1&txp=4532434&n=wwoSCfDYxopUug&sparams=expire%2Cei%2Cip%2Cid%2Citag%2Csource%2Crequiressl%2Cxpc%2Cbui%2Cspc%2Cvprv%2Csvpuc%2Cmime%2Cns%2Crqh%2Cgir%2Cclen%2Cdur%2Clmt&sig=AJfQdSswRAIgFea2fxcpO62-9Meidswaz0xSQuu3BdPIE-tucidyUTQCID0UlOUry-TfJkqoHlYs49nCfQSS6RUXus3jCjL6EDki&lsparams=mh%2Cmm%2Cmn%2Cms%2Cmv%2Cmvi%2Cpl&lsig=AHlkHjAwRAIgfIwZMetsKUcnQ53etP4hQnksT3SLaI2SjiYbNmbMhb4CIDw5PxmAbzeFBZvLTc_hdsKCMqsJwIfHn8D_11WT5uGk\"\n"
          ]
        },
        {
          "output_type": "stream",
          "name": "stdout",
          "text": [
            "[download] Destination: ./downloads/The Ebola Virus Explained — How Your Body Fights For Survival.webm\n",
            "[download] 100% of    5.71MiB in 00:00:00 at 10.44MiB/s  \n"
          ]
        },
        {
          "output_type": "stream",
          "name": "stderr",
          "text": [
            "[debug] ffmpeg command line: ffprobe -show_streams 'file:./downloads/The Ebola Virus Explained — How Your Body Fights For Survival.webm'\n"
          ]
        },
        {
          "output_type": "stream",
          "name": "stdout",
          "text": [
            "[ExtractAudio] Destination: ./downloads/The Ebola Virus Explained — How Your Body Fights For Survival.mp3\n"
          ]
        },
        {
          "output_type": "stream",
          "name": "stderr",
          "text": [
            "[debug] ffmpeg command line: ffmpeg -y -loglevel repeat+info -i 'file:./downloads/The Ebola Virus Explained — How Your Body Fights For Survival.webm' -vn -acodec libmp3lame -b:a 192.0k -movflags +faststart 'file:./downloads/The Ebola Virus Explained — How Your Body Fights For Survival.mp3'\n"
          ]
        },
        {
          "output_type": "stream",
          "name": "stdout",
          "text": [
            "Deleting original file ./downloads/The Ebola Virus Explained — How Your Body Fights For Survival.webm (pass -k to keep)\n",
            "[download] Downloading item 20 of 20\n",
            "[youtube] Extracting URL: https://www.youtube.com/watch?v=zQGOcOUBi6s\n",
            "[youtube] zQGOcOUBi6s: Downloading webpage\n",
            "[youtube] zQGOcOUBi6s: Downloading ios player API JSON\n"
          ]
        },
        {
          "output_type": "stream",
          "name": "stderr",
          "text": [
            "[debug] Loading youtube-nsig.d60b0ef9 from cache\n",
            "[debug] [youtube] Decrypted nsig f17ArSR6DXxXlZwq => WIeOe95jMrMElQ\n",
            "[debug] Loading youtube-nsig.d60b0ef9 from cache\n",
            "[debug] [youtube] Decrypted nsig _c8AuCImAK64yTOl => QF5FOfl8JoHyZw\n"
          ]
        },
        {
          "output_type": "stream",
          "name": "stdout",
          "text": [
            "[youtube] zQGOcOUBi6s: Downloading m3u8 information\n"
          ]
        },
        {
          "output_type": "stream",
          "name": "stderr",
          "text": [
            "[debug] Sort order given by extractor: quality, res, fps, hdr:12, source, vcodec:vp9.2, channels, acodec, lang, proto\n",
            "[debug] Formats sorted by: hasvid, ie_pref, quality, res, fps, hdr:12(7), source, vcodec:vp9.2(10), channels, acodec, lang, proto, size, br, asr, vext, aext, hasaud, id\n"
          ]
        },
        {
          "output_type": "stream",
          "name": "stdout",
          "text": [
            "[info] zQGOcOUBi6s: Downloading 1 format(s): 251\n"
          ]
        },
        {
          "output_type": "stream",
          "name": "stderr",
          "text": [
            "[debug] Invoking http downloader on \"https://rr2---sn-q4flrner.googlevideo.com/videoplayback?expire=1721623258&ei=eo6dZv6rIKi-sfIPtr6ygA4&ip=34.125.100.56&id=o-AOTbFwR79eoDCvSCNfCR0OLWS1kVNeK99-jTRfk_FfZ5&itag=251&source=youtube&requiressl=yes&xpc=EgVo2aDSNQ%3D%3D&mh=TQ&mm=31%2C26&mn=sn-q4flrner%2Csn-a5mekn6r&ms=au%2Conr&mv=m&mvi=2&pl=20&bui=AXc671IfHxKt1yeB8UkFO2a6VNNA3CV0_Fi5opPxR9oMNXv_9lJH_WgAjJdLv8QG3P75i3fD8XMp9nBD&spc=NO7bAcd4e7OrgohLJojEymFrXSN58j9bL0LhNEa1PzobY4fzHVYxPUThchwV&vprv=1&svpuc=1&mime=audio%2Fwebm&ns=KZ0Bpy6odQPlA0iMGpYkyIYQ&rqh=1&gir=yes&clen=7193778&dur=408.501&lmt=1540649823397599&mt=1721601166&fvip=1&keepalive=yes&c=WEB&sefc=1&txp=5511222&n=QF5FOfl8JoHyZw&sparams=expire%2Cei%2Cip%2Cid%2Citag%2Csource%2Crequiressl%2Cxpc%2Cbui%2Cspc%2Cvprv%2Csvpuc%2Cmime%2Cns%2Crqh%2Cgir%2Cclen%2Cdur%2Clmt&sig=AJfQdSswRAIgLQFiSHb8RQemMjWMlRMmps7s084VLjbAtCOMhghoY5wCIAXR_AfyeVjz8bYqF7B1ytfHtHIXi9zko5Qp90Hhjf2W&lsparams=mh%2Cmm%2Cmn%2Cms%2Cmv%2Cmvi%2Cpl&lsig=AHlkHjAwRAIgN_T4WA4NyeHR7MfTo7vCS6-3OxtBWaC3IpMiCOjjo5wCIG4GCJEnUR-OXrzEndlERUEpDb_5VB6SbadNGZmt6lqB\"\n"
          ]
        },
        {
          "output_type": "stream",
          "name": "stdout",
          "text": [
            "[download] Destination: ./downloads/The Immune System Explained I – Bacteria Infection.webm\n",
            "[download] 100% of    6.86MiB in 00:00:00 at 11.35MiB/s  \n"
          ]
        },
        {
          "output_type": "stream",
          "name": "stderr",
          "text": [
            "[debug] ffmpeg command line: ffprobe -show_streams 'file:./downloads/The Immune System Explained I – Bacteria Infection.webm'\n"
          ]
        },
        {
          "output_type": "stream",
          "name": "stdout",
          "text": [
            "[ExtractAudio] Destination: ./downloads/The Immune System Explained I – Bacteria Infection.mp3\n"
          ]
        },
        {
          "output_type": "stream",
          "name": "stderr",
          "text": [
            "[debug] ffmpeg command line: ffmpeg -y -loglevel repeat+info -i 'file:./downloads/The Immune System Explained I – Bacteria Infection.webm' -vn -acodec libmp3lame -b:a 192.0k -movflags +faststart 'file:./downloads/The Immune System Explained I – Bacteria Infection.mp3'\n"
          ]
        },
        {
          "output_type": "stream",
          "name": "stdout",
          "text": [
            "Deleting original file ./downloads/The Immune System Explained I – Bacteria Infection.webm (pass -k to keep)\n",
            "[download] Finished downloading playlist: Immune System\n",
            "Playlist downloaded successfully.\n"
          ]
        }
      ]
    },
    {
      "cell_type": "markdown",
      "source": [
        "Cell 4: Transcription Function"
      ],
      "metadata": {
        "id": "q-O0JY5MWB9i"
      }
    },
    {
      "cell_type": "code",
      "source": [
        "def transcribe_audio_hf(mp3_path, transcript_path):\n",
        "    if not os.path.exists(transcript_path):\n",
        "        os.makedirs(transcript_path)\n",
        "    mp3_files = [f for f in os.listdir(mp3_path) if f.endswith('.mp3')]\n",
        "\n",
        "    if not mp3_files:\n",
        "        print(\"No MP3 files found for transcription.\")\n",
        "        return\n",
        "\n",
        "    processor = WhisperProcessor.from_pretrained(\"openai/whisper-large-v3\")\n",
        "    model = WhisperForConditionalGeneration.from_pretrained(\"openai/whisper-large-v3\")\n",
        "    feature_extractor = processor.feature_extractor\n",
        "\n",
        "    # Dynamically select the device (handy for deployment environment).\n",
        "    device = 0 if torch.cuda.is_available() else -1\n",
        "    transcriber = pipeline(\"automatic-speech-recognition\", model=model, tokenizer=processor.tokenizer, feature_extractor=feature_extractor, chunk_length_s=30, device=device)\n",
        "\n",
        "    transcripts = []\n",
        "\n",
        "    for mp3_file in tqdm(mp3_files, desc=\"Transcribing audio\"):\n",
        "        audio_path = os.path.join(mp3_path, mp3_file)\n",
        "        print(f\"Transcribing {mp3_file} located at {audio_path}...\")\n",
        "\n",
        "        try:\n",
        "            # Generate transcription.\n",
        "            transcript = transcriber(audio_path)\n",
        "            transcript_text = transcript['text']\n",
        "            cleaned_transcript = clean_text(transcript_text)\n",
        "\n",
        "            # Add title (filename) and transcript to the transcripts list.\n",
        "            transcripts.append({\n",
        "                'title': os.path.splitext(mp3_file)[0],\n",
        "                'transcript': cleaned_transcript\n",
        "            })\n",
        "\n",
        "            print(f\"Transcription for {mp3_file} completed.\")\n",
        "\n",
        "        except Exception as e:\n",
        "            print(f\"Error transcribing {mp3_file}: {e}\")\n",
        "\n",
        "    # Save all transcripts to a single JSON file.\n",
        "    all_transcripts_filename = os.path.join(transcript_path, 'all_transcripts.json')\n",
        "    with open(all_transcripts_filename, 'w') as all_transcripts_file:\n",
        "        json.dump(transcripts, all_transcripts_file, indent=4)\n",
        "\n",
        "    print(f\"All transcripts saved to {all_transcripts_filename}\")\n",
        "\n",
        "transcript_path = './transcripts'\n",
        "transcribe_audio_hf(download_path, transcript_path)"
      ],
      "metadata": {
        "colab": {
          "base_uri": "https://localhost:8080/",
          "height": 1000,
          "referenced_widgets": [
            "cc5f33c2c9cc472f90067acba09febb6",
            "5bd91c7c4751408ba971f9fd3d62cb06",
            "2a8577bbd3c14883baa3f508e5a17c0f",
            "6e60239964474f0fbda9d7bf7f81122c",
            "49d7c2b231d647cba5f907569944743c",
            "92430efe6d14403c8d84da3fef9fdcbd",
            "7d42950684674764bd3374b04efbdc06",
            "8e2793a712b947bca66d34cf8244b83c",
            "6e3906e8401c49f99b7962ffdce6161c",
            "6090dea06c96493c868c51d41d448981",
            "d602813dc7d240a28848d7eb70ff2906",
            "f70e4dd42ec240deae5a75aa20ad5d67",
            "544d7b85411543aca7dcb0d320202a66",
            "8e4d9dadd640449aa0c1cbab42b83e64",
            "f50abb3843c5461ab3dbd92630e6d55c",
            "f8a879b1bb004355b270435249e00cd3",
            "889fd71a89114408b05fa8bcfcd0bb85",
            "fb40c65847184836a974f40bf25173f5",
            "9e620690142f4080b9328ecf78ec4343",
            "71372512ab774f0697b8852b2e58f59a",
            "78a15683fc704b7080d6c566bd02c787",
            "b23f4f9c66b9485b9f55165ff70d46c9",
            "8dc3dcadb02b44329d0558f42f7fff3a",
            "b30beb674d0d43359139bd7a292caad2",
            "f6cf6460c728415cbccdcb7091d8f732",
            "b4a566ded8e4419db0f7b500fca6fa11",
            "0891f1a2bae744fd91e80c47f16df413",
            "b7c8fb2fc98b4db7a36e837be05424ba",
            "c1841846e7254995ba264775419d0991",
            "8581329c236f400dbc6b2d3ea6cf7a75",
            "62a96c0ed68d4ec79e64f07bb75d7d7c",
            "8ef7af16ff3c4855971bed7baa5e452a",
            "31656420ac1542bf8956142e7f364046",
            "88dae7e790aa482f9055dc3f06d856d8",
            "522b453bbecb4324a0379d5e081f7b3b",
            "92d493f75f444efe91bb82a9ef2f9f8b",
            "ea36f4e6428a49348163d19ee3b6454b",
            "85cea8a9a2074a9c9cac4fe4cde32e64",
            "ef1dfe0e2593461485a8a0a4958f29ce",
            "786a45b4b7474cdd84d3fcd18cd3084d",
            "c5fe14a4e55540eb8caeb74f44cea813",
            "b0051cd8e11d4fff9e5044099ca3625a",
            "5b3405594b544f81bf08d7f378221609",
            "f85b4764bfa448bbb23c3a78143d777a",
            "fba0ecbfc3544b36a3922c8e49ee082d",
            "c7d92801285f4d5f825fabe1f05276b6",
            "931643e41d194a9cbb900d2ddb87ea40",
            "03b054f9a21e4780b8ce2cc93f366abf",
            "bbcd725f55d04d3a9195d5431bbb4065",
            "30de96fcf57a4bb6ba11ca097679794e",
            "37ca54cf2ef74d92a0bd67c743e8beb0",
            "bad320044d514f76bcb4cde20883252b",
            "9a6c0000f07e4ec592a798565f94fdf3",
            "82b0adaeda42470692199aea4dcc6066",
            "95a6b26604ca47408c288e38fa176525",
            "9622161cf01347be9d990d6324299935",
            "2738d5b8fce346bc98b33c748799bad1",
            "2a6f99a896d944bbb1d7ccfd4a2c72b5",
            "0092dafad41b499eb6858a9cad1dc5c6",
            "be73240aaad141fab8e825dbc66aa56d",
            "e2e08d2c518e4a0d98d8e52af45adee9",
            "016dfffb736242248f0daabcf0ad0427",
            "b3afb1f499774aab81fb94f59db7757e",
            "ebdae35cb1d94d5aa6524ab8504f63ed",
            "c030839cda3b4b789bb86cc540ea684c",
            "8a16336498e1477da8d9ff5f49ac7081",
            "f559d2197fb641bc81288c1d977cc30d",
            "e07fa200714a466baebf149b3f666e42",
            "7903c66eac5646cb99ebcddce76a531d",
            "f4177495003240e083bb2cfd76e0cb79",
            "f00a8d9f0e3b4fc9ae7ef6d772132173",
            "23a66e9a831a453480ee3a70032dd0a2",
            "2a2f1837bc3744c887326228d362f9c8",
            "2befe64e17d94ff98ba8488f73b809a3",
            "d79a97af05b64abcb8f7835fcf9f3dcb",
            "a1f03d2155e64dee8392bfbabb0391aa",
            "ef61b0c4902a4efbbbbc64b5e43c3120",
            "a81e614b57824283907a6c977e072b3b",
            "f3e67f4805a248c9a5d8b65dac19e149",
            "824ff4c14b804d1aa76d3edea124f5ab",
            "3864c718efa646a9819b7df49d4d2a22",
            "327035ea92d848a5875048e503cbc4fe",
            "5ff076bc2a094349a7809d2e7df4eb8a",
            "8d2ed4eefa574ea38d2dc3896d027df6",
            "9949b9a83c8a41f8b716e2c8ae091b1c",
            "85a2116382ee4f56be828cb5d9946ac7",
            "623255251a6c451f9f6b0c3d6c581ec6",
            "7c01a3c54ec0407d9254cae20a365ecd",
            "821c3e1431ec46a993ea9e1910927833",
            "2c98063df64a4199aa5677db4b787f80",
            "d50f48b9ea654fbbb392d1f4dd4c16fa",
            "a00f810ab24c4904a1e58230f930efd4",
            "58000c1a85624db59845476e5408aef6",
            "c9df11941c364f68b0d321409ee781d1",
            "2ed2cc8e0ce94bbb9bd1eeda1ecf519a",
            "32e0e36363604099a16a784f0ebdcfe5",
            "948877655d3c4e9b91ff30f28282f7a5",
            "0ed449d3ec7848ca8c069f2cc9673acb",
            "eb7e320aac934dda8ed0cf7d71ed6d7e",
            "9b73fe8e240948a3b2e19cd1514116ae",
            "be8af2ec9a1448a9bbf78f368a28d9e5",
            "f073216293b04fc890797a2503661a6d",
            "2eb88abafe2d4fa181e9cb7154d0fb89",
            "5676af33c13b495eb5565d07e5d36c0c",
            "dd7315f751594e79865fad3eb3417585",
            "3e423adec40f40a0bd5f5b044e0f3945",
            "35ff53a7243347edaf6f96e481be0236",
            "821da5a94caa4e52a4f34bf0399dc910",
            "511fb0a9fab142fbaa75b75d1711b848",
            "a3612f8f558e4d09919afad3e356a742",
            "edf2de466bed49a5bab81cdee8977dda",
            "4cdc3b4d2fa1495388173df44ad1214a",
            "114a3fad71e5401cb9232959b1c08c76",
            "4987c11be3a74fd4a4a075250d7a8a86",
            "cd69a2257da64e6782624f097d794225",
            "09600e2a36aa495fb38b2aef880ac111",
            "803bd56805a5400f8d30706fde1914eb",
            "c0bf138cdca44a39b3da3eba758cc0a7",
            "b2a5ef4535f843eda09555d0b6edfef4",
            "2e9b0f3bb5bc446d88c4e502eb92e9aa",
            "f6be645972c34c56b3d90c0e0896cd2d"
          ]
        },
        "id": "Ydn8zwnQV0iK",
        "outputId": "c0478988-7cc6-467c-94d8-89b39458a514"
      },
      "execution_count": 7,
      "outputs": [
        {
          "output_type": "display_data",
          "data": {
            "text/plain": [
              "preprocessor_config.json:   0%|          | 0.00/340 [00:00<?, ?B/s]"
            ],
            "application/vnd.jupyter.widget-view+json": {
              "version_major": 2,
              "version_minor": 0,
              "model_id": "cc5f33c2c9cc472f90067acba09febb6"
            }
          },
          "metadata": {}
        },
        {
          "output_type": "display_data",
          "data": {
            "text/plain": [
              "tokenizer_config.json:   0%|          | 0.00/283k [00:00<?, ?B/s]"
            ],
            "application/vnd.jupyter.widget-view+json": {
              "version_major": 2,
              "version_minor": 0,
              "model_id": "f70e4dd42ec240deae5a75aa20ad5d67"
            }
          },
          "metadata": {}
        },
        {
          "output_type": "display_data",
          "data": {
            "text/plain": [
              "vocab.json:   0%|          | 0.00/1.04M [00:00<?, ?B/s]"
            ],
            "application/vnd.jupyter.widget-view+json": {
              "version_major": 2,
              "version_minor": 0,
              "model_id": "8dc3dcadb02b44329d0558f42f7fff3a"
            }
          },
          "metadata": {}
        },
        {
          "output_type": "display_data",
          "data": {
            "text/plain": [
              "tokenizer.json:   0%|          | 0.00/2.48M [00:00<?, ?B/s]"
            ],
            "application/vnd.jupyter.widget-view+json": {
              "version_major": 2,
              "version_minor": 0,
              "model_id": "88dae7e790aa482f9055dc3f06d856d8"
            }
          },
          "metadata": {}
        },
        {
          "output_type": "display_data",
          "data": {
            "text/plain": [
              "merges.txt:   0%|          | 0.00/494k [00:00<?, ?B/s]"
            ],
            "application/vnd.jupyter.widget-view+json": {
              "version_major": 2,
              "version_minor": 0,
              "model_id": "fba0ecbfc3544b36a3922c8e49ee082d"
            }
          },
          "metadata": {}
        },
        {
          "output_type": "display_data",
          "data": {
            "text/plain": [
              "normalizer.json:   0%|          | 0.00/52.7k [00:00<?, ?B/s]"
            ],
            "application/vnd.jupyter.widget-view+json": {
              "version_major": 2,
              "version_minor": 0,
              "model_id": "9622161cf01347be9d990d6324299935"
            }
          },
          "metadata": {}
        },
        {
          "output_type": "display_data",
          "data": {
            "text/plain": [
              "added_tokens.json:   0%|          | 0.00/34.6k [00:00<?, ?B/s]"
            ],
            "application/vnd.jupyter.widget-view+json": {
              "version_major": 2,
              "version_minor": 0,
              "model_id": "f559d2197fb641bc81288c1d977cc30d"
            }
          },
          "metadata": {}
        },
        {
          "output_type": "display_data",
          "data": {
            "text/plain": [
              "special_tokens_map.json:   0%|          | 0.00/2.07k [00:00<?, ?B/s]"
            ],
            "application/vnd.jupyter.widget-view+json": {
              "version_major": 2,
              "version_minor": 0,
              "model_id": "a81e614b57824283907a6c977e072b3b"
            }
          },
          "metadata": {}
        },
        {
          "output_type": "stream",
          "name": "stderr",
          "text": [
            "Special tokens have been added in the vocabulary, make sure the associated word embeddings are fine-tuned or trained.\n"
          ]
        },
        {
          "output_type": "display_data",
          "data": {
            "text/plain": [
              "config.json:   0%|          | 0.00/1.27k [00:00<?, ?B/s]"
            ],
            "application/vnd.jupyter.widget-view+json": {
              "version_major": 2,
              "version_minor": 0,
              "model_id": "821c3e1431ec46a993ea9e1910927833"
            }
          },
          "metadata": {}
        },
        {
          "output_type": "display_data",
          "data": {
            "text/plain": [
              "model.safetensors:   0%|          | 0.00/3.09G [00:00<?, ?B/s]"
            ],
            "application/vnd.jupyter.widget-view+json": {
              "version_major": 2,
              "version_minor": 0,
              "model_id": "9b73fe8e240948a3b2e19cd1514116ae"
            }
          },
          "metadata": {}
        },
        {
          "output_type": "display_data",
          "data": {
            "text/plain": [
              "generation_config.json:   0%|          | 0.00/3.90k [00:00<?, ?B/s]"
            ],
            "application/vnd.jupyter.widget-view+json": {
              "version_major": 2,
              "version_minor": 0,
              "model_id": "edf2de466bed49a5bab81cdee8977dda"
            }
          },
          "metadata": {}
        },
        {
          "output_type": "stream",
          "name": "stderr",
          "text": [
            "\rTranscribing audio:   0%|          | 0/20 [00:00<?, ?it/s]"
          ]
        },
        {
          "output_type": "stream",
          "name": "stdout",
          "text": [
            "Transcribing The (Second) Deadliest Virus.mp3 located at ./downloads/The (Second) Deadliest Virus.mp3...\n"
          ]
        },
        {
          "output_type": "stream",
          "name": "stderr",
          "text": [
            "/usr/local/lib/python3.10/dist-packages/transformers/models/whisper/generation_whisper.py:480: FutureWarning: The input name `inputs` is deprecated. Please make sure to use `input_features` instead.\n",
            "  warnings.warn(\n",
            "Due to a bug fix in https://github.com/huggingface/transformers/pull/28687 transcription using a multilingual Whisper will default to language detection followed by transcription instead of translation to English.This might be a breaking change for your use case. If you want to instead always translate your audio to English, make sure to pass `language='en'`.\n",
            "The attention mask is not set and cannot be inferred from input because pad token is same as eos token.As a consequence, you may observe unexpected behavior. Please pass your input's `attention_mask` to obtain reliable results.\n",
            "Transcribing audio:   5%|▌         | 1/20 [01:54<36:19, 114.71s/it]"
          ]
        },
        {
          "output_type": "stream",
          "name": "stdout",
          "text": [
            "Transcription for The (Second) Deadliest Virus.mp3 completed.\n",
            "Transcribing How The Immune System ACTUALLY Works – IMMUNE.mp3 located at ./downloads/How The Immune System ACTUALLY Works – IMMUNE.mp3...\n"
          ]
        },
        {
          "output_type": "stream",
          "name": "stderr",
          "text": [
            "/usr/local/lib/python3.10/dist-packages/transformers/models/whisper/generation_whisper.py:480: FutureWarning: The input name `inputs` is deprecated. Please make sure to use `input_features` instead.\n",
            "  warnings.warn(\n",
            "Transcribing audio:  10%|█         | 2/20 [03:40<32:49, 109.43s/it]"
          ]
        },
        {
          "output_type": "stream",
          "name": "stdout",
          "text": [
            "Transcription for How The Immune System ACTUALLY Works – IMMUNE.mp3 completed.\n",
            "Transcribing The Immune System Explained I – Bacteria Infection.mp3 located at ./downloads/The Immune System Explained I – Bacteria Infection.mp3...\n"
          ]
        },
        {
          "output_type": "stream",
          "name": "stderr",
          "text": [
            "/usr/local/lib/python3.10/dist-packages/transformers/models/whisper/generation_whisper.py:480: FutureWarning: The input name `inputs` is deprecated. Please make sure to use `input_features` instead.\n",
            "  warnings.warn(\n",
            "Transcribing audio:  15%|█▌        | 3/20 [04:50<25:52, 91.31s/it] "
          ]
        },
        {
          "output_type": "stream",
          "name": "stdout",
          "text": [
            "Transcription for The Immune System Explained I – Bacteria Infection.mp3 completed.\n",
            "Transcribing The Deadliest Being on Planet Earth – The Bacteriophage.mp3 located at ./downloads/The Deadliest Being on Planet Earth – The Bacteriophage.mp3...\n"
          ]
        },
        {
          "output_type": "stream",
          "name": "stderr",
          "text": [
            "/usr/local/lib/python3.10/dist-packages/transformers/models/whisper/generation_whisper.py:480: FutureWarning: The input name `inputs` is deprecated. Please make sure to use `input_features` instead.\n",
            "  warnings.warn(\n",
            "Transcribing audio:  20%|██        | 4/20 [05:57<21:47, 81.71s/it]"
          ]
        },
        {
          "output_type": "stream",
          "name": "stdout",
          "text": [
            "Transcription for The Deadliest Being on Planet Earth – The Bacteriophage.mp3 completed.\n",
            "Transcribing Genetic Engineering and Diseases – Gene Drive & Malaria.mp3 located at ./downloads/Genetic Engineering and Diseases – Gene Drive & Malaria.mp3...\n"
          ]
        },
        {
          "output_type": "stream",
          "name": "stderr",
          "text": [
            "/usr/local/lib/python3.10/dist-packages/transformers/models/whisper/generation_whisper.py:480: FutureWarning: The input name `inputs` is deprecated. Please make sure to use `input_features` instead.\n",
            "  warnings.warn(\n",
            "Transcribing audio:  25%|██▌       | 5/20 [07:05<19:11, 76.77s/it]"
          ]
        },
        {
          "output_type": "stream",
          "name": "stdout",
          "text": [
            "Transcription for Genetic Engineering and Diseases – Gene Drive & Malaria.mp3 completed.\n",
            "Transcribing This Disease is Deadlier Than The Plague.mp3 located at ./downloads/This Disease is Deadlier Than The Plague.mp3...\n"
          ]
        },
        {
          "output_type": "stream",
          "name": "stderr",
          "text": [
            "/usr/local/lib/python3.10/dist-packages/transformers/models/whisper/generation_whisper.py:480: FutureWarning: The input name `inputs` is deprecated. Please make sure to use `input_features` instead.\n",
            "  warnings.warn(\n",
            "Transcribing audio:  30%|███       | 6/20 [08:47<19:57, 85.56s/it]"
          ]
        },
        {
          "output_type": "stream",
          "name": "stdout",
          "text": [
            "Transcription for This Disease is Deadlier Than The Plague.mp3 completed.\n",
            "Transcribing Two Chapters From Our New Book – Exclusive Preview!.mp3 located at ./downloads/Two Chapters From Our New Book – Exclusive Preview!.mp3...\n"
          ]
        },
        {
          "output_type": "stream",
          "name": "stderr",
          "text": [
            "/usr/local/lib/python3.10/dist-packages/transformers/models/whisper/generation_whisper.py:480: FutureWarning: The input name `inputs` is deprecated. Please make sure to use `input_features` instead.\n",
            "  warnings.warn(\n",
            "Transcribing audio:  35%|███▌      | 7/20 [13:04<30:39, 141.52s/it]"
          ]
        },
        {
          "output_type": "stream",
          "name": "stdout",
          "text": [
            "Transcription for Two Chapters From Our New Book – Exclusive Preview!.mp3 completed.\n",
            "Transcribing You Are Immune Against Every Disease.mp3 located at ./downloads/You Are Immune Against Every Disease.mp3...\n"
          ]
        },
        {
          "output_type": "stream",
          "name": "stderr",
          "text": [
            "/usr/local/lib/python3.10/dist-packages/transformers/models/whisper/generation_whisper.py:480: FutureWarning: The input name `inputs` is deprecated. Please make sure to use `input_features` instead.\n",
            "  warnings.warn(\n",
            "Transcribing audio:  40%|████      | 8/20 [15:01<26:45, 133.77s/it]"
          ]
        },
        {
          "output_type": "stream",
          "name": "stdout",
          "text": [
            "Transcription for You Are Immune Against Every Disease.mp3 completed.\n",
            "Transcribing This Virus Shouldn't Exist (But it Does).mp3 located at ./downloads/This Virus Shouldn't Exist (But it Does).mp3...\n"
          ]
        },
        {
          "output_type": "stream",
          "name": "stderr",
          "text": [
            "/usr/local/lib/python3.10/dist-packages/transformers/models/whisper/generation_whisper.py:480: FutureWarning: The input name `inputs` is deprecated. Please make sure to use `input_features` instead.\n",
            "  warnings.warn(\n",
            "Transcribing audio:  45%|████▌     | 9/20 [16:38<22:22, 122.05s/it]"
          ]
        },
        {
          "output_type": "stream",
          "name": "stdout",
          "text": [
            "Transcription for This Virus Shouldn't Exist (But it Does).mp3 completed.\n",
            "Transcribing The Deadliest Virus on Earth.mp3 located at ./downloads/The Deadliest Virus on Earth.mp3...\n"
          ]
        },
        {
          "output_type": "stream",
          "name": "stderr",
          "text": [
            "/usr/local/lib/python3.10/dist-packages/transformers/models/whisper/generation_whisper.py:480: FutureWarning: The input name `inputs` is deprecated. Please make sure to use `input_features` instead.\n",
            "  warnings.warn(\n",
            "Transcribing audio:  50%|█████     | 10/20 [18:11<18:52, 113.26s/it]You seem to be using the pipelines sequentially on GPU. In order to maximize efficiency please use a dataset\n"
          ]
        },
        {
          "output_type": "stream",
          "name": "stdout",
          "text": [
            "Transcription for The Deadliest Virus on Earth.mp3 completed.\n",
            "Transcribing Your Body Killed Cancer 5 Minutes Ago.mp3 located at ./downloads/Your Body Killed Cancer 5 Minutes Ago.mp3...\n"
          ]
        },
        {
          "output_type": "stream",
          "name": "stderr",
          "text": [
            "/usr/local/lib/python3.10/dist-packages/transformers/models/whisper/generation_whisper.py:480: FutureWarning: The input name `inputs` is deprecated. Please make sure to use `input_features` instead.\n",
            "  warnings.warn(\n",
            "Transcribing audio:  55%|█████▌    | 11/20 [19:46<16:07, 107.54s/it]"
          ]
        },
        {
          "output_type": "stream",
          "name": "stdout",
          "text": [
            "Transcription for Your Body Killed Cancer 5 Minutes Ago.mp3 completed.\n",
            "Transcribing What Actually Happens When You Are Sick？.mp3 located at ./downloads/What Actually Happens When You Are Sick？.mp3...\n"
          ]
        },
        {
          "output_type": "stream",
          "name": "stderr",
          "text": [
            "/usr/local/lib/python3.10/dist-packages/transformers/models/whisper/generation_whisper.py:480: FutureWarning: The input name `inputs` is deprecated. Please make sure to use `input_features` instead.\n",
            "  warnings.warn(\n",
            "Transcribing audio:  60%|██████    | 12/20 [21:41<14:38, 109.86s/it]"
          ]
        },
        {
          "output_type": "stream",
          "name": "stdout",
          "text": [
            "Transcription for What Actually Happens When You Are Sick？.mp3 completed.\n",
            "Transcribing The Side Effects of Vaccines - How High is the Risk？.mp3 located at ./downloads/The Side Effects of Vaccines - How High is the Risk？.mp3...\n"
          ]
        },
        {
          "output_type": "stream",
          "name": "stderr",
          "text": [
            "/usr/local/lib/python3.10/dist-packages/transformers/models/whisper/generation_whisper.py:480: FutureWarning: The input name `inputs` is deprecated. Please make sure to use `input_features` instead.\n",
            "  warnings.warn(\n",
            "Transcribing audio:  65%|██████▌   | 13/20 [23:21<12:29, 107.07s/it]"
          ]
        },
        {
          "output_type": "stream",
          "name": "stdout",
          "text": [
            "Transcription for The Side Effects of Vaccines - How High is the Risk？.mp3 completed.\n",
            "Transcribing The Most Dangerous Weapon Is Not Nuclear.mp3 located at ./downloads/The Most Dangerous Weapon Is Not Nuclear.mp3...\n"
          ]
        },
        {
          "output_type": "stream",
          "name": "stderr",
          "text": [
            "/usr/local/lib/python3.10/dist-packages/transformers/models/whisper/generation_whisper.py:480: FutureWarning: The input name `inputs` is deprecated. Please make sure to use `input_features` instead.\n",
            "  warnings.warn(\n",
            "Transcribing audio:  70%|███████   | 14/20 [25:14<10:51, 108.63s/it]"
          ]
        },
        {
          "output_type": "stream",
          "name": "stdout",
          "text": [
            "Transcription for The Most Dangerous Weapon Is Not Nuclear.mp3 completed.\n",
            "Transcribing The Most Gruesome Parasites – Neglected Tropical Diseases – NTDs.mp3 located at ./downloads/The Most Gruesome Parasites – Neglected Tropical Diseases – NTDs.mp3...\n"
          ]
        },
        {
          "output_type": "stream",
          "name": "stderr",
          "text": [
            "/usr/local/lib/python3.10/dist-packages/transformers/models/whisper/generation_whisper.py:480: FutureWarning: The input name `inputs` is deprecated. Please make sure to use `input_features` instead.\n",
            "  warnings.warn(\n",
            "Transcribing audio:  75%|███████▌  | 15/20 [26:09<07:43, 92.69s/it] "
          ]
        },
        {
          "output_type": "stream",
          "name": "stdout",
          "text": [
            "Transcription for The Most Gruesome Parasites – Neglected Tropical Diseases – NTDs.mp3 completed.\n",
            "Transcribing The Coronavirus Explained & What You Should Do.mp3 located at ./downloads/The Coronavirus Explained & What You Should Do.mp3...\n"
          ]
        },
        {
          "output_type": "stream",
          "name": "stderr",
          "text": [
            "/usr/local/lib/python3.10/dist-packages/transformers/models/whisper/generation_whisper.py:480: FutureWarning: The input name `inputs` is deprecated. Please make sure to use `input_features` instead.\n",
            "  warnings.warn(\n",
            "Transcribing audio:  80%|████████  | 16/20 [27:36<06:02, 90.72s/it]"
          ]
        },
        {
          "output_type": "stream",
          "name": "stdout",
          "text": [
            "Transcription for The Coronavirus Explained & What You Should Do.mp3 completed.\n",
            "Transcribing Your Tattoo is INSIDE Your Immune System. Literally.mp3 located at ./downloads/Your Tattoo is INSIDE Your Immune System. Literally.mp3...\n"
          ]
        },
        {
          "output_type": "stream",
          "name": "stderr",
          "text": [
            "/usr/local/lib/python3.10/dist-packages/transformers/models/whisper/generation_whisper.py:480: FutureWarning: The input name `inputs` is deprecated. Please make sure to use `input_features` instead.\n",
            "  warnings.warn(\n",
            "Transcribing audio:  85%|████████▌ | 17/20 [29:13<04:37, 92.62s/it]"
          ]
        },
        {
          "output_type": "stream",
          "name": "stdout",
          "text": [
            "Transcription for Your Tattoo is INSIDE Your Immune System. Literally.mp3 completed.\n",
            "Transcribing The Reason Why Cancer is so Hard to Beat.mp3 located at ./downloads/The Reason Why Cancer is so Hard to Beat.mp3...\n"
          ]
        },
        {
          "output_type": "stream",
          "name": "stderr",
          "text": [
            "/usr/local/lib/python3.10/dist-packages/transformers/models/whisper/generation_whisper.py:480: FutureWarning: The input name `inputs` is deprecated. Please make sure to use `input_features` instead.\n",
            "  warnings.warn(\n",
            "Transcribing audio:  90%|█████████ | 18/20 [30:57<03:12, 96.13s/it]"
          ]
        },
        {
          "output_type": "stream",
          "name": "stdout",
          "text": [
            "Transcription for The Reason Why Cancer is so Hard to Beat.mp3 completed.\n",
            "Transcribing Why Blue Whales Don't Get Cancer - Peto's Paradox.mp3 located at ./downloads/Why Blue Whales Don't Get Cancer - Peto's Paradox.mp3...\n"
          ]
        },
        {
          "output_type": "stream",
          "name": "stderr",
          "text": [
            "/usr/local/lib/python3.10/dist-packages/transformers/models/whisper/generation_whisper.py:480: FutureWarning: The input name `inputs` is deprecated. Please make sure to use `input_features` instead.\n",
            "  warnings.warn(\n",
            "Transcribing audio:  95%|█████████▌| 19/20 [32:06<01:28, 88.04s/it]"
          ]
        },
        {
          "output_type": "stream",
          "name": "stdout",
          "text": [
            "Transcription for Why Blue Whales Don't Get Cancer - Peto's Paradox.mp3 completed.\n",
            "Transcribing The Ebola Virus Explained — How Your Body Fights For Survival.mp3 located at ./downloads/The Ebola Virus Explained — How Your Body Fights For Survival.mp3...\n"
          ]
        },
        {
          "output_type": "stream",
          "name": "stderr",
          "text": [
            "/usr/local/lib/python3.10/dist-packages/transformers/models/whisper/generation_whisper.py:480: FutureWarning: The input name `inputs` is deprecated. Please make sure to use `input_features` instead.\n",
            "  warnings.warn(\n",
            "Transcribing audio: 100%|██████████| 20/20 [33:01<00:00, 99.08s/it]"
          ]
        },
        {
          "output_type": "stream",
          "name": "stdout",
          "text": [
            "Transcription for The Ebola Virus Explained — How Your Body Fights For Survival.mp3 completed.\n",
            "All transcripts saved to ./transcripts/all_transcripts.json\n"
          ]
        },
        {
          "output_type": "stream",
          "name": "stderr",
          "text": [
            "\n"
          ]
        }
      ]
    },
    {
      "cell_type": "markdown",
      "source": [
        "Cell 5: Preprocessing and Embedding Function"
      ],
      "metadata": {
        "id": "hIQ7dEAKWEiv"
      }
    },
    {
      "cell_type": "code",
      "source": [
        "def initialize_pinecone(api_key, index_name, dimension=1536):\n",
        "    from pinecone import Pinecone, ServerlessSpec\n",
        "\n",
        "    # Create an instance of the Pinecone class\n",
        "    pc = Pinecone(api_key=api_key)\n",
        "\n",
        "    # Check if the index already exists\n",
        "    if index_name not in pc.list_indexes().names():\n",
        "        pc.create_index(\n",
        "            name=index_name,\n",
        "            dimension=dimension,\n",
        "            metric='cosine',\n",
        "            spec=ServerlessSpec(\n",
        "                cloud='aws',\n",
        "                region='us-east-1'\n",
        "            )\n",
        "        )\n",
        "\n",
        "    index = pc.Index(index_name)\n",
        "    return index\n",
        "\n",
        "pinecone_api_key = PINECONE_API_KEY\n",
        "index_name = 'youtube-videos-data'\n",
        "\n",
        "# Initialize Pinecone\n",
        "index = initialize_pinecone(pinecone_api_key, index_name)\n",
        "\n",
        "print(\"Pinecone index initialized successfully.\")"
      ],
      "metadata": {
        "colab": {
          "base_uri": "https://localhost:8080/"
        },
        "id": "6p1TPrBIZT2g",
        "outputId": "73948893-7580-48be-9d3d-5daf73ef46bd"
      },
      "execution_count": 8,
      "outputs": [
        {
          "output_type": "stream",
          "name": "stdout",
          "text": [
            "Pinecone index initialized successfully.\n"
          ]
        }
      ]
    },
    {
      "cell_type": "code",
      "source": [
        "def preprocess_and_embed(transcript_path, langchain_api_key):\n",
        "    # Initialize the text splitter.\n",
        "    text_splitter = RecursiveCharacterTextSplitter(chunk_size=1024, chunk_overlap=150)\n",
        "\n",
        "    # Collect all transcripts.\n",
        "    transcripts = []\n",
        "    all_transcripts_filename = os.path.join(transcript_path, 'all_transcripts.json')\n",
        "    if os.path.exists(all_transcripts_filename):\n",
        "        with open(all_transcripts_filename, 'r') as all_transcripts_file:\n",
        "            transcripts_data = json.load(all_transcripts_file)\n",
        "            for item in transcripts_data:\n",
        "                transcripts.append(item['transcript'])\n",
        "\n",
        "    # Split and tokenize transcripts.\n",
        "    text_chunks = []\n",
        "    for transcript in transcripts:\n",
        "        text_chunks.extend(text_splitter.split_text(transcript))\n",
        "\n",
        "    embeddings_model = OpenAIEmbeddings(api_key=langchain_api_key)\n",
        "\n",
        "    # Generate embeddings for each chunk.\n",
        "    embeddings = embeddings_model.embed_documents(text_chunks)\n",
        "\n",
        "    assert len(text_chunks) == len(embeddings), \"Number of text chunks and embeddings do not match.\"\n",
        "\n",
        "    return text_chunks, embeddings\n",
        "\n",
        "# Test function.\n",
        "\n",
        "langchain_api_key = OPENAI_API_KEY\n",
        "# Call the function and check the output.\n",
        "text_chunks, embeddings = preprocess_and_embed(transcript_path, langchain_api_key)\n",
        "\n",
        "print(f\"Number of text chunks generated: {len(text_chunks)}\")\n",
        "\n",
        "print(\"Text Chunks:\")\n",
        "for chunk in text_chunks[:5]:\n",
        "    print(chunk)\n",
        "    print()\n",
        "\n",
        "print(\"Embeddings:\")\n",
        "for embedding in embeddings[:5]:\n",
        "    print(embedding)\n",
        "    print()"
      ],
      "metadata": {
        "colab": {
          "base_uri": "https://localhost:8080/"
        },
        "id": "B-TDNwLUTVY_",
        "outputId": "50243674-81a4-46f6-e0bb-23b5b014fd25"
      },
      "execution_count": 9,
      "outputs": [
        {
          "output_type": "stream",
          "name": "stdout",
          "text": [
            "Number of text chunks generated: 205\n",
            "Text Chunks:\n",
            "Few of the monsters that evolution created have been so successful at hurting us as the variola virus responsible for smallpox The carnage it caused was so terrible and merciless that it compelled humankind for the first time to act truly globally It was one of the greatest wins of our species over the ancient powers of nature all made possible by cows Variola is a virus a tiny machine that only seeks to reproduce itself Evidence of it has been found in Egyptian mummies and in writing from India and China as old as 3 000 years 1 300 years ago smallpox killed up to a third of Japan s population By the 1600s it was one of the major causes of death worldwide In late 18th century Europe it killed 400 000 a year Every third person who went blind did so because of this virus Even in the 20th century a hot second ago in history it still killed at least 300 million people Smallpox is an abusive monster that returns over and over and over again killing maiming and disrupting societies How could variola be so\n",
            "\n",
            "people Smallpox is an abusive monster that returns over and over and over again killing maiming and disrupting societies How could variola be so incredibly deadly for so long and how could we have forgotten its horror so quickly In 2023 there are only two laboratories left where the living virus is officially stored for research in Kosovo Russia and Atlanta USA Which is certainly a good idea because what could possibly go wrong Let s say that through an unfortunate series of events the virus got out and you got infected What would happen to you How smallpox kills Variola is highly infectious and catches a ride in small droplets you breathe in Immediately it begins to infect the cells that line your throat and starts killing them to cause chaos Why To trick your body into giving it a lift Whenever cells in your body die a violent death your immune cells immediately stream to the site of infection to help out In this case that backfires horribly As immune cells begin cleaning up dead cells eating viruses and\n",
            "\n",
            "stream to the site of infection to help out In this case that backfires horribly As immune cells begin cleaning up dead cells eating viruses and killing infected cells Variola infects a crucial cell of your immune system your dendritic cells intelligence cells that gather information and leave the battlefield to get help They enter your lymphatic system a highway network that spans your entire body and connects hundreds of immune bases In these bases your heavy defenses are activated and should be the last place an enemy would want to invade but Variola wants to get here For about 12 days the virus quietly infects civilian and immune cells jumping from cell to cell infecting more and more of them At some point a critical threshold is reached and variola starts its attack for real Millions of viruses use the lymphatic highway to spill into your blood and organs infecting your whole body Suddenly variola is everywhere But despite this global attack your adaptive immune system is struggling to wake up Your\n",
            "\n",
            "infecting your whole body Suddenly variola is everywhere But despite this global attack your adaptive immune system is struggling to wake up Your immune cells look for and use critical transmitters called interferons to mobilize the body against viruses Interferons as the name suggests interfere significantly slowing down virus infections but also quickly activating millions of antivirus weapons But Variola is able to deactivate interferons which stuns the antivirus side of your defense system Other systems would usually help like the complement system a sort of mobile minefield that can destroy viruses But Variola manages to shut this down too And so with little resistance Variola spreads everywhere and infects billions of your cells all over your body Among the infected are your capillaries the smallest blood vessels in your body which die in great numbers All this death activates an immune cell that you really don t need right now but that s attracted by death the neutrophil Normally an efficient killer\n",
            "\n",
            "this death activates an immune cell that you really don t need right now but that s attracted by death the neutrophil Normally an efficient killer of invaders great and small it s not very effective against smallpox And even worse neutrophils fight by vomiting deadly chemicals which kills even more of your cells On top of that they order inflammation fluids streaming from your blood vessels into your tissue All over your body as first millions then billions of your cells die you get a rash that only gets worse and worse Pus and cellular junk fills it up as your body swells up with hundreds of lesions all over your skin and inside even on your organs all filled with billions of variola viruses now the critical phase begins as you fight for survival you burn up in a high fever thousands of battlegrounds drain your blood of fluid that streams into your tissue and organs Blood clotting appears all over your body while floods of toxins from dead cells build up and can cause organs to fail Your lungs fill up with\n",
            "\n",
            "Embeddings:\n",
            "[-0.01148604229092598, -0.010838941670954227, 0.012052255682647228, -0.013488011434674263, -0.015341686084866524, 0.007165295537561178, -0.03186972439289093, -0.01702684536576271, -0.013306014239788055, -0.021677883341908455, 0.00982784666121006, 0.016002267599105835, -0.009180745109915733, 0.005574505310505629, 0.014788953587412834, 0.052954431623220444, 0.03410761430859566, 0.0014871526509523392, 0.017606539651751518, -0.0008863935363478959, -0.003333244239911437, 0.03435027599334717, -0.012604988180100918, -0.008708900772035122, 0.004701592959463596, 0.03286733850836754, 0.011883740313351154, -0.029955383390188217, 0.016379743814468384, -0.012207290157675743, -0.009268373250961304, 0.003929790575057268, -0.006659747567027807, 0.02100382000207901, -0.03701956942677498, -0.005045365542173386, -0.002913639647886157, -0.010724350810050964, -0.007846099324524403, -0.019884875044226646, 0.023915773257613182, 0.0247785747051239, 0.005614949390292168, 0.033029112964868546, -0.01671677641570568, -0.0016354466788470745, -0.008297721855342388, -0.015530424192547798, -0.013400383293628693, 0.004307265859097242, 0.03871820867061615, 0.015179910697042942, -0.008621272630989552, -0.009443630464375019, -0.021785734221339226, -0.02584359608590603, 0.012234252877533436, -0.014155333861708641, 0.03820592164993286, -0.0068282634019851685, -0.014317109249532223, 0.0029372319113463163, -0.01238928735256195, 0.006467639468610287, -0.03435027599334717, 0.0033113372046500444, -0.025520045310258865, -0.0016329189529642463, -0.01282068807631731, 0.004239859525114298, 0.04238511621952057, 0.02270245924592018, 0.004711703862994909, 0.005625060293823481, -0.0038219401612877846, -0.008007874712347984, -0.01168152131140232, 0.01943999156355858, -0.0013784599723294377, 0.004630816634744406, 0.016352782025933266, -0.014034003019332886, 0.022271059453487396, -0.005122882779687643, 0.028876882046461105, -0.020639825612306595, 0.0007798072183504701, 0.025978408753871918, -0.017687426880002022, -0.002657495439052582, -0.011196195147931576, 0.018765928223729134, -0.016932476311922073, 0.013238607905805111, -0.0010827145306393504, 0.011277083307504654, -0.0037848667707294226, 0.0327325239777565, -0.016244931146502495, -0.01775483414530754, -0.018536746501922607, 0.013144238851964474, -0.01979050599038601, -0.017862683162093163, -0.024239324033260345, 0.015287760645151138, 0.008628013543784618, -0.018159272149205208, 0.014546290971338749, -0.014950728975236416, -0.0007621130789630115, 0.03383798897266388, -0.0007814923883415759, -0.04529706761240959, 0.016029231250286102, 0.002261483110487461, 0.016514556482434273, -0.021704845130443573, -0.00025445898063480854, -0.013124017044901848, 0.008365128189325333, 0.029119543731212616, 0.0063597895205020905, -0.019493917003273964, 0.02038368210196495, -0.0031613579485565424, -0.042439039796590805, -0.002869825577363372, 0.007475364487618208, -0.005601468030363321, 0.032193273305892944, 0.02882295660674572, 0.01698640175163746, -0.026113221421837807, 0.0026676063425838947, 0.01855022832751274, -0.040875211358070374, 0.00028858345467597246, -0.009281855076551437, -0.006956335622817278, 0.014249702915549278, 0.02990145795047283, -0.008870676159858704, 0.017458245158195496, -0.009180745109915733, 0.03696564584970474, 0.023794442415237427, 0.01702684536576271, -0.016137080267071724, 0.016689812764525414, 0.022203652188181877, -0.03394583985209465, 0.024765094742178917, -0.006450788117945194, 0.023228229954838753, -0.001389413489960134, 0.0017230749363079667, 0.03445812687277794, 0.0027939933352172375, -0.014896804466843605, -0.0062249768525362015, 0.005884574726223946, 0.0037680151872336864, 0.006154200062155724, 0.01095353253185749, 0.023443929851055145, 0.030251970514655113, 0.0028984732925891876, 0.008365128189325333, -0.03017108328640461, -0.028607256710529327, 0.027218684554100037, -0.009935696609318256, 0.03793629631400108, -0.0021249852143228054, 0.015894418582320213, 0.0002468757738824934, 0.04384109377861023, 0.008183130994439125, 0.0075225490145385265, -0.03178883716464043, 0.0068855588324368, 0.02595144510269165, 0.025533527135849, -0.04203459993004799, 0.005618319381028414, 0.011047901585698128, -0.020397162064909935, 0.0127667635679245, -0.015975305810570717, -0.014451921917498112, 0.004637557081878185, -0.00811572466045618, -0.02612670324742794, -0.6367473602294922, -0.020922932773828506, -0.01733691431581974, 0.0057059479877352715, -0.019049035385251045, 0.0062991236336529255, 0.022581128403544426, -0.013380161486566067, 0.0003231292066629976, 0.019197329878807068, -0.017700908705592155, 0.0025327936746180058, 0.010913088917732239, -0.011405155062675476, -0.018037939444184303, -0.012692616321146488, 0.023902293294668198, 0.0016581963282078505, -0.012881354428827763, -0.004324117675423622, -0.005608208477497101, 0.02055893838405609, 0.0011534912046045065, 0.020734194666147232, -0.010785016231238842, -0.00046299738460220397, 0.013710452243685722, -0.03410761430859566, 0.030359821394085884, -0.001011095242574811, -0.006036238744854927, 0.02871510572731495, -0.025681819766759872, -0.0023052971810102463, 0.06411692500114441, -0.024320213124155998, -0.013407123275101185, 0.02747482992708683, 0.017377357929944992, 0.020815081894397736, -0.031465284526348114, -0.01254432275891304, 0.012975722551345825, -0.00397023418918252, 0.0018890630453824997, -0.0027670308481901884, 0.008641494438052177, -0.0023979810066521168, 0.013818302191793919, -0.01062324084341526, 0.01985791139304638, 0.018051421269774437, -0.014937248080968857, 0.010838941670954227, -0.023578742519021034, 0.021233001723885536, 0.028769031167030334, -0.025412194430828094, 0.02179921418428421, -0.007536030374467373, -0.00543295219540596, 0.008823491632938385, 0.017175137996673584, 0.0029220653232187033, -0.024940351024270058, 0.006639525759965181, -0.01934562250971794, 0.0319775752723217, 0.008938082493841648, -0.010886126197874546, 0.022298021242022514, 0.035482704639434814, -0.005368915852159262, -0.013097054325044155, 0.0013102110242471099, 0.027286091819405556, -0.00012396449164953083, -0.0303058959543705, -0.016945956274867058, 0.005304879974573851, -0.016285374760627747, -0.02564137615263462, -0.03378406539559364, 0.03381102532148361, 0.0027147908695042133, -0.025695301592350006, -0.02383488602936268, 0.02471116930246353, -0.0002422415855107829, -0.0010144655825570226, 0.009457111358642578, 0.0055947271175682545, -0.015193391591310501, -0.014195778407156467, -0.0019345623441040516, 0.01722906343638897, -0.004664519801735878, -0.013090313412249088, -0.005082439165562391, 0.007225960958749056, -0.018698522821068764, 0.0073472922667860985, 0.024306731298565865, -0.018941184505820274, -0.0009723366238176823, 0.006585600785911083, -0.005267806351184845, 0.00575987296178937, 0.043679315596818924, -0.04775065928697586, 0.019669173285365105, 0.01346104871481657, 0.012530840933322906, 0.020599381998181343, 0.007967431098222733, -0.023888811469078064, 0.0251156073063612, -0.0018132309196516871, -0.008264019154012203, -0.024091031402349472, 0.029146507382392883, -0.00016672539641149342, 0.004964477848261595, -0.015543905086815357, 0.006026127841323614, -0.000507654098328203, -0.016487594693899155, -0.030225008726119995, -0.037424005568027496, -0.031195661053061485, -0.00575987296178937, -0.038906946778297424, 0.02822978049516678, -0.0016809459775686264, -0.010913088917732239, 0.009174004197120667, 0.01927821710705757, -0.0054599144496023655, -0.0093964459374547, 0.01482939813286066, -0.008466238155961037, -0.0021755399648100138, -0.018118828535079956, 0.010043546557426453, 0.006380011327564716, -0.014856359921395779, -0.000523241818882525, 0.003700608853250742, -0.005399249028414488, 0.011843296699225903, 0.03553662821650505, -0.016096636652946472, 0.012375806458294392, 0.007542770821601152, 0.02303949184715748, 0.01294201985001564, -0.03642639145255089, -0.019925318658351898, -0.00017167555051855743, -0.002162058837711811, 0.013359938748180866, 0.019493917003273964, -0.013272310607135296, 0.020046649500727654, 0.005058846902102232, -0.024131475016474724, -0.014815916307270527, 0.02027583122253418, -0.0047218152321875095, -0.04850561171770096, 0.008169650100171566, -0.006666488479822874, 0.008567347191274166, 0.017633501440286636, -0.004125268664211035, 0.02062634378671646, -0.011580411344766617, -0.024994276463985443, -0.040875211358070374, 0.0029220653232187033, -0.0016624091658741236, -0.03305607661604881, -0.003521981881931424, 0.0026962540578097105, 0.010960273444652557, 0.0008522690623067319, 0.0367499440908432, -0.008277500048279762, 0.011438857764005661, 0.010785016231238842, 0.03968885913491249, -0.0006643738597631454, -0.0001283880410483107, 0.0029271207749843597, 0.012416250072419643, -0.0200062058866024, 0.011829814873635769, 0.033541399985551834, 0.021947508677840233, 0.013885708525776863, 0.014613697305321693, -0.003993826452642679, 0.01864459738135338, -0.007037223316729069, 0.024306731298565865, -0.03367621451616287, 0.00239629577845335, -0.02844548039138317, 0.0054700253531336784, 0.02093641273677349, -0.0006070784875191748, 0.011074863374233246, -0.0010262617142871022, -0.007091148290783167, 0.012773503549396992, 0.025668339803814888, 0.027771417051553726, -0.015907898545265198, -0.015301242470741272, -0.01833452843129635, -0.0021401518024504185, -0.004084825050085783, 0.001175398239865899, -0.019871393218636513, -0.003818569937720895, 0.023133860900998116, 0.0018283972749486566, 0.017013363540172577, 0.01172870583832264, -0.02436065673828125, -0.02111166901886463, 0.007771952543407679, 0.005726169794797897, 0.016581963747739792, 0.01654151827096939, 0.02124648168683052, 0.007704546209424734, 0.0006492074462585151, 0.04057862609624863, 0.0008623800240457058, -0.044164642691612244, 0.0035725366324186325, 0.019925318658351898, -0.010710869915783405, -0.011068123392760754, 0.013926152139902115, 0.011742186732590199, -0.008425794541835785, -0.012699357233941555, 0.007825877517461777, -0.021987952291965485, -0.0022193542681634426, 0.0015267538838088512, -0.029173469170928, -0.00604634964838624, -0.012968982569873333, 0.0035994993522763252, -0.0008830232545733452, 0.028310667723417282, 0.015314723365008831, 0.003845532424747944, -0.015934862196445465, 0.014667622745037079, -0.013097054325044155, 0.007967431098222733, 0.009079636074602604, -0.01954784244298935, -0.0016185950953513384, 0.0027602901682257652, 0.011661299504339695, -0.038664285093545914, -0.002529423451051116, 0.029011694714426994, -0.008601050823926926, 0.010414281859993935, 0.003710719756782055, 0.0011332692811265588, 0.0054464335553348064, 0.003163043176755309, 0.012234252877533436, -0.042546890676021576, -0.01923777349293232, -0.00036631140392273664, 0.00982784666121006, -0.0040915654972195625, -0.004071343690156937, -0.02336304262280464, -0.01148604229092598, -0.008803269825875759, 0.022500241175293922, 0.0009596979361958802, 0.0215565524995327, -0.022513721138238907, 0.00949755497276783, 0.008628013543784618, 0.006467639468610287, 0.024239324033260345, -0.029335245490074158, -0.002664236119017005, -0.01043450366705656, -0.014923766255378723, -0.013872227631509304, -0.006531675811856985, 0.0040275296196341515, 0.00792698748409748, -0.0032169681508094072, -0.007664102129638195, -0.019453473389148712, -0.02221713401377201, 0.003363576950505376, 0.015045098029077053, -0.02394273690879345, 0.00230024172924459, -0.0053857676684856415, -0.011465820483863354, 0.017593057826161385, -0.007549511734396219, 0.022891197353601456, 0.014802435413002968, -0.009254892356693745, -0.010077250190079212, -0.024657243862748146, -0.012456693686544895, -0.01619100570678711, 0.08601050823926926, 0.008776307106018066, -0.00125038786791265, 0.013049869798123837, 0.0359141044318676, 0.004000566899776459, -0.020949894562363625, -0.015584348700940609, 0.032543785870075226, -0.005395878572016954, 0.007192257791757584, -0.012881354428827763, 0.01824015937745571, 0.01290831621736288, 0.033029112964868546, -0.009295335970818996, 0.0032119126990437508, -0.023403486236929893, 0.007354033179581165, 0.003307966748252511, 0.008297721855342388, 0.019925318658351898, 0.019291698932647705, 0.01472154725342989, -0.00666985847055912, -0.012072477489709854, 0.0038118292577564716, 0.03213934972882271, -0.0025614413898438215, 0.009335779584944248, 0.0027754565235227346, 0.010205321945250034, -0.005776724312454462, 0.012793725356459618, -0.009746958501636982, 0.010798498056828976, -0.013346457853913307, 0.03054855950176716, 0.005348694045096636, 0.021435219794511795, 0.027151279151439667, 0.035590555518865585, 0.006413714494556189, 0.019642211496829987, 0.007744989823549986, -0.007751730736345053, 0.0007305163308046758, 0.012517360039055347, -0.0008914490463212132, -0.04079432412981987, 0.034970417618751526, -0.014155333861708641, -0.0038387917447835207, -0.029497019946575165, 0.008614531718194485, -0.0039870860055089, 0.011432117782533169, 0.009477333165705204, -0.013966596685349941, 0.021030781790614128, -0.038529470562934875, -0.026463733986020088, -0.007623658515512943, -0.007475364487618208, -0.019952280446887016, -0.03478167951107025, -0.015597830526530743, 0.016528038308024406, -0.04257385432720184, -0.016352782025933266, 0.013090313412249088, -0.025142569094896317, -0.008789788000285625, -0.031573135405778885, 0.030063234269618988, 0.011391673237085342, 0.005786835215985775, -0.02272942289710045, 0.012564544565975666, 0.025681819766759872, 0.011061382479965687, -0.03580625355243683, -0.015395610593259335, -0.028769031167030334, 0.025236938148736954, 0.007394476793706417, 0.002965879626572132, -0.004512855317443609, -0.017539132386446, -0.00416908273473382, 0.010400800034403801, 0.014074446633458138, 0.006882188841700554, -0.013407123275101185, -0.001305998070165515, -0.0057093179784715176, 0.0038859762717038393, 0.023376522585749626, 0.008129206486046314, -0.046699121594429016, 0.035240042954683304, -0.0050554764457046986, -0.01044798456132412, -0.02906562015414238, -0.016420187428593636, -0.014856359921395779, -0.0009133560815826058, 0.0010397429578006268, -0.011587152257561684, -0.023443929851055145, 0.024198880419135094, -0.021084707230329514, 0.017768314108252525, -0.0012579710455611348, 0.007771952543407679, 0.0009243095992133021, 0.028283705934882164, -0.00096559600206092, 0.002323833992704749, -0.02062634378671646, -0.02051849476993084, -0.0024064069148153067, 0.006160940509289503, -0.009214448742568493, -0.004442078527063131, 0.0035725366324186325, 0.00690241064876318, -0.019022073596715927, -0.014761990867555141, -0.022877715528011322, 0.004496003966778517, 0.020329756662249565, 0.008142687380313873, -0.015463017858564854, -0.013798080384731293, -0.007542770821601152, 0.005547543056309223, 0.004428597167134285, -0.004246600437909365, -0.02782534249126911, -0.010326653718948364, -0.008102243766188622, -0.019561324268579483, -0.019493917003273964, 0.0018941184971481562, -0.03324481472373009, 0.010508649982511997, 0.018280602991580963, -0.007589955348521471, 0.011708483099937439, 0.013609342277050018, -0.03761274367570877, -0.011506264097988605, 0.01453281007707119, -0.011587152257561684, -0.020127536728978157, -0.005021773278713226, -0.014451921917498112, 0.02968575805425644, 0.01532820425927639, 0.027582678943872452, -0.018725484609603882, 0.015651755034923553, -0.011553448624908924, -0.008992007933557034, 0.015597830526530743, 0.003004638245329261, -0.0038017183542251587, -0.0072124795988202095, 0.005877833813428879, 0.019426511600613594, 0.028364593163132668, 0.0024451655335724354, -0.014600216411054134, 0.0023120378609746695, 0.0097941430285573, -0.008823491632938385, -0.014869841746985912, -0.022877715528011322, -0.03464686498045921, 0.006612563040107489, -0.001474514021538198, 0.007320330012589693, 0.024239324033260345, -0.03933834657073021, -0.008702159859240055, 0.027083871886134148, -0.0008392090676352382, 0.009018969722092152, -0.0047454070299863815, 0.011499524116516113, -0.011674780398607254, 0.008729122579097748, -0.018779410049319267, 0.0027501792646944523, 0.0013860431499779224, 0.005352064501494169, -0.011566930450499058, 0.014788953587412834, -0.002761975396424532, -0.012968982569873333, 0.012200550176203251, 0.014748509973287582, 0.006026127841323614, -0.022136246785521507, 0.005746391601860523, -0.01647411286830902, -0.018159272149205208, 0.0015048468485474586, -0.027380460873246193, -0.02144870162010193, -0.0029523982666432858, 0.025344789028167725, -0.01757957600057125, -0.0017744723008945584, -0.0127667635679245, -0.008769566193223, 0.0006732209585607052, -0.026072777807712555, -0.039149608463048935, 0.029173469170928, 0.01023902464658022, 0.005348694045096636, -0.010650203563272953, 0.04761584848165512, 0.013434085994958878, -0.0025092014111578465, -0.006821522954851389, 0.0034107614774256945, -0.008304462768137455, 0.001322849653661251, 0.012719579041004181, 0.0139800775796175, -0.016878550872206688, -0.010717609897255898, 0.01691899448633194, -0.027555717155337334, -0.04111787676811218, -0.05044691637158394, 0.028256744146347046, -0.007778692990541458, -0.0052610659040510654, -0.02120603807270527, -0.036453355103731155, -0.001019521034322679, 0.024279767647385597, -0.011405155062675476, 0.027245648205280304, -0.006410344038158655, -0.03359532728791237, -0.009086376056075096, -0.006204754579812288, -0.010077250190079212, 0.01698640175163746, 0.0063597895205020905, -0.028634218499064445, -0.019386067986488342, -0.033514440059661865, 0.024091031402349472, 0.0075225490145385265, -0.00849320087581873, 0.01985791139304638, -0.011465820483863354, 0.005517209880053997, -0.0017576206009835005, -0.00868193805217743, 0.004843146540224552, 0.021529588848352432, -0.025587450712919235, 0.03726223111152649, -0.019075997173786163, 0.003173154080286622, -0.011405155062675476, 0.012416250072419643, 0.004344339482486248, -0.0025884038768708706, -0.001711278804577887, -0.014087927527725697, -0.003228764282539487, 0.015489979647099972, 0.018833335489034653, 0.010940050706267357, -0.01114226970821619, -0.007771952543407679, -0.0021873360965400934, -0.010070509277284145, -0.023106897249817848, 0.019736580550670624, 0.006497972644865513, -0.013144238851964474, 0.003646683646366, -0.019089478999376297, -0.006767597980797291, 0.004425227176398039, 0.028553331270813942, -0.019210809841752052, -0.013899190351366997, 0.025722265243530273, -0.03807110711932182, 0.0083718691021204, 0.01120967697352171, 0.009126820601522923, -0.02705691009759903, 9.536945435684174e-05, 0.0022496869787573814, 0.002165429061278701, 0.005382397212088108, -0.002628847723826766, -0.030009308829903603, -0.024091031402349472, -0.02297208458185196, 0.03602195531129837, -0.009935696609318256, -0.007623658515512943, 0.03680386766791344, -8.989268826553598e-05, -0.0030619336757808924, -0.03844858333468437, -0.01209269929677248, 0.04454211890697479, 0.030440708622336388, -5.919120303587988e-05, -0.01307683251798153, -0.017431283369660378, -0.007650621235370636, -0.017727870494127274, 0.0007469466654583812, -0.006909151095896959, -0.020545456558465958, -0.021718326956033707, -0.027663568034768105, 0.018455859273672104, 0.023646147921681404, -0.0069630760699510574, -0.010083990171551704, -0.009888512082397938, -0.009430148638784885, -0.008715641684830189, 0.039500124752521515, -0.010872644372284412, -0.009349261410534382, 0.013750895857810974, -0.017282988876104355, 0.009625627659261227, -0.000764219556003809, -0.010185100138187408, 0.010555834509432316, -0.03386495262384415, -0.016838107258081436, -0.02069375105202198, -0.009969399310648441, 0.032651636749506, 0.008452756330370903, 0.01691899448633194, -0.04626772180199623, 0.01605619303882122, -0.03421546518802643, 0.0038590137846767902, -0.002440110081806779, 0.01650107465684414, 0.025439158082008362, 0.03831377252936363, 0.004135379567742348, 0.014249702915549278, -0.030872110277414322, 0.014384515583515167, 0.00407471414655447, -0.009942437522113323, -0.010030065663158894, -0.0006058146245777607, 0.01857719011604786, 0.021233001723885536, -0.004883590154349804, 0.011068123392760754, 0.013737414963543415, 0.0005489405011758208, -0.002074430463835597, 0.002377759199589491, -0.005628430284559727, -0.00953125860542059, -0.00647100992500782, 0.0003553578571882099, 0.015341686084866524, 0.007832618430256844, 0.007266405038535595, -0.01650107465684414, -0.04103698953986168, 0.0028630848973989487, 0.008944823406636715, -0.010326653718948364, -0.01282068807631731, 0.008466238155961037, 0.023201266303658485, 0.024657243862748146, 0.008762826211750507, -0.000784020172432065, 0.014047483913600445, 0.006565378978848457, 0.04343665391206741, 2.8542377549456432e-05, -0.01484287902712822, 0.031222622841596603, -0.012449953705072403, -0.027420904487371445, 0.010771535336971283, 0.007562992628663778, -0.006703561637550592, 0.013508233241736889, 0.013535195961594582, 0.004755518399178982, -7.067134720273316e-05, 0.005170067306607962, 0.029119543731212616, -0.019197329878807068, -0.0003125969669781625, -0.014910285361111164, -0.0019446732476353645, -0.027690529823303223, 0.03941923379898071, 0.016865069046616554, 0.003511870978400111, -0.0031714688520878553, -0.003147876588627696, -0.0052610659040510654, -0.014654140919446945, -0.023780960589647293, -0.0004259239067323506, 0.047184448689222336, -0.004522966220974922, -0.009935696609318256, -0.012470175512135029, -0.024819018319249153, 0.0015174854779615998, -0.001921081100590527, -0.02239239029586315, 0.011277083307504654, 0.1967187076807022, 0.009767180308699608, -0.0019244513241574168, 0.04405679181218147, -0.008412312716245651, 0.010838941670954227, 0.014869841746985912, -0.021017299965023994, -0.00015429736231453717, 0.003855643328279257, 0.014195778407156467, -0.0034444646444171667, 0.002209243131801486, 0.004394894000142813, 0.007300108205527067, 0.007603436708450317, -0.02771749161183834, 0.004442078527063131, -0.024657243862748146, -0.004964477848261595, 0.039985448122024536, -0.0024906648322939873, -0.007327070459723473, 0.0011678150622174144, 0.010474947281181812, 0.015301242470741272, -0.022298021242022514, -0.005756502505391836, 0.005608208477497101, -0.013366679660975933, -0.019574804231524467, -0.01346104871481657, 0.010933310724794865, -0.0041016764007508755, -0.019008591771125793, 0.007394476793706417, 0.00573628069832921, -0.021098189055919647, 0.008142687380313873, 0.010737831704318523, 0.006838374305516481, -0.013083573430776596, 0.001005197293125093, -0.006140718702226877, -0.018631115555763245, 0.0219340268522501, 0.006437306758016348, -0.01347452960908413, -0.02383488602936268, -0.003281004261225462, -0.03550966829061508, 0.0017458245856687427, 0.0019868023227900267, 0.01892770454287529, -0.005571134854108095, -0.005668874364346266, 0.01307683251798153, 0.023241709917783737, -0.011964627541601658, 0.020302793011069298, 0.0034377239644527435, -0.0028394926339387894, -0.011189454235136509, 0.005197030026465654, -0.023336078971624374, 0.022850753739476204, 0.001193935051560402, -0.004327487666159868, -0.003210227470844984, -0.033514440059661865, -0.0038859762717038393, 0.0010481687495484948, -0.034134577959775925, 0.009969399310648441, 0.010764794424176216, -0.021259963512420654, 0.012483656406402588, 0.04486566781997681, 0.016002267599105835, 0.004458930343389511, -0.010407540947198868, -0.0061744218692183495, -0.019089478999376297, 0.012234252877533436, -0.03076425939798355, -0.034754715859889984, 0.02259461022913456, -0.006285642273724079, -0.03836769610643387, 0.02930828183889389, 0.0035624257288873196, -0.002682772930711508, -0.0027670308481901884, -0.01209269929677248, 0.0089785261079669, 0.018415415659546852, 0.0026490697637200356, 0.009281855076551437, 0.009942437522113323, -0.021340850740671158, -0.019763542339205742, 0.0019783764146268368, 0.015314723365008831, -0.014761990867555141, 0.02204187773168087, 0.0077921743504703045, -0.011378192342817783, 0.009969399310648441, 0.002601885236799717, -0.03623765707015991, -0.006501342635601759, -0.001407950185239315, 0.0017727870726957917, 0.0005539959529414773, 0.010171618312597275, 0.02252720296382904, 0.008311203680932522, -0.015031617134809494, 0.00833816546946764, 0.017175137996673584, 0.011769149452447891, -0.020127536728978157, 0.004128639120608568, 0.018536746501922607, 0.012571284547448158, -0.030602484941482544, -0.04715748503804207, 0.01937258616089821, -0.008392090909183025, -0.026382846757769585, 0.010731091722846031, -0.024104511365294456, -0.01848282292485237, -0.0026490697637200356, 0.004320747219026089, 0.01181633397936821, 0.0017542503774166107, -0.02422584407031536, 0.012672394514083862, 0.005149845499545336, -0.019507398828864098, 0.0036332025192677975, 0.02630195952951908, -0.000961383106186986, -0.005793576128780842, -0.005486877169460058, 0.0137711176648736, -0.007664102129638195, 0.0012040459550917149, -0.004007307812571526, -0.0334874764084816, -0.026032334193587303, -0.020437605679035187, 0.01172870583832264, -0.0010902977082878351, -0.014735029079020023, -0.03014412149786949, -0.01616404391825199, 0.013798080384731293, -0.007630398962646723, -0.038772135972976685, 0.019224291667342186, 0.013400383293628693, -0.01736387610435486, -0.016555000096559525, -0.008304462768137455, -0.17126606404781342, 0.01285439170897007, -0.0044218567200005054, 0.0008855509804561734, 0.02920043282210827, -0.008088761940598488, 0.014182296581566334, -0.019251255318522453, 0.008742604404687881, -0.02111166901886463, 0.02394273690879345, 0.009686293080449104, -0.013912671245634556, -0.04359842836856842, 0.008992007933557034, -0.010872644372284412, -0.01605619303882122, 0.042546890676021576, 0.028769031167030334, 0.010373837314546108, 0.03968885913491249, -0.013420605100691319, 0.0061036450788378716, -0.048802200704813004, 0.0050015514716506, 0.037046533077955246, -0.008715641684830189, 0.020127536728978157, -0.0046813711524009705, -0.03723527118563652, -0.027528755366802216, 0.005678985267877579, -0.0037410527002066374, -0.010724350810050964, 0.024387618526816368, -0.023727037012577057, 0.011337748728692532, -0.018900740891695023, -0.006673228926956654, 0.0023406855762004852, 0.018294084817171097, 0.016393225640058517, 0.017498688772320747, -0.011513005010783672, -0.011775889433920383, 0.016339300200343132, 0.002547960262745619, -0.0171616580337286, 0.02657158486545086, -0.010731091722846031, 0.009147042408585548, 0.0012360640102997422, 0.02615366503596306, 0.035617515444755554, 0.024994276463985443, -0.0072124795988202095, 0.024239324033260345, 0.011074863374233246, -0.008439275436103344, -0.002841177862137556, -0.0359141044318676, -0.017377357929944992, 0.007873062044382095, 0.0033568362705409527, -0.014788953587412834, -0.01698640175163746, -0.016312336549162865, 0.002424943493679166, -0.039850637316703796, 0.018428897485136986, -0.01968265511095524, 0.012665653601288795, -0.0010144655825570226, -0.012948760762810707, 0.029092581942677498, 0.003146191593259573, 0.0018755818018689752, 0.018712002784013748, -0.027879267930984497, -0.01886029727756977, -0.014397997409105301, 0.01636626198887825, -0.0007107157143764198, -0.009093116968870163, -0.0030535077676177025, 0.02051849476993084, -0.005911536980420351, 0.0057093179784715176, 0.013521714136004448, -0.0037949776742607355, -0.017107732594013214, -0.010090731084346771, -0.021125150844454765, -0.018887260928750038, -0.005159956403076649, 0.030009308829903603, 0.004900441970676184, -0.002440110081806779, -0.025129089131951332, -0.0006765912403352559, -0.023578742519021034, 0.0034478348679840565, -0.012793725356459618, 0.025681819766759872, 0.016730256378650665, -0.0093964459374547, 0.00982784666121006, 0.019224291667342186, 0.035240042954683304, -0.0038219401612877846, -0.00015777299995534122, 0.016042711213231087, 0.008419053629040718, -9.82658239081502e-05, -0.01802445948123932, 0.005860982462763786, -0.006332826800644398, 0.0005687411176040769, 0.005186918657273054, -0.01557086780667305, 0.05554283410310745, -0.008452756330370903, -0.020599381998181343, 0.003747793147340417, 0.0024182028137147427, -0.011074863374233246, -0.11421332508325577, -0.0303058959543705, -0.028014080598950386, 0.015058578923344612, -0.014667622745037079, 0.03699260577559471, -0.01172870583832264, 0.031195661053061485, -0.013332976959645748, 0.033891912549734116, 0.0016733626835048199, -0.027798380702733994, -0.0012040459550917149, -0.005234103184193373, 0.024279767647385597, -0.018738966435194016, -0.016460631042718887, 0.0008821806404739618, -0.018145790323615074, 0.03421546518802643, -0.008034837432205677, -0.0195882860571146, -0.006777708884328604, -0.011614114977419376, -0.004391524009406567, 0.004054492339491844, 0.006390122231096029, 0.026140183210372925, -4.715811519417912e-05, 0.006841744761914015, -0.0002649912203196436, -0.004078084137290716, -0.0017458245856687427, 0.00048616831190884113, -0.008520162664353848, 0.021772252395749092, -0.03472775220870972, -0.011587152257561684, -0.003912938758730888, -0.021529588848352432, 0.025142569094896317, 0.0019699507392942905, 0.013953114859759808, -0.014856359921395779, -0.0013422289630398154, -0.009005488827824593, -0.01385874580591917, 0.033406589180231094, -0.008452756330370903, -0.0097941430285573, -0.014141852967441082, -0.0031512470450252295, -0.03149224817752838, -0.014640660025179386, 0.006838374305516481, -0.03359532728791237, 0.005561023950576782, 0.012982463464140892, -0.005382397212088108, 0.0003454575489740819, 0.021826177835464478, 0.0004221322888042778, -0.01612360030412674, 0.020976856350898743, -0.008203352801501751, -0.025007756426930428, -0.004819554276764393, -0.01616404391825199, 0.015975305810570717, -0.038772135972976685, -0.02239239029586315, -0.0023996662348508835, -0.010178359225392342, 0.014344071969389915, -0.01129730511456728, 0.01453281007707119, -0.035347890108823776, -0.0007397847366519272, 0.01342734508216381, -0.020114054903388023, -0.006002535577863455, -0.0037511636037379503, -0.005534061696380377, 0.003147876588627696, 0.029847532510757446, 0.018105346709489822, 0.005072328262031078, 0.009470592252910137, -0.020855525508522987, -0.005389138124883175, 0.0030080084688961506, 0.0029186950996518135, 0.016770699992775917, -0.017566096037626266, 0.00953125860542059, 0.03003627061843872, -0.01799749583005905, -0.0020609493367373943, 0.019399547949433327, 0.02401014231145382, -0.009079636074602604, -0.005783465225249529, -0.047939397394657135, 0.016595443710684776, -0.0005603153258562088, -0.004944256041198969, 0.014573253691196442, 0.008641494438052177, 0.015489979647099972, -0.011290564201772213, -0.005500358529388905, 0.02349785529077053, -0.03014412149786949, 0.03785540908575058, -0.017282988876104355, -0.009369483217597008, -0.0319775752723217, -0.019736580550670624, 0.037046533077955246, 0.0167437382042408, 0.01819971576333046, 0.013056610710918903, 0.02442806214094162, 0.00659908214583993, 0.012045515701174736, 0.02003316767513752, -0.0044117458164691925, -0.0028293817304074764, 0.018145790323615074, 0.026908615604043007, -0.020397162064909935, -0.007650621235370636, -0.02120603807270527, -0.029281320050358772, 0.026652472093701363, 0.03246289864182472, 0.011829814873635769, 0.013831784017384052, -0.006804671138525009, 0.014424959197640419, 0.00028942603967152536, 0.06465617567300797, -0.03027893416583538, -0.02990145795047283, -0.0011425376869738102, -0.02847244404256344, -0.007091148290783167, 0.021826177835464478, -0.020801600068807602, 0.011337748728692532, 0.00584750110283494, 3.831103185802931e-06, 0.024347174912691116, 0.03208542242646217, -0.04896397516131401, -0.005884574726223946, -0.013279051519930363, 0.00034819592838175595, 0.015732642263174057, -0.01086590439081192, -0.008452756330370903, -0.0057093179784715176, 0.009302076883614063, 0.006194643676280975, 0.009268373250961304, 8.046633593039587e-05, -0.002637273631989956, -0.02252720296382904, -0.014627178199589252, 0.0033113372046500444, 0.014519328251481056, -0.03027893416583538, -0.0006917577120475471, 0.011344489641487598, 0.009450370445847511, -0.00961888674646616, -0.00658223032951355, -0.0018401934066787362, -0.029820570722222328, 0.010805238038301468, -0.009814364835619926, 0.012712838128209114, -0.0034107614774256945, 0.009605404920876026, -0.015341686084866524, 0.03626461699604988, 0.024684205651283264, 0.0020592641085386276, -0.01647411286830902, 0.013609342277050018, -0.007960690185427666, 0.012968982569873333, -0.012382547371089458, 0.015220354311168194, 0.0005518895341083407, 0.019197329878807068, -0.004132009577006102, 0.019049035385251045, -0.012881354428827763, 0.004846516996622086, 0.03284037485718727, 0.0026928838342428207, 0.011182714253664017, 0.023228229954838753, 0.004728555679321289, -0.010677166283130646, -0.016595443710684776, -0.0027653456199914217, -0.012483656406402588, -0.017417801544070244, 0.0007532659801654518, 0.03184276074171066, 0.004691482055932283, -0.00039285264210775495, 0.014761990867555141, 0.0024182028137147427, -0.009848068468272686, 0.00345120532438159, 0.017593057826161385, 0.01544953603297472, -0.022608090192079544, 0.056243859231472015, 0.015314723365008831, 0.017552614212036133, -0.01385874580591917, -0.00961888674646616, -0.0038151994813233614, 0.0075225490145385265, -0.005540802143514156, -0.039392273873090744, 0.016083156690001488, -0.0031697838567197323, -0.004543188028037548, -0.01912992261350155, -0.03227416053414345, 0.0005594727117568254, -0.003461316227912903, -0.01667633093893528, 0.024926869198679924, 0.02135433256626129, -0.011930924840271473, 0.04392198100686073, 0.010178359225392342, 0.012476915493607521, 0.007151814177632332, -0.00863475352525711, 0.024374136701226234, 0.02142173983156681, 0.010663685388863087, -0.005604838486760855, -0.02685469016432762, 0.007010260596871376, -0.0021249852143228054, 0.011944405734539032, -0.02339000441133976, -0.021475663408637047, 0.03003627061843872, -0.009039191529154778, 0.010252506472170353, 0.004937515594065189, -0.004094935953617096, 0.02712431736290455, 0.009962659329175949, 0.026585064828395844, -0.004438708536326885, -0.03162706270813942, -0.035240042954683304, 0.013022907078266144, 0.007300108205527067, -0.002591774333268404, -0.027879267930984497, -0.004125268664211035, 0.008452756330370903, -0.020963376387953758, -0.03184276074171066, 0.009443630464375019, -0.009854808449745178, -0.013447567820549011, 0.002226094715297222, -0.001966580282896757, -0.004728555679321289, -0.007906765677034855, 0.012847650796175003, -0.024171918630599976, -0.009787402115762234, 0.0014938933309167624, 0.00146608822979033, -0.0012082589091733098, -0.013319495134055614, -0.010070509277284145]\n",
            "\n",
            "[-0.011332359164953232, 0.012464928440749645, 0.009913315996527672, -0.023650718852877617, -0.036641959100961685, 0.012831347994506359, -0.023650718852877617, -0.017041843384504318, -0.017814654856920242, 0.004180514719337225, 0.018507521599531174, -0.0029180324636399746, -0.0027381537947803736, 0.020799309015274048, 0.010859344154596329, 0.02238490618765354, 0.04207829385995865, 0.007401675917208195, 0.009367017075419426, -0.020732687786221504, 0.006379032041877508, 0.039573315531015396, -0.009706788696348667, -0.011685454286634922, 0.00020819295605178922, 0.031232275068759918, -0.0006866203621029854, -0.022784637287259102, 0.00912717916071415, 0.002479994436725974, -0.003352739382535219, -0.0015081497840583324, -0.005106556694954634, 0.009187138639390469, -0.01752151921391487, -0.011265737004578114, 0.0031595362816005945, -0.0243302620947361, -0.009133840911090374, -0.006442322861403227, 0.021771986037492752, 0.031045733019709587, -0.006652181502431631, 0.023144394159317017, -0.00882738083600998, 0.001832098001614213, -0.021745337173342705, -0.0374947190284729, -0.006732127163559198, -0.0018237702315673232, 0.034456767141819, 0.00845429953187704, -0.013910620473325253, -0.002599913626909256, -0.008194474503397942, -0.023330936208367348, -0.007401675917208195, -0.00877408403903246, 0.01866741292178631, -0.011678791604936123, 0.0027581402100622654, -0.013091173022985458, -0.008987273089587688, 0.011885319836437702, -0.018734034150838852, 0.010992588475346565, -0.01976000890135765, 0.02038625441491604, -0.018574142828583717, 0.007188486400991678, 0.026781940832734108, 0.02950010821223259, 0.007101878058165312, 0.008294407278299332, 0.005479638464748859, -0.014070512726902962, 0.008081217296421528, 0.019293658435344696, -0.015642786398530006, -0.005363050382584333, 0.032085031270980835, -0.02643550932407379, 0.008780745789408684, 0.01545624528080225, 0.02069271355867386, -0.002486656652763486, 0.00826109666377306, 0.018294330686330795, -0.004720150493085384, -0.008507597260177135, -0.004400366451591253, 0.021558796986937523, -0.026875212788581848, 0.01682865247130394, -0.0008011264726519585, 0.02055947110056877, -0.010399654507637024, 0.03029957041144371, -0.013104497455060482, -0.03061935491859913, -0.016748707741498947, -0.0031545397359877825, -0.01261815894395113, -0.015736056491732597, -0.03283119574189186, 0.004873380530625582, 0.010766074061393738, -0.024383557960391045, 0.0045869071036577225, -0.016069164499640465, -0.0030279583297669888, 0.03536282107234001, 0.026075750589370728, -0.030246272683143616, 0.016975220292806625, 0.009273746982216835, 0.0013824012130498886, -0.014869973994791508, -0.011672129854559898, -0.011798711493611336, 0.010452952235937119, 0.030432812869548798, -0.006961972452700138, -0.011425629258155823, 0.020626092329621315, -0.002891383832320571, -0.01632232777774334, -0.006552248727530241, 0.011272399686276913, -0.01682865247130394, 0.03578920289874077, 0.024383557960391045, -0.005073246080428362, -0.013137808069586754, 0.011625494807958603, 0.001359916408546269, -0.03232486918568611, -0.006498951464891434, -0.011792048811912537, -0.008081217296421528, 0.014576838351786137, 0.01957346871495247, -0.0036975068505853415, 0.0037374799139797688, -0.010492924600839615, 0.017494870349764824, 0.039466723799705505, 0.030486110597848892, -0.012398307211697102, 0.01277138851583004, 0.010319708846509457, -0.02806107886135578, 0.01956014521420002, -0.010912641882896423, 0.005489632021635771, 0.0106394924223423, 0.0033777225762605667, 0.02758140303194523, -0.013164456933736801, -0.014683432877063751, -0.005482969805598259, 0.008740773424506187, -0.00602926779538393, 0.008727448992431164, 0.011565535329282284, 0.020412903279066086, 0.015682758763432503, 0.00027564747142605484, 0.012151806615293026, -0.010059883818030357, -0.02918032370507717, 0.04532943665981293, -0.025302939116954803, 0.03485649824142456, -0.014243729412555695, 0.0015039859572425485, -0.009486936964094639, 0.025569425895810127, -0.007135189138352871, 0.011279061436653137, -0.02201182395219803, 0.015429596416652203, 0.019480198621749878, 0.02401047758758068, -0.03965326398611069, 0.0032411478459835052, 0.02118571475148201, -0.019879929721355438, 0.019919902086257935, 0.0072417836636304855, -0.023437529802322388, -0.00699528306722641, -0.017081815749406815, -0.036348823457956314, -0.6476699709892273, -0.026422183960676193, -0.006112545263022184, 0.009486936964094639, -0.0016289016930386424, 0.01792125031352043, 0.02747480757534504, -0.01914708875119686, -0.0033577359281480312, 0.03019297495484352, 0.00932704471051693, -0.0007461635395884514, 0.003954000771045685, -0.010759412311017513, -0.02808772772550583, -0.02666202187538147, 0.009606855921447277, 0.008074555546045303, 0.0008102869614958763, 0.0030929145868867636, -0.009753423742949963, 0.03128557279706001, -0.01215846836566925, 0.03296443819999695, -0.02170536480844021, -0.011212440207600594, 0.023077772930264473, -0.036322176456451416, 0.0005500458064489067, 0.007734784856438637, -0.010279735550284386, 0.016495544463396072, -0.0024966499768197536, 0.0016655436484143138, 0.06560909748077393, -0.012944605201482773, -0.015949245542287827, -0.0017404931131750345, 0.01693524792790413, 0.01753484271466732, -0.03160535544157028, 0.007148513104766607, 0.04452997446060181, -8.051862823776901e-05, -0.00580608518794179, -0.0009968278463929892, -0.0034743240103125572, 0.018001195043325424, -0.001005988335236907, -0.021652067080140114, 0.035416118800640106, 0.017788005992770195, -0.024889884516596794, 0.006875364109873772, 0.001717175473459065, 0.01966673880815506, 0.01916041411459446, -0.001593092456459999, 0.0030895834788680077, -0.00886735413223505, 0.00012470758520066738, 0.0014007221907377243, 0.014790027402341366, -0.005283104255795479, -0.04045272246003151, 0.01733497902750969, -0.004543602932244539, 0.01765476167201996, 0.0008910658652894199, -0.009986599907279015, 0.022731339558959007, 0.03205838426947594, -0.01073942519724369, 0.0020436220802366734, -0.00342102674767375, 0.032991088926792145, -0.013530876487493515, -0.02167871594429016, 0.002418369287624955, 0.003983980510383844, -0.03128557279706001, -0.02261142060160637, -0.046555276960134506, 0.025476155802607536, 0.00922044925391674, -0.011665468104183674, -0.027741294354200363, 0.021465526893734932, 0.008074555546045303, 0.0065056136809289455, 0.021918553858995438, 0.02776794321835041, -0.005729469936341047, -0.016482219099998474, -0.005399692337960005, 0.017055166885256767, -0.00972011312842369, -0.017108464613556862, -0.02453012764453888, 0.014070512726902962, -0.019200386479496956, -0.02362407185137272, 0.01581600308418274, -0.006588890682905912, 0.008907327428460121, -0.009060557000339031, -0.01985328085720539, 0.002526629716157913, 0.0258625615388155, -0.03730817884206772, 0.02584923803806305, 0.003724155481904745, 0.009207124821841717, 0.011698778718709946, 0.008267758414149284, -0.021332282572984695, 0.03419027850031853, -0.006475633475929499, -0.001708847819827497, -0.03637547418475151, 0.017867952585220337, -0.00034997236798517406, -0.00014157120313029736, -0.028860541060566902, 0.004643535707145929, -0.008081217296421528, 0.0036475404631346464, -0.012578185647726059, -0.041811808943748474, -0.028833892196416855, -0.009846693836152554, -0.01914708875119686, 0.021318959072232246, -0.012364995665848255, -0.001712178811430931, -0.002526629716157913, 0.02098584920167923, -0.013710754923522472, 0.007967961020767689, -0.009173814207315445, -0.0010817706352099776, -0.009140503592789173, -0.0005467146984301507, 0.024783289059996605, 0.0051964963786304, -0.015682758763432503, -0.010326370596885681, -0.00296633318066597, -0.008840705268085003, 0.01322441641241312, 0.025209669023752213, -0.022358257323503494, 0.01744157262146473, 0.00509323226287961, 0.02524964138865471, 0.007328392006456852, -0.026395535096526146, -0.012684780173003674, 1.048121430358151e-05, 0.008880678564310074, 0.013764052651822567, 0.015749379992485046, 0.012384982779622078, 0.026382211595773697, 0.01833430491387844, -0.01464345958083868, -0.006322403438389301, 0.007581554818898439, 0.009373679757118225, -0.041705213487148285, 0.010826033540070057, -0.016588814556598663, 0.0012724753469228745, 0.026728644967079163, 0.009460288099944592, 0.02401047758758068, -0.017401600256562233, -0.005586233455687761, -0.02402380108833313, -0.0002362990053370595, -0.0014307019300758839, -0.02755475416779518, 0.0055296048521995544, 0.02341088093817234, 0.015642786398530006, 0.0039939736016094685, 0.026488805189728737, 0.005582902114838362, -3.4156656170125643e-07, 0.01640227437019348, 0.04498300328850746, 0.0033827191218733788, -0.002116905990988016, 0.013277714140713215, 0.028220972046256065, -0.027741294354200363, 0.010752749629318714, 0.027314916253089905, 0.010419640690088272, 0.02391720749437809, 0.008434313349425793, -0.015722731128335, 0.022171717137098312, -0.02290455624461174, 0.006748782936483622, -0.02675529383122921, 0.006062578875571489, -0.022971177473664284, 0.016881950199604034, 0.021665392443537712, -0.0014623473398387432, 0.01834762841463089, 0.0070485807955265045, 0.0020602773874998093, 0.0017438242211937904, 0.03000643476843834, 0.0167087335139513, -0.015362974256277084, -0.0016397277358919382, -0.012245076708495617, 0.007581554818898439, -0.002358409808948636, -3.5295211091579404e-06, 0.00010565792763372883, -0.004989968612790108, -0.002771464642137289, 0.018001195043325424, 0.007401675917208195, 0.024170368909835815, -0.018001195043325424, -0.019520170986652374, -0.004297102801501751, 0.024756640195846558, 0.006895350757986307, 0.015949245542287827, 0.0037641285452991724, -0.00461022462695837, -0.007947973906993866, 0.020213037729263306, 0.006125869695097208, -0.030139677226543427, -0.0017604796448722482, -0.0010009916732087731, 0.0022867913357913494, 0.001350755919702351, 0.010173140093684196, 0.030566057190299034, 0.00021693705639336258, -0.018574142828583717, -0.004880042746663094, -0.03618893399834633, 0.0015006548492237926, -0.0053963614627718925, -0.019879929721355438, -0.005136536434292793, -0.02057279460132122, 0.0070952158421278, 0.0019786658231168985, 0.04583575949072838, 0.007101878058165312, -0.005216482561081648, -0.030779246240854263, 0.012724753469228745, -0.005626206286251545, 0.007488284260034561, -0.001006821170449257, -0.023650718852877617, -0.0070952158421278, -0.007395013701170683, 0.017041843384504318, -0.03842742368578911, 0.004037277773022652, 0.0024533458054065704, 0.009213787503540516, 0.00973343662917614, -0.003847405780106783, -0.0049366713501513, 0.00014229989028535783, 0.017454897984862328, 0.005959315225481987, -0.04836738854646683, -0.011365669779479504, -0.010932628065347672, 0.017894601449370384, -0.004140541423112154, -0.015762705355882645, -0.02453012764453888, -0.017481546849012375, -0.004280447028577328, 0.027608051896095276, 0.001477337209507823, 0.019000520929694176, -0.03506968542933464, 0.0075149331241846085, 0.010139829479157925, 0.013570849783718586, 0.02058611996471882, -0.03469660505652428, 0.010039896704256535, -0.009953288361430168, -0.016775354743003845, -0.006862039677798748, -0.01019312720745802, 0.0033960435539484024, 0.00922044925391674, 0.011418967507779598, -0.007828054949641228, -0.011445615440607071, -0.028860541060566902, -0.025982480496168137, 0.009033909067511559, -0.034110333770513535, 0.001009319443255663, -0.026528779417276382, -0.015429596416652203, 0.02035960555076599, -0.014070512726902962, 0.017068490386009216, 0.009693464264273643, -0.017001869156956673, -0.015562839806079865, -0.02049284800887108, -0.009860018268227577, -0.0197466854006052, 0.09502925723791122, 0.011485588736832142, -0.01180537324398756, 0.011498913168907166, 0.009287071414291859, 0.005049928091466427, -0.009460288099944592, -0.015496217645704746, 0.037254881113767624, 0.003954000771045685, 0.013517552055418491, -0.011858670972287655, 0.007608203217387199, 0.02138558030128479, 0.03381719812750816, 0.0010859344620257616, 0.019613441079854965, -0.01866741292178631, -0.004660191014409065, 0.018067818135023117, 0.014456918463110924, -0.004023953340947628, 0.003231154754757881, 0.027421509847044945, 0.006089227739721537, -0.0018587467493489385, 0.007381689269095659, 0.025409534573554993, 0.015189757570624352, -0.01363747101277113, -0.0032761243637651205, 0.025089750066399574, 0.010159816592931747, 0.0021452202927321196, -0.010606181807816029, -0.003644209587946534, -0.003059603739529848, 0.023557448759675026, 0.0031029079109430313, 0.018694061785936356, 0.017961222678422928, 0.030166326090693474, -0.001181703177280724, 0.018400926142930984, 0.0192403607070446, 0.00978007260710001, -0.022984502837061882, 0.01034635677933693, 0.010119843296706676, -0.025875886902213097, 0.03698839247226715, 0.007801406551152468, -0.016988545656204224, -0.03160535544157028, 0.0024983154144138098, -0.00018091968377120793, 0.011951941065490246, 0.00867415126413107, -0.007441648747771978, 0.029473459348082542, -0.020825957879424095, -0.017215058207511902, -0.008627516217529774, 0.000535055878572166, -0.02067939005792141, -0.030832543969154358, -0.0022101763170212507, 0.010319708846509457, -0.03112567961215973, -0.016695410013198853, 0.02321101538836956, -0.025596074759960175, 0.004390372894704342, -0.013444268144667149, 0.024876559153199196, 0.008294407278299332, 0.004290440585464239, -0.025409534573554993, -0.007388351485133171, 0.018507521599531174, 0.0025549440179020166, -0.032378166913986206, -0.016348976641893387, -0.024276964366436005, 0.0243169367313385, 0.015469569712877274, 0.015855975449085236, -0.00831439346075058, -0.005692827980965376, -0.009966612793505192, 0.014110486023128033, 0.03800104185938835, -0.005156523082405329, -0.006092558614909649, 0.011265737004578114, 0.01956014521420002, 0.017068490386009216, 0.014376972801983356, -0.011339020915329456, -0.03384384512901306, 0.03171195089817047, -0.01602919213473797, -0.016149111092090607, -0.014683432877063751, -0.026022454723715782, -0.011772062629461288, -0.011405643075704575, 0.005582902114838362, 0.0045869071036577225, -0.02075933665037155, 0.035522714257240295, -0.017907924950122833, 0.020612768828868866, -0.012051873840391636, 0.0010109849972650409, 0.004433677066117525, 0.02950010821223259, 0.002166872378438711, -0.0001332434912910685, -0.014670108444988728, -0.01713511347770691, -0.020106442272663116, -0.0019753347150981426, -0.0035109659656882286, 0.0049466644413769245, -0.0008960624691098928, 0.007228459231555462, -0.01287132129073143, -0.025316262617707253, -0.03677520528435707, -0.009300395846366882, 0.02776794321835041, 0.00554959150031209, -0.0008727448876015842, -0.013237740844488144, -0.006588890682905912, 0.00246833567507565, 0.0036275540478527546, 0.009446963667869568, -0.029366865754127502, 0.010079870000481606, -0.0001891433057608083, -0.0062391264364123344, -0.021811960265040398, -0.012838010676205158, -0.02707507647573948, -0.007301743142306805, 0.0070485807955265045, -0.01534964982420206, 0.009540233761072159, 0.0016097478801384568, -0.014563513919711113, -0.019893253222107887, 0.01754816807806492, 0.0006966136279515922, -0.025995805859565735, -0.001474006101489067, -0.015935922041535378, 0.03656201437115669, 0.014523540623486042, 0.0202663354575634, -0.014243729412555695, 0.012438279576599598, -0.002889718161895871, -0.01650886796414852, 0.0016963562229648232, -0.0025632716715335846, 0.007788082119077444, -0.010959276929497719, 0.005446327850222588, 0.010752749629318714, 0.011798711493611336, -0.013344335369765759, -0.04002634435892105, 0.005199827253818512, 0.011772062629461288, -0.00458357622846961, -0.021971851587295532, -0.015682758763432503, -0.017694735899567604, -0.005955983884632587, -0.005209820345044136, 0.004437008406966925, 0.0375213660299778, -0.026222318410873413, -0.0005512949428521097, 0.0068054115399718285, -0.013843998312950134, 0.013470917008817196, 0.002538288477808237, 0.011485588736832142, -0.016802003607153893, 0.006568904034793377, -0.003997304942458868, -0.0070752291940152645, 0.003497641533613205, -0.006412343122065067, -0.0023317611776292324, 0.015389623120427132, -0.00600261939689517, 0.001359083573333919, 0.010319708846509457, 0.025889210402965546, 0.024769965559244156, -0.023157719522714615, -0.006419005338102579, -0.021825283765792847, -0.029979785904288292, -0.012791374698281288, -0.009240436367690563, -0.028514107689261436, 0.000264613248873502, 0.021025823429226875, -0.007161837536841631, -0.01813443936407566, -0.002363406354561448, 0.007488284260034561, 0.014510216191411018, -0.034510064870119095, -0.04031948000192642, 0.011305710300803185, -0.006319072563201189, -0.0003787029709201306, -0.002603244734928012, 0.04439673200249672, 0.017414923757314682, 0.006702147424221039, -0.013630809262394905, -0.006798749323934317, 0.00541967898607254, 0.0019253684440627694, 0.006182497832924128, 0.016655435785651207, -0.03133887052536011, -0.007681487128138542, 0.012205103412270546, -0.02118571475148201, -0.007614865433424711, -0.06571569293737411, 0.02190523035824299, -0.0144435940310359, -0.00967347715049982, -0.027794592082500458, -0.03792109712958336, -0.014363648369908333, 0.021838607266545296, -0.015736056491732597, 0.04580911248922348, -0.02107912115752697, -0.01945354975759983, -0.022864583879709244, -0.02098584920167923, -0.010559546761214733, 0.007654838729649782, 0.0068420534953475, 0.00025774288224056363, -0.010952615179121494, -0.03730817884206772, 0.00928040873259306, 0.007148513104766607, -0.01592259667813778, 0.017774682492017746, -0.0076681626960635185, 0.014243729412555695, 0.012937943451106548, -0.00020257174037396908, -3.3362921385560185e-05, 0.017588140442967415, -0.016695410013198853, 0.03525622934103012, -0.03688179701566696, -0.007534919306635857, -0.012398307211697102, 0.0032644656021147966, 0.0022085108794271946, -0.012544875033199787, -0.01682865247130394, -0.004643535707145929, 0.0044203526340425014, 0.007601541001349688, 0.014523540623486042, 0.01886727847158909, 0.0028014443814754486, -0.012291711755096912, 0.006242457777261734, -0.014883297495543957, -0.03315098211169243, -0.004410359542816877, 0.0061058830469846725, -0.0156960841268301, -0.009180476889014244, -0.018973873928189278, -0.01581600308418274, -0.013950593769550323, 0.017867952585220337, -0.011978589929640293, -0.006468971725553274, 0.01630900241434574, -0.030939139425754547, 0.002181862248107791, 0.019720036536455154, 0.01822770945727825, -0.03355070948600769, 0.00881405733525753, -0.004880042746663094, 0.003707500174641609, 0.018614115193486214, 0.0025682682171463966, -0.019493522122502327, -0.031791895627975464, -0.018161088228225708, 0.045969005674123764, 0.005376374814659357, -0.027741294354200363, 0.04437008127570152, -0.006888688541948795, 0.002716501709073782, -0.026515454053878784, -0.009886667132377625, 0.03514963388442993, 0.014590161852538586, 0.010466276668012142, -0.006828729063272476, -0.03173859789967537, -0.0045202854089438915, -0.013444268144667149, 0.016242381185293198, -0.0072151352651417255, -0.011725427582859993, -0.006975296884775162, -0.0023434199392795563, -0.011951941065490246, -0.0019420238677412271, -0.015989219769835472, 0.00603259913623333, -0.0057960920967161655, -0.008847367949783802, -0.004243805073201656, 0.040692560374736786, -0.005259786732494831, -0.013764052651822567, 0.010213113389909267, -0.010866006836295128, 0.010199788957834244, -0.008467623963952065, 0.008321056142449379, 0.009926640428602695, -0.038267530500888824, -0.0010859344620257616, -0.02199850045144558, -0.011885319836437702, 0.023743990808725357, 0.010792722925543785, 0.0013174450723454356, -0.03570925444364548, 0.007761433254927397, -0.03728152811527252, -0.0001502112136222422, -0.010159816592931747, 0.011938616633415222, 0.021532148122787476, 0.04175851121544838, -0.0008119525155052543, 0.0324581153690815, -0.019626766443252563, 0.034296873956918716, -0.012238414958119392, -0.0061058830469846725, 0.006269106175750494, -0.0005704486975446343, 0.013830674812197685, 0.015562839806079865, -0.011305710300803185, -0.002111909445375204, 0.011885319836437702, -0.003257803386077285, 0.006102551706135273, 0.004993299953639507, -0.015656109899282455, -0.026009129360318184, -0.009973275475203991, 0.015496217645704746, 0.009360355325043201, 0.018107790499925613, -0.006812073290348053, -0.0064556472934782505, -0.0020952539052814245, 0.01119911577552557, 0.011772062629461288, 0.00967347715049982, -0.012424955144524574, 0.00188706093467772, 0.020053144544363022, 0.014630135148763657, 0.0038773855194449425, -0.0017887938302010298, 0.013790701515972614, 0.009546896442770958, 0.05441664159297943, 0.010499587282538414, -0.003707500174641609, 0.029926488175988197, -0.019027169793844223, -0.021718688309192657, 0.011432291939854622, -0.0009193801088258624, -0.006209146697074175, -0.006795417983084917, 0.01079938467592001, 0.00042721195495687425, -0.0028697317466139793, -0.006692154332995415, 0.006558910943567753, -0.016961896792054176, 0.0012250073486939073, -0.019893253222107887, -0.013817350380122662, -0.02069271355867386, 0.03626887872815132, 0.016642112284898758, -0.005386367905884981, -0.0029230290092527866, 0.009367017075419426, -0.012078522704541683, -0.01322441641241312, -0.020426226779818535, -0.001898719696328044, 0.025276290252804756, 0.004347068723291159, -0.028300916776061058, -0.005516280420124531, -0.03733482584357262, 0.021305633708834648, 0.006755445152521133, -0.0069486480206251144, 0.002135226968675852, 0.18259687721729279, 0.009000597521662712, -0.007914663292467594, 0.03229822218418121, -0.015429596416652203, 0.009120517410337925, 0.019227035343647003, -0.009273746982216835, 0.002736488124355674, -0.003356070490553975, 0.019480198621749878, -0.0010434631258249283, -0.005099894478917122, -0.0014964909059926867, 0.009080544114112854, 1.817784686863888e-05, -0.03973320871591568, -0.027901187539100647, -0.01640227437019348, -0.021252335980534554, 0.021025823429226875, 0.0017987871542572975, 0.008520921692252159, 0.007794744335114956, 0.002593251410871744, 0.009640166535973549, -0.03253806009888649, 0.0016338983550667763, -0.005073246080428362, -0.008127853274345398, -0.006065909750759602, -0.012937943451106548, 0.011852008290588856, 0.01003323495388031, -0.011272399686276913, 0.005709483753889799, 0.008067893795669079, -0.02198517695069313, 0.01732165366411209, 0.011112507432699203, 0.013804025948047638, -0.0023134401999413967, -0.005139867775142193, -0.009753423742949963, -0.03381719812750816, 0.014656784012913704, -0.003129556542262435, 0.0009526909561827779, -0.018827306106686592, -0.012285050004720688, -0.035522714257240295, -0.00403061555698514, -0.001301622367464006, 0.009433639235794544, -0.004796765744686127, 0.0004147203580942005, 0.005762781016528606, 0.03730817884206772, -0.013111159205436707, 0.02584923803806305, 0.002654876559972763, 0.016881950199604034, -0.017108464613556862, 0.020119767636060715, -0.013091173022985458, 0.02867399901151657, 0.024796614423394203, -0.0062391264364123344, -0.007768095470964909, -0.011632156558334827, 0.00764817651361227, 0.005962646100670099, -0.016135787591338158, 0.01944022625684738, 0.010905980132520199, -0.01834762841463089, 0.01925368420779705, 0.041092291474342346, 0.02727494202554226, 0.010972601361572742, -0.014576838351786137, 0.0032711278181523085, -0.017268355935811996, 0.02503645233809948, -0.028114376589655876, -0.02097252570092678, 0.01601586677134037, 0.002085260581225157, -0.046661872416734695, 0.018427575007081032, 0.006755445152521133, 0.00881405733525753, 0.005109888035804033, 0.000590435229241848, 0.002008645562455058, 0.01119245309382677, 0.012897970154881477, 0.016961896792054176, 0.009120517410337925, -0.03709498792886734, -0.033790551126003265, 0.023370908573269844, 0.012285050004720688, -0.0049366713501513, 0.014923270791769028, 0.002120237099006772, 0.00461022462695837, 0.009240436367690563, 0.008920651860535145, -0.02979324385523796, 0.00083027349319309, -0.009473612532019615, -0.007261770311743021, 0.002346751047298312, 0.004993299953639507, 0.0103929927572608, 0.012491577304899693, -0.017148436978459358, 0.04450332745909691, 0.022851258516311646, 0.0062491195276379585, -0.027194997295737267, -0.0001718632847769186, 0.028647350147366524, 0.019280333071947098, -0.03213832899928093, -0.05017950013279915, 0.007355040870606899, -0.015935922041535378, -0.027741294354200363, 0.012551536783576012, -0.02269136719405651, -0.01545624528080225, -0.001654717605561018, -0.004786772187799215, 0.011638819240033627, -2.2940261260373518e-05, -0.032271575182676315, 0.0003480986342765391, 0.006095889490097761, -0.017881276085972786, -0.007088553626090288, 0.030459461733698845, -0.0012483249884098768, -0.012791374698281288, 0.005356388166546822, 0.025156371295452118, 0.005926004145294428, -0.0061225383542478085, -0.004590238444507122, -0.02532958798110485, -0.04644868150353432, -0.014883297495543957, -0.002463339129462838, 0.0009185473318211734, -0.015989219769835472, -0.023064447566866875, 0.0031628673896193504, 0.011125831864774227, -0.010905980132520199, -0.027314916253089905, 0.030779246240854263, 0.006782093551009893, -0.019480198621749878, -0.020399577915668488, -0.02138558030128479, -0.16841977834701538, 0.0012699770741164684, -0.017188411206007004, -0.011625494807958603, 0.02907373011112213, 0.005569578148424625, 0.006622201297432184, -0.010013248771429062, 0.0023867241106927395, -0.012877983041107655, 0.008993935771286488, 0.016455570235848427, -0.02371734194457531, -0.029873190447688103, 0.015722731128335, -0.02870064787566662, 0.004317088983952999, 0.027901187539100647, 0.04397035390138626, 0.009367017075419426, 0.04093240201473236, -0.007168499752879143, 0.00415719673037529, -0.029926488175988197, -0.003189516020938754, 0.0056795040145516396, -0.01125241257250309, 0.0022351595107465982, -0.014217080548405647, -0.031578708440065384, -0.02086593024432659, 0.0054496587254107, 0.020506173372268677, -0.002488322090357542, 0.019919902086257935, -0.032378166913986206, 0.012285050004720688, -0.010879331268370152, -0.0033810536842793226, 0.014763378538191319, 0.03469660505652428, 0.014043863862752914, 0.0027348226867616177, -0.008381015621125698, -0.011279061436653137, 0.02696848288178444, -0.0028247619047760963, -0.01957346871495247, 0.025076424703001976, -0.01744157262146473, 0.004896698519587517, -0.001362414681352675, 0.004213825333863497, 0.03733482584357262, 0.017681410536170006, -0.006495620124042034, 0.036322176456451416, 0.01734830252826214, -0.013091173022985458, -0.0021185714285820723, -0.009287071414291859, -0.02097252570092678, 0.012724753469228745, -0.004530278500169516, -0.021145742386579514, -0.007954636588692665, -0.011878657154738903, -0.0006033431855030358, -0.02107912115752697, 0.0172283835709095, -0.02353079989552498, 0.012877983041107655, 0.010273072868585587, -0.009453625418245792, 0.027088401839137077, 0.014656784012913704, 0.013724079355597496, 0.006862039677798748, -0.015842651948332787, -0.01165214367210865, -0.01161217037588358, 0.016562165692448616, -0.018281007185578346, -0.005719476845115423, -0.005999288056045771, 0.027421509847044945, 0.00602926779538393, 0.018320979550480843, 0.0008452634210698307, -0.022051798179745674, -0.01724170707166195, 0.00032332364935427904, 0.0019286995520815253, -0.010672803968191147, 0.01054622232913971, 0.030059732496738434, -0.01028639730066061, -0.004666853230446577, -0.01073942519724369, 0.014483567327260971, -0.03192514181137085, 0.009000597521662712, -0.03200508654117584, 0.020306307822465897, 0.02391720749437809, -0.005639530718326569, 0.0074083381332457066, 0.024703342467546463, 0.024157045409083366, -0.008147839456796646, -0.013117821887135506, 0.015935922041535378, 0.017561491578817368, 0.0141904316842556, -0.01905381865799427, 0.010046559385955334, 0.004213825333863497, -0.0036075676325708628, 0.0031512086279690266, -0.01125241257250309, 0.04932674020528793, -0.006332396995276213, -0.00887401681393385, 0.02492985688149929, -0.012031887657940388, -0.037654612213373184, -0.12173125147819519, -0.026222318410873413, 0.0039040343835949898, 0.015016541816294193, -0.010386330075562, 0.025995805859565735, -0.015789354220032692, 0.020612768828868866, 0.005995957180857658, 0.024969831109046936, 0.006205815821886063, -0.03000643476843834, 0.004633542615920305, 0.000590435229241848, 0.0049966308288276196, -0.009466949850320816, 0.0011075865477323532, -0.010599520057439804, -0.010139829479157925, 0.021012498065829277, -0.003614229615777731, -0.01271142903715372, -0.01601586677134037, -0.005343064200133085, 0.0032294890843331814, -0.005026610568165779, 0.0019370272057130933, 0.01129238586872816, 0.009406990371644497, 0.0006437326082959771, -0.008401001803576946, -0.01397724263370037, -0.0034576687030494213, -0.004440339282155037, -0.007748108822852373, 0.029979785904288292, -0.043917056173086166, -0.015149785205721855, -0.0034476753789931536, -0.043543972074985504, -0.009113854728639126, 0.015189757570624352, 0.00554959150031209, 0.0008760759374126792, 0.0068420534953475, -0.01752151921391487, -0.018800657242536545, 0.025995805859565735, 0.012085184454917908, -0.006015943828970194, -0.003077924717217684, -0.018121114000678062, -0.029446812346577644, -0.03059270605444908, 0.019933225587010384, -0.03061935491859913, 0.004813421051949263, 0.014989892952144146, 0.0028114377055317163, -0.001651386497542262, 0.016455570235848427, -0.0012075190898030996, -0.0034476753789931536, -0.0012666459660977125, 0.0028614038601517677, -0.027101725339889526, -0.015176434069871902, -0.027714645490050316, 0.027035104110836983, -0.03464330732822418, -0.030246272683143616, -0.011592184193432331, -0.0026282279286533594, 0.015043189749121666, -0.010965939611196518, 0.001239997218362987, -0.02574264258146286, 0.016375625506043434, 0.007594878785312176, -0.008447637781500816, -0.01241829339414835, -0.007927987724542618, 0.003554270137101412, -0.00366086489520967, 0.02462339773774147, 0.016295678913593292, 0.009660152718424797, 0.007834717631340027, -0.014576838351786137, 0.0144435940310359, -0.012305036187171936, 0.027448158711194992, -0.0038207571487873793, -0.004843400791287422, 0.014137133955955505, 0.02504977583885193, -0.0014032204635441303, -0.011665468104183674, 0.01200523879379034, 0.044956352561712265, -0.022957853972911835, -0.019680064171552658, -0.04639538377523422, 0.0013407625956460834, 0.006785424891859293, -0.01632232777774334, -0.006822066847234964, 0.0009785068687051535, 0.011745413765311241, -0.015576164238154888, -0.008094541728496552, 0.017881276085972786, -0.012531550601124763, 0.015362974256277084, -0.02624896727502346, -0.0103929927572608, -0.0212789848446846, -0.03261800482869148, 0.020332956686615944, -0.0048200832679867744, 0.025502804666757584, 0.011285724118351936, 0.013504227623343468, 0.0009335372014902532, 0.0015106480568647385, 0.019293658435344696, 0.004290440585464239, -0.004173852503299713, 0.0054629831574857235, 0.02958005480468273, 0.0013632475165650249, -0.010806047357618809, -0.004433677066117525, -0.033897142857313156, 0.02241155505180359, 0.02503645233809948, 0.004163858946412802, 0.0015556177822872996, 0.006242457777261734, 0.035016387701034546, 0.006262443959712982, 0.05788097158074379, -0.028407512232661247, -0.01886727847158909, 0.013830674812197685, -0.0177480336278677, -0.004230480641126633, 0.021318959072232246, -0.025169694796204567, 0.024676695466041565, -0.004040608648210764, -0.004786772187799215, 0.029846541583538055, 0.020519496873021126, -0.03283119574189186, -0.022877907380461693, -0.016682084649801254, 0.014963244087994099, 0.015642786398530006, -0.0070952158421278, -0.01690859906375408, -0.010592857375741005, 0.015243055298924446, 0.002763136988505721, 0.013450930826365948, 0.014230404980480671, -0.007488284260034561, -0.023250989615917206, -0.007461635395884514, 0.011119169183075428, 0.007361703086644411, -0.029340216889977455, -0.005166516173630953, 0.019919902086257935, 0.013051199726760387, -0.0167087335139513, -0.004367055371403694, 0.005233138334006071, -0.03296443819999695, 0.012111833319067955, -0.020346280187368393, 0.023464178666472435, -0.005406354553997517, 0.009160489775240421, -0.020213037729263306, 0.01612246222794056, 0.031232275068759918, -0.000765733711887151, -0.004933340474963188, 0.026715319603681564, -0.002829758683219552, 0.011638819240033627, -0.016748707741498947, 0.0062224711291491985, -0.012591510079801083, 0.020106442272663116, 0.0045369407162070274, 0.007714798208326101, -1.781351056706626e-05, 0.012744739651679993, 0.04023953527212143, 0.008627516217529774, 0.02920697256922722, 0.010179802775382996, 0.008054569363594055, -0.03525622934103012, -0.017268355935811996, -0.013670782558619976, -0.01906714402139187, -0.006039261352270842, -0.009700126014649868, 0.013724079355597496, 0.020945876836776733, 0.008221123367547989, 0.024956505745649338, -0.006232464220374823, -0.02353079989552498, 0.004546934273093939, -4.0571601857664064e-05, 0.005446327850222588, -0.018574142828583717, 0.042024996131658554, 0.003990642726421356, 0.006772100459784269, -0.004200500901788473, -0.021345607936382294, -0.012298374436795712, 0.00948027428239584, 0.0048700496554374695, -0.051858365535736084, 0.028194323182106018, -0.008241109549999237, 0.0003945256466977298, -0.02218504063785076, -0.0344834141433239, -0.016069164499640465, -0.0006145855877548456, -0.012957929633557796, 0.024383557960391045, 0.022051798179745674, -0.01662878692150116, 0.04085245355963707, 0.008054569363594055, 0.0005621209857054055, -0.0019120441284030676, -0.011911967769265175, 0.010759412311017513, 0.017414923757314682, 0.00039244373328983784, -0.01633565127849579, -0.03466995805501938, 0.016388949006795883, 0.00039889771142043173, 0.025089750066399574, -0.017268355935811996, -0.04588905721902847, 0.023970503360033035, -0.0033194285351783037, 0.018627440556883812, 0.0034576687030494213, 0.0026815251912921667, 0.025516128167510033, 0.013923944905400276, 0.02928691916167736, -0.002584923757240176, -0.02816767431795597, -0.03235151991248131, 0.01954681985080242, 0.0055395979434251785, 0.007794744335114956, -0.03682849928736687, -0.00021631247363984585, 0.008694137446582317, -0.008021257817745209, -0.034456767141819, 0.005083239171653986, -0.012245076708495617, 0.00330776977352798, -0.014763378538191319, -0.00484006991609931, 0.005769443232566118, -0.010279735550284386, 0.02434358559548855, -0.013144470751285553, -0.01439029723405838, -0.02614237368106842, 0.008487610146403313, 0.0016705403104424477, -0.015656109899282455, 0.0011317369062453508]\n",
            "\n",
            "[-0.021903663873672485, 0.012446180917322636, 0.0033454580698162317, -0.008279504254460335, -0.012075959704816341, 0.020395850762724876, -0.026090534403920174, -0.03042549453675747, -0.012203854508697987, -0.008434323593974113, 0.007747730705887079, 0.007788118906319141, -0.01252022571861744, 0.020611252635717392, -0.005307633429765701, 0.004748934879899025, 0.030883222818374634, 0.0059807635843753815, 0.0008561377180740237, -0.01458000484853983, -0.02784067392349243, 0.010648922994732857, -0.0030425493605434895, -0.027450257912278175, 0.0029112889897078276, 0.02942926064133644, -0.00815160945057869, -0.02176903747022152, -0.005617273040115833, 0.005768727511167526, 0.0015902705490589142, -0.014068425633013248, -0.00806410238146782, 0.00026504509150981903, -0.0036147101782262325, -0.017084049060940742, 0.02125745825469494, -0.023492250591516495, 0.0008986290777102113, 0.0018982277251780033, 0.030371643602848053, 0.01471463032066822, -0.00355076277628541, -0.014216514304280281, -0.00916130468249321, 0.019116902723908424, -0.034329649060964584, -0.023653801530599594, -0.00617597158998251, 0.003984931856393814, 0.032498735934495926, -0.011369172483682632, -0.01721867546439171, 0.004903755150735378, -0.03314493969082832, -0.01968233287334442, 0.0059504727832973, -0.01907651498913765, 0.01713789999485016, -0.02178250066936016, -0.015549312345683575, -0.0110595328733325, -0.005486012902110815, 0.00840739905834198, 0.009861360304057598, 0.013206818141043186, -0.00915457308292389, 0.02688482776284218, -0.003941178321838379, 0.008346816524863243, 0.027261780574917793, 0.028513804078102112, -0.011025875806808472, 0.020449701696634293, 0.0189957395195961, -0.012809671461582184, -0.010285432450473309, 0.00916130468249321, -0.01260773278772831, 0.008676650933921337, 0.017084049060940742, -0.026265548542141914, -0.011113382875919342, 0.03898771107196808, 0.033844996243715286, -0.013906873762607574, 0.018201446160674095, 0.022805657237768173, -0.01832260936498642, -0.017945656552910805, -0.012325017713010311, 0.014001112431287766, -0.00856894999742508, 0.033414192497730255, 0.00552640063688159, 0.008885321207344532, -0.010366207920014858, 0.029617737978696823, -0.013550114817917347, -0.02596937119960785, -0.016680171713232994, 0.0046277716755867004, -0.014660780318081379, -0.01857839897274971, -0.020745879039168358, -0.009464213624596596, 0.012506762519478798, 0.006761594675481319, 0.02590205706655979, -0.007592910900712013, -0.02320953644812107, 0.018807264044880867, -0.004913852084428072, -0.052665721625089645, 0.023599952459335327, 0.03785685449838638, 0.02646748721599579, 0.0047152782790362835, -0.01215000357478857, -0.009538257494568825, 0.014445378445088863, 0.030371643602848053, 0.018982278183102608, -0.0094170942902565, 0.03276798874139786, 0.007747730705887079, -0.008138146251440048, -0.014983883127570152, -0.006973630748689175, -0.007687149103730917, 0.019291916862130165, 0.016949422657489777, 0.006404835730791092, 0.0011889166198670864, -0.0071082571521401405, -0.009962329640984535, -0.009040141478180885, 0.007835238240659237, -0.003407722571864724, 0.00600768905133009, 0.023815354332327843, 0.03788377717137337, -0.006610140670090914, -0.010938368737697601, 0.004499876871705055, 0.015737788751721382, 0.03362959623336792, 0.012924103997647762, 0.0007829347741790116, 0.015212747268378735, 0.016935961320996284, -0.04542284086346626, 0.0038435745518654585, -0.04571901634335518, 0.0033639692701399326, 0.024246156215667725, -0.00848817452788353, 0.03958006575703621, -0.020543940365314484, -0.0019302014261484146, -0.025700118392705917, 0.008333354257047176, 0.005024918355047703, 0.01680133491754532, 0.023680727928876877, 0.031206324696540833, -0.001600367482751608, -0.0025915519800037146, 0.007000556215643883, -0.007088063284754753, -0.008367011323571205, 0.040980178862810135, -0.014687705785036087, 0.031475577503442764, -0.017003273591399193, 0.011699005961418152, 0.01122781541198492, 0.0038435745518654585, -0.014081887900829315, -0.015320448204874992, -0.008124683983623981, 0.02832532674074173, 0.015872415155172348, 0.005411968566477299, -0.029806213453412056, 0.004900389350950718, 0.022644106298685074, -0.010689310729503632, 0.0006087623187340796, 0.005489378236234188, -0.007411165628582239, 0.0028271477203816175, -0.008939172141253948, -0.025067375972867012, -0.6410355567932129, -0.015481999143958092, 0.024676959961652756, 0.01933230459690094, -0.0047825914807617664, 0.005075403023511171, -0.007007287349551916, -0.029536962509155273, -0.019978510215878487, 0.01614166609942913, -0.003365651937201619, -0.007599642034620047, 0.004577286541461945, -0.014889644458889961, -0.02529624104499817, -0.02521546557545662, 0.007431359495967627, 0.004900389350950718, -0.01663978397846222, -0.0019773205276578665, -0.008898783475160599, 0.0011527357855811715, -0.005967300850898027, 0.030210092663764954, -0.022401779890060425, -0.011173964478075504, 0.03457197919487953, -0.002167479833588004, 0.010621997527778149, 0.022644106298685074, -0.00436861626803875, 0.00030669503030367196, -0.0060918303206563, -0.010709504596889019, 0.057027608156204224, -0.00560717610642314, -0.00445948913693428, 0.013577040284872055, -0.012432718649506569, 0.0260501466691494, -0.020045822486281395, -0.01950731873512268, 0.016424382105469704, 0.01029216405004263, -0.020786266773939133, 0.0014733141288161278, -0.006643797270953655, -0.0020278054289519787, -0.0033555550035089254, -0.03002161532640457, 0.028459953144192696, 0.009773853234946728, -0.022724881768226624, -0.00628703786060214, 0.018470698967576027, 0.021728649735450745, 0.016289755702018738, -0.015078120864927769, 0.01420305110514164, 0.005156178958714008, 0.00470518134534359, 0.002413172507658601, 0.0047825914807617664, -0.0017905269050970674, -0.0277329720556736, 0.01571086421608925, -0.015683937817811966, 0.012123078107833862, 0.009484407491981983, -0.002261718036606908, 0.006105292588472366, 0.02665596455335617, -0.0137049350887537, 0.003029086859896779, 0.0013159699738025665, 0.0257270447909832, -0.0038906936533749104, 0.004166677128523588, -0.012951028533279896, 0.024825049564242363, -0.03260643780231476, -0.020490089431405067, -0.027948373928666115, 0.009343050420284271, 0.016208980232477188, 0.0024754370097070932, -0.010150806047022343, 0.007397702895104885, -0.024919288232922554, -0.011268203146755695, 0.01841684803366661, 0.034329649060964584, -0.007532329298555851, -0.04566516727209091, -0.01983042247593403, 0.018538011237978935, -0.009390168823301792, 0.0023811988066881895, -0.015549312345683575, -0.0030021616257727146, -0.008892052806913853, -0.009477675892412663, -0.003071157494559884, -0.029644662514328957, 0.02942926064133644, 0.006172605790197849, -0.03721064701676369, 0.002361004939302802, 0.062089547514915466, -0.03481430560350418, 0.005671123508363962, -0.0014093667268753052, 0.001305872923694551, 0.02119014412164688, 0.0018813994247466326, -0.013853023760020733, 0.01463385485112667, 0.004466220270842314, 0.008212191052734852, -0.02261718176305294, 0.014068425633013248, -0.007397702895104885, 0.01445884071290493, -0.02152671106159687, 0.010958562605082989, -0.0040859016589820385, -0.0005481805419549346, -0.023828815668821335, -0.018120670691132545, -0.027463721111416817, -0.01572432555258274, -0.002184308134019375, 0.01773025467991829, -0.015657013282179832, -0.012203854508697987, 0.021822888404130936, 0.021580560132861137, -0.024569259956479073, -0.013853023760020733, -0.01755524054169655, -0.019211141392588615, -0.005812481045722961, 0.010110418312251568, 0.010433521121740341, -0.005024918355047703, -0.008185265585780144, -0.005095597356557846, 0.006509170867502689, -0.0016929229022935033, -0.0008977876859717071, 0.023976905271410942, -0.01840338483452797, 0.006226456258445978, -0.003113228129222989, 0.009491139091551304, -0.008467980660498142, -0.008252578787505627, -0.017609091475605965, 0.022846044972538948, 0.001114030834287405, 0.00272281258367002, 0.017501389607787132, 0.014876182191073895, 0.02236139215528965, 0.0038132837507873774, -0.011093189008533955, 0.003123325062915683, 0.00865645706653595, 0.0008624483016319573, -0.043834250420331955, -0.0012200488708913326, 0.007963133044540882, -0.007559254299849272, 0.029052307829260826, 0.0030863028950989246, 0.003685388946905732, -0.019386155530810356, 0.0055062067694962025, -0.018834188580513, 0.005684586241841316, -0.010049836710095406, -0.01791873201727867, 0.004082535859197378, -0.011651887558400631, 0.021661335602402687, 0.021230533719062805, 0.04229951277375221, 0.0036719264462590218, -0.003251219866797328, 0.026440562680363655, 0.04138405621051788, 0.016114741563796997, -0.014701168052852154, -0.005233589094132185, 0.003846940351650119, -0.0310178492218256, 0.009645958431065083, 0.02160748653113842, 0.016289755702018738, 0.01755524054169655, 0.003099765395745635, -0.03481430560350418, 0.003220929065719247, -0.01525313500314951, 0.005085499957203865, -0.01966886967420578, 0.017797566950321198, -0.018268758431077003, 0.02689829096198082, 0.0024232694413512945, 0.003611344611272216, 0.006394738797098398, 0.001668522018007934, 0.009612302295863628, 0.009275737218558788, 0.03422195091843605, 0.01437806524336338, -0.018430311232805252, -0.012136541306972504, 0.001644121017307043, -0.01900920271873474, -0.002690838882699609, 0.033064164221286774, -0.002138871932402253, -0.0019823689945042133, -0.004647965542972088, 0.020153524354100227, 0.014620392583310604, 0.0034767184406518936, -0.034410424530506134, -0.006165874656289816, 0.0014312434941530228, -0.0038200151175260544, 0.017420614138245583, 0.0052032978273928165, 0.005593713838607073, -0.0043214973993599415, -0.0037493363488465548, 0.023330699652433395, 0.00786216277629137, -0.005085499957203865, 0.008016983047127724, -0.0022549869026988745, -0.0063173286616802216, 0.0045604584738612175, -0.005499475169926882, 0.040387824177742004, 0.015037733130156994, -0.031987156718969345, -0.0036651950795203447, -0.026871366426348686, -0.008353548124432564, -0.006569752935320139, 6.894327816553414e-05, 0.012284629978239536, -0.011584574356675148, 0.004735472146421671, -0.0041734082624316216, 0.04305342212319374, 0.029025383293628693, 0.0016483280342072248, -0.020328538492321968, 0.0008952634525485337, -0.0064687831327319145, -0.000921347236726433, -0.0010879470501095057, -0.017851417884230614, -0.007256345823407173, -0.007310196291655302, 0.00651590246707201, -0.024273082613945007, -0.002630257047712803, 0.024569259956479073, -0.012049034237861633, 0.0015036050463095307, 0.026440562680363655, 0.0046277716755867004, -0.008649725466966629, 0.007478478830307722, 0.004920583218336105, -0.026211697608232498, -0.029563887044787407, 0.011907677166163921, 0.005041746888309717, -0.012345211580395699, -0.014862718991935253, -0.014351139776408672, 0.009343050420284271, 0.005916816182434559, 0.002046316396445036, 0.00479268841445446, 0.009632496163249016, -0.005738436710089445, 0.003155298763886094, 0.012331749312579632, -0.004244087263941765, 0.035272032022476196, -0.02151324786245823, 0.00806410238146782, -0.005156178958714008, -0.02252294309437275, -0.014135738834738731, -0.021957512944936752, -0.03319879248738289, 0.017178287729620934, 0.018605323508381844, -0.008191997185349464, -0.007390971761196852, -0.01925152912735939, -0.00974692776799202, -0.017622554674744606, -0.017003273591399193, 0.008306428790092468, -0.05045785382390022, -0.00823238492012024, 0.01773025467991829, 0.006388007663190365, 0.02287297137081623, 0.0013353223912417889, 0.010298894718289375, -0.021580560132861137, -0.03976854309439659, -0.014028037898242474, -0.02707330510020256, 0.06655913591384888, -0.0029954302590340376, -0.02354610152542591, 0.01806681975722313, 0.0002142447920050472, -0.014566541649401188, -0.02069202810525894, -0.008616069331765175, 0.047119129449129105, -0.010036374442279339, 0.014324215240776539, 0.004997993353754282, 0.014364602975547314, 0.01917075365781784, 0.012291361577808857, 0.028433028608560562, 0.01755524054169655, -0.007323658559471369, -0.014445378445088863, 0.004358519334346056, -1.5723904652986676e-05, 0.0012116347206756473, -0.0026571822818368673, 0.018389921635389328, 0.014970419928431511, -3.927689533611556e-07, 0.021082444116473198, 0.028459953144192696, 0.013630890287458897, -0.007054406683892012, -0.004345056600868702, 0.02832532674074173, 0.009612302295863628, 0.015549312345683575, -0.01892842724919319, -0.01790526881814003, 0.011954795569181442, 0.015064658597111702, 0.01079701166599989, 0.026682889088988304, 0.024246156215667725, 0.022805657237768173, 0.004917217418551445, 0.006801982875913382, 0.032579511404037476, 0.002726178150624037, -0.00029133923817425966, 0.015064658597111702, 0.02093435637652874, -0.03826073184609413, 0.033844996243715286, 0.01378571055829525, -0.013375100679695606, -0.03470660373568535, 0.0010744844330474734, 0.011934601701796055, 0.010541222058236599, 0.0001786950888345018, -0.0004148166044615209, 0.02210560254752636, -0.014418452978134155, -0.018053356558084488, -0.0005586982588283718, -0.006310597527772188, -0.019870810210704803, 0.003237757133319974, -0.0033067530021071434, 0.008340085856616497, -0.013469339348375797, -0.03260643780231476, 0.0047994195483624935, -0.027207931503653526, -0.01859186217188835, -0.016249367967247963, 0.009511332958936691, -0.008057370781898499, -0.009040141478180885, -0.01732637733221054, 0.006886124145239592, -0.002100166864693165, -0.003123325062915683, -0.026171309873461723, 0.007465016096830368, -0.013664547353982925, 0.006421663798391819, 0.016666708514094353, 0.006085098721086979, 0.00535811809822917, 0.003779627149924636, -0.01096529420465231, 0.012378867715597153, 0.040226273238658905, -0.008892052806913853, -0.0036248071119189262, 0.009652690030634403, 0.03196023032069206, 0.020705491304397583, 0.0049508740194141865, -0.010588341392576694, -0.031152475625276566, 0.008770888671278954, -0.051319461315870285, -0.01680133491754532, -0.012156735174357891, -0.03169097751379013, -0.02755795791745186, 0.0039176191203296185, 0.014660780318081379, 0.009565182961523533, -0.01336163841187954, 0.03659136965870857, -0.016962885856628418, 0.006549558602273464, 0.001023999648168683, 0.0023222998715937138, 0.026777127757668495, 0.01000271737575531, -0.019534245133399963, 0.01782449334859848, -0.011167233809828758, -0.02657518908381462, -0.01396072469651699, -0.0051864697597920895, 0.004166677128523588, -0.0004922266234643757, 0.010702772997319698, 0.01791873201727867, 0.012055765837430954, -0.005337924230843782, -0.03236411139369011, -0.0010366208152845502, 0.005677855107933283, 8.408871508436278e-05, -0.01892842724919319, -0.03443735092878342, -0.014728093519806862, 0.0069265118800103664, -0.0035305689089000225, 0.0019891003612428904, -0.024071143940091133, 0.01000944897532463, 0.012701970525085926, -0.012910640798509121, -0.030667820945382118, 0.006791885942220688, -0.02883690595626831, -8.771730790613219e-05, 0.01623590476810932, 0.00741789722815156, 0.013657815754413605, -0.0004993785987608135, -0.021567098796367645, -0.023492250591516495, 0.0021540173329412937, -0.0012385599547997117, -0.02370765246450901, -0.0047960542142391205, 0.0070274812169373035, 0.04281109198927879, 0.026292473077774048, 0.02867535501718521, -0.020867042243480682, 0.024744274094700813, 0.0030307695269584656, -0.022482555359601974, -0.0011645156191661954, 0.013718397356569767, 0.00958537682890892, -0.005452356301248074, 0.00405897619202733, 0.003520471975207329, 0.028567655012011528, -0.0027547860518097878, -0.025538567453622818, 0.01859186217188835, 0.023249924182891846, 0.005933644715696573, -0.0226037185639143, -0.021580560132861137, -0.005671123508363962, -0.004954239819198847, -0.003510375041514635, -0.00039188811206258833, 0.02707330510020256, -0.011194158345460892, -0.0009314441704191267, 0.008703576400876045, -0.021419009193778038, 0.028729205951094627, -0.0040017603896558285, 0.02263064496219158, -0.022509479895234108, 0.007916013710200787, -0.007740999571979046, 0.00586633151397109, 0.02495967596769333, -0.007774656172841787, 0.00012274112668819726, 0.006882758345454931, 0.007148644886910915, 0.013294325210154057, -0.01705712452530861, 0.009040141478180885, 0.020907429978251457, -0.005822577979415655, -0.007067869417369366, -0.019534245133399963, -0.04725375398993492, -0.009107454679906368, 0.0014792040456086397, -0.032391034066677094, -0.0157916396856308, 0.00272281258367002, -0.009477675892412663, -0.007606373634189367, -0.0025158249773085117, 0.002445146208629012, 0.015199284069240093, -0.031152475625276566, -0.03680676966905594, 0.023828815668821335, 0.00030648469692096114, 0.01121435221284628, -0.031637128442525864, 0.037668377161026, 0.02388266660273075, 0.002919703023508191, -0.015616625547409058, -0.010655654594302177, -0.0032663652673363686, 0.0006727097206749022, 0.0068558333441615105, 0.027127156034111977, -0.01572432555258274, 0.00710152555257082, 0.012917372398078442, 0.005822577979415655, 0.0032596339005976915, -0.04730760306119919, 0.03529895842075348, 0.00620289659127593, 0.015333910472691059, -0.04079170152544975, -0.04983857646584511, -0.025484716519713402, 0.0242865439504385, -0.006414932664483786, 0.038880012929439545, 0.0007450712146237493, -0.0011359076015651226, -0.008838201873004436, -0.0033673348370939493, -0.004846538882702589, 0.012001914903521538, -0.009396900422871113, -0.005065306089818478, -0.006472148932516575, -0.026857903227210045, 0.0013327981578186154, -0.008851665072143078, -0.005385043099522591, 0.021378621459007263, -0.01197498943656683, 0.004944142885506153, 0.02991391532123089, 0.008367011323571205, 0.020893966779112816, -0.0049643367528915405, -0.021068980917334557, 0.03877231106162071, -0.03707602247595787, 0.011766319163143635, -0.009309393353760242, 0.004671525210142136, 0.012203854508697987, -0.010601803660392761, -0.0035541285760700703, 0.011167233809828758, -0.026440562680363655, -0.015226209536194801, -0.0011510530021041632, 0.013987650163471699, 0.010029642842710018, -0.009309393353760242, -0.02295374684035778, -0.011672081425786018, -0.039391592144966125, -0.00819872785359621, 0.002763200318440795, -0.02354610152542591, -0.014660780318081379, -0.018968814983963966, 0.012755821458995342, 0.013879949226975441, 0.016276292502880096, -0.009026678279042244, -0.01336163841187954, 0.020032361149787903, -0.026292473077774048, 0.014822331257164478, 0.010830667801201344, 0.02784067392349243, -0.02579435706138611, 0.009598839096724987, 0.012883716262876987, -0.009093991480767727, 0.01830914616584778, -0.005512937903404236, -0.011369172483682632, -0.019103441387414932, -0.007215958088636398, 0.0258885957300663, 0.00950460135936737, -0.018834188580513, 0.0130250733345747, 0.009598839096724987, 0.010702772997319698, -0.005391774699091911, -0.026265548542141914, 0.02875613048672676, 0.004971067886799574, -0.03516433387994766, -0.011746125295758247, -0.012345211580395699, -0.0012377185048535466, 0.015441611409187317, 0.008414129726588726, -0.006771691609174013, -0.013664547353982925, -0.027181005105376244, -0.025659730657935143, -0.02697906643152237, 0.0036382698453962803, -0.013556846417486668, -0.005489378236234188, -0.016410918906331062, -0.012809671461582184, -0.01517235953360796, 0.0024114896077662706, -0.008770888671278954, -0.002276863669976592, 0.008016983047127724, 0.0018443772569298744, 0.0408724769949913, -0.010480640456080437, 0.016774410381913185, -0.002907923422753811, -0.058050766587257385, -0.004233990330249071, -0.006832273676991463, -0.03050627000629902, 0.029294634237885475, 0.009531526826322079, 0.0075121354311704636, -0.01832260936498642, 0.004052245058119297, -0.027786822989583015, -0.012210585176944733, 0.01361742801964283, 0.012345211580395699, 0.012311555445194244, 0.033925771713256836, 0.02522892691195011, 0.0049643367528915405, -0.017285989597439766, 0.020974744111299515, -0.014889644458889961, -0.00370894861407578, 0.003449793206527829, 0.015320448204874992, -0.011651887558400631, 0.009948867373168468, -0.01089125033468008, -0.002630257047712803, 0.0032310259994119406, 0.009013216011226177, -0.0016651563346385956, 0.008097758516669273, -0.008939172141253948, -0.008932440541684628, -0.00031910589314065874, 0.006865930277854204, 0.0048936582170426846, 0.001125810551457107, -0.0047893226146698, -0.01596665382385254, -0.0040892669931054115, 0.015280060470104218, -0.022819120436906815, -0.006754863541573286, -0.009531526826322079, 0.013247205875813961, 0.013085654936730862, 0.0039344471879303455, -0.0038132837507873774, -0.017595628276467323, 0.020126599818468094, -0.018107207491993904, 0.027100229635834694, 0.0033319955691695213, 0.0006302183610387146, 0.0021439203992486, -0.003377431770786643, -0.00890551507472992, 0.009201692417263985, -0.004695084411650896, -0.025511642917990685, -0.004075804725289345, 0.0035473972093313932, -0.00026756932493299246, 0.008191997185349464, 0.0013916970929130912, 0.01164515595883131, -0.027302168309688568, 0.02320953644812107, -0.0013016659067943692, 0.005469184368848801, -0.030129317194223404, 0.03179867938160896, 0.010554684326052666, -0.02245563082396984, -0.006307231727987528, 0.0040051257237792015, 0.00288941222243011, -0.03093707375228405, 0.0012116347206756473, -0.0014497545780614018, 0.021149756386876106, 0.002978601958602667, -0.007882356643676758, 0.01892842724919319, -0.029806213453412056, 0.007283270824700594, -0.004698450211435556, -0.019291916862130165, -0.015347372740507126, 0.18298377096652985, -0.013556846417486668, -0.001601208932697773, 0.029025383293628693, -0.026952141895890236, 0.009625764563679695, 0.020449701696634293, 0.002716081216931343, 0.01926499232649803, -0.008595875464379787, 0.026952141895890236, -0.005243686027824879, 0.00023664740729145706, -0.003456524573266506, 0.0034969125408679247, -0.0017047027358785272, -0.019197678193449974, -0.020301612094044685, -6.515692075481638e-05, -0.032229483127593994, 0.016787871718406677, -0.012022108770906925, -0.012567345052957535, -0.007040943950414658, 0.018268758431077003, -0.007606373634189367, -0.022899895906448364, 0.011335516348481178, 0.01054795365780592, -0.005499475169926882, -0.014620392583310604, -0.007209226489067078, 0.00634425412863493, 0.013428951613605022, -0.0013168113073334098, 0.005761996377259493, -0.01665324531495571, -0.012897178530693054, 0.01596665382385254, 0.004584018141031265, 0.0076534925028681755, -0.004496511071920395, -0.029563887044787407, -0.002679059049114585, -0.02555203065276146, 0.023559564724564552, 0.012991417199373245, -0.014162663370370865, -0.016033966094255447, -0.0013866486260667443, -0.03435657545924187, -0.00044889384298585355, -0.0085756815969944, -0.0074852099642157555, 0.007956401444971561, 0.011961527168750763, 0.015576237812638283, 0.007229420356452465, -0.004055610857903957, 0.014404990710318089, -0.009524795226752758, 0.04011857137084007, -0.007942939177155495, 0.038799237459897995, -0.015212747268378735, 0.02991391532123089, 0.023896129801869392, -0.006425029598176479, 0.013388563878834248, -0.012553881853818893, 0.014014574699103832, 6.715527706546709e-05, -0.036106713116168976, 0.002219647401943803, -0.012681776657700539, -0.00916803628206253, 0.004671525210142136, 0.026184773072600365, 0.015158896334469318, 0.007269808556884527, -0.00018090379307977855, 0.003924350254237652, -0.013186624273657799, 0.014310752041637897, -0.005906719248741865, -0.023842278867959976, 0.01958809420466423, -0.0025966004468500614, -0.03034471906721592, 0.005893256515264511, -0.013920336961746216, -0.01816105842590332, 0.006223090458661318, 0.016276292502880096, 0.0038738653529435396, 0.002214598935097456, 0.011456679552793503, 0.0018713024910539389, 0.020140061154961586, -0.036106713116168976, -0.028621504083275795, 0.04658062383532524, 0.030640896409749985, 0.008003520779311657, 0.004567189607769251, 0.021122831851243973, -0.003611344611272216, 0.0027362750843167305, 0.0034969125408679247, -0.025403941050171852, 0.018214909359812737, -0.026494411751627922, 0.016505157575011253, 0.003786358516663313, 0.006906318012624979, 0.004297937732189894, 0.016612857580184937, -0.01764947921037674, 0.02404421754181385, 0.013072192668914795, 0.0121836606413126, -0.022038288414478302, 0.015226209536194801, 0.028298402205109596, 0.004701816011220217, -0.01248656865209341, -0.058373868465423584, 0.016585933044552803, -0.000575105776078999, -0.018443772569298744, -0.013933799229562283, -0.010514296591281891, -0.014176126569509506, 0.008945902809500694, 0.003618075978010893, -0.005990860518068075, 0.010830667801201344, -0.02691175416111946, -0.023007597774267197, 0.017272526398301125, -0.025255853310227394, -0.013018341735005379, 0.030640896409749985, -2.220541500719264e-05, -0.006674088072031736, 0.0020749245304614305, 0.04203026369214058, 0.010440252721309662, -0.021311309188604355, -0.004870098549872637, -0.021028593182563782, -0.031744830310344696, -0.016437845304608345, 0.0103796711191535, 0.009524795226752758, -0.018430311232805252, -0.035002779215574265, -0.006532730534672737, 0.01859186217188835, -0.013657815754413605, -0.012331749312579632, 0.004176774062216282, 0.013058729469776154, -0.027032917365431786, -0.02067856676876545, -0.019655408337712288, -0.1703827679157257, 0.00027745592524297535, 0.00029554631328210235, -0.005405236966907978, 0.017757179215550423, 0.016491694375872612, -0.014687705785036087, 0.016451306641101837, -0.003353872336447239, 0.01362415961921215, 0.01214327197521925, -0.0010761672165244818, -0.03346804529428482, -0.024757735431194305, 0.015199284069240093, -0.021378621459007263, 0.006761594675481319, 0.043080344796180725, 0.04176101088523865, 0.0023677360732108355, 0.034410424530506134, -0.027046378701925278, -0.0030896684620529413, -0.02715408056974411, -0.0013521506916731596, 0.013152968138456345, -0.005008090287446976, 0.011611499823629856, -0.016545545309782028, -0.040576301515102386, -0.01697634905576706, 0.01378571055829525, 0.006236553192138672, -0.008360279724001884, 0.03058704547584057, -0.015939727425575256, 0.002317251404747367, -0.007828506641089916, 0.007828506641089916, 0.024919288232922554, 0.06666683405637741, 0.025767432525753975, 0.005640832707285881, 0.01479540579020977, -0.018026432022452354, 0.04361885040998459, -0.0012057448038831353, -0.005563422571867704, 0.009040141478180885, -0.03675292059779167, 0.014930032193660736, 0.0026538167148828506, 0.002823781920596957, 0.018524548038840294, -0.0026756932493299246, 0.017084049060940742, 0.009269005618989468, 0.012762552127242088, 0.00297355349175632, 0.0020362194627523422, -0.0032831935677677393, -0.014943494461476803, 0.01206922810524702, -0.008084296248853207, -0.0035743224434554577, -0.02446155808866024, -0.0026100631803274155, 0.02261718176305294, -0.020530477166175842, 0.016505157575011253, -0.026696352288126945, -0.004984530620276928, 0.004355153534561396, -0.01588587835431099, 0.01223077904433012, 0.011799976229667664, 0.003846940351650119, -0.0030963998287916183, 0.01122781541198492, -0.02008621208369732, -0.011685543693602085, 0.026279011741280556, -0.011207621544599533, -0.015562774613499641, -0.024178843945264816, 0.015737788751721382, 0.007572717033326626, 0.02672327682375908, 0.02201136387884617, -0.031314026564359665, -0.013799172826111317, -0.023976905271410942, -0.016182055696845055, -0.026454024016857147, 0.012876984663307667, 0.03204100579023361, 0.012769283726811409, -0.005378311965614557, -0.0023307139053940773, 0.021055519580841064, -0.0020564133301377296, -0.007532329298555851, -0.045772869139909744, 0.007424628362059593, -0.0007989216246642172, -0.015468536876142025, 0.0068726614117622375, 0.012419255450367928, 0.0344642773270607, -0.00012074276310158893, -0.025955908000469208, 0.021297845989465714, 0.007781387306749821, 0.002672327682375908, -0.02271142043173313, 0.017339838668704033, -0.014755018055438995, -0.0068726614117622375, -0.004065707791596651, -0.013590502552688122, 0.04219181463122368, -0.009787316434085369, -0.030883222818374634, 0.013422220014035702, -0.019991973415017128, -0.01646476984024048, -0.136564701795578, -0.027436794713139534, 0.005755264777690172, -0.008690113201737404, -0.01639745570719242, 0.009343050420284271, -0.011261471547186375, 0.002672327682375908, -0.0026992529164999723, 0.016949422657489777, -0.029860064387321472, -0.010756623931229115, -0.011665349826216698, -0.018039895221590996, -0.01260773278772831, -0.007411165628582239, -0.0017181653529405594, 0.0008363645174540579, -0.021970976144075394, 0.025834744796156883, -0.0030391837935894728, -0.02018044888973236, -0.0173129141330719, -0.00702075008302927, 0.011241277679800987, -0.002949994057416916, -0.027948373928666115, 0.010191194713115692, 0.011248009279370308, 0.0005797335761599243, 0.016208980232477188, -0.005933644715696573, 0.00803044531494379, -0.012594269588589668, -0.028702279552817345, 0.022819120436906815, -0.020193912088871002, -0.01707058772444725, 0.03058704547584057, -0.03958006575703621, -0.008124683983623981, 0.008420861326158047, -0.014755018055438995, 0.011086457408964634, 0.0033067530021071434, -0.0018645712407305837, -0.013974186964333057, 0.014391528442502022, 0.004516704939305782, -0.01042678952217102, 0.006876027211546898, -0.015845488756895065, -0.01966886967420578, -0.0346258282661438, 0.019938122481107712, -0.025875132530927658, 0.009935405105352402, 0.03567591309547424, -0.004149849060922861, -0.0010761672165244818, 0.006566387135535479, -0.01505119539797306, -0.022159453481435776, 0.01966886967420578, 0.03823380544781685, -0.03548743575811386, -0.0006815445376560092, -0.015293522737920284, 0.04725375398993492, -0.021243995055556297, -0.011436485685408115, -0.026077071204781532, -0.012338479980826378, 0.005378311965614557, -0.01054795365780592, 0.01825529709458351, 0.011012413538992405, 0.014418452978134155, 0.008481442928314209, -0.0007909281994216144, -0.007175569888204336, -0.006556290201842785, -0.00020982736896257848, 0.0029415797907859087, 0.042838018387556076, 0.015293522737920284, 0.005903353448957205, 0.016545545309782028, -0.009444019757211208, 0.01517235953360796, -0.01833607256412506, 0.029644662514328957, -0.00040871635428629816, -0.012479837983846664, 0.007478478830307722, 0.009969061240553856, 0.00966615229845047, -0.007061137817800045, 0.002445146208629012, 0.031394802033901215, -0.019951585680246353, -0.002527604578062892, -0.037452977150678635, 0.0017804298549890518, -0.01155091729015112, 0.0002185570338042453, 0.01657246984541416, -0.021742111071944237, 0.011631693691015244, -0.011921139433979988, -0.001644121017307043, 0.030129317194223404, -0.013523189350962639, -0.0025074107106775045, -0.0226037185639143, 0.023249924182891846, -0.014351139776408672, -0.047711484134197235, 0.025578955188393593, -0.017030199989676476, 0.0064519550651311874, 0.02571358159184456, 0.015778176486492157, -0.0018696197075769305, 0.015778176486492157, 0.024273082613945007, 0.008636263199150562, -0.0015330545138567686, 0.017016736790537834, 0.011699005961418152, 0.0076669552363455296, -0.027679122984409332, -0.006048076786100864, -0.038368433713912964, 0.0070274812169373035, 0.009275737218558788, 0.003685388946905732, -0.009995986707508564, 0.002100166864693165, 0.024932749569416046, 0.0038031868170946836, 0.05234261974692345, -0.02303452230989933, -0.03438350185751915, 0.0036820233799517155, -0.022899895906448364, -0.010096956044435501, 0.01672055944800377, -0.024246156215667725, 0.019776571542024612, -0.012271166779100895, -0.0059942263178527355, 0.03292953968048096, 0.01437806524336338, -0.027867598459124565, -0.0371837243437767, -0.0009743562550283968, -0.002704301383346319, 0.025767432525753975, -0.021647874265909195, -0.019628481939435005, -0.0027009358163923025, 0.0067043788731098175, 0.022590255364775658, 0.015145434066653252, 0.01739368960261345, 0.01394726149737835, -0.006256747059524059, -0.02034199982881546, 0.011147039011120796, -0.004449391737580299, -0.004833076149225235, -0.0073303901590406895, 0.009814240969717503, 0.014283827506005764, -0.00445948913693428, -0.003924350254237652, 0.02537701651453972, -0.005220126360654831, 0.017339838668704033, -0.006290403660386801, 0.01825529709458351, 0.014903106726706028, 0.004318131599575281, -0.01437806524336338, 0.016451306641101837, 0.03680676966905594, 0.010749892331659794, 0.01113357674330473, 0.03338726609945297, 0.008966096676886082, 0.012796209193766117, -0.02722139284014702, 0.016343606635928154, 0.019399618729948997, 0.0015911119990050793, -0.0009718320216052234, 0.014701168052852154, -0.0017787470715120435, 0.011463411152362823, 0.025592418387532234, 0.015158896334469318, 0.019816959276795387, 0.018134133890271187, 0.012621195055544376, -0.05035015568137169, -0.004183505661785603, 0.002281912136822939, -0.02261718176305294, -0.01657246984541416, -0.013233743607997894, 0.023559564724564552, 0.00848817452788353, -0.0016937643522396684, 0.023761503398418427, 0.008360279724001884, -0.01021138858050108, 0.01362415961921215, -0.0017669673543423414, 0.0054220655001699924, -0.039041563868522644, 0.031664054840803146, 0.016693633049726486, 0.014606929384171963, -0.01328759454190731, -0.022496018558740616, 0.0033589208032935858, 0.021297845989465714, 0.010494102723896503, -0.030533194541931152, 0.018793800845742226, 0.013933799229562283, -0.013018341735005379, -0.003951275255531073, -0.02545779198408127, -0.001884765108115971, -0.0012234145542606711, -0.02024776302278042, 0.022899895906448364, 0.03196023032069206, -0.022172914817929268, 0.06817464530467987, -0.0030391837935894728, -0.023478789255023003, -0.0027177638839930296, -0.028944607824087143, 0.012648120522499084, 5.879373202333227e-05, 0.002214598935097456, 0.0027766628190875053, -0.03201408311724663, 0.019870810210704803, 0.003421185305342078, 0.026211697608232498, -0.03540666028857231, -0.05387735739350319, 0.027598345652222633, -0.02009967342019081, 0.012924103997647762, -0.01171919982880354, 0.005122522357851267, 0.023640340194106102, -0.0059807635843753815, 0.0016155129997059703, -0.003641635412350297, -0.02327684871852398, -0.007155376020818949, 0.021580560132861137, -0.002764883218333125, -0.001505287829786539, -0.03723757341504097, 0.014445378445088863, -0.006041345186531544, -0.028783056885004044, -0.016074353829026222, 0.0010265238815918565, 0.0012545468052849174, -0.009349781088531017, -0.032660286873579025, -0.005953838583081961, 0.03807225450873375, 0.001541468664072454, 0.024434633553028107, -0.03292953968048096, -0.02631939947605133, -0.02640017494559288, 0.003034135326743126, -0.008622800000011921, -0.030613970011472702, -0.004435929469764233]\n",
            "\n",
            "[-0.045924559235572815, 0.006571752950549126, -0.0007408004021272063, -0.005439857020974159, -0.010825653560459614, 0.023313673213124275, -0.030301017686724663, -0.030922716483473778, -0.017650816589593887, -0.014217961579561234, 0.01123110856860876, 0.004324855282902718, -0.009001105092465878, 0.020813366398215294, 0.0018414423102512956, -0.006764343939721584, 0.03865339607000351, 0.00763607257977128, -0.0032841870561242104, -0.01627226732671261, -0.00796043686568737, 0.021043123677372932, 0.0009443727321922779, -0.022448701784014702, -0.022245975211262703, 0.052979476749897, -0.003454816062003374, -0.03859933465719223, -0.00809558853507042, -0.0005807300913147628, 0.008122619241476059, -0.010082319378852844, -0.020907972007989883, 0.013136748224496841, 0.006608919706195593, -0.024800341576337814, 0.017799483612179756, -0.03713969513773918, -0.011021623387932777, 0.015664085745811462, 0.03586927056312561, 0.017772452905774117, -0.00796719454228878, -0.0004274173406884074, -0.012494777329266071, 0.002067821566015482, -0.01875906065106392, -0.013143505901098251, -0.019678091630339622, 0.017840027809143066, 0.0239759162068367, -0.005267538595944643, -0.013184051029384136, 0.0058858576230704784, -0.023692097514867783, -0.020272759720683098, 0.0024715871550142765, -0.00563582731410861, 0.009210590273141861, -0.020732276141643524, -0.017961664125323296, -0.0093389842659235, -0.016420934349298477, 0.019367242231965065, 0.009474135935306549, 0.02001597173511982, -0.00047345340135507286, 0.025759920477867126, -0.010176924988627434, 0.013015111908316612, 0.025043616071343422, 0.03832903131842613, -0.020962033420801163, 0.022205429151654243, 0.009426833130419254, -0.024408401921391487, -0.004828295670449734, 0.02816561982035637, 0.00042678380850702524, -0.004091718699783087, 0.025057131424546242, -0.013947658240795135, -0.004720174241811037, 0.01861039362847805, 0.020840397104620934, -0.008446983061730862, 0.012542080134153366, 0.016961542889475822, -0.010136379860341549, -0.01137977559119463, -0.0009882970480248332, 0.01582626812160015, -0.004311340395361185, 0.026178890839219093, 0.006700146943330765, 0.010453986003994942, 0.0014638621360063553, 0.028679197654128075, -0.009778227657079697, -0.0050141289830207825, -0.021786458790302277, 7.655078661628067e-06, -0.003655854379758239, -0.01732645183801651, -0.013704385608434677, -0.0069400412030518055, 0.02389482595026493, 0.013305687345564365, 0.014312568120658398, -0.014123355969786644, -0.02423270419239998, 0.026151860132813454, -0.003206474706530571, -0.0564393624663353, 0.023097431287169456, 0.0295441672205925, 0.01736699789762497, -0.009683621115982533, -0.0005030178581364453, -0.004889113828539848, 0.02111070044338703, 0.03300405293703079, 0.011427078396081924, -0.0008071092306636274, 0.0320579893887043, 0.008683498948812485, -0.004341749474406242, 0.0007771224481984973, -0.01060941070318222, -0.01992136426270008, 0.028489984571933746, 0.025624768808484077, 0.006744071375578642, -0.02004300057888031, -0.018948271870613098, 0.004976962227374315, -0.027354709804058075, -0.011150017380714417, 0.00383155164308846, 0.0032487097196280956, 0.029760411009192467, 0.02819265052676201, -0.01740754209458828, -0.0009722477407194674, -0.0029868532437831163, 0.020380880683660507, 0.038112789392471313, 0.019313182681798935, 0.0037470816168934107, 0.019637545570731163, 0.007480648346245289, -0.032868899405002594, 0.015623539686203003, -0.049898017197847366, -0.007494163233786821, 0.019515909254550934, -0.013366506434977055, 0.05360117554664612, -0.0172183308750391, -0.018367119133472443, -0.00702113239094615, -0.004585022572427988, -0.0015474873362109065, 0.0039227791130542755, 0.014582871459424496, 0.013630052097141743, -0.008892984129488468, -0.0010035015875473619, 0.004885734990239143, -0.009812015108764172, -0.011440593749284744, 0.040545519441366196, -0.01720481552183628, 0.0370856337249279, -0.004446492064744234, 0.013643567450344563, 0.0038349302485585213, 0.00871728640049696, 0.00798746757209301, -0.021556701511144638, -0.011535200290381908, 0.010312076658010483, 0.030355079099535942, 0.016826391220092773, -0.028462953865528107, 0.023462340235710144, 0.028435923159122467, -0.002351640025153756, 0.01994839496910572, -0.00806855782866478, -0.01329893060028553, -0.0003678661014419049, -5.844256520504132e-05, -0.024367857724428177, -0.6396461129188538, -0.017637301236391068, 0.019164515659213066, 0.01975918374955654, 0.008190195076167583, 0.012900232337415218, -0.0009663348901085556, -0.025097675621509552, -0.019691606983542442, 0.014731538482010365, -0.01342732459306717, -0.016637178137898445, -0.004808022640645504, -0.012528565712273121, -0.029679318889975548, -0.0227190051227808, 7.095465844031423e-05, 0.00132786575704813, -0.018434695899486542, 0.009061923250555992, -0.0017890710150822997, 0.012366383336484432, 0.006460252683609724, 0.023381249979138374, -0.012089322321116924, -0.014474750496447086, 0.023381249979138374, -0.022354096174240112, 0.006642707623541355, 0.019096938893198967, -0.011758200824260712, 0.0252328272908926, -1.806862564990297e-05, -0.011785230599343777, 0.06006142869591713, -0.004081582184880972, -0.0021151246037334204, 0.018407665193080902, 0.010386410169303417, 0.02398943156003952, -0.027733134105801582, -0.012420443817973137, 0.017623785883188248, 0.009683621115982533, -0.010710774920880795, 0.0038619607221335173, -0.013352991081774235, -0.003312906716018915, 0.00350042968057096, -0.02262439951300621, 0.030138835310935974, 0.02277306653559208, -0.024354342371225357, 0.020840397104620934, 0.01597493514418602, 0.02012409269809723, 0.011177048087120056, -0.013623294420540333, -0.0008628593059256673, -0.001555934315547347, 0.007136011496186256, 0.009420075453817844, 0.008548347279429436, -0.004186324775218964, -0.03351762890815735, 0.014150385744869709, -0.018367119133472443, 0.018191423267126083, 0.011487896554172039, -0.0013126612175256014, 0.013589506037533283, 0.02819265052676201, -0.010224228724837303, 0.002510443329811096, -0.014407174661755562, 0.024678705260157585, -0.003174376208335161, 0.0020424805115908384, -0.006497419439256191, 0.01850227266550064, -0.015610024333000183, -0.026151860132813454, -0.04760044068098068, 0.012474504299461842, 0.029706349596381187, -0.006193328183144331, -0.015096448361873627, 0.00946737825870514, -0.008642952889204025, -0.0057980092242360115, 0.025570707395672798, 0.03600442036986351, -0.014569356106221676, -0.03332841768860817, -0.016799360513687134, 0.017812997102737427, -0.008028012700378895, 0.003008815459907055, -0.0024749659933149815, 0.011028381064534187, 0.0061223735101521015, -0.005139144603163004, -0.011204078793525696, -0.025895072147250175, 0.017948148772120476, -0.008548347279429436, -0.03727484866976738, 0.013494900427758694, 0.054114751517772675, -0.033896055072546005, 0.016948027536273003, -0.005490539129823446, 0.0014224719488993287, 0.029679318889975548, 0.012183928862214088, -0.011960928328335285, 0.0043282341212034225, 0.011170290410518646, 0.008541589602828026, -0.03316623345017433, 0.017867058515548706, 0.0017992074135690928, -0.005632448475807905, -0.016718268394470215, 0.009217347949743271, -0.009082196280360222, 0.0015745176933705807, -0.014961296692490578, -0.04643813520669937, -0.03962648659944534, 0.009514681994915009, -0.003336558351293206, 0.017731906846165657, 0.0033872402273118496, -0.013515172526240349, 0.01844821125268936, 0.01719130016863346, -0.005020886659622192, 0.004311340395361185, -0.010089077055454254, -0.02123233675956726, -0.023638037964701653, -0.006727177184075117, 0.020921487361192703, 0.003949809353798628, -0.02112421579658985, -0.005970327649265528, 0.012109595350921154, -0.0031591716688126326, 0.003002057783305645, 0.018015725538134575, -0.004710037726908922, -0.005689887795597315, -0.0038991274777799845, 0.02666543610394001, -0.00702113239094615, -0.018299544230103493, -0.03430150821805, 0.008196952752768993, 0.007196829654276371, 0.02289470285177231, 0.01405578013509512, 0.01188659481704235, 0.021556701511144638, -0.005027644336223602, -0.0006284555420279503, 0.010960805229842663, 0.003540975274518132, 0.002770610386505723, -0.04824916645884514, 0.00593991857022047, -0.010663471184670925, -0.0025121327489614487, 0.018096815794706345, -0.0009376151137985289, 0.025611253455281258, -0.022394642233848572, 0.007500920910388231, -0.017056148499250412, 0.0028787318151444197, -0.009183559566736221, -0.03751812130212784, -0.007054920308291912, -0.0052979476749897, 0.039329152554273605, 0.014907236211001873, 0.03857230395078659, 0.00252902670763433, -0.007879345677793026, 0.0320579893887043, 0.03740999847650528, -0.008014497347176075, -0.02415161393582821, 0.0025645040441304445, -0.004223491530865431, -0.033923085778951645, 0.01467747800052166, 0.005122250411659479, 0.016326328739523888, 0.026151860132813454, 0.002638837555423379, -0.02531391941010952, -0.0013413808774203062, -0.029976652935147285, 0.005683130118995905, -0.028544045984745026, 0.015366751700639725, -0.024570584297180176, 0.02009706199169159, -0.005443235859274864, 0.0037301876582205296, 0.0159614197909832, 0.00011530132178450003, 0.008156406693160534, 0.01325838454067707, 0.017150754109025, -0.0038552030455321074, -0.004892492666840553, -0.00024137254513334483, -0.026327555999159813, -0.004436355549842119, -0.005132386926561594, 0.0225162785500288, -0.023273127153515816, -0.00231278408318758, 0.0006673116586171091, 0.028760287910699844, 0.009014620445668697, 0.00938628800213337, -0.02394888736307621, -0.016434449702501297, -0.004460006952285767, 0.010676986537873745, 0.004108612425625324, 0.016353359445929527, 0.003302770433947444, -0.005223614163696766, -0.015380267053842545, 0.03181471675634384, 0.006588646676391363, 0.0027858149260282516, -0.009028135798871517, 0.0014452787581831217, -0.004774234723299742, 0.004206597805023193, -0.00462556816637516, 0.030976776033639908, -0.0030037472024559975, -0.023151490837335587, 0.005696645472198725, -0.02151615545153618, -0.011724412441253662, -0.015745176002383232, -0.003018951741978526, 0.01617766171693802, -0.005257402081042528, 0.013582748360931873, 0.0025763297453522682, 0.03551787510514259, 0.03886963799595833, 0.017867058515548706, -0.03194987028837204, 0.006156161427497864, 0.0002272238489240408, 0.00029374382575042546, 0.017123723402619362, -0.011285169050097466, -0.009541711769998074, -0.008480771444737911, 0.018123846501111984, -0.02935495600104332, 0.005774357821792364, 0.024949008598923683, 0.006352131254971027, 0.009812015108764172, 0.01601547934114933, -0.0055310847237706184, 0.0021810110192745924, 0.0159614197909832, -0.003226747503504157, -0.015123478136956692, -0.017745422199368477, 0.005189826246351004, 0.0031051109544932842, -0.003530838992446661, -0.017150754109025, -0.03162550553679466, 0.005443235859274864, 0.001459638704545796, 0.012893474660813808, 0.0019630789756774902, 0.01455584168434143, -0.01135274488478899, 0.013839537277817726, 0.019407788291573524, 0.009507924318313599, 0.029679318889975548, -0.02667895145714283, 0.004176188260316849, -0.0187455452978611, -0.014258507639169693, -0.01001474354416132, -0.013062414713203907, -0.020921487361192703, 0.00531146302819252, 0.01733996719121933, 0.0020712001714855433, -0.016731783747673035, -0.025016585364937782, -0.009284923784434795, -0.005510811693966389, -0.00987283419817686, 0.001733320881612599, -0.061845432966947556, -0.009210590273141861, 0.011683867312967777, -0.008528074249625206, 0.022948764264583588, 0.00922410562634468, -0.0060108732432127, -0.011940655298531055, -0.03716672584414482, -0.0009730924502946436, -0.01854281686246395, 0.06471064686775208, 0.00041622508433647454, -0.029003560543060303, 0.025665313005447388, 0.011345988139510155, -0.010920260101556778, -0.020556578412652016, -0.02138100378215313, 0.04295121878385544, -0.023029854521155357, 0.007818527519702911, -0.018150877207517624, 0.006196707021445036, 0.004730310756713152, 0.008406437933444977, 0.01592087373137474, 0.009048407897353172, -0.016826391220092773, -0.007440102752298117, 0.010149895213544369, -0.005429720506072044, 0.00462556816637516, 0.010501289740204811, 0.018258998170495033, 0.011068926192820072, -0.003219990059733391, 0.0225162785500288, 0.029625259339809418, -0.004311340395361185, 0.001175820012576878, -0.003448058385401964, 0.01719130016863346, 0.0033010810147970915, 0.016556086018681526, -0.024543553590774536, -0.033869024366140366, -0.0004468453989829868, 0.017826512455940247, 0.0032284369226545095, 0.027381740510463715, 0.015718145295977592, 0.02525985799729824, 0.0035916571505367756, 0.006571752950549126, 0.027151983231306076, -0.004314718768000603, -0.005895994137972593, -0.008548347279429436, 0.014204447157680988, -0.036653149873018265, 0.02821968123316765, 0.008859195746481419, -0.0029006940312683582, -0.04111315682530403, -0.002199594397097826, 0.002883800072595477, -0.006919768638908863, 0.005912888329476118, -0.005406069103628397, 0.0101025914773345, -0.02011057734489441, -0.016245238482952118, 0.0025813980028033257, -0.00045867118751630187, -0.031057868152856827, -0.01127165462821722, -0.0018600256880745292, 0.008676741272211075, -0.0120217464864254, -0.020367365330457687, 0.022056762129068375, -0.03362575173377991, -0.015447842888534069, -0.006382540334016085, 0.018353605642914772, 0.0068082683719694614, -0.0029142091516405344, -0.023232582956552505, 0.01202850416302681, 0.011183805763721466, -0.007879345677793026, -0.03197690099477768, -0.0005477868253365159, -0.01743457280099392, 0.010467501357197762, 0.022259490564465523, 0.01740754209458828, -0.005544599611312151, 0.0046525984071195126, -0.007467132993042469, 0.0030324668623507023, 0.03240938484668732, 0.007548224180936813, -0.01590735837817192, 0.009582257829606533, 0.024867918342351913, 0.026003193110227585, 0.011474382132291794, -0.005872342735528946, -0.028841378167271614, 0.0140422647818923, -0.03513944894075394, -0.008676741272211075, -0.024949008598923683, -0.03432853892445564, -0.02143506519496441, 0.0029006940312683582, 0.021043123677372932, -0.0011859564110636711, -0.013839537277817726, 0.03732890635728836, -0.006473768036812544, 0.015582994557917118, 0.00925113633275032, -0.007757709361612797, 0.01392062846571207, 0.027760164812207222, -0.012602899223566055, 0.008352376520633698, -0.019488878548145294, -0.02531391941010952, -0.008947044610977173, 0.0010693880030885339, 0.00095450907247141, -0.0023921856191009283, 0.007142768707126379, 0.011278411373496056, 0.011278411373496056, -0.004787750076502562, -0.023205552250146866, -0.00938628800213337, 0.016353359445929527, 0.009149772115051746, -0.01527214515954256, -0.03743702918291092, -0.002801019698381424, -0.0015601577470079064, -0.006568374112248421, 0.00700085936114192, -0.025665313005447388, 0.00430796155706048, 0.004571507219225168, -0.012373141013085842, -0.014420689083635807, 0.0050614322535693645, -0.02116475999355316, 0.007859072647988796, 0.014447719790041447, -0.014623417519032955, 0.02288118749856949, -0.0006271884776651859, -0.021543186157941818, -0.02692222408950329, 0.00923086330294609, -0.014866690151393414, -0.035625994205474854, 0.004585022572427988, -0.0012273465981706977, 0.05779087916016579, 0.03046320006251335, 0.0252328272908926, -0.013717900961637497, 0.019556455314159393, -0.0040410365909338, -0.020732276141643524, 0.006098721642047167, 0.0009164976654574275, 0.005206720437854528, -0.008514558896422386, 0.02520579844713211, 0.018286028876900673, 0.027138467878103256, 0.0038552030455321074, -0.0280845295637846, 0.021786458790302277, -0.0034767782781273127, -0.0027368224691599607, -0.029598228633403778, -0.012488019652664661, -0.003780869534239173, -0.0012104526394978166, 0.017056148499250412, -0.00999447051435709, 0.021759428083896637, -0.019461849704384804, -0.008264528587460518, 0.010082319378852844, -0.01747511886060238, 0.03294999152421951, -0.005507432855665684, 0.020989064127206802, -0.016704753041267395, 0.013880082406103611, -0.014244992285966873, 0.0036153087858110666, 0.01597493514418602, -0.0010330660734325647, 0.005943297408521175, 0.002969959285110235, 0.016745299100875854, 0.022002700716257095, -0.0002650241076480597, 0.016826391220092773, 0.00733873900026083, -0.017894089221954346, -0.0015795858344063163, -0.024421917274594307, -0.020799851045012474, -0.010251258499920368, 0.003466641763225198, -0.021799974143505096, -0.0027520270086824894, 0.005970327649265528, -0.009724167175590992, -0.01389359775930643, -0.001519612269476056, -0.000620853272266686, 0.006389298010617495, -0.024935493245720863, -0.028841378167271614, 0.006294691935181618, -0.006281176581978798, 0.00793340615928173, -0.020637668669223785, 0.04111315682530403, 0.004108612425625324, 0.006102100480347872, -0.009413317777216434, -0.025111190974712372, -0.012400170788168907, 0.011035138741135597, 0.013677354902029037, 0.02384076453745365, -0.011210835538804531, -0.008142891339957714, 0.02120530605316162, 0.0038889909628778696, -0.00860916543751955, -0.05211450532078743, 0.038166847079992294, -0.0024715871550142765, 0.019151000306010246, -0.04792480170726776, -0.04086988419294357, -0.018231967464089394, 0.021705368533730507, -0.005551357287913561, 0.03649096563458443, -0.003250399138778448, -0.0017772451974451542, -0.011116229929029942, 0.004318097606301308, -0.01617766171693802, 0.02132694236934185, 0.0039261579513549805, 0.001268736901693046, 0.0020526167936623096, -0.02784125693142414, 0.01583978347480297, -0.003382171969860792, -0.01594790443778038, 0.03243641555309296, -0.006473768036812544, 0.006142646074295044, 0.02784125693142414, 0.02289470285177231, 0.015339720994234085, 0.00938628800213337, -0.020583609119057655, 0.03884260728955269, -0.030111804604530334, -0.002057685051113367, -0.0005862206453457475, 0.0041998401284217834, 0.015096448361873627, -0.0076766181737184525, -0.01263668667525053, 0.008480771444737911, -0.018029240891337395, 0.0010322213638573885, 0.009217347949743271, 0.013771961443126202, 0.009568742476403713, -0.006230494938790798, -0.014799114316701889, -0.011082441546022892, -0.04259982332587242, -0.018353605642914772, -0.0037132936995476484, -0.02519228309392929, -0.018380634486675262, -0.01996191032230854, 0.012204200960695744, 0.011839291080832481, 0.013116475194692612, -0.00599060021340847, -0.02390834130346775, 0.007561739068478346, -0.028841378167271614, 0.0132786575704813, 0.012569110840559006, 0.023313673213124275, -0.020840397104620934, 0.01478559896349907, -0.00284663331694901, -0.012177171185612679, 0.02375967428088188, -0.0015846539754420519, -0.01605602540075779, -0.0036389604210853577, -0.007487406022846699, 0.0348421148955822, 0.0013751687947660685, -0.024611130356788635, 0.02405700832605362, 0.006504177115857601, 0.010960805229842663, -0.03338247537612915, -0.02120530605316162, 0.013934142887592316, 0.002953065326437354, -0.0003919400041922927, 0.002843254478648305, -0.007777981925755739, -0.0016792602837085724, 0.0062642828561365604, -0.0025155115872621536, -0.007710406091064215, -0.005112114362418652, -0.02547610178589821, -0.026219435036182404, -0.018421180546283722, 0.014501780271530151, -0.014217961579561234, 0.010987835936248302, -0.019705122336745262, -0.0076495879329741, -0.009582257829606533, 0.010481016710400581, 0.005301326513290405, -0.01405578013509512, -0.003012194065377116, 0.011183805763721466, 0.03703157231211662, -0.015109963715076447, -0.0027621635235846043, -0.010183682665228844, -0.04097800329327583, -0.01465044729411602, 0.001506097032688558, -0.014339598827064037, 0.012420443817973137, 0.02394888736307621, 0.0031980278436094522, -0.02258385345339775, 0.012285292148590088, -0.0349772684276104, -0.004247142933309078, 0.001902260584756732, 0.02120530605316162, 0.020516032353043556, 0.042032189667224884, 0.016988571733236313, 0.01075807772576809, -0.005578387528657913, 0.011095956899225712, -0.009433590807020664, -0.008061801083385944, 0.007777981925755739, 0.01203526183962822, -0.0012273465981706977, 0.0019242228008806705, -0.02786828577518463, 0.0017856921767815948, 0.027030345052480698, -0.010089077055454254, -0.008663225919008255, 0.019637545570731163, -0.01401523407548666, -0.00045529237831942737, 0.02407052367925644, 0.011433836072683334, 0.000984073500148952, 0.013163777999579906, 0.02120530605316162, -0.017664331942796707, -0.013434082269668579, 0.015123478136956692, -0.008426710031926632, -0.0056628575548529625, 0.009899863973259926, 0.012852929532527924, 0.024394886568188667, 0.01617766171693802, 0.004460006952285767, -0.02138100378215313, 0.01981324329972267, -0.004554613493382931, 0.03705860301852226, 0.004970205016434193, 0.0014258507872000337, -0.0031912701670080423, -0.019123969599604607, -0.0018853666260838509, 0.017002087086439133, -0.005122250411659479, -0.020745789632201195, 0.00733873900026083, 0.0004700746212620288, 0.0005959346308372915, -0.018313059583306313, 0.0029919215012341738, 0.019448334351181984, -0.017123723402619362, 0.009703894145786762, -0.0028381862211972475, -0.008332104422152042, -0.006842056289315224, 0.0265573151409626, 0.01746160350739956, 0.0013033695286139846, 0.008352376520633698, 0.006564995273947716, 0.008359134197235107, -0.032841868698596954, -0.003123694332316518, 0.007777981925755739, 0.028976531699299812, 0.0037132936995476484, -0.0034227175638079643, 0.006848813965916634, -0.024462463334202766, -0.004095097538083792, 0.0014537257375195622, 0.00038201481220312417, -0.0078050121665000916, 0.18586066365242004, -0.004835053347051144, -0.0078050121665000916, 0.03467993438243866, -0.019475365057587624, -0.0005376504850573838, 0.012102837674319744, -0.011623049154877663, 0.017758937552571297, -0.016758814454078674, 0.02692222408950329, -0.01327189989387989, -0.0047404468059539795, -0.006301449611783028, -0.00045233595301397145, -0.0006563306087628007, -0.03995085135102272, -0.020759304985404015, -0.012359625659883022, -0.015650570392608643, 0.018326574936509132, -0.009514681994915009, -0.01609657146036625, -0.0027824363205581903, -0.00023398143821395934, 0.007244132924824953, -0.024827372282743454, 0.016556086018681526, 0.022151367738842964, -0.011650078929960728, -0.0046559772454202175, -0.003051050240173936, 0.020637668669223785, 0.015772206708788872, -0.007419829722493887, -0.0003093707491643727, -0.00810234621167183, -0.0011124677257612348, 0.013461112044751644, 0.007446860428899527, -0.0030966640915721655, 0.0003619532217271626, -0.020610637962818146, -0.01709669455885887, -0.012217716313898563, 0.01212986744940281, 0.0029547547455877066, -0.010122864507138729, -0.016866935417056084, -0.0107648354023695, -0.0320579893887043, -0.016556086018681526, -0.002309405244886875, 0.02240815758705139, 0.009170045144855976, 0.0085753770545125, 0.007041404955089092, 0.012082564644515514, -0.0032605354208499193, 0.005781115032732487, -0.0044701434671878815, 0.02259736880660057, -0.010285046882927418, 0.03065241314470768, -0.017691360786557198, 0.040626611560583115, 0.009176802821457386, -0.004159294534474611, -0.0023499506060034037, -0.01060265302658081, 0.00018551686662249267, 0.006747450213879347, -0.03189580887556076, 0.010143137536942959, 0.00031655069324187934, 0.0004035546153318137, -0.0075887697748839855, 0.029733380302786827, 0.027354709804058075, 0.004547855816781521, 0.005260780919343233, 0.01724536158144474, -0.023705612868070602, 0.019178031012415886, -0.01870499923825264, -0.027070891112089157, 0.009933652356266975, -0.006683253217488527, -0.030219927430152893, 0.002659110352396965, 0.00032710941741243005, -0.023340703919529915, 0.002537473803386092, 0.011129745282232761, 0.007683375850319862, -0.0022266246378421783, -0.006436601281166077, 0.003233505180105567, 0.005358766298741102, -0.03770733252167702, -0.038085758686065674, 0.037355937063694, 0.01454232633113861, -0.0026050496380776167, 0.0041998401284217834, 0.03308514505624771, -0.0026574209332466125, 0.003763975575566292, 0.0015263698296621442, -0.01612360216677189, 0.009197074919939041, -0.007906376384198666, 0.014123355969786644, 0.0015736729837954044, 0.014474750496447086, 0.0010482706129550934, 0.019475365057587624, -0.0015914116520434618, 0.04895195737481117, -0.002054306212812662, 0.015231600031256676, -0.023151490837335587, 0.014204447157680988, 0.030382107943296432, 0.005095220170915127, -0.0030763912945985794, -0.05227668955922127, 0.01750214956700802, -0.007568496745079756, -0.017042633146047592, 0.0020357228349894285, -0.011812261305749416, 0.004027521703392267, 0.005105356685817242, 0.009061923250555992, -0.001492581912316382, 0.000551588018424809, -0.028976531699299812, -0.0161641463637352, 0.01723184622824192, -0.02416512928903103, -0.005125629249960184, 0.02805749885737896, 0.011940655298531055, -0.018015725538134575, -0.002611807081848383, 0.027165496721863747, 0.009115983732044697, -0.009163287468254566, 0.005504054017364979, -0.022435186430811882, -0.040626611560583115, -0.016434449702501297, 0.0008079539402388036, 0.013988204300403595, -0.009534954093396664, -0.028733257204294205, -0.021016094833612442, 0.032733749598264694, -0.016556086018681526, -0.026057252660393715, 0.009393044747412205, 0.013792233541607857, -0.03281484171748161, -0.023137975484132767, -0.023462340235710144, -0.17104803025722504, 0.011521684937179089, -0.003517323872074485, -0.008967317640781403, 0.03319326415657997, 0.0002354596508666873, -0.026057252660393715, 0.007061677984893322, 0.0002102242870023474, 0.0032385732047259808, 0.00034463690826669335, -0.014501780271530151, -0.019529424607753754, -0.02797640860080719, 0.014339598827064037, -0.026003193110227585, -0.004291067365556955, 0.038004666566848755, 0.05473645031452179, 0.009852561168372631, 0.03489617630839348, -0.03065241314470768, -0.0009916757699102163, -0.030246956273913383, 0.003527460154145956, 0.003821415128186345, 0.0018718515057116747, 0.009913379326462746, -0.004044415429234505, -0.03949133679270744, -0.02289470285177231, 0.0065312073566019535, -0.0018667832482606173, -0.016596632078289986, 0.031138958409428596, -0.02150264009833336, 0.0073184659704566, -0.006112236995249987, 0.006365646608173847, 0.01863742433488369, 0.0453028604388237, 0.012305565178394318, -0.007291435729712248, 0.012150140479207039, -0.015582994557917118, 0.02555719204246998, -0.005078326445072889, -0.004547855816781521, 0.014447719790041447, -0.022029731422662735, 0.010555350221693516, -0.0037437030114233494, -0.009210590273141861, 0.020935002714395523, 0.01733996719121933, 0.009143014438450336, 0.020637668669223785, 0.011210835538804531, -0.00570002431049943, 0.003547732951119542, -0.01861039362847805, -0.015096448361873627, 0.007480648346245289, -0.007825285196304321, -0.0009553537820465863, -0.014961296692490578, 0.0013760135043412447, 0.016353359445929527, -0.00873080175369978, 0.014177416451275349, -0.041734855622053146, -0.011143259704113007, 0.006909632124006748, -0.030219927430152893, 0.01720481552183628, 0.012406928464770317, -0.006967071443796158, -0.004966826178133488, 0.003262224840000272, -0.009088953956961632, -0.008359134197235107, 0.03692345321178436, -0.0032875658944249153, -0.018056271597743034, -0.01266371738165617, 0.011562230065464973, 0.015596509911119938, 0.012069049291312695, 0.00799422524869442, -0.01858336292207241, -0.019096938893198967, -0.017948148772120476, -0.002034033415839076, -0.01996191032230854, 0.00040651106974110007, 0.029841501265764236, 0.01732645183801651, -0.004557991866022348, 0.0017772451974451542, 0.017731906846165657, 0.0006233873427845538, -0.0010161721147596836, -0.029057621955871582, 0.01739402674138546, 0.01266371738165617, -0.01986730471253395, -0.009784985333681107, 0.011528442613780499, 0.03070647269487381, -0.007602284662425518, -0.01882663555443287, 0.028976531699299812, -0.004253900609910488, 0.02263791486620903, -0.02940901555120945, 0.004885734990239143, -0.003098353510722518, -0.002223246032372117, -0.013224597088992596, -0.002248586853966117, 0.059412699192762375, 0.004726931918412447, -0.035436782985925674, 0.0005524326697923243, -0.02015112340450287, -0.03451775014400482, -0.1406659185886383, -0.01992136426270008, 0.01139329094439745, -0.004895871505141258, -0.0006575976149179041, 0.014082809910178185, -0.007879345677793026, 0.012697504833340645, -0.004507310222834349, 0.013677354902029037, -0.023543430492281914, -0.003206474706530571, -0.013116475194692612, -0.013616536743938923, -0.01063644140958786, -0.009311954490840435, -0.007142768707126379, -0.0021945261396467686, -0.01709669455885887, 0.03235532343387604, -0.011737927794456482, -0.02671949751675129, -0.016596632078289986, -0.007737436331808567, -0.002745269564911723, 0.006926526315510273, -0.01871851459145546, 0.008852438069880009, 0.006865707691758871, 0.005348629783838987, -0.005216856952756643, -0.005277675110846758, -0.011974443681538105, -0.00399711262434721, -0.01578572206199169, 0.014758569188416004, -0.02908465266227722, -0.019407788291573524, 0.014866690151393414, -0.03743702918291092, -0.009176802821457386, 0.019326698035001755, -0.013684112578630447, 0.0004158027295488864, 0.00531822070479393, -0.002093162387609482, -0.020989064127206802, 0.009007862769067287, -0.005406069103628397, 0.003002057783305645, 0.008406437933444977, -0.004223491530865431, -0.02524634264409542, -0.052546992897987366, 0.019015848636627197, -0.014501780271530151, -0.0016344912583008409, 0.032571565359830856, -0.0010220849653705955, 0.021786458790302277, 0.009440348483622074, -0.015474872663617134, -0.023746158927679062, 0.013129990547895432, 0.01736699789762497, -0.035247571766376495, -0.004385673440992832, -0.011427078396081924, 0.028868408873677254, -0.03449072316288948, -0.020921487361192703, -0.029733380302786827, -0.007048162631690502, 0.005044538527727127, -0.017623785883188248, 0.020434942096471786, 0.004585022572427988, 0.007311708759516478, -0.0026084284763783216, -0.004686386324465275, -0.023678582161664963, -0.009028135798871517, 0.008561861701309681, 0.0011445662239566445, 0.027030345052480698, 0.033814962953329086, 0.013798991218209267, 0.02513822168111801, -0.014312568120658398, 0.007379284594208002, -0.01611008681356907, 0.023570461198687553, 0.008271286264061928, -0.00631496449932456, -0.00280777714215219, 0.015366751700639725, -0.0035848997067660093, -0.003302770433947444, 0.012082564644515514, 0.040815822780132294, -0.021786458790302277, -0.01846172660589218, -0.03351762890815735, -0.0013777029234915972, -0.01611008681356907, -0.009075438603758812, -0.0013388468651100993, -0.008629437536001205, 0.006426464766263962, -0.004841810557991266, -0.006044661160558462, 0.008528074249625206, -0.02803046815097332, 0.0032875658944249153, -0.013488142751157284, 0.0073184659704566, -0.024773312732577324, -0.03176065534353256, 0.02538149431347847, 0.0023279886227101088, 0.0225162785500288, 0.022962279617786407, 0.0017941391561180353, 0.003706536255776882, 0.005754084791988134, 0.019164515659213066, 0.009399802424013615, -0.01581275276839733, 0.01598845049738884, 0.0038856121245771646, -0.0014528811443597078, -0.018042756244540215, -0.013724657706916332, -0.030328048393130302, -0.005257402081042528, 0.011494654230773449, 0.0026607997715473175, -0.005328356754034758, 0.008230740204453468, 0.034004174172878265, 0.0011648390209302306, 0.04122127592563629, -0.04181594401597977, -0.02017815411090851, 0.003909263759851456, -0.024894949048757553, -0.016285782679915428, 0.013454354368150234, -0.020489001646637917, 0.014299052767455578, -0.002887178910896182, -0.0056290696375072, 0.02938198670744896, 0.013603021390736103, -0.041842974722385406, -0.03173362463712692, -0.01739402674138546, 0.0007986622513271868, 0.02265143021941185, -0.014366628602147102, -0.0044701434671878815, -0.017921119928359985, 0.011710897088050842, 0.027381740510463715, -0.0016530746361240745, 0.013515172526240349, 0.01990784890949726, -0.010717532597482204, -0.0341663584113121, 0.015488388016819954, 0.013724657706916332, -0.0040646884590387344, -0.009771469980478287, 0.009048407897353172, 0.0152991758659482, -0.018380634486675262, 0.009474135935306549, 0.013711143285036087, -0.01996191032230854, 0.02794937789440155, -0.017691360786557198, 0.014515295624732971, 0.003828172804787755, 0.009048407897353172, -0.021691853180527687, 0.012433959171175957, 0.039329152554273605, 0.008210467174649239, -0.009933652356266975, 0.043410737067461014, -0.002708102809265256, 0.007832042872905731, -0.031165989115834236, 0.011305442079901695, -0.015745176002383232, 0.013731415383517742, 0.006446737330406904, 0.01620469242334366, 0.004115370102226734, 0.019137484952807426, 0.029057621955871582, 0.019164515659213066, 0.01992136426270008, 0.015204569324851036, 0.009061923250555992, -0.01600196398794651, -0.00530470535159111, -0.0014157143887132406, -0.018475241959095, -0.02535446360707283, -0.013744930736720562, 0.006037903483957052, -0.0030409139581024647, 0.009129499085247517, 0.019732153043150902, -0.006875844206660986, -0.008453740738332272, 0.0038552030455321074, -0.005889236461371183, 0.0024225946981459856, -0.040004912763834, 0.035166479647159576, 0.018894212320446968, 0.0225162785500288, -0.009521439671516418, -0.020597124472260475, 0.0032723613549023867, 0.0012298807268962264, -0.0038383090868592262, -0.030057745054364204, 0.024638161063194275, 0.0038552030455321074, 0.004166052211076021, -0.004507310222834349, -0.02540852501988411, -0.0035916571505367756, -0.007683375850319862, -0.020705245435237885, 0.02555719204246998, 0.023394763469696045, -0.012319080531597137, 0.06519719213247299, 0.010690501891076565, -0.02274603582918644, -0.0005756618920713663, -0.02402997761964798, 0.016488511115312576, 0.007500920910388231, 0.0013515172759070992, -0.017002087086439133, -0.024219190701842308, 0.01997542567551136, 0.008656468242406845, 0.012150140479207039, -0.0348421148955822, -0.04627595096826553, 0.03359872102737427, -0.011778472922742367, 0.009933652356266975, -0.017934635281562805, -0.00999447051435709, 0.04008600115776062, -0.002393875038251281, 0.015164024196565151, -0.003448058385401964, -0.02551664598286152, -0.013150263577699661, 0.027084406465291977, 0.005510811693966389, 0.0010246190940961242, -0.05214153602719307, 0.005564872641116381, -0.011204078793525696, -0.027192527428269386, -0.024557068943977356, 0.013974688947200775, -0.006926526315510273, -0.0015069417422637343, -0.022191913798451424, -0.002704723970964551, 0.031111927703022957, -0.0004168586165178567, 0.023056885227560997, -0.04038333520293236, -0.02803046815097332, -0.018380634486675262, -0.002441178075969219, -0.016745299100875854, -0.02124585211277008, 0.004159294534474611]\n",
            "\n",
            "[-0.019705401733517647, -0.0007295954856090248, -0.01202420610934496, -0.016387447714805603, -0.010999147780239582, 0.028108183294534683, -0.02512742020189762, -0.03790019080042839, -0.02005607821047306, -0.007687938865274191, 0.004447540268301964, 0.014121529646217823, -0.010985660366714, 0.03706395626068115, -0.0014600340509787202, 0.013710157945752144, 0.04326825961470604, 0.010574287734925747, -0.0003011530789081007, -0.00754631869494915, -0.003607936203479767, 0.021350890398025513, -0.007795839570462704, -0.02880953997373581, -0.0073237731121480465, 0.033098600804805756, -0.0007658434915356338, -0.030778730288147926, 0.015470290556550026, 0.007290054112672806, 0.008888335898518562, -0.015699580311775208, 0.004545325413346291, -0.00037428122595883906, -0.005509689450263977, 0.00014615092368330806, 0.01603677123785019, -0.027312414720654488, -0.00818698015064001, 0.0025997371412813663, 0.024560941383242607, 0.019368210807442665, -0.00028429357917048037, 0.020298855379223824, -0.011801660060882568, -0.00348317576572299, -0.027622628957033157, -0.03606587275862694, -0.01346063707023859, 0.01462057139724493, 0.03976147994399071, 0.0010950254509225488, 0.005513061303645372, -0.009259245358407497, -0.0154163409024477, -0.024453040212392807, -0.0011700503528118134, -0.008692765608429909, -0.010371973738074303, -0.016279548406600952, 0.003992333076894283, -0.009137856774032116, -0.006676367949694395, 0.01024384144693613, 0.007080996409058571, 0.015173563733696938, -0.014944273978471756, 0.027892380952835083, -0.0154163409024477, 0.0036045643500983715, 0.03377297893166542, 0.025990627706050873, -0.009630154818296432, 0.03156101331114769, 0.015996307134628296, -0.006979839410632849, -0.02162064239382744, 0.011639809235930443, -0.006008731201291084, -0.008153261616826057, 0.02344146929681301, -0.025167884305119514, 0.011855610646307468, 0.027582166716456413, 0.038682471960783005, -0.014161992818117142, -0.005226449575275183, 0.030023423954844475, 0.0030684317462146282, -0.009738055989146233, 0.004885887261480093, 0.014323843643069267, 0.00693937623873353, 0.03131823614239693, -0.011997231282293797, 0.027312414720654488, 0.018194789066910744, 0.02956484630703926, -0.015996307134628296, -0.02363029681146145, -0.016225596889853477, 0.0033971923403441906, -0.014593596570193768, -0.020716972649097443, -0.02851281128823757, 0.001797224278561771, 0.006973095238208771, -0.008052104152739048, 0.011599346064031124, -0.0011253725970163941, -0.010911477729678154, 0.02627386897802353, -0.005159011576324701, -0.05422019958496094, 0.035715196281671524, 0.0029065804556012154, 0.026570595800876617, 0.008166749030351639, -0.01889614388346672, -0.026840347796678543, 0.008625327609479427, 0.008820897899568081, 0.02543763630092144, -0.008476964198052883, 0.03649747744202614, -0.010223609395325184, -0.01060126256197691, -0.007155178114771843, -0.008841129951179028, -0.014337331056594849, 0.0307247806340456, 0.018639879301190376, 0.012388371862471104, -0.015065662562847137, 0.009738055989146233, 0.029214167967438698, -0.026435719802975655, -0.00954922940582037, -0.008793923072516918, 0.008827641606330872, 0.012111875228583813, 0.04418541491031647, -0.001856232644058764, -0.011727478355169296, 0.006416731514036655, 0.018086887896060944, 0.043430112302303314, 0.02015049196779728, -0.008106054738163948, 0.013555049896240234, 0.015767019242048264, -0.03946475312113762, 0.019907714799046516, -0.046694111078977585, 0.01467452198266983, 0.022753601893782616, -0.014337331056594849, 0.03757648542523384, 0.0017651912057772279, -0.014714984223246574, -0.006693227216601372, 0.007080996409058571, 0.015510753728449345, -0.002146216342225671, 0.009798750281333923, 0.030266201123595238, 0.025990627706050873, 0.0067438059486448765, 0.011707247234880924, -0.001760133309289813, 0.0016185134882107377, 0.038035064935684204, -0.015564704313874245, 0.029052315279841423, -0.0073777236975729465, 0.019975153729319572, 0.012860437855124474, 0.03714488446712494, -0.008908567950129509, -0.007607012987136841, -0.02248384989798069, 0.017061829566955566, 0.02563995122909546, 0.009205294772982597, -0.03272094577550888, 0.016009794548153877, 0.027177538722753525, -0.02712358720600605, 0.015281463973224163, -0.0026536877267062664, 0.002614910714328289, -0.0021259847562760115, -0.008787179365754128, -0.02163412980735302, -0.6370468735694885, -0.02574785053730011, 0.011680272407829762, 0.011592602357268333, -0.014795910567045212, 0.015578191727399826, 0.008841129951179028, -0.029079291969537735, -0.02573436312377453, 0.02206573262810707, 0.0018208276014775038, 0.014148504473268986, 0.00702030211687088, -0.006275111343711615, -0.009731312282383442, -0.016077233478426933, -0.004535209387540817, 0.0020197699777781963, -0.00043033913243561983, 0.001378265325911343, 0.015429828315973282, 0.004926350433379412, -0.01899055764079094, 0.02503300830721855, -0.019597500562667847, 0.012246751226484776, 0.008895080536603928, -0.006352665368467569, 0.006032334640622139, -0.002471604850143194, -0.034447360783815384, 0.01250301580876112, -0.012975082732737064, -0.006642648950219154, 0.06161141023039818, -0.01198374293744564, 0.00019230383622925729, 0.031911689788103104, 0.026462694630026817, 0.02172854356467724, -0.028836514800786972, 0.005843508057296276, 0.030643854290246964, -0.005334350746124983, -0.009421097114682198, -0.005000532139092684, -0.012395115569233894, 0.014229430817067623, -0.001824199571274221, 0.0009812237694859505, 0.03237026929855347, 0.02724497579038143, -0.0076677072793245316, 0.022982891649007797, 0.008551145903766155, -0.00561759015545249, 0.015038687735795975, -0.0035539858508855104, -0.002013026038184762, 0.007485624402761459, -0.0013420174364000559, 0.011572371236979961, -0.006855078972876072, -0.014849861152470112, -0.03153403848409653, 0.029618795961141586, -0.00938737764954567, 0.029187193140387535, -0.009508766233921051, -0.012374883517622948, 0.018113862723112106, 0.030643854290246964, -0.010574287734925747, 0.018167812377214432, -5.9008303651353344e-05, 0.014431744813919067, -0.007660963572561741, -0.00417104410007596, -0.0038439694326370955, 0.016400936990976334, -0.02364378422498703, -0.02257826179265976, -0.04378078877925873, 0.023279618471860886, 0.017493432387709618, -0.014930786564946175, -0.023819122463464737, 0.00823418702930212, -0.005347838159650564, -0.010675445199012756, 0.005408532451838255, 0.004906118847429752, -0.018923118710517883, -0.021445302292704582, -0.017898060381412506, 0.0173990186303854, -0.008308368735015392, -0.016117695719003677, -0.018005961552262306, -0.011113792657852173, -0.0017753068823367357, -0.022402923554182053, -0.0014516041846945882, -0.0002665910869836807, 0.022038757801055908, -0.010850783437490463, -0.03776531293988228, -0.011626321822404861, 0.043214309960603714, -0.035418469458818436, 0.014296868816018105, 0.007485624402761459, 0.004710548557341099, -0.010574287734925747, 0.02247036062180996, -0.009171576239168644, 0.024655355140566826, 0.007424930576235056, 0.004461027681827545, -0.047233618795871735, 0.023576345294713974, -0.0055939871817827225, -0.004953325260430574, -0.01824873872101307, 0.001498810830526054, 0.009198551066219807, -0.011693759821355343, -0.018761267885565758, -0.02934904396533966, -0.03460921347141266, -0.0007506699184887111, -0.02311776764690876, 0.022106196731328964, -0.004356498830020428, -0.0023721337784081697, -0.002370447851717472, 0.016387447714805603, -0.004353126976639032, 0.0002952522481791675, -0.016535812988877296, -0.019152408465743065, -0.004255341365933418, 0.004916234407573938, 0.011612833477556705, 0.009164832532405853, -0.018518490716814995, -0.017048342153429985, 0.007384467404335737, -0.0019084970699623227, 0.02217363379895687, 0.01940867304801941, -0.0021023815497756004, 0.0029048945289105177, -0.015982819721102715, 0.032990697771310806, 0.006538120098412037, -0.01699439063668251, -0.009481791406869888, -0.0059379213489592075, 0.005519805010408163, 0.025046495720744133, 0.008490451611578465, 0.0131841404363513, 0.025909703224897385, -0.020447218790650368, -0.005786185618489981, 0.0026722331531345844, 0.009684105403721333, 0.023724708706140518, -0.03576914593577385, 0.002862745663151145, -0.01803293637931347, -0.0006693227333016694, 0.013386454433202744, -0.009711080230772495, 0.012179313227534294, -0.02480371855199337, -0.014688009396195412, -0.013170653022825718, 0.01920635998249054, 0.005917689763009548, -0.024520479142665863, 0.019462624564766884, 0.014108042232692242, 0.01677859015762806, 0.00630545848980546, 0.02775750495493412, 0.00019778318528551608, -0.013737132772803307, 0.01858592964708805, 0.022982891649007797, -0.0038338536396622658, -0.023927023634314537, 0.01719670556485653, 0.018505003303289413, -0.027501240372657776, 0.0055939871817827225, 0.02744729071855545, 0.01574004255235195, 0.0217555183917284, -0.014499182812869549, -0.0269077867269516, 0.020609071478247643, -0.021040674299001694, 0.007492368575185537, -0.022848013788461685, 0.0154163409024477, -0.02383260987699032, 0.018221763893961906, 0.01803293637931347, -0.018855681642889977, 0.015389365144073963, -0.016198622062802315, 0.009164832532405853, 0.001097554457373917, 0.021067649126052856, 0.015187051147222519, -0.02827003411948681, 0.013089727610349655, -0.023171717301011086, -0.015038687735795975, -0.016090720891952515, 0.02702917344868183, -0.011693759821355343, -0.015267976559698582, 0.01325157843530178, 0.03506778925657272, 0.01134308148175478, -0.0009407609468325973, -0.009825725108385086, -0.004926350433379412, 0.006878681946545839, 0.018316177651286125, 0.00886810477823019, -0.018005961552262306, -0.00019030176918022335, -0.008584865368902683, 0.003027968807145953, 0.02500603161752224, 0.006538120098412037, -0.020312342792749405, -0.0007439260953105986, 0.007202384993433952, -0.0015063976170495152, -0.01445871964097023, 0.004521721974015236, 0.031722862273454666, -0.00933342706412077, -0.01741250790655613, 0.014755447395145893, -0.01973237656056881, 0.003988961223512888, -0.017695747315883636, -0.004450912121683359, 3.392977305338718e-05, -0.03736068680882454, 0.000416008522734046, 0.0037023494951426983, 0.03701000660657883, 0.029402993619441986, 0.017115779221057892, -0.031911689788103104, 0.0075935255736112595, -0.008578121662139893, 0.006524632219225168, 0.0016556043410673738, -0.013919215649366379, -0.016400936990976334, -0.011936536990106106, 0.009056931361556053, -0.038358766585588455, -0.0009921824093908072, 0.0132380910217762, -0.03280187398195267, 0.003827109932899475, 0.011673527769744396, 0.008645559661090374, -0.011531908065080643, 0.0088613610714674, 0.005732235033065081, 0.0007565707201138139, -0.014809397980570793, 0.02195783145725727, 0.010344997979700565, -0.006986583117395639, -0.033503226935863495, -0.02523532137274742, -0.010500106029212475, 0.017614820972085, 0.0237381961196661, 0.003427539486438036, 0.024237237870693207, -0.005688400473445654, 0.025585999712347984, -0.002780134091153741, 0.018167812377214432, 0.020824871957302094, -0.039087098091840744, -0.0032100516837090254, -0.009252501651644707, -0.018073400482535362, -0.029483919963240623, -0.0035775890573859215, -0.014944273978471756, -0.006946119945496321, 0.013750620186328888, -0.0006722731632180512, -0.012867181561887264, -0.021431814879179, -0.01996166631579399, -0.0016193564515560865, -0.011309362947940826, -0.011956768110394478, -0.0304010771214962, -0.012334421277046204, 0.010675445199012756, 0.015915382653474808, 0.006561723072081804, 0.02364378422498703, 0.005003903992474079, 0.003955242224037647, -0.01721019297838211, -0.006285227369517088, -0.03649747744202614, 0.06322992593050003, 0.017965499311685562, -0.02500603161752224, 0.02183644287288189, 0.007175409700721502, -0.01858592964708805, -0.005253424867987633, -0.027366364374756813, 0.054813653230667114, -0.008908567950129509, 0.020393269136548042, 0.0025171255692839622, 0.015618654899299145, 0.022456873208284378, 0.014957761391997337, 0.008362319320440292, 0.009299708530306816, 0.004154184367507696, -0.02365727163851261, 0.002436199923977256, 0.008557889610528946, 0.0006912401295267045, 0.013629231601953506, 0.018518490716814995, 0.005502945743501186, 0.02005607821047306, 0.021930856630206108, 0.012179313227534294, 0.006049193907529116, -0.0065178885124623775, -0.016589762642979622, 0.012233263812959194, 0.012307445518672466, 0.01583445630967617, -0.002778448164463043, -0.0006558351451531053, 0.0041474406607449055, 0.01962447538971901, 0.01319088414311409, 0.023387519642710686, 0.008895080536603928, 0.008841129951179028, -0.003961985930800438, 0.006082912907004356, 0.02067650854587555, 0.007977922447025776, -0.003961985930800438, -0.0030684317462146282, -0.0010393890552222729, -0.02924114279448986, 0.04879818111658096, -0.0053781853057444096, -0.006376268342137337, -0.04316035658121109, -0.01197699923068285, 0.007849790155887604, 0.0033668451942503452, 0.0017297862796112895, -0.00828813761472702, 0.017237167805433273, -0.014607083983719349, -0.011835379526019096, 0.008955773897469044, -0.004336267244070768, -0.029322069138288498, 0.003951870370656252, -0.022753601893782616, 0.008719741366803646, -0.035823095589876175, -0.019759351387619972, 0.021256476640701294, -0.025491585955023766, -0.003955242224037647, -0.0038810602854937315, 0.00017881623352877796, -0.0013521331129595637, 0.00509157357737422, -0.015187051147222519, 0.005111804697662592, 0.004818449262529612, 0.007795839570462704, -0.016805564984679222, -0.0030802334658801556, -0.035930998623371124, 0.02492510713636875, 0.023266131058335304, 0.009562716819345951, -0.00954922940582037, -0.02586923912167549, -0.0010149427689611912, 0.007148434408009052, 0.015241001732647419, -0.0037832751404494047, 0.026840347796678543, 0.0133999427780509, 0.014067579060792923, 0.010385461151599884, 0.010783345438539982, -0.009825725108385086, -0.018923118710517883, -0.007249591406434774, -0.03239724412560463, -0.013588769361376762, -0.01698090322315693, -0.0035775890573859215, -0.021350890398025513, 0.004902746994048357, 0.0177227221429348, -0.020352806895971298, -0.010378717444837093, 0.019462624564766884, -0.013851777650415897, 0.009002980776131153, -0.0034730599727481604, -0.014957761391997337, 0.020663021132349968, 0.017277630046010017, 0.00770817045122385, 0.01340668648481369, -0.008605096489191055, -0.01249627210199833, -0.009299708530306816, 0.0015274720499292016, 0.0030161673203110695, 0.005880598910152912, 0.003968729637563229, 0.002835770370438695, -0.0035303824115544558, -0.010729394853115082, -0.007930715568363667, -0.013629231601953506, 0.004106977954506874, 0.013851777650415897, -0.02754170447587967, -0.034447360783815384, -0.006120003759860992, 0.007094483822584152, 0.00806559156626463, 0.015793994069099426, -0.021661104634404182, 0.0005736449966207147, 0.0007768021314404905, -0.033934831619262695, -0.010668701492249966, 0.023670759052038193, -0.023481931537389755, -0.007337260991334915, 0.013662951067090034, -0.009960601106286049, 0.003621423849835992, -0.01319762784987688, -0.02650315687060356, -0.016535812988877296, 0.009380633942782879, -0.003908035345375538, -0.03830481693148613, -0.0012931247474625707, -0.001800596248358488, 0.043942641466856, 0.024722792208194733, 0.032882798463106155, -0.009825725108385086, 0.025262298062443733, -0.0020568608306348324, -0.01151167694479227, 0.004214878659695387, -0.001071422128006816, 0.013797827064990997, -0.015133100561797619, 0.017048342153429985, 0.007263078819960356, 0.025262298062443733, -0.008895080536603928, -0.027838431298732758, 0.024641867727041245, 0.008530914783477783, 0.009131113067269325, -0.018383614718914032, -0.01081706490367651, -0.021674592047929764, -0.006811243947595358, 0.024304676800966263, -0.019799813628196716, 0.017574358731508255, -0.03398878127336502, -0.0037866469938308, 0.01076311431825161, -0.005455738864839077, 0.0073777236975729465, -0.005125292576849461, 0.017614820972085, -0.03471711277961731, -0.0031240680254995823, -0.011626321822404861, -0.005165755283087492, 0.005546780303120613, -0.012685098685324192, 0.011120536364614964, -0.008362319320440292, -0.009232270531356335, 0.016967415809631348, -0.00760026928037405, 0.01145098265260458, 0.022848013788461685, -0.019044507294893265, -0.014741959981620312, -0.016967415809631348, -0.05119897425174713, -0.006602186243981123, -0.017884572967886925, -0.039437778294086456, -0.0033887624740600586, 0.021998295560479164, -0.019381698220968246, -0.0018798359669744968, -0.006113260053098202, -0.0008358104387298226, 0.009319939650595188, -0.027056150138378143, -0.03814296796917915, 0.012941363267600536, -0.007114715408533812, -0.013582025654613972, -0.036254700273275375, 0.034042730927467346, 0.013635975308716297, -0.009407609701156616, -0.012003974989056587, -0.0056580533273518085, -0.020110029727220535, 0.0023282989859580994, 0.021027186885476112, 0.029780646786093712, -0.01668417640030384, 0.020851848646998405, 0.021431814879179, -0.0003350828483235091, -0.021553203463554382, -0.049229782074689865, 0.017574358731508255, -0.006322318222373724, -0.005162383429706097, -0.022119684144854546, -0.0411372147500515, -0.02880953997373581, 0.002409224631264806, -0.02078440971672535, 0.02098672464489937, -0.0037900188472121954, -0.01676510088145733, -0.030643854290246964, -0.006399871781468391, -0.030239226296544075, 0.018963582813739777, 0.005250053014606237, -0.018086887896060944, -0.003621423849835992, -0.020352806895971298, 0.002614910714328289, -0.0019287285394966602, -0.00042085564928129315, 0.014323843643069267, -0.0036551428493112326, 0.006919145118445158, 0.01087101548910141, 0.006844962947070599, 0.032343294471502304, 0.018815219402313232, -0.006264995783567429, 0.040489811450242996, -0.03264002129435539, 0.008841129951179028, -0.00045562838204205036, 0.007195640821009874, 0.011066585779190063, -0.005408532451838255, -0.01404060423374176, 0.008369063027203083, -0.013865265063941479, -0.0013394884299486876, 0.0028323985170572996, 0.01656278781592846, -0.0013302157167345285, 0.00892205536365509, -0.018424078822135925, -0.0089692622423172, -0.011579114943742752, -0.0070135584101080894, -0.009825725108385086, -0.03428550809621811, -0.008018385618925095, 0.0054388795979321, -0.0010309593053534627, -0.0036922337021678686, 0.0058738552033901215, -0.0024109105579555035, -0.012165825814008713, 0.02723148837685585, -0.024547453969717026, 0.020770922303199768, -0.0034932915586978197, 0.011828635819256306, -0.017803648486733437, 0.008490451611578465, -0.003459572559222579, -0.011700503528118134, 0.011902817524969578, 0.0005854466580785811, -0.02661105804145336, -0.012529991567134857, -0.01837012730538845, 0.018343152478337288, 0.0023232412058860064, -0.01325157843530178, 0.028674662113189697, 0.012880668975412846, 0.008625327609479427, -0.010958684608340263, -0.013440405018627644, 0.023171717301011086, 0.001986050745472312, -0.001658976310864091, 0.0028930928092449903, -0.01594235748052597, -0.014081066474318504, 0.0009947114158421755, 0.022321997210383415, -0.0011936536757275462, -0.00770817045122385, -0.04167672246694565, -0.011471213772892952, -0.007964435033500195, -0.0007241161656565964, -0.01592887006700039, -0.006740434095263481, -0.0008370749419555068, -0.005014019552618265, -0.002790249651297927, 0.0241698008030653, -0.001254347967915237, -0.0026958363596349955, 0.0007270665955729783, -0.01878824271261692, 0.019597500562667847, -0.01730460673570633, 0.004531837534159422, 0.013541562482714653, -0.026732446625828743, -0.0006558351451531053, 0.001792166382074356, -0.008112798444926739, 0.037738338112831116, 0.024722792208194733, 0.006804500240832567, -0.028890464454889297, 0.012455809861421585, -0.030266201123595238, 0.002292894059792161, -0.0076677072793245316, 0.009515509940683842, 0.02596365287899971, 0.03344927728176117, -0.00023582245921716094, 0.00047248791088350117, -0.010796833783388138, 0.01571306772530079, -0.004255341365933418, -0.020312342792749405, 0.012914388440549374, -0.004346382804214954, 0.0067707812413573265, -0.005708631593734026, -0.021809468045830727, -0.0033297541085630655, 0.024115849286317825, 0.0012796372175216675, -0.020339319482445717, 0.01382480189204216, -0.015402852557599545, -0.019179383292794228, 0.0027885637246072292, 0.00498367240652442, -0.0007342319004237652, 0.021067649126052856, 0.007337260991334915, -0.019071483984589577, -0.006952864117920399, 0.022955914959311485, 0.006160466931760311, -0.01081032119691372, 0.0062380204908549786, 0.034042730927467346, 0.014391281642019749, -0.008928799070417881, -0.0026064810808748007, -0.0217555183917284, -0.004525093827396631, -0.0012121991021558642, 0.057241424918174744, 0.005944665055721998, -0.022119684144854546, 0.019988641142845154, -0.02183644287288189, -0.01676510088145733, 0.009785262867808342, -0.01123518031090498, -0.020663021132349968, -0.014391281642019749, 0.003304464975371957, 0.0054388795979321, 0.0064369626343250275, 0.00954922940582037, 0.028647687286138535, -0.028108183294534683, -0.0004185374709777534, -0.010486618615686893, 0.009866188280284405, -0.02808120846748352, 0.02816213294863701, 0.028350960463285446, -0.011032866314053535, -0.001103455200791359, -0.005691772326827049, -0.022524312138557434, -0.025154396891593933, -0.0031780186109244823, 0.0053613255731761456, 0.020514657720923424, 0.0007645789883099496, -0.02353588305413723, 0.006811243947595358, -0.03679420426487923, 0.004545325413346291, -0.002380563411861658, 0.0015426456229761243, 0.011214949190616608, 0.1944374144077301, 0.005101689137518406, -0.011909561231732368, 0.029510894790291786, -0.015173563733696938, 0.00411709351465106, -0.0087534599006176, -0.03315255045890808, 0.010500106029212475, -0.008092567324638367, 0.02670547179877758, -0.005887342616915703, -0.01024384144693613, -8.26643081381917e-05, 0.0056411935947835445, 0.007829559035599232, -0.032019589096307755, -0.012071412988007069, -0.009185063652694225, -0.03069780394434929, 0.0009314881754107773, -0.00954922940582037, 0.007499112281948328, 0.0031645309645682573, 0.03080570511519909, -0.0035270105581730604, -0.025680413469672203, 0.00818698015064001, 0.021890394389629364, -0.013211116194725037, -0.021553203463554382, 0.006871938239783049, 0.014472207985818386, 0.010803577490150928, 0.006740434095263481, 0.0011700503528118134, -0.015038687735795975, -0.01679207757115364, 0.01835663989186287, 0.009528998285531998, 0.0133999427780509, 0.005870482884347439, -0.0075732939876616, -0.0004518349887803197, -0.030347127467393875, 0.022848013788461685, 0.01024384144693613, -0.008483707904815674, -0.025478098541498184, -0.01409455481916666, -0.041218142956495285, -0.01605025865137577, 0.0030397705268114805, 0.0036652586422860622, 0.028647687286138535, 0.009623411111533642, 0.012388371862471104, 0.020757434889674187, -0.0047914739698171616, 0.0005610003718174994, -0.006973095238208771, 0.01623908430337906, -0.041218142956495285, 0.02100021205842495, -0.012159082107245922, 0.0367402546107769, 0.0005787028349004686, -0.02429118938744068, 0.0037562998477369547, -0.016400936990976334, 0.004612763412296772, 0.005738978739827871, -0.01994817890226841, -0.00641335966065526, 0.0006566781084984541, -0.011585858650505543, -0.017695747315883636, 0.02291545271873474, 0.008220699615776539, 0.013548306189477444, 0.012347908690571785, 0.009711080230772495, -0.015807481482625008, 0.01742599532008171, -0.023913536220788956, -0.02913324162364006, 0.02247036062180996, -0.007694682572036982, -0.029888547956943512, 0.014377794228494167, -0.006113260053098202, 0.0012939678272232413, 0.003634911496192217, -0.0032285971101373434, 0.002918381942436099, 0.0014591909712180495, 0.004572300240397453, 0.023374032229185104, -0.007937459275126457, -0.007236103992909193, -0.03377297893166542, 0.04000425711274147, 0.013750620186328888, 0.008483707904815674, 0.013109958730638027, 0.012307445518672466, 0.006925888825207949, 0.01133633777499199, 0.004558812826871872, -0.03714488446712494, 0.012860437855124474, -0.00047080195508897305, -0.007532831281423569, -0.00469706067815423, 0.009670617990195751, 0.022227585315704346, 0.010425924323499203, 0.0086995093151927, 0.021674592047929764, -0.002764960518106818, 0.008841129951179028, -0.02553205005824566, 0.010500106029212475, 0.03576914593577385, 0.006362780928611755, -0.00818023644387722, -0.049769289791584015, 0.014876835979521275, -0.01456662081182003, -0.025410661473870277, 0.0047813584096729755, -0.013487611897289753, -0.003938382491469383, 0.00017281003238167614, -0.009616667404770851, -0.005563640035688877, -0.007762120570987463, -0.017817135900259018, -0.0054388795979321, 0.02775750495493412, -0.02299637906253338, 0.0019405301427468657, 0.03280187398195267, 0.0041474406607449055, -0.006356037221848965, 0.002771704224869609, 0.02354937046766281, 0.007195640821009874, -0.01615815982222557, 0.0010688932379707694, -0.018626391887664795, -0.03932987526059151, -0.015065662562847137, 0.00030684316880069673, 0.010742883197963238, -0.03525661677122116, -0.03703698143362999, -0.021593667566776276, 0.017385531216859818, -0.018181301653385162, -0.01877475529909134, 0.013204372487962246, 0.010264072567224503, -0.024520479142665863, -0.00440370524302125, -0.014175480231642723, -0.17113082110881805, 0.014027116820216179, -0.005054482724517584, -0.003341555828228593, 0.03374600410461426, 0.006069425493478775, -0.005327606573700905, 0.005664797034114599, -0.0056580533273518085, 0.006396499928086996, 0.03153403848409653, -0.011268899776041508, -0.028135158121585846, -0.0316958874464035, -0.0031409275252372026, -0.025289272889494896, 0.004713920410722494, 0.034447360783815384, 0.046721089631319046, 0.020851848646998405, 0.034150633960962296, -0.009839212521910667, 0.011417263187468052, -0.01953006163239479, 0.012873925268650055, 0.00881415419280529, 0.006302086636424065, 0.0036652586422860622, -0.0010090420255437493, -0.02500603161752224, -0.02827003411948681, 0.009461559355258942, 0.0014069265453144908, -0.008463476784527302, 0.007843046449124813, -0.0019034392898902297, 0.013946190476417542, -0.0018983813934028149, 0.0038035064935684204, 0.023347055539488792, 0.03428550809621811, -0.0007072566659189761, -0.002537356922402978, 0.007843046449124813, -0.02480371855199337, 0.02851281128823757, -0.009232270531356335, 0.006554979365319014, 0.025059983134269714, -0.01012919656932354, 0.021067649126052856, -0.005961524322628975, -0.006649392656981945, 0.030994532629847527, 0.02248384989798069, 0.006740434095263481, 0.029996449127793312, 0.0023282989859580994, -0.007492368575185537, 0.009987576864659786, -0.00817349273711443, -0.018491515889763832, 0.0001780786260496825, 0.0050511108711361885, -0.009724568575620651, -0.029106266796588898, -0.0026840348728001118, 0.022321997210383415, -0.01932774856686592, 0.00822744332253933, -0.022038757801055908, -0.01012919656932354, 0.019921202212572098, -0.01271207444369793, 0.02089231088757515, 0.0036517709959298372, 0.015470290556550026, 0.0032151094637811184, 0.008099311031401157, 0.001617670408450067, 0.002306381706148386, 0.028971390798687935, -0.019125433638691902, -0.009670617990195751, -0.002793621737509966, 0.02004259079694748, 0.008726485073566437, 0.012314190156757832, 0.009953857399523258, -0.024830693379044533, -0.031210333108901978, -0.02713707461953163, -0.012806487269699574, -0.014296868816018105, 0.00954922940582037, 0.03560729697346687, 0.0028914068825542927, -0.00014298976748250425, -0.016913466155529022, -0.0018326293211430311, -0.00043033913243561983, 0.001401868648827076, -0.04146092012524605, 0.012968339025974274, 0.027177538722753525, -0.024021437391638756, -0.011815148405730724, 0.003321324475109577, 0.042270176112651825, -0.02532973513007164, -0.011181230656802654, 0.01963796280324459, -0.001295653753913939, 0.017682259902358055, -0.01123518031090498, 0.011228436604142189, -0.00575246661901474, -0.007269822992384434, -0.003877688432112336, -0.02376517280936241, 0.06204301491379738, 0.01139703206717968, -0.020824871957302094, 0.019125433638691902, -0.004140696953982115, -0.023913536220788956, -0.1257045418024063, -0.019867252558469772, 0.009016468189656734, 0.0150926373898983, -0.012806487269699574, 0.00754631869494915, -0.0033938202541321516, 0.02891743928194046, -0.00013656207011081278, 0.022861503064632416, -0.004541953094303608, -0.02299637906253338, -0.010506849735975266, -0.0021664476953446865, 0.0089692622423172, -0.0010545626282691956, 0.00020990095799788833, -0.014337331056594849, -0.007431674282997847, 0.03450131043791771, -0.003877688432112336, -0.014661034569144249, -0.01029104832559824, -0.011127280071377754, 0.005583871155977249, -0.0023788774851709604, -0.013534818775951862, 0.01266486756503582, 0.0010090420255437493, 0.00897600594907999, -0.00012760545359924436, -0.001218099961988628, 0.002168133622035384, -0.014148504473268986, -0.027379851788282394, 0.021054161712527275, -0.04084048792719841, -0.016913466155529022, 0.015996307134628296, -0.032882798463106155, -0.007701426278799772, 0.01626605913043022, -0.005701887886971235, 0.005398416891694069, -0.001999538391828537, -0.013042520731687546, -0.02006956748664379, 0.0056209624744951725, 0.00046658708015456796, -0.013224603608250618, -0.002210282487794757, -0.018221763893961906, -0.02194434404373169, -0.016832539811730385, 0.0055670118890702724, -0.012927875854074955, 0.016913466155529022, 0.028944415971636772, -0.017358556389808655, 0.008476964198052883, -0.0023468444123864174, -0.006639277096837759, -0.011471213772892952, 0.014135017059743404, 0.011740965768694878, -0.03679420426487923, -0.0037057213485240936, -0.03790019080042839, 0.021580178290605545, -0.027258463203907013, -0.0042115068063139915, -0.021607154980301857, -0.028054233640432358, 0.007890253327786922, -0.01329878531396389, 0.006902285385876894, -0.00599187146872282, 0.007290054112672806, 0.009785262867808342, -0.010992404073476791, -0.010891246609389782, -6.480376032413915e-05, 0.02840491011738777, 0.011322850361466408, 0.04340313374996185, 0.017978986725211143, 0.03396180644631386, 0.01145772635936737, -0.02216014638543129, 0.012422090396285057, -0.008524171076714993, 0.03134521096944809, 0.021067649126052856, -0.008106054738163948, 0.0019118690397590399, 0.01623908430337906, -0.007067508529871702, -0.0070337895303964615, 0.012880668975412846, 0.019354723393917084, -0.018801730126142502, -0.014917299151420593, -0.0417846217751503, -0.0014280008617788553, -0.02005607821047306, -0.0025660181418061256, 0.017871085554361343, -0.008665790781378746, -0.002963902661576867, -0.019813301041722298, 0.007836302742362022, 0.03242421895265579, -0.02816213294863701, 0.022618725895881653, -0.007950947619974613, 0.0019051252165809274, -0.023927023634314537, -0.03137218579649925, 0.022618725895881653, -0.0008935543010011315, 0.027420315891504288, 0.015807481482625008, -0.0010216865921393037, -0.01594235748052597, 0.01899055764079094, 0.0011405461700633168, 0.015591679140925407, -0.018235251307487488, 0.008490451611578465, 0.014337331056594849, -0.0009045129991136491, -0.008841129951179028, -0.0026806627865880728, -0.048906080424785614, 0.012165825814008713, 0.019759351387619972, -0.0003464630281087011, -0.013649463653564453, -0.0012855379609391093, 0.03007737547159195, -0.00031716961530037224, 0.027784479781985283, -0.013905728235840797, -0.03369205445051193, -0.002348530339077115, -0.016387447714805603, -0.00704727740958333, 0.011302619241178036, -0.011120536364614964, 0.019044507294893265, -0.012880668975412846, -0.003419109620153904, 0.04610065743327141, 0.024412577971816063, -0.03895222395658493, -0.0420004241168499, -0.025936678051948547, 0.014377794228494167, 0.009879675693809986, -0.017978986725211143, -0.033611129969358444, -0.01623908430337906, 0.014499182812869549, 0.04467096924781799, 0.015443315729498863, -0.007384467404335737, 0.013056008145213127, -0.008031873032450676, -0.02752821519970894, 0.010918221436440945, 0.0016480175545439124, -0.015605166554450989, -0.009960601106286049, 0.012240007519721985, 0.02162064239382744, -0.01123518031090498, 0.02721800096333027, -0.0011725792428478599, -0.008955773897469044, 0.012381628155708313, -0.015955844894051552, 0.02545112371444702, 0.012954851612448692, 0.019691914319992065, -0.0308326818048954, 0.004353126976639032, 0.0240618996322155, 0.007917228154838085, -0.018208276480436325, 0.023900048807263374, 0.0032201672438532114, 0.012961595319211483, -0.026435719802975655, 0.017169730737805367, 0.01266486756503582, 0.005121920723468065, 0.008247674442827702, 0.008544402197003365, 0.008686021901667118, 0.010048271156847477, 0.015955844894051552, 0.011761197820305824, 0.011120536364614964, 0.016522323712706566, 0.007923971861600876, -0.02595016546547413, 0.0016058688051998615, 0.0021124971099197865, -0.03442038595676422, -0.02004259079694748, -0.019031019881367683, 0.0046903169713914394, 0.002356960205361247, -0.004504862241446972, -0.004565556533634663, 0.008261161856353283, -0.02260523848235607, 0.007370979990810156, 0.0005968268378637731, 0.009043443948030472, -0.016171647235751152, 0.03827784210443497, 0.028863489627838135, 0.013959678821265697, -0.014364306814968586, -0.021890394389629364, 0.0023957369849085808, 0.0027278694324195385, -0.0036686304956674576, -0.032666996121406555, 0.024210263043642044, 0.0021006956230849028, 0.0030482003930956125, -0.02247036062180996, -0.06134165823459625, 0.001535058836452663, -0.003631539409980178, -0.030455028638243675, 0.032343294471502304, 0.02479023113846779, 0.006470681633800268, 0.05448995158076286, 0.002137786475941539, -0.018343152478337288, -0.0036686304956674576, -0.007121459115296602, -0.002324927132576704, 0.02489813230931759, -0.012529991567134857, 0.015133100561797619, -0.04529140144586563, 0.036335624754428864, -0.00020990095799788833, 0.0301852747797966, -0.030589904636144638, -0.04105629026889801, 0.019921202212572098, -0.011963511817157269, 0.013777595944702625, 0.01186909805983305, 0.005111804697662592, 0.039302900433540344, -0.021135088056325912, 0.01920635998249054, 0.010365230031311512, -0.037522535771131516, -0.012159082107245922, 0.020878823474049568, 0.004245225805789232, 0.01456662081182003, -0.0492028072476387, -0.0014482323313131928, -0.007107971701771021, -0.02437211386859417, -0.019907714799046516, 0.0010140998056158423, -0.017749696969985962, -0.015659118071198463, -0.006740434095263481, -0.023266131058335304, 0.019165895879268646, -0.013096471317112446, 0.032666996121406555, -0.024628380313515663, -0.030050398781895638, -0.014161992818117142, -0.007451905403286219, -0.002972332527860999, -0.008476964198052883, 0.011808404698967934]\n",
            "\n"
          ]
        }
      ]
    },
    {
      "cell_type": "code",
      "source": [
        "def upsert_embeddings(index, text_chunks, embeddings):\n",
        "    # Upsert embeddings into Pinecone index.\n",
        "    for i, (chunk, embedding) in enumerate(zip(text_chunks, embeddings)):\n",
        "        index.upsert([(str(i), embedding, {'text': chunk})])\n",
        "\n",
        "# Upsert embeddings.\n",
        "upsert_embeddings(index, text_chunks, embeddings)\n",
        "\n",
        "print(\"Embeddings upserted into Pinecone index.\")"
      ],
      "metadata": {
        "colab": {
          "base_uri": "https://localhost:8080/"
        },
        "id": "n3A45D7YZ7gz",
        "outputId": "d3b78e5c-f2d0-45fb-abd0-c879418a9165"
      },
      "execution_count": 10,
      "outputs": [
        {
          "output_type": "stream",
          "name": "stdout",
          "text": [
            "Embeddings upserted into Pinecone index.\n"
          ]
        }
      ]
    },
    {
      "cell_type": "code",
      "source": [
        "index.describe_index_stats()"
      ],
      "metadata": {
        "colab": {
          "base_uri": "https://localhost:8080/"
        },
        "id": "D2GqN617iT3n",
        "outputId": "cbd534ce-3e19-4724-aeff-6b02293772a2"
      },
      "execution_count": 11,
      "outputs": [
        {
          "output_type": "execute_result",
          "data": {
            "text/plain": [
              "{'dimension': 1536,\n",
              " 'index_fullness': 0.0,\n",
              " 'namespaces': {'': {'vector_count': 208}},\n",
              " 'total_vector_count': 208}"
            ]
          },
          "metadata": {},
          "execution_count": 11
        }
      ]
    },
    {
      "cell_type": "code",
      "source": [
        "!pip install -U langchain-openai\n",
        "!pip install -U langchain-pinecone\n"
      ],
      "metadata": {
        "colab": {
          "base_uri": "https://localhost:8080/"
        },
        "id": "WD-aV55Immxt",
        "outputId": "8100d3fc-eee1-4594-9f17-8ac3251da22d"
      },
      "execution_count": 13,
      "outputs": [
        {
          "output_type": "stream",
          "name": "stdout",
          "text": [
            "Requirement already satisfied: langchain-openai in /usr/local/lib/python3.10/dist-packages (0.1.17)\n",
            "Requirement already satisfied: langchain-core<0.3.0,>=0.2.20 in /usr/local/lib/python3.10/dist-packages (from langchain-openai) (0.2.22)\n",
            "Requirement already satisfied: openai<2.0.0,>=1.32.0 in /usr/local/lib/python3.10/dist-packages (from langchain-openai) (1.36.1)\n",
            "Requirement already satisfied: tiktoken<1,>=0.7 in /usr/local/lib/python3.10/dist-packages (from langchain-openai) (0.7.0)\n",
            "Requirement already satisfied: PyYAML>=5.3 in /usr/local/lib/python3.10/dist-packages (from langchain-core<0.3.0,>=0.2.20->langchain-openai) (6.0.1)\n",
            "Requirement already satisfied: jsonpatch<2.0,>=1.33 in /usr/local/lib/python3.10/dist-packages (from langchain-core<0.3.0,>=0.2.20->langchain-openai) (1.33)\n",
            "Requirement already satisfied: langsmith<0.2.0,>=0.1.75 in /usr/local/lib/python3.10/dist-packages (from langchain-core<0.3.0,>=0.2.20->langchain-openai) (0.1.93)\n",
            "Requirement already satisfied: packaging<25,>=23.2 in /usr/local/lib/python3.10/dist-packages (from langchain-core<0.3.0,>=0.2.20->langchain-openai) (24.1)\n",
            "Requirement already satisfied: pydantic<3,>=1 in /usr/local/lib/python3.10/dist-packages (from langchain-core<0.3.0,>=0.2.20->langchain-openai) (2.8.2)\n",
            "Requirement already satisfied: tenacity!=8.4.0,<9.0.0,>=8.1.0 in /usr/local/lib/python3.10/dist-packages (from langchain-core<0.3.0,>=0.2.20->langchain-openai) (8.5.0)\n",
            "Requirement already satisfied: anyio<5,>=3.5.0 in /usr/local/lib/python3.10/dist-packages (from openai<2.0.0,>=1.32.0->langchain-openai) (3.7.1)\n",
            "Requirement already satisfied: distro<2,>=1.7.0 in /usr/lib/python3/dist-packages (from openai<2.0.0,>=1.32.0->langchain-openai) (1.7.0)\n",
            "Requirement already satisfied: httpx<1,>=0.23.0 in /usr/local/lib/python3.10/dist-packages (from openai<2.0.0,>=1.32.0->langchain-openai) (0.27.0)\n",
            "Requirement already satisfied: sniffio in /usr/local/lib/python3.10/dist-packages (from openai<2.0.0,>=1.32.0->langchain-openai) (1.3.1)\n",
            "Requirement already satisfied: tqdm>4 in /usr/local/lib/python3.10/dist-packages (from openai<2.0.0,>=1.32.0->langchain-openai) (4.66.4)\n",
            "Requirement already satisfied: typing-extensions<5,>=4.7 in /usr/local/lib/python3.10/dist-packages (from openai<2.0.0,>=1.32.0->langchain-openai) (4.12.2)\n",
            "Requirement already satisfied: regex>=2022.1.18 in /usr/local/lib/python3.10/dist-packages (from tiktoken<1,>=0.7->langchain-openai) (2024.5.15)\n",
            "Requirement already satisfied: requests>=2.26.0 in /usr/local/lib/python3.10/dist-packages (from tiktoken<1,>=0.7->langchain-openai) (2.32.3)\n",
            "Requirement already satisfied: idna>=2.8 in /usr/local/lib/python3.10/dist-packages (from anyio<5,>=3.5.0->openai<2.0.0,>=1.32.0->langchain-openai) (3.7)\n",
            "Requirement already satisfied: exceptiongroup in /usr/local/lib/python3.10/dist-packages (from anyio<5,>=3.5.0->openai<2.0.0,>=1.32.0->langchain-openai) (1.2.2)\n",
            "Requirement already satisfied: certifi in /usr/local/lib/python3.10/dist-packages (from httpx<1,>=0.23.0->openai<2.0.0,>=1.32.0->langchain-openai) (2024.7.4)\n",
            "Requirement already satisfied: httpcore==1.* in /usr/local/lib/python3.10/dist-packages (from httpx<1,>=0.23.0->openai<2.0.0,>=1.32.0->langchain-openai) (1.0.5)\n",
            "Requirement already satisfied: h11<0.15,>=0.13 in /usr/local/lib/python3.10/dist-packages (from httpcore==1.*->httpx<1,>=0.23.0->openai<2.0.0,>=1.32.0->langchain-openai) (0.14.0)\n",
            "Requirement already satisfied: jsonpointer>=1.9 in /usr/local/lib/python3.10/dist-packages (from jsonpatch<2.0,>=1.33->langchain-core<0.3.0,>=0.2.20->langchain-openai) (3.0.0)\n",
            "Requirement already satisfied: orjson<4.0.0,>=3.9.14 in /usr/local/lib/python3.10/dist-packages (from langsmith<0.2.0,>=0.1.75->langchain-core<0.3.0,>=0.2.20->langchain-openai) (3.10.6)\n",
            "Requirement already satisfied: annotated-types>=0.4.0 in /usr/local/lib/python3.10/dist-packages (from pydantic<3,>=1->langchain-core<0.3.0,>=0.2.20->langchain-openai) (0.7.0)\n",
            "Requirement already satisfied: pydantic-core==2.20.1 in /usr/local/lib/python3.10/dist-packages (from pydantic<3,>=1->langchain-core<0.3.0,>=0.2.20->langchain-openai) (2.20.1)\n",
            "Requirement already satisfied: charset-normalizer<4,>=2 in /usr/local/lib/python3.10/dist-packages (from requests>=2.26.0->tiktoken<1,>=0.7->langchain-openai) (3.3.2)\n",
            "Requirement already satisfied: urllib3<3,>=1.21.1 in /usr/local/lib/python3.10/dist-packages (from requests>=2.26.0->tiktoken<1,>=0.7->langchain-openai) (2.0.7)\n",
            "Collecting langchain-pinecone\n",
            "  Downloading langchain_pinecone-0.1.2-py3-none-any.whl (8.5 kB)\n",
            "Requirement already satisfied: langchain-core<0.3,>=0.1.52 in /usr/local/lib/python3.10/dist-packages (from langchain-pinecone) (0.2.22)\n",
            "Requirement already satisfied: numpy<2,>=1 in /usr/local/lib/python3.10/dist-packages (from langchain-pinecone) (1.25.2)\n",
            "Collecting pinecone-client<5,>=3.2.2 (from langchain-pinecone)\n",
            "  Downloading pinecone_client-4.1.2-py3-none-any.whl (216 kB)\n",
            "\u001b[2K     \u001b[90m━━━━━━━━━━━━━━━━━━━━━━━━━━━━━━━━━━━━━━━━\u001b[0m \u001b[32m216.4/216.4 kB\u001b[0m \u001b[31m5.2 MB/s\u001b[0m eta \u001b[36m0:00:00\u001b[0m\n",
            "\u001b[?25hRequirement already satisfied: PyYAML>=5.3 in /usr/local/lib/python3.10/dist-packages (from langchain-core<0.3,>=0.1.52->langchain-pinecone) (6.0.1)\n",
            "Requirement already satisfied: jsonpatch<2.0,>=1.33 in /usr/local/lib/python3.10/dist-packages (from langchain-core<0.3,>=0.1.52->langchain-pinecone) (1.33)\n",
            "Requirement already satisfied: langsmith<0.2.0,>=0.1.75 in /usr/local/lib/python3.10/dist-packages (from langchain-core<0.3,>=0.1.52->langchain-pinecone) (0.1.93)\n",
            "Requirement already satisfied: packaging<25,>=23.2 in /usr/local/lib/python3.10/dist-packages (from langchain-core<0.3,>=0.1.52->langchain-pinecone) (24.1)\n",
            "Requirement already satisfied: pydantic<3,>=1 in /usr/local/lib/python3.10/dist-packages (from langchain-core<0.3,>=0.1.52->langchain-pinecone) (2.8.2)\n",
            "Requirement already satisfied: tenacity!=8.4.0,<9.0.0,>=8.1.0 in /usr/local/lib/python3.10/dist-packages (from langchain-core<0.3,>=0.1.52->langchain-pinecone) (8.5.0)\n",
            "Requirement already satisfied: certifi>=2019.11.17 in /usr/local/lib/python3.10/dist-packages (from pinecone-client<5,>=3.2.2->langchain-pinecone) (2024.7.4)\n",
            "Requirement already satisfied: pinecone-plugin-interface<0.0.8,>=0.0.7 in /usr/local/lib/python3.10/dist-packages (from pinecone-client<5,>=3.2.2->langchain-pinecone) (0.0.7)\n",
            "Requirement already satisfied: tqdm>=4.64.1 in /usr/local/lib/python3.10/dist-packages (from pinecone-client<5,>=3.2.2->langchain-pinecone) (4.66.4)\n",
            "Requirement already satisfied: typing-extensions>=3.7.4 in /usr/local/lib/python3.10/dist-packages (from pinecone-client<5,>=3.2.2->langchain-pinecone) (4.12.2)\n",
            "Requirement already satisfied: urllib3>=1.26.0 in /usr/local/lib/python3.10/dist-packages (from pinecone-client<5,>=3.2.2->langchain-pinecone) (2.0.7)\n",
            "Requirement already satisfied: jsonpointer>=1.9 in /usr/local/lib/python3.10/dist-packages (from jsonpatch<2.0,>=1.33->langchain-core<0.3,>=0.1.52->langchain-pinecone) (3.0.0)\n",
            "Requirement already satisfied: orjson<4.0.0,>=3.9.14 in /usr/local/lib/python3.10/dist-packages (from langsmith<0.2.0,>=0.1.75->langchain-core<0.3,>=0.1.52->langchain-pinecone) (3.10.6)\n",
            "Requirement already satisfied: requests<3,>=2 in /usr/local/lib/python3.10/dist-packages (from langsmith<0.2.0,>=0.1.75->langchain-core<0.3,>=0.1.52->langchain-pinecone) (2.32.3)\n",
            "Requirement already satisfied: annotated-types>=0.4.0 in /usr/local/lib/python3.10/dist-packages (from pydantic<3,>=1->langchain-core<0.3,>=0.1.52->langchain-pinecone) (0.7.0)\n",
            "Requirement already satisfied: pydantic-core==2.20.1 in /usr/local/lib/python3.10/dist-packages (from pydantic<3,>=1->langchain-core<0.3,>=0.1.52->langchain-pinecone) (2.20.1)\n",
            "Requirement already satisfied: charset-normalizer<4,>=2 in /usr/local/lib/python3.10/dist-packages (from requests<3,>=2->langsmith<0.2.0,>=0.1.75->langchain-core<0.3,>=0.1.52->langchain-pinecone) (3.3.2)\n",
            "Requirement already satisfied: idna<4,>=2.5 in /usr/local/lib/python3.10/dist-packages (from requests<3,>=2->langsmith<0.2.0,>=0.1.75->langchain-core<0.3,>=0.1.52->langchain-pinecone) (3.7)\n",
            "Installing collected packages: pinecone-client, langchain-pinecone\n",
            "  Attempting uninstall: pinecone-client\n",
            "    Found existing installation: pinecone-client 5.0.0\n",
            "    Uninstalling pinecone-client-5.0.0:\n",
            "      Successfully uninstalled pinecone-client-5.0.0\n",
            "Successfully installed langchain-pinecone-0.1.2 pinecone-client-4.1.2\n"
          ]
        }
      ]
    },
    {
      "cell_type": "code",
      "source": [
        "from langchain_openai import OpenAIEmbeddings  # Updated import\n",
        "from langchain_pinecone import Pinecone          # Updated import\n",
        "\n",
        "text_field = 'text'\n",
        "# Initialize the embeddings model\n",
        "langchain_api_key = OPENAI_API_KEY\n",
        "openai_embeddings = OpenAIEmbeddings(api_key=langchain_api_key)\n",
        "\n",
        "# Initialize the vector store object\n",
        "vectorstore = Pinecone(\n",
        "    index, openai_embeddings, text_field  # Pass the instance directly\n",
        ")"
      ],
      "metadata": {
        "colab": {
          "base_uri": "https://localhost:8080/"
        },
        "id": "KtR13NBDidRt",
        "outputId": "89a571e8-80f4-411f-9c19-442b0c31e80e"
      },
      "execution_count": 14,
      "outputs": [
        {
          "output_type": "stream",
          "name": "stderr",
          "text": [
            "/usr/local/lib/python3.10/dist-packages/langchain_core/_api/deprecation.py:139: LangChainDeprecationWarning: The class `Pinecone` was deprecated in LangChain 0.0.3 and will be removed in 0.3.0. Use PineconeVectorStore instead.\n",
            "  warn_deprecated(\n"
          ]
        }
      ]
    },
    {
      "cell_type": "code",
      "source": [
        "query = \"what is immune system??\"\n",
        "\n",
        "vectorstore.similarity_search(\n",
        "    query,  # our search query\n",
        "    k=3  # return 3 most relevant docs\n",
        ")"
      ],
      "metadata": {
        "colab": {
          "base_uri": "https://localhost:8080/"
        },
        "id": "rKAfsGOWihbU",
        "outputId": "2f0ef441-5aec-4fe8-9509-c3abbc95ca50"
      },
      "execution_count": 15,
      "outputs": [
        {
          "output_type": "execute_result",
          "data": {
            "text/plain": [
              "[Document(page_content='whiny little baby your immune system is not complaining It is busy keeping you alive so you can live to whine another day And so while intruders roam your body killing hundreds of thousands of your cells your immune system is organizing complex defenses communicating over vast distances activating intricate defense networks and dishing out a swift death to millions if not billions of enemies all while you are standing in the shower mildly annoyed But this complexity is largely hidden Which is a real shame because there are not many things that have such a crucial impact on the quality of your life as your immune system It is all embracing and all encompassing protecting you from bothersome nuisances like the common cold scratches and cuts to life threatening stuff from cancer and pneumonia to deadly infections like COVID 19 Your immune system is as indispensable as your heart or your lungs And actually it is one of the largest and most widespread organ systems throughout your body although we don t tend to'),\n",
              " Document(page_content='the sense that climbing Mount Everest is a nice stroll through nature It is intuitive like reading the Chinese translation of the tax code of Germany is a fun Sunday afternoon The immune system is the most complex biological system known to humanity other than the human brain The bigger the immunology textbook you read the more layers of detail start piling on the more exceptions to rules appear the more intricate the system becomes the more specific it seems to be for every possible eventuality Every single one of its many parts has multiple jobs and functions and areas of expertise that overlap and influence each other Even if you make it past these challenges and still want to understand the immune system you will encounter another problem the humans who described it Scientists have laid the foundation for the amazing modern world we get to enjoy today through hard work and endless curiosity and we owe them a great deal of gratitude Unfortunately though many scientists are really bad at choosing good'),\n",
              " Document(page_content='The human immune system is the most complex biological system we know after the human brain And yet most of us never learn how it works or what it is Your immune system consists of hundreds of tiny and two large organs It has its own transport network spread throughout your body Every day it makes hundreds of billions of fresh cells organized like an army with soldiers captains intelligence officers heavy weapons and crazy suicide bombers It s not some sort of abstract entity Your immune system is you Your biology protecting you from the billions of microorganisms that want to consume you and from your own perverted cells that turn into cancer It s so manifold that it s impossible to cover in one video so we ll make a series looking at different aspects of it Today what happens when your body is invaded and your first lines of defenses are engaged in a fight for life and death It s been a normal day when suddenly the world explodes and an asteroid rips the sky open Countless alien life forms invade ready to')]"
            ]
          },
          "metadata": {},
          "execution_count": 15
        }
      ]
    },
    {
      "cell_type": "code",
      "source": [
        "all_transcripts = './transcripts'\n",
        "\n",
        "# Function to read transcripts from a single JSON file\n",
        "def read_transcripts(transcript_file):\n",
        "    # Construct the full path to the transcript file\n",
        "    file_path = os.path.join(all_transcripts, transcript_file) # Use os.path.join to create the correct file path\n",
        "    with open(file_path, 'r') as file:\n",
        "        transcripts = json.load(file)\n",
        "    return transcripts\n",
        "'''\n",
        "# Function to summarize text\n",
        "def get_summary(transcript_file):\n",
        "    summarizer = pipeline(\"summarization\", model=\"facebook/bart-large-cnn\")\n",
        "    transcripts = read_transcripts(transcript_file)\n",
        "\n",
        "    summaries = []\n",
        "    for transcript in transcripts:\n",
        "        summary = summarizer(transcript['transcript'], max_length=150, min_length=30, do_sample=False)[0]['summary_text']\n",
        "        summaries.append(summary)\n",
        "\n",
        "    return summaries\n",
        "\n",
        "\n",
        "summarizer_tool = Tool(\n",
        "    name=\"Summarizer\",\n",
        "    func=lambda x: get_summary(transcript_file=x), # Pass the filename to get_summary\n",
        "    description=\"Summarize the content of transcripts. Find summaries based on user questions.\"\n",
        ")\n",
        "'''\n",
        "# Initialize memory.\n",
        "memory = ConversationBufferMemory()\n",
        "\n",
        "# Initialize the language model using OpenAI with the specific model.\n",
        "llm = OpenAI(api_key=OPENAI_API_KEY, temperature=0.7)\n",
        "\n",
        "from langchain.chains import RetrievalQA\n",
        "# Create the RetrievalQA instance with the language model and retriever\n",
        "qa = RetrievalQA.from_chain_type(\n",
        "    llm=llm,\n",
        "    chain_type=\"stuff\",\n",
        "    retriever=vectorstore.as_retriever(),\n",
        "    memory=memory  # Integrate the memory with RetrievalQA\n",
        ")\n",
        "\n",
        "# Define tools for the agent\n",
        "tools = [\n",
        "    Tool(\n",
        "        name='video_transcript_retriever',\n",
        "        func=qa.run,\n",
        "        description='Searches and returns excerpts from the transcript of the user-uploaded video.'\n",
        "    )\n",
        "]\n",
        "\n",
        "# Initialize the agent\n",
        "agent = initialize_agent(\n",
        "    tools, llm, agent=AgentType.ZERO_SHOT_REACT_DESCRIPTION, memory=memory, verbose=True\n",
        ")\n",
        "\n",
        "print(\"QA Agent initialized successfully.\")"
      ],
      "metadata": {
        "colab": {
          "base_uri": "https://localhost:8080/"
        },
        "id": "IYaqpSRig_Ln",
        "outputId": "bbd2275a-aa0b-48c6-99d4-d7bb2b7ee094"
      },
      "execution_count": 43,
      "outputs": [
        {
          "output_type": "stream",
          "name": "stdout",
          "text": [
            "QA Agent initialized successfully.\n"
          ]
        }
      ]
    },
    {
      "cell_type": "code",
      "source": [
        "query1 = \"What are the potential negative impacts of getting a tattoo on the immune system?\"\n",
        "\n",
        "\n",
        "output1 = agent.run(query1)\n",
        "print(output1)"
      ],
      "metadata": {
        "colab": {
          "base_uri": "https://localhost:8080/"
        },
        "id": "1mhswZisn4W8",
        "outputId": "dceaeaa8-d036-4827-8590-96ae2e1a6740"
      },
      "execution_count": 54,
      "outputs": [
        {
          "output_type": "stream",
          "name": "stdout",
          "text": [
            "\n",
            "\n",
            "\u001b[1m> Entering new AgentExecutor chain...\u001b[0m\n",
            "\u001b[32;1m\u001b[1;3m It would be helpful to gather information from a reliable source.\n",
            "Action: video_transcript_retriever\n",
            "Action Input: search terms \"tattoo immune system negative impacts\"\u001b[0m\n",
            "Observation: \u001b[36;1m\u001b[1;3m Some possible results for this search could include articles or studies discussing potential negative impacts on the immune system from getting a tattoo, such as increased risk of infection or allergic reactions to ink components. It may also include information on how the immune system responds to the tattooing process and the presence of foreign substances in the body.\u001b[0m\n",
            "Thought:\u001b[32;1m\u001b[1;3m It would also be beneficial to consider the potential positive impacts of getting a tattoo on the immune system, as well as any mitigating factors that could lessen the negative impacts.\n",
            "Action: video_transcript_retriever\n",
            "Action Input: search terms \"tattoo immune system positive impacts\"\u001b[0m\n",
            "Observation: \u001b[36;1m\u001b[1;3m The positive impacts of tattoos on the immune system include the activation of macrophages to protect against bacteria and the trapping of potentially harmful metals and chemicals within the immune cells.\u001b[0m\n",
            "Thought:\u001b[32;1m\u001b[1;3m Based on the information gathered, I can now make an informed decision about the potential impacts of getting a tattoo on my immune system.\n",
            "Final Answer: The potential negative impacts of getting a tattoo on the immune system include increased risk of infection and allergic reactions, while the potential positive impacts include activation of immune cells and trapping of harmful substances. It is important to consider these factors before making a decision about getting a tattoo.\u001b[0m\n",
            "\n",
            "\u001b[1m> Finished chain.\u001b[0m\n",
            "The potential negative impacts of getting a tattoo on the immune system include increased risk of infection and allergic reactions, while the potential positive impacts include activation of immune cells and trapping of harmful substances. It is important to consider these factors before making a decision about getting a tattoo.\n"
          ]
        }
      ]
    },
    {
      "cell_type": "code",
      "source": [
        "query2 = \"What is Ebola virus?\"\n",
        "\n",
        "\n",
        "output2 = qa.invoke(query2)\n",
        "output2['result']"
      ],
      "metadata": {
        "colab": {
          "base_uri": "https://localhost:8080/",
          "height": 53
        },
        "id": "JaICsKn1ob3u",
        "outputId": "ead190b8-3587-4fcf-ac20-5c643336ad7e"
      },
      "execution_count": 55,
      "outputs": [
        {
          "output_type": "execute_result",
          "data": {
            "text/plain": [
              "' Ebola virus is a highly dangerous and deadly virus that attacks the immune system and causes severe illness and often death. It is transmitted through contact with bodily fluids of infected individuals or animals.'"
            ],
            "application/vnd.google.colaboratory.intrinsic+json": {
              "type": "string"
            }
          },
          "metadata": {},
          "execution_count": 55
        }
      ]
    },
    {
      "cell_type": "code",
      "source": [
        "query3 = \"Does the human body kill canser and how?\"\n",
        "\n",
        "\n",
        "output3 = qa.invoke(query3)\n",
        "output3['result']"
      ],
      "metadata": {
        "colab": {
          "base_uri": "https://localhost:8080/",
          "height": 53
        },
        "id": "htTjItAUudSr",
        "outputId": "1101e9a0-f17d-4b6e-d0c3-a2d3528d1c9d"
      },
      "execution_count": 56,
      "outputs": [
        {
          "output_type": "execute_result",
          "data": {
            "text/plain": [
              "' Yes, the human body has mechanisms in place to detect and kill cancer cells. These mechanisms include the immune system, which can recognize and attack cancer cells, as well as cell suicide (apoptosis) which allows abnormal or damaged cells to self-destruct. Additionally, the body has repair mechanisms to fix mutations in DNA that can lead to cancer.'"
            ],
            "application/vnd.google.colaboratory.intrinsic+json": {
              "type": "string"
            }
          },
          "metadata": {},
          "execution_count": 56
        }
      ]
    },
    {
      "cell_type": "code",
      "source": [
        "query4 = \"Are the human immune against every disease?\"\n",
        "\n",
        "\n",
        "output4 = qa.invoke(query4)\n",
        "output4['result']"
      ],
      "metadata": {
        "colab": {
          "base_uri": "https://localhost:8080/",
          "height": 53
        },
        "id": "d-rKHZvcuxq8",
        "outputId": "a04896f8-3dda-4ae9-cac8-da2b2906b606"
      },
      "execution_count": 57,
      "outputs": [
        {
          "output_type": "execute_result",
          "data": {
            "text/plain": [
              "' No, humans are not immune against every disease. Our immune system can protect us against many diseases, but there are still many diseases that can affect us and even cause serious illness or death.'"
            ],
            "application/vnd.google.colaboratory.intrinsic+json": {
              "type": "string"
            }
          },
          "metadata": {},
          "execution_count": 57
        }
      ]
    },
    {
      "cell_type": "code",
      "source": [
        "query5 = \"Why Cancer is so Hard to Beat?\"\n",
        "\n",
        "\n",
        "output5 = qa.invoke(query5)\n",
        "output5['result']"
      ],
      "metadata": {
        "colab": {
          "base_uri": "https://localhost:8080/",
          "height": 53
        },
        "id": "aA2oQapzvOm7",
        "outputId": "c8f0cd20-9680-45a0-fe90-690ff8295c6d"
      },
      "execution_count": 58,
      "outputs": [
        {
          "output_type": "execute_result",
          "data": {
            "text/plain": [
              "\" Cancer is difficult to beat because it is constantly evolving and adapting to treatments, making it difficult to eradicate completely. Additionally, the body's immune system can sometimes accidentally select and strengthen the fittest tumor cells, allowing them to continue growing and spreading.\""
            ],
            "application/vnd.google.colaboratory.intrinsic+json": {
              "type": "string"
            }
          },
          "metadata": {},
          "execution_count": 58
        }
      ]
    },
    {
      "cell_type": "code",
      "source": [
        "!pip install -U langsmith"
      ],
      "metadata": {
        "colab": {
          "base_uri": "https://localhost:8080/"
        },
        "id": "YE1CW6JpxUuS",
        "outputId": "334d2500-b8fd-4614-d3f2-633b62576348"
      },
      "execution_count": 74,
      "outputs": [
        {
          "output_type": "stream",
          "name": "stdout",
          "text": [
            "Requirement already satisfied: langsmith in /usr/local/lib/python3.10/dist-packages (0.1.93)\n",
            "Requirement already satisfied: orjson<4.0.0,>=3.9.14 in /usr/local/lib/python3.10/dist-packages (from langsmith) (3.10.6)\n",
            "Requirement already satisfied: pydantic<3,>=1 in /usr/local/lib/python3.10/dist-packages (from langsmith) (2.8.2)\n",
            "Requirement already satisfied: requests<3,>=2 in /usr/local/lib/python3.10/dist-packages (from langsmith) (2.32.3)\n",
            "Requirement already satisfied: annotated-types>=0.4.0 in /usr/local/lib/python3.10/dist-packages (from pydantic<3,>=1->langsmith) (0.7.0)\n",
            "Requirement already satisfied: pydantic-core==2.20.1 in /usr/local/lib/python3.10/dist-packages (from pydantic<3,>=1->langsmith) (2.20.1)\n",
            "Requirement already satisfied: typing-extensions>=4.6.1 in /usr/local/lib/python3.10/dist-packages (from pydantic<3,>=1->langsmith) (4.12.2)\n",
            "Requirement already satisfied: charset-normalizer<4,>=2 in /usr/local/lib/python3.10/dist-packages (from requests<3,>=2->langsmith) (3.3.2)\n",
            "Requirement already satisfied: idna<4,>=2.5 in /usr/local/lib/python3.10/dist-packages (from requests<3,>=2->langsmith) (3.7)\n",
            "Requirement already satisfied: urllib3<3,>=1.21.1 in /usr/local/lib/python3.10/dist-packages (from requests<3,>=2->langsmith) (2.0.7)\n",
            "Requirement already satisfied: certifi>=2017.4.17 in /usr/local/lib/python3.10/dist-packages (from requests<3,>=2->langsmith) (2024.7.4)\n"
          ]
        }
      ]
    },
    {
      "cell_type": "markdown",
      "source": [
        "Evaluation:"
      ],
      "metadata": {
        "id": "-NWbEdlx0WyJ"
      }
    },
    {
      "cell_type": "code",
      "source": [
        "#from langchain_openai import ChatOpenAI\n",
        "from langchain_core.prompts import ChatPromptTemplate\n",
        "from langchain_core.output_parsers import StrOutputParser\n",
        "from langsmith.evaluation import evaluate, LangChainStringEvaluator\n",
        "from langchain.evaluation import load_evaluator\n",
        "\n",
        "\n",
        "evaluator = load_evaluator(\"labeled_criteria\", llm=llm, criteria=\"correctness\")"
      ],
      "metadata": {
        "id": "kqKa9ISRwtX8"
      },
      "execution_count": 79,
      "outputs": []
    },
    {
      "cell_type": "code",
      "source": [
        "from langsmith.evaluation import evaluate\n",
        "\n",
        "evaluator = load_evaluator(\"labeled_criteria\", llm=llm, criteria=\"conciseness\")\n",
        "evaluator = load_evaluator(\"labeled_criteria\", llm=llm, criteria=\"coherence\")"
      ],
      "metadata": {
        "id": "j68l7Hgsvk7o"
      },
      "execution_count": 80,
      "outputs": []
    },
    {
      "cell_type": "code",
      "source": [
        "# Verify the type and content of output1\n",
        "print(type(output1))\n",
        "print(output1)\n",
        "\n",
        "# If output1 is a string and contains a JSON-like structure, parse it\n",
        "import json\n",
        "try:\n",
        "    output1_dict = json.loads(output1)\n",
        "    val_result = evaluator.evaluate_strings(\n",
        "        prediction=output1_dict['result'],\n",
        "        input=query1,\n",
        "        reference=\"\"\n",
        "    )\n",
        "    print(val_result)\n",
        "except json.JSONDecodeError:\n",
        "    print(\"output1 is not a valid JSON string.\")"
      ],
      "metadata": {
        "colab": {
          "base_uri": "https://localhost:8080/"
        },
        "id": "UC6ie3Ikz1rn",
        "outputId": "778b4eea-0ffd-4f7a-cb6f-30fc9351d91a"
      },
      "execution_count": 83,
      "outputs": [
        {
          "output_type": "stream",
          "name": "stdout",
          "text": [
            "<class 'str'>\n",
            "The potential negative impacts of getting a tattoo on the immune system include increased risk of infection and allergic reactions, while the potential positive impacts include activation of immune cells and trapping of harmful substances. It is important to consider these factors before making a decision about getting a tattoo.\n",
            "output1 is not a valid JSON string.\n"
          ]
        }
      ]
    },
    {
      "cell_type": "code",
      "source": [
        "print(type(output2))\n",
        "print(output2)\n",
        "\n",
        "output2_dict = output2\n",
        "val_result = evaluator.evaluate_strings(\n",
        "    prediction=output2_dict['result'],\n",
        "    input=query2,\n",
        "    reference=\"\"\n",
        ")\n",
        "print(val_result)"
      ],
      "metadata": {
        "colab": {
          "base_uri": "https://localhost:8080/"
        },
        "id": "Oad4xCcx0c1f",
        "outputId": "ba11e090-ae5c-443e-b6b8-32c9512ee090"
      },
      "execution_count": 95,
      "outputs": [
        {
          "output_type": "stream",
          "name": "stdout",
          "text": [
            "<class 'dict'>\n",
            "{'query': 'What is Ebola virus?', 'history': 'Human: Why Cancer is so Hard to Beat?\\nAI:  Cancer is hard to beat because it is a complex disease that constantly evolves and mutates, making it difficult for treatments to target and eradicate all the cells. Additionally, the body\\'s natural defense mechanisms can accidentally select for the strongest and most resilient cancer cells, allowing them to survive and continue growing. Scientists are constantly researching and developing new treatments, but it is a difficult and ongoing battle.\\nHuman: search terms \"tattoo immune system negative impacts\\nAI:  Some possible results for this search could include articles or studies discussing potential negative impacts on the immune system from getting a tattoo, such as increased risk of infection or allergic reactions to ink components. It may also include information on how the immune system responds to the tattooing process and the presence of foreign substances in the body.\\nHuman: search terms \"tattoo immune system positive impacts\\nAI:  The positive impacts of tattoos on the immune system include the activation of macrophages to protect against bacteria and the trapping of potentially harmful metals and chemicals within the immune cells.\\nHuman: What are the potential negative impacts of getting a tattoo on the immune system?\\nAI: The potential negative impacts of getting a tattoo on the immune system include increased risk of infection and allergic reactions, while the potential positive impacts include activation of immune cells and trapping of harmful substances. It is important to consider these factors before making a decision about getting a tattoo.', 'result': ' Ebola virus is a highly dangerous and deadly virus that attacks the immune system and causes severe illness and often death. It is transmitted through contact with bodily fluids of infected individuals or animals.'}\n",
            "{'reasoning': 'Step 1: Coherence - The submission provides a clear and understandable explanation of what Ebola virus is, including its characteristics and how it is transmitted. It is also well-structured and organized, with a clear introduction, body, and conclusion.\\n\\nStep 2: Therefore, the submission meets the criteria of coherence.\\n\\nY', 'value': 'Y', 'score': 1}\n"
          ]
        }
      ]
    },
    {
      "cell_type": "code",
      "source": [
        "print(type(output3))\n",
        "print(output3)\n",
        "\n",
        "output3_dict = output3\n",
        "val_result = evaluator.evaluate_strings(\n",
        "    prediction=output3_dict['result'],\n",
        "    input=query3,\n",
        "    reference=\"\"\n",
        ")\n",
        "print(val_result)"
      ],
      "metadata": {
        "colab": {
          "base_uri": "https://localhost:8080/"
        },
        "id": "xrirlJ9G1FT0",
        "outputId": "2c7e3d1f-45b6-41b8-a899-9710dad81515"
      },
      "execution_count": 97,
      "outputs": [
        {
          "output_type": "stream",
          "name": "stdout",
          "text": [
            "<class 'dict'>\n",
            "{'query': 'Does the human body kill canser and how?', 'history': 'Human: Why Cancer is so Hard to Beat?\\nAI:  Cancer is hard to beat because it is a complex disease that constantly evolves and mutates, making it difficult for treatments to target and eradicate all the cells. Additionally, the body\\'s natural defense mechanisms can accidentally select for the strongest and most resilient cancer cells, allowing them to survive and continue growing. Scientists are constantly researching and developing new treatments, but it is a difficult and ongoing battle.\\nHuman: search terms \"tattoo immune system negative impacts\\nAI:  Some possible results for this search could include articles or studies discussing potential negative impacts on the immune system from getting a tattoo, such as increased risk of infection or allergic reactions to ink components. It may also include information on how the immune system responds to the tattooing process and the presence of foreign substances in the body.\\nHuman: search terms \"tattoo immune system positive impacts\\nAI:  The positive impacts of tattoos on the immune system include the activation of macrophages to protect against bacteria and the trapping of potentially harmful metals and chemicals within the immune cells.\\nHuman: What are the potential negative impacts of getting a tattoo on the immune system?\\nAI: The potential negative impacts of getting a tattoo on the immune system include increased risk of infection and allergic reactions, while the potential positive impacts include activation of immune cells and trapping of harmful substances. It is important to consider these factors before making a decision about getting a tattoo.\\nHuman: What is Ebola virus?\\nAI:  Ebola virus is a highly dangerous and deadly virus that attacks the immune system and causes severe illness and often death. It is transmitted through contact with bodily fluids of infected individuals or animals.', 'result': ' Yes, the human body has mechanisms in place to detect and kill cancer cells. These mechanisms include the immune system, which can recognize and attack cancer cells, as well as cell suicide (apoptosis) which allows abnormal or damaged cells to self-destruct. Additionally, the body has repair mechanisms to fix mutations in DNA that can lead to cancer.'}\n",
            "{'reasoning': 'Step 1: Coherence - To assess coherence, we need to examine whether the submission is well-structured and organized. \\n\\nStep 2: Well-structured - The submission is divided into three distinct parts - an introduction, body, and conclusion. The introduction clearly states the main idea and the body provides supporting details. The conclusion summarizes the main points. Therefore, the submission is well-structured.\\n\\nStep 3: Organized - The submission follows a logical order, starting with how the human body kills cancer cells and then explaining the mechanisms involved. The use of transition words and phrases also helps to connect ideas and make the submission more organized.\\n\\nStep 4: Conclusion - Based on the above analysis, we can conclude that the submission is coherent, well-structured, and organized.\\n\\nY', 'value': 'Y', 'score': 1}\n"
          ]
        }
      ]
    },
    {
      "cell_type": "code",
      "source": [
        "print(type(output4))\n",
        "print(output4)\n",
        "\n",
        "output4_dict = output4\n",
        "val_result = evaluator.evaluate_strings(\n",
        "    prediction=output4_dict['result'],\n",
        "    input=query4,\n",
        "    reference=\"\"\n",
        ")\n",
        "print(val_result)"
      ],
      "metadata": {
        "colab": {
          "base_uri": "https://localhost:8080/"
        },
        "id": "KFzx1_UX2Kse",
        "outputId": "9c03baca-3a3a-4a74-9a18-e76a52c0410e"
      },
      "execution_count": 98,
      "outputs": [
        {
          "output_type": "stream",
          "name": "stdout",
          "text": [
            "<class 'dict'>\n",
            "{'query': 'Are the human immune against every disease?', 'history': 'Human: Why Cancer is so Hard to Beat?\\nAI:  Cancer is hard to beat because it is a complex disease that constantly evolves and mutates, making it difficult for treatments to target and eradicate all the cells. Additionally, the body\\'s natural defense mechanisms can accidentally select for the strongest and most resilient cancer cells, allowing them to survive and continue growing. Scientists are constantly researching and developing new treatments, but it is a difficult and ongoing battle.\\nHuman: search terms \"tattoo immune system negative impacts\\nAI:  Some possible results for this search could include articles or studies discussing potential negative impacts on the immune system from getting a tattoo, such as increased risk of infection or allergic reactions to ink components. It may also include information on how the immune system responds to the tattooing process and the presence of foreign substances in the body.\\nHuman: search terms \"tattoo immune system positive impacts\\nAI:  The positive impacts of tattoos on the immune system include the activation of macrophages to protect against bacteria and the trapping of potentially harmful metals and chemicals within the immune cells.\\nHuman: What are the potential negative impacts of getting a tattoo on the immune system?\\nAI: The potential negative impacts of getting a tattoo on the immune system include increased risk of infection and allergic reactions, while the potential positive impacts include activation of immune cells and trapping of harmful substances. It is important to consider these factors before making a decision about getting a tattoo.\\nHuman: What is Ebola virus?\\nAI:  Ebola virus is a highly dangerous and deadly virus that attacks the immune system and causes severe illness and often death. It is transmitted through contact with bodily fluids of infected individuals or animals.\\nHuman: Does the human body kill canser and how?\\nAI:  Yes, the human body has mechanisms in place to detect and kill cancer cells. These mechanisms include the immune system, which can recognize and attack cancer cells, as well as cell suicide (apoptosis) which allows abnormal or damaged cells to self-destruct. Additionally, the body has repair mechanisms to fix mutations in DNA that can lead to cancer.', 'result': ' No, humans are not immune against every disease. Our immune system can protect us against many diseases, but there are still many diseases that can affect us and even cause serious illness or death.'}\n",
            "{'reasoning': 'Step 1: Coherence\\n- The submission is coherent as it presents a clear and organized answer to the question.\\n- The answer is well-structured, with a clear introduction, body, and conclusion.\\n- The submission is organized in a logical manner, starting with the general statement that humans are not immune against every disease, and then providing specific details and examples to support this statement.\\n- Therefore, the submission meets the coherence criteria.\\n\\nConclusion: Y', 'value': 'Y', 'score': 1}\n"
          ]
        }
      ]
    },
    {
      "cell_type": "code",
      "source": [
        "print(type(output5))\n",
        "print(output5)\n",
        "\n",
        "output5_dict = output5\n",
        "val_result = evaluator.evaluate_strings(\n",
        "    prediction=output5_dict['result'],\n",
        "    input=query5,\n",
        "    reference=\"\"\n",
        ")\n",
        "print(val_result)"
      ],
      "metadata": {
        "colab": {
          "base_uri": "https://localhost:8080/"
        },
        "id": "XK0M7w872c1q",
        "outputId": "5185dcc9-5cd6-4a61-cb08-8c0e73b178a9"
      },
      "execution_count": 99,
      "outputs": [
        {
          "output_type": "stream",
          "name": "stdout",
          "text": [
            "<class 'dict'>\n",
            "{'query': 'Why Cancer is so Hard to Beat?', 'history': 'Human: Why Cancer is so Hard to Beat?\\nAI:  Cancer is hard to beat because it is a complex disease that constantly evolves and mutates, making it difficult for treatments to target and eradicate all the cells. Additionally, the body\\'s natural defense mechanisms can accidentally select for the strongest and most resilient cancer cells, allowing them to survive and continue growing. Scientists are constantly researching and developing new treatments, but it is a difficult and ongoing battle.\\nHuman: search terms \"tattoo immune system negative impacts\\nAI:  Some possible results for this search could include articles or studies discussing potential negative impacts on the immune system from getting a tattoo, such as increased risk of infection or allergic reactions to ink components. It may also include information on how the immune system responds to the tattooing process and the presence of foreign substances in the body.\\nHuman: search terms \"tattoo immune system positive impacts\\nAI:  The positive impacts of tattoos on the immune system include the activation of macrophages to protect against bacteria and the trapping of potentially harmful metals and chemicals within the immune cells.\\nHuman: What are the potential negative impacts of getting a tattoo on the immune system?\\nAI: The potential negative impacts of getting a tattoo on the immune system include increased risk of infection and allergic reactions, while the potential positive impacts include activation of immune cells and trapping of harmful substances. It is important to consider these factors before making a decision about getting a tattoo.\\nHuman: What is Ebola virus?\\nAI:  Ebola virus is a highly dangerous and deadly virus that attacks the immune system and causes severe illness and often death. It is transmitted through contact with bodily fluids of infected individuals or animals.\\nHuman: Does the human body kill canser and how?\\nAI:  Yes, the human body has mechanisms in place to detect and kill cancer cells. These mechanisms include the immune system, which can recognize and attack cancer cells, as well as cell suicide (apoptosis) which allows abnormal or damaged cells to self-destruct. Additionally, the body has repair mechanisms to fix mutations in DNA that can lead to cancer.\\nHuman: Are the human immune against every disease?\\nAI:  No, humans are not immune against every disease. Our immune system can protect us against many diseases, but there are still many diseases that can affect us and even cause serious illness or death.', 'result': \" Cancer is difficult to beat because it is constantly evolving and adapting to treatments, making it difficult to eradicate completely. Additionally, the body's immune system can sometimes accidentally select and strengthen the fittest tumor cells, allowing them to continue growing and spreading.\"}\n",
            "{'reasoning': 'Step 1: Coherence - The submission is coherent and well-structured. It begins with a clear statement on the difficulty of beating cancer and then provides two main reasons for this difficulty, each supported by specific examples. The ideas are logically connected and flow smoothly.\\n\\nConclusion: The submission meets the criteria for coherence.\\n\\nY', 'value': 'Y', 'score': 1}\n"
          ]
        }
      ]
    }
  ]
}